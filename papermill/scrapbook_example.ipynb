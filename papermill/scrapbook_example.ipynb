{
 "cells": [
  {
   "cell_type": "code",
   "execution_count": 1,
   "metadata": {},
   "outputs": [],
   "source": [
    "import scrapbook as sb"
   ]
  },
  {
   "cell_type": "code",
   "execution_count": 2,
   "metadata": {},
   "outputs": [],
   "source": [
    "nb = sb.read_notebook('papermill_example.ipynb')"
   ]
  },
  {
   "cell_type": "code",
   "execution_count": 6,
   "metadata": {},
   "outputs": [
    {
     "data": {
      "text/plain": [
       "{'cell_type': 'code',\n",
       " 'execution_count': 1,\n",
       " 'metadata': {},\n",
       " 'outputs': [{'data': {'text/html': '<div>\\n<style scoped>\\n    .dataframe tbody tr th:only-of-type {\\n        vertical-align: middle;\\n    }\\n\\n    .dataframe tbody tr th {\\n        vertical-align: top;\\n    }\\n\\n    .dataframe thead th {\\n        text-align: right;\\n    }\\n</style>\\n<table border=\"1\" class=\"dataframe\">\\n  <thead>\\n    <tr style=\"text-align: right;\">\\n      <th></th>\\n      <th>group</th>\\n      <th>ounces</th>\\n    </tr>\\n  </thead>\\n  <tbody>\\n    <tr>\\n      <th>0</th>\\n      <td>a</td>\\n      <td>4.0</td>\\n    </tr>\\n    <tr>\\n      <th>1</th>\\n      <td>a</td>\\n      <td>3.0</td>\\n    </tr>\\n    <tr>\\n      <th>2</th>\\n      <td>a</td>\\n      <td>12.0</td>\\n    </tr>\\n    <tr>\\n      <th>3</th>\\n      <td>b</td>\\n      <td>6.0</td>\\n    </tr>\\n    <tr>\\n      <th>4</th>\\n      <td>b</td>\\n      <td>7.5</td>\\n    </tr>\\n    <tr>\\n      <th>5</th>\\n      <td>b</td>\\n      <td>8.0</td>\\n    </tr>\\n    <tr>\\n      <th>6</th>\\n      <td>c</td>\\n      <td>3.0</td>\\n    </tr>\\n    <tr>\\n      <th>7</th>\\n      <td>c</td>\\n      <td>5.0</td>\\n    </tr>\\n    <tr>\\n      <th>8</th>\\n      <td>c</td>\\n      <td>6.0</td>\\n    </tr>\\n  </tbody>\\n</table>\\n</div>',\n",
       "    'text/plain': '  group  ounces\\n0     a     4.0\\n1     a     3.0\\n2     a    12.0\\n3     b     6.0\\n4     b     7.5\\n5     b     8.0\\n6     c     3.0\\n7     c     5.0\\n8     c     6.0'},\n",
       "   'execution_count': 1,\n",
       "   'metadata': {},\n",
       "   'output_type': 'execute_result'}],\n",
       " 'source': \"import pandas as pd\\ndata = pd.DataFrame({'group': ['a', 'a', 'a', 'b','b', 'b', 'c', 'c','c'],\\n                 'ounces': [4, 3, 12, 6, 7.5, 8, 3, 5, 6]})\\ndata\"}"
      ]
     },
     "execution_count": 6,
     "metadata": {},
     "output_type": "execute_result"
    }
   ],
   "source": [
    "nb.cells[1]"
   ]
  },
  {
   "cell_type": "code",
   "execution_count": 5,
   "metadata": {},
   "outputs": [
    {
     "data": {
      "text/html": [
       "<div>\n",
       "<style scoped>\n",
       "    .dataframe tbody tr th:only-of-type {\n",
       "        vertical-align: middle;\n",
       "    }\n",
       "\n",
       "    .dataframe tbody tr th {\n",
       "        vertical-align: top;\n",
       "    }\n",
       "\n",
       "    .dataframe thead th {\n",
       "        text-align: right;\n",
       "    }\n",
       "</style>\n",
       "<table border=\"1\" class=\"dataframe\">\n",
       "  <thead>\n",
       "    <tr style=\"text-align: right;\">\n",
       "      <th></th>\n",
       "      <th>name</th>\n",
       "      <th>data</th>\n",
       "      <th>encoder</th>\n",
       "      <th>display</th>\n",
       "      <th>filename</th>\n",
       "    </tr>\n",
       "  </thead>\n",
       "  <tbody>\n",
       "  </tbody>\n",
       "</table>\n",
       "</div>"
      ],
      "text/plain": [
       "Empty DataFrame\n",
       "Columns: [name, data, encoder, display, filename]\n",
       "Index: []"
      ]
     },
     "execution_count": 5,
     "metadata": {},
     "output_type": "execute_result"
    }
   ],
   "source": [
    "nb.scrap_dataframe"
   ]
  }
 ],
 "metadata": {
  "hide_input": false,
  "kernelspec": {
   "display_name": "Python 3",
   "language": "python",
   "name": "python3"
  },
  "language_info": {
   "codemirror_mode": {
    "name": "ipython",
    "version": 3
   },
   "file_extension": ".py",
   "mimetype": "text/x-python",
   "name": "python",
   "nbconvert_exporter": "python",
   "pygments_lexer": "ipython3",
   "version": "3.7.2"
  }
 },
 "nbformat": 4,
 "nbformat_minor": 2
}
