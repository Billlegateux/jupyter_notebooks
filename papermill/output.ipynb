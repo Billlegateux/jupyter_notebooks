{
 "cells": [
  {
   "cell_type": "code",
   "execution_count": 1,
   "metadata": {
    "papermill": {
     "duration": 0.021883,
     "end_time": "2019-03-02T19:21:53.414044",
     "exception": false,
     "start_time": "2019-03-02T19:21:53.392161",
     "status": "completed"
    },
    "tags": [
     "injected-parameters"
    ]
   },
   "outputs": [],
   "source": [
    "# Parameters\n",
    "name = \"Jason\"\n"
   ]
  },
  {
   "cell_type": "code",
   "execution_count": 2,
   "metadata": {
    "papermill": {
     "duration": 0.215833,
     "end_time": "2019-03-02T19:21:53.632361",
     "exception": false,
     "start_time": "2019-03-02T19:21:53.416528",
     "status": "completed"
    },
    "tags": []
   },
   "outputs": [
    {
     "name": "stdout",
     "output_type": "stream",
     "text": [
      "Hello,  Jason\n"
     ]
    }
   ],
   "source": [
    "print(\"Hello, \", name)"
   ]
  }
 ],
 "metadata": {
  "celltoolbar": "Tags",
  "hide_input": false,
  "kernelspec": {
   "display_name": "Python 3",
   "language": "python",
   "name": "python3"
  },
  "language_info": {
   "codemirror_mode": {
    "name": "ipython",
    "version": 3
   },
   "file_extension": ".py",
   "mimetype": "text/x-python",
   "name": "python",
   "nbconvert_exporter": "python",
   "pygments_lexer": "ipython3",
   "version": "3.7.2"
  },
  "papermill": {
   "duration": 1.463232,
   "end_time": "2019-03-02T19:21:54.052607",
   "environment_variables": {},
   "exception": null,
   "input_path": "papermill_example.ipynb",
   "output_path": "output.ipynb",
   "parameters": {
    "name": "Jason"
   },
   "start_time": "2019-03-02T19:21:52.589375",
   "version": "0.18.2"
  }
 },
 "nbformat": 4,
 "nbformat_minor": 2
}
