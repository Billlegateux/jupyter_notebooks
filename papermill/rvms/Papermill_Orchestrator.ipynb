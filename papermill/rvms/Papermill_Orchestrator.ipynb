{
 "cells": [
  {
   "cell_type": "markdown",
   "metadata": {},
   "source": [
    "# PURPOSE:"
   ]
  },
  {
   "cell_type": "markdown",
   "metadata": {},
   "source": [
    "#### This is a jupyter notebook that will orchestrate the data processing notebook scripts that will perform the following:"
   ]
  },
  {
   "cell_type": "markdown",
   "metadata": {},
   "source": [
    "1. check the before and after CPUs and then\n",
    "2. generate the raw \"Red and Green sheet\" data\n",
    "3. Creates the summarized \"Red and Green Sheet\" in native currency\n",
    "4. Creates the summarized \"Red and Green Sheet\" in USD"
   ]
  },
  {
   "cell_type": "markdown",
   "metadata": {},
   "source": [
    "Orchestration of notebooks are handled by a library called [papermill](https://github.com/nteract/papermill).  To pass data between notebooks, the [scrapbook](https://github.com/nteract/scrapbook/) library is being used."
   ]
  },
  {
   "cell_type": "code",
   "execution_count": null,
   "metadata": {},
   "outputs": [],
   "source": [
    "from win10toast import ToastNotifier\n",
    "import papermill as pm\n",
    "import time"
   ]
  },
  {
   "cell_type": "code",
   "execution_count": null,
   "metadata": {},
   "outputs": [],
   "source": [
    "start_time = time.time()"
   ]
  },
  {
   "cell_type": "markdown",
   "metadata": {},
   "source": [
    "# Enter necessary parameters:"
   ]
  },
  {
   "cell_type": "markdown",
   "metadata": {},
   "source": [
    "### Enter parameter for CLA claim month or RVMS reporting month:"
   ]
  },
  {
   "cell_type": "code",
   "execution_count": null,
   "metadata": {},
   "outputs": [],
   "source": [
    "CLA_MONTH = input(\"Enter CLA Claim Month ('YYYYMM'): \")"
   ]
  },
  {
   "cell_type": "markdown",
   "metadata": {},
   "source": [
    "### Enter start and ending model years that are being adjusted or reported on:"
   ]
  },
  {
   "cell_type": "code",
   "execution_count": null,
   "metadata": {},
   "outputs": [],
   "source": [
    "start_year = int(input(\"Enter starting model year (YYYY): \"))\n",
    "end_year = int(input(\"Enter ending model year (YYYY): \"))"
   ]
  },
  {
   "cell_type": "markdown",
   "metadata": {},
   "source": [
    "### For the summarized Red and Green Sheet, enter KC to USD exchange rate:"
   ]
  },
  {
   "cell_type": "code",
   "execution_count": null,
   "metadata": {},
   "outputs": [],
   "source": [
    "exchange_rate = float(input(\"Enter KC to USD exhange rate: \"))"
   ]
  },
  {
   "cell_type": "markdown",
   "metadata": {},
   "source": [
    "## 1) Execute jupyter notebook that obtains the current budgeted CPUs in the the RVMS database server:"
   ]
  },
  {
   "cell_type": "code",
   "execution_count": null,
   "metadata": {},
   "outputs": [],
   "source": [
    "%%time\n",
    "pm.execute_notebook(\n",
    "    '1_Obtaining_Current_RVMS_GraphCat_Group_SubGroup_Budgeted_CPUs-Access.ipynb',\n",
    "    'output/CurrentBudgetedCPUs.ipynb',\n",
    "    cwd='D:\\\\jupyter\\\\rvms\\\\production',\n",
    "    parameters = dict(CLA_MONTH=CLA_MONTH)\n",
    ")"
   ]
  },
  {
   "cell_type": "markdown",
   "metadata": {},
   "source": [
    "## 2) Execute jupyter notebook that performs the before and after CPU checks, creates CPU differences columns, and creates the raw Red and Green sheet data:"
   ]
  },
  {
   "cell_type": "code",
   "execution_count": null,
   "metadata": {},
   "outputs": [],
   "source": [
    "%%time\n",
    "pm.execute_notebook(\n",
    "    '2_Comparing_Adjusted_GraphCat_CPUs_against_Original_GraphCat_CPUs-Access.ipynb',\n",
    "    'output/RedAndGreenSheet.ipynb',\n",
    "    cwd='D:\\\\jupyter\\\\rvms\\\\production',\n",
    "    parameters = dict(CLA_MONTH=CLA_MONTH)\n",
    ")"
   ]
  },
  {
   "cell_type": "markdown",
   "metadata": {},
   "source": [
    "## 3) Execute jupyter notebook that summarizes the raw \"Red and Green Sheet\" data in native currency:"
   ]
  },
  {
   "cell_type": "code",
   "execution_count": null,
   "metadata": {},
   "outputs": [],
   "source": [
    "%%time\n",
    "pm.execute_notebook(\n",
    "    '3_Get_Top3_Bottom3_Group_SubGroup_Adjustments_Native_Currency.ipynb',\n",
    "    'output/RedAndGreenSheet_Summarized_Native.ipynb',\n",
    "    cwd='D:\\\\jupyter\\\\rvms\\\\production',\n",
    "    parameters = dict(start_year=start_year,\n",
    "                      end_year=end_year\n",
    "                     )\n",
    ")"
   ]
  },
  {
   "cell_type": "markdown",
   "metadata": {},
   "source": [
    "## 4) Execute jupyter notebook that summarizes the raw \"Red and Green Sheet\" data in US dollars:"
   ]
  },
  {
   "cell_type": "code",
   "execution_count": null,
   "metadata": {},
   "outputs": [],
   "source": [
    "%%time\n",
    "pm.execute_notebook(\n",
    "    '4_Get_Top3_Bottom3_Group_SubGroup_Adjustments-USD.ipynb',\n",
    "    'output/RedAndGreenSheet_Summarized_USD.ipynb',\n",
    "    cwd='D:\\\\jupyter\\\\rvms\\\\production',\n",
    "    parameters = dict(exchange_rate=exchange_rate,\n",
    "                      start_year=start_year,\n",
    "                      end_year=end_year,\n",
    "                      CLA_MONTH=CLA_MONTH\n",
    "                     )\n",
    ")"
   ]
  },
  {
   "cell_type": "code",
   "execution_count": null,
   "metadata": {},
   "outputs": [],
   "source": [
    "elapsed_time = time.time() - start_time\n",
    "\n",
    "# elapsed_time is in seconds, but want to define seconds as hour, minute, and seconds\n",
    "m, s = divmod(elapsed_time, 60)\n",
    "h, m = divmod(m, 60)\n",
    "f\"{h:1.0f}:{m:1.0f}:{s:.2f}\""
   ]
  },
  {
   "cell_type": "markdown",
   "metadata": {},
   "source": [
    "### If the script made it this far, then the scripts successfully executed without errors.  Then send Windows 10 toast notification."
   ]
  },
  {
   "cell_type": "code",
   "execution_count": null,
   "metadata": {},
   "outputs": [],
   "source": [
    "toaster = ToastNotifier()\n",
    "toaster.show_toast(\"Papermill Orchestration Status\",\n",
    "                   \"Successfully executed all ETL scripts\",\n",
    "                   icon_path=\"images/honda_logo.ico\",\n",
    "                   duration=5)"
   ]
  }
 ],
 "metadata": {
  "hide_input": false,
  "kernelspec": {
   "display_name": "Python 3",
   "language": "python",
   "name": "python3"
  },
  "language_info": {
   "codemirror_mode": {
    "name": "ipython",
    "version": 3
   },
   "file_extension": ".py",
   "mimetype": "text/x-python",
   "name": "python",
   "nbconvert_exporter": "python",
   "pygments_lexer": "ipython3",
   "version": "3.7.2"
  }
 },
 "nbformat": 4,
 "nbformat_minor": 2
}
