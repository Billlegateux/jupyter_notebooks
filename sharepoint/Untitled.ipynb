{
 "cells": [
  {
   "cell_type": "markdown",
   "metadata": {},
   "source": [
    "# Downloading a file from SharePoint site"
   ]
  },
  {
   "cell_type": "markdown",
   "metadata": {},
   "source": [
    "### 3 Methods:"
   ]
  },
  {
   "cell_type": "markdown",
   "metadata": {},
   "source": [
    "1. Using [spLite](https://github.com/mstackhouse/spLite) to save file to local drive or as pandas dataframe (in-memory)\n",
    "2. Using shututil, requests+requests_ntlm to save file to local drive\n",
    "3. Using io, pandas, requests+requests_ntlm to save file as pandas dataframe (in-memory)"
   ]
  },
  {
   "cell_type": "markdown",
   "metadata": {},
   "source": [
    "Example assumes SharePoint security access is based on [NTLM](https://en.wikipedia.org/wiki/Integrated_Windows_Authentication) Integrated Windows Authentication)"
   ]
  },
  {
   "cell_type": "code",
   "execution_count": null,
   "metadata": {},
   "outputs": [],
   "source": [
    "from getpass import getpass\n",
    "from requests_ntlm import HttpNtlmAuth\n",
    "from spLite import sharepoint\n",
    "import io\n",
    "import os\n",
    "import pandas as pd\n",
    "import requests\n",
    "import shutil\n",
    "import sys"
   ]
  },
  {
   "cell_type": "code",
   "execution_count": null,
   "metadata": {},
   "outputs": [],
   "source": [
    "user = os.environ['windows_user']\n",
    "pwd = os.environ['windows_pwd']"
   ]
  },
  {
   "cell_type": "code",
   "execution_count": null,
   "metadata": {},
   "outputs": [],
   "source": [
    "DOMAIN = 'YOUR_DOMAIN'"
   ]
  },
  {
   "cell_type": "code",
   "execution_count": null,
   "metadata": {},
   "outputs": [],
   "source": [
    "#Enter your SharePoint site (without default.html)\n",
    "sharePointUrl = 'http://hondateamlink.ham.am.honda.com/sites/PHLogistics'\n",
    "folderUrl = 'Shared Documents'"
   ]
  },
  {
   "cell_type": "code",
   "execution_count": null,
   "metadata": {},
   "outputs": [],
   "source": [
    "s = sharepoint.SpSession(sharePointUrl, f'{DOMAIN}\\\\{user}', pwd, context_type='ntlm')"
   ]
  },
  {
   "cell_type": "markdown",
   "metadata": {},
   "source": [
    "### Method 1: Download file and saving to local drive"
   ]
  },
  {
   "cell_type": "code",
   "execution_count": null,
   "metadata": {},
   "outputs": [],
   "source": [
    "s.get_file(folderUrl, \"some_excel_file.xlsx\", output_location='D:\\\\temp\\\\')"
   ]
  },
  {
   "cell_type": "markdown",
   "metadata": {},
   "source": [
    "or"
   ]
  },
  {
   "cell_type": "markdown",
   "metadata": {},
   "source": [
    "download file and save as a pandas dataframe (in-memory)"
   ]
  },
  {
   "cell_type": "code",
   "execution_count": null,
   "metadata": {},
   "outputs": [],
   "source": [
    "df = pd.read_excel(s.get_file(folderUrl, \"your_excel_file.xlsx\"))"
   ]
  },
  {
   "cell_type": "markdown",
   "metadata": {},
   "source": [
    "### Method 2: Using requests+requests_ntlm to save file to local drive"
   ]
  },
  {
   "cell_type": "code",
   "execution_count": null,
   "metadata": {},
   "outputs": [],
   "source": [
    "file = 'http://some_sharepoint_site.com/sites/Some_Dept/Shared%20Documents/your_excel_file.xlsx'\n",
    "\n",
    "r = requests.get(file, auth=HttpNtlmAuth(f'{DOMAIN}\\\\{user}', pwd), stream=True)\n",
    "if r.status_code == 200:\n",
    "    with open(r'D:\\temp\\window_master.xlsx', 'wb') as f:\n",
    "        r.raw.decode_content = True\n",
    "        shutil.copyfileobj(r.raw, f)\n",
    "    print(\"Completed downloading file\")\n",
    "else:\n",
    "    print(\"Problem with accessing site\")"
   ]
  },
  {
   "cell_type": "markdown",
   "metadata": {},
   "source": [
    "### Method 3: Using io, pandas, requests+requests_ntlm to save file as pandas dataframe (in-memory)"
   ]
  },
  {
   "cell_type": "code",
   "execution_count": null,
   "metadata": {},
   "outputs": [],
   "source": [
    "import pandas as pd\n",
    "import io\n",
    "\n",
    "r = requests.get(file, auth=HttpNtlmAuth(f'{DOMAIN}\\\\{user}', pwd), stream=True)\n",
    "with io.BytesIO(r.content) as fh:\n",
    "    df = pd.io.excel.read_excel(fh, sheet_name='WM', skiprows=6)"
   ]
  }
 ],
 "metadata": {
  "kernelspec": {
   "display_name": "Python 3",
   "language": "python",
   "name": "python3"
  },
  "language_info": {
   "codemirror_mode": {
    "name": "ipython",
    "version": 3
   },
   "file_extension": ".py",
   "mimetype": "text/x-python",
   "name": "python",
   "nbconvert_exporter": "python",
   "pygments_lexer": "ipython3",
   "version": "3.8.2"
  }
 },
 "nbformat": 4,
 "nbformat_minor": 4
}
