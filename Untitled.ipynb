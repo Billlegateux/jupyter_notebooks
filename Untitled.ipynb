{
 "cells": [
  {
   "cell_type": "code",
   "execution_count": 1,
   "metadata": {},
   "outputs": [],
   "source": [
    "import pandas as pd"
   ]
  },
  {
   "cell_type": "code",
   "execution_count": 2,
   "metadata": {},
   "outputs": [],
   "source": [
    "df1 = pd.read_csv('/home/pybokeh/Downloads/All_Plants_Budgeted_CPU_By_Group_SubGroup.csv')"
   ]
  },
  {
   "cell_type": "code",
   "execution_count": 3,
   "metadata": {},
   "outputs": [],
   "source": [
    "df2 = pd.read_csv('/home/pybokeh/Downloads/DKim_Adjusted_CPUs.csv')"
   ]
  },
  {
   "cell_type": "code",
   "execution_count": 4,
   "metadata": {},
   "outputs": [],
   "source": [
    "merged = pd.merge(df1, df2, how='left', left_on=['GraphCatID'], right_on=['GraphCatID'])"
   ]
  },
  {
   "cell_type": "code",
   "execution_count": 7,
   "metadata": {},
   "outputs": [
    {
     "data": {
      "text/html": [
       "<div>\n",
       "<style scoped>\n",
       "    .dataframe tbody tr th:only-of-type {\n",
       "        vertical-align: middle;\n",
       "    }\n",
       "\n",
       "    .dataframe tbody tr th {\n",
       "        vertical-align: top;\n",
       "    }\n",
       "\n",
       "    .dataframe thead th {\n",
       "        text-align: right;\n",
       "    }\n",
       "</style>\n",
       "<table border=\"1\" class=\"dataframe\">\n",
       "  <thead>\n",
       "    <tr style=\"text-align: right;\">\n",
       "      <th></th>\n",
       "      <th>GraphCatID</th>\n",
       "      <th>Budgeted_CPU</th>\n",
       "      <th>OriginalReserve_CPU</th>\n",
       "      <th>ModelYear</th>\n",
       "      <th>Total_CPU_GC_Level</th>\n",
       "    </tr>\n",
       "  </thead>\n",
       "  <tbody>\n",
       "    <tr>\n",
       "      <th>count</th>\n",
       "      <td>80040.000000</td>\n",
       "      <td>80040.000000</td>\n",
       "      <td>80040.000000</td>\n",
       "      <td>80040.00000</td>\n",
       "      <td>80040.000000</td>\n",
       "    </tr>\n",
       "    <tr>\n",
       "      <th>mean</th>\n",
       "      <td>996.883058</td>\n",
       "      <td>2.759569</td>\n",
       "      <td>2.378702</td>\n",
       "      <td>2012.37931</td>\n",
       "      <td>331.148301</td>\n",
       "    </tr>\n",
       "    <tr>\n",
       "      <th>std</th>\n",
       "      <td>394.853819</td>\n",
       "      <td>12.938391</td>\n",
       "      <td>11.477115</td>\n",
       "      <td>4.71643</td>\n",
       "      <td>420.072662</td>\n",
       "    </tr>\n",
       "    <tr>\n",
       "      <th>min</th>\n",
       "      <td>290.000000</td>\n",
       "      <td>-0.152002</td>\n",
       "      <td>-0.228526</td>\n",
       "      <td>1999.00000</td>\n",
       "      <td>0.000000</td>\n",
       "    </tr>\n",
       "    <tr>\n",
       "      <th>25%</th>\n",
       "      <td>693.000000</td>\n",
       "      <td>0.060118</td>\n",
       "      <td>0.122574</td>\n",
       "      <td>2009.00000</td>\n",
       "      <td>147.316073</td>\n",
       "    </tr>\n",
       "    <tr>\n",
       "      <th>50%</th>\n",
       "      <td>929.000000</td>\n",
       "      <td>0.460147</td>\n",
       "      <td>0.559337</td>\n",
       "      <td>2013.00000</td>\n",
       "      <td>231.440996</td>\n",
       "    </tr>\n",
       "    <tr>\n",
       "      <th>75%</th>\n",
       "      <td>1372.000000</td>\n",
       "      <td>1.857507</td>\n",
       "      <td>1.862444</td>\n",
       "      <td>2016.00000</td>\n",
       "      <td>400.405958</td>\n",
       "    </tr>\n",
       "    <tr>\n",
       "      <th>max</th>\n",
       "      <td>1744.000000</td>\n",
       "      <td>1104.308231</td>\n",
       "      <td>1104.308231</td>\n",
       "      <td>2019.00000</td>\n",
       "      <td>5293.010804</td>\n",
       "    </tr>\n",
       "  </tbody>\n",
       "</table>\n",
       "</div>"
      ],
      "text/plain": [
       "         GraphCatID  Budgeted_CPU  OriginalReserve_CPU    ModelYear  \\\n",
       "count  80040.000000  80040.000000         80040.000000  80040.00000   \n",
       "mean     996.883058      2.759569             2.378702   2012.37931   \n",
       "std      394.853819     12.938391            11.477115      4.71643   \n",
       "min      290.000000     -0.152002            -0.228526   1999.00000   \n",
       "25%      693.000000      0.060118             0.122574   2009.00000   \n",
       "50%      929.000000      0.460147             0.559337   2013.00000   \n",
       "75%     1372.000000      1.857507             1.862444   2016.00000   \n",
       "max     1744.000000   1104.308231          1104.308231   2019.00000   \n",
       "\n",
       "       Total_CPU_GC_Level  \n",
       "count        80040.000000  \n",
       "mean           331.148301  \n",
       "std            420.072662  \n",
       "min              0.000000  \n",
       "25%            147.316073  \n",
       "50%            231.440996  \n",
       "75%            400.405958  \n",
       "max           5293.010804  "
      ]
     },
     "execution_count": 7,
     "metadata": {},
     "output_type": "execute_result"
    }
   ],
   "source": [
    "df1.describe()"
   ]
  },
  {
   "cell_type": "code",
   "execution_count": 8,
   "metadata": {},
   "outputs": [
    {
     "data": {
      "text/html": [
       "<div>\n",
       "<style scoped>\n",
       "    .dataframe tbody tr th:only-of-type {\n",
       "        vertical-align: middle;\n",
       "    }\n",
       "\n",
       "    .dataframe tbody tr th {\n",
       "        vertical-align: top;\n",
       "    }\n",
       "\n",
       "    .dataframe thead th {\n",
       "        text-align: right;\n",
       "    }\n",
       "</style>\n",
       "<table border=\"1\" class=\"dataframe\">\n",
       "  <thead>\n",
       "    <tr style=\"text-align: right;\">\n",
       "      <th></th>\n",
       "      <th>GraphCatID</th>\n",
       "      <th>Budgeted_CPU</th>\n",
       "      <th>OriginalReserve_CPU</th>\n",
       "    </tr>\n",
       "  </thead>\n",
       "  <tbody>\n",
       "    <tr>\n",
       "      <th>count</th>\n",
       "      <td>80040.000000</td>\n",
       "      <td>80040.000000</td>\n",
       "      <td>80040.000000</td>\n",
       "    </tr>\n",
       "    <tr>\n",
       "      <th>mean</th>\n",
       "      <td>996.883058</td>\n",
       "      <td>2.756740</td>\n",
       "      <td>2.378702</td>\n",
       "    </tr>\n",
       "    <tr>\n",
       "      <th>std</th>\n",
       "      <td>394.853819</td>\n",
       "      <td>12.933317</td>\n",
       "      <td>11.477115</td>\n",
       "    </tr>\n",
       "    <tr>\n",
       "      <th>min</th>\n",
       "      <td>290.000000</td>\n",
       "      <td>-12.475283</td>\n",
       "      <td>-0.228526</td>\n",
       "    </tr>\n",
       "    <tr>\n",
       "      <th>25%</th>\n",
       "      <td>693.000000</td>\n",
       "      <td>0.059847</td>\n",
       "      <td>0.122574</td>\n",
       "    </tr>\n",
       "    <tr>\n",
       "      <th>50%</th>\n",
       "      <td>929.000000</td>\n",
       "      <td>0.459083</td>\n",
       "      <td>0.559337</td>\n",
       "    </tr>\n",
       "    <tr>\n",
       "      <th>75%</th>\n",
       "      <td>1372.000000</td>\n",
       "      <td>1.858663</td>\n",
       "      <td>1.862444</td>\n",
       "    </tr>\n",
       "    <tr>\n",
       "      <th>max</th>\n",
       "      <td>1744.000000</td>\n",
       "      <td>1104.308231</td>\n",
       "      <td>1104.308231</td>\n",
       "    </tr>\n",
       "  </tbody>\n",
       "</table>\n",
       "</div>"
      ],
      "text/plain": [
       "         GraphCatID  Budgeted_CPU  OriginalReserve_CPU\n",
       "count  80040.000000  80040.000000         80040.000000\n",
       "mean     996.883058      2.756740             2.378702\n",
       "std      394.853819     12.933317            11.477115\n",
       "min      290.000000    -12.475283            -0.228526\n",
       "25%      693.000000      0.059847             0.122574\n",
       "50%      929.000000      0.459083             0.559337\n",
       "75%     1372.000000      1.858663             1.862444\n",
       "max     1744.000000   1104.308231          1104.308231"
      ]
     },
     "execution_count": 8,
     "metadata": {},
     "output_type": "execute_result"
    }
   ],
   "source": [
    "df2.describe()"
   ]
  }
 ],
 "metadata": {
  "hide_input": false,
  "kernelspec": {
   "display_name": "Python 3",
   "language": "python",
   "name": "python3"
  },
  "language_info": {
   "codemirror_mode": {
    "name": "ipython",
    "version": 3
   },
   "file_extension": ".py",
   "mimetype": "text/x-python",
   "name": "python",
   "nbconvert_exporter": "python",
   "pygments_lexer": "ipython3",
   "version": "3.7.2"
  },
  "varInspector": {
   "cols": {
    "lenName": 16,
    "lenType": 16,
    "lenVar": 40
   },
   "kernels_config": {
    "python": {
     "delete_cmd_postfix": "",
     "delete_cmd_prefix": "del ",
     "library": "var_list.py",
     "varRefreshCmd": "print(var_dic_list())"
    },
    "r": {
     "delete_cmd_postfix": ") ",
     "delete_cmd_prefix": "rm(",
     "library": "var_list.r",
     "varRefreshCmd": "cat(var_dic_list()) "
    }
   },
   "types_to_exclude": [
    "module",
    "function",
    "builtin_function_or_method",
    "instance",
    "_Feature"
   ],
   "window_display": false
  }
 },
 "nbformat": 4,
 "nbformat_minor": 2
}
