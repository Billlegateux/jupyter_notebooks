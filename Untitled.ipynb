{
 "cells": [
  {
   "cell_type": "code",
   "execution_count": 1,
   "metadata": {},
   "outputs": [],
   "source": [
    "import requests # pip install requests\n",
    "from bs4 import BeautifulSoup\n",
    "import re\n",
    "\n",
    "base_url = 'http://espn.go.com'\n",
    "\n",
    "teams_url = 'http://espn.go.com/nba/teams'\n",
    "html_teams = requests.get(teams_url)\n",
    "\n",
    "soup_teams = BeautifulSoup(html_teams.text, 'lxml')"
   ]
  },
  {
   "cell_type": "code",
   "execution_count": 2,
   "metadata": {},
   "outputs": [
    {
     "data": {
      "text/plain": [
       "[<a href=\"/nba/teams/stats?team=bos\">Stats</a>,\n",
       " <a href=\"/nba/teams/stats?team=bkn\">Stats</a>,\n",
       " <a href=\"/nba/teams/stats?team=nyk\">Stats</a>,\n",
       " <a href=\"/nba/teams/stats?team=phi\">Stats</a>,\n",
       " <a href=\"/nba/teams/stats?team=tor\">Stats</a>,\n",
       " <a href=\"/nba/teams/stats?team=gsw\">Stats</a>,\n",
       " <a href=\"/nba/teams/stats?team=lac\">Stats</a>,\n",
       " <a href=\"/nba/teams/stats?team=lal\">Stats</a>,\n",
       " <a href=\"/nba/teams/stats?team=pho\">Stats</a>,\n",
       " <a href=\"/nba/teams/stats?team=sac\">Stats</a>,\n",
       " <a href=\"/nba/teams/stats?team=chi\">Stats</a>,\n",
       " <a href=\"/nba/teams/stats?team=cle\">Stats</a>,\n",
       " <a href=\"/nba/teams/stats?team=det\">Stats</a>,\n",
       " <a href=\"/nba/teams/stats?team=ind\">Stats</a>,\n",
       " <a href=\"/nba/teams/stats?team=mil\">Stats</a>,\n",
       " <a href=\"/nba/teams/stats?team=dal\">Stats</a>,\n",
       " <a href=\"/nba/teams/stats?team=hou\">Stats</a>,\n",
       " <a href=\"/nba/teams/stats?team=mem\">Stats</a>,\n",
       " <a href=\"/nba/teams/stats?team=nor\">Stats</a>,\n",
       " <a href=\"/nba/teams/stats?team=sas\">Stats</a>,\n",
       " <a href=\"/nba/teams/stats?team=atl\">Stats</a>,\n",
       " <a href=\"/nba/teams/stats?team=cha\">Stats</a>,\n",
       " <a href=\"/nba/teams/stats?team=mia\">Stats</a>,\n",
       " <a href=\"/nba/teams/stats?team=orl\">Stats</a>,\n",
       " <a href=\"/nba/teams/stats?team=was\">Stats</a>,\n",
       " <a href=\"/nba/teams/stats?team=den\">Stats</a>,\n",
       " <a href=\"/nba/teams/stats?team=min\">Stats</a>,\n",
       " <a href=\"/nba/teams/stats?team=okc\">Stats</a>,\n",
       " <a href=\"/nba/teams/stats?team=por\">Stats</a>,\n",
       " <a href=\"/nba/teams/stats?team=uth\">Stats</a>]"
      ]
     },
     "execution_count": 2,
     "metadata": {},
     "output_type": "execute_result"
    }
   ],
   "source": [
    "urls = soup_teams.find_all(href=re.compile('/nba/teams/stats'))\n",
    "urls"
   ]
  },
  {
   "cell_type": "code",
   "execution_count": 6,
   "metadata": {},
   "outputs": [
    {
     "data": {
      "text/plain": [
       "<a href=\"/nba/teams/stats?team=bos\">Stats</a>"
      ]
     },
     "execution_count": 6,
     "metadata": {},
     "output_type": "execute_result"
    }
   ],
   "source": [
    "urls[0]"
   ]
  },
  {
   "cell_type": "code",
   "execution_count": 13,
   "metadata": {},
   "outputs": [
    {
     "data": {
      "text/plain": [
       "bs4.element.Tag"
      ]
     },
     "execution_count": 13,
     "metadata": {},
     "output_type": "execute_result"
    }
   ],
   "source": [
    "type(urls[0])"
   ]
  },
  {
   "cell_type": "code",
   "execution_count": 19,
   "metadata": {},
   "outputs": [
    {
     "data": {
      "text/plain": [
       "'/nba/teams/stats?team=bos'"
      ]
     },
     "execution_count": 19,
     "metadata": {},
     "output_type": "execute_result"
    }
   ],
   "source": [
    "urls[0].attrs['href']"
   ]
  },
  {
   "cell_type": "code",
   "execution_count": 15,
   "metadata": {},
   "outputs": [],
   "source": [
    "from urllib.request import urlopen\n",
    "from bs4 import BeautifulSoup\n",
    "\n",
    "html = urlopen('http://www.pythonscraping.com/pages/page1.html')\n",
    "bs = BeautifulSoup(html, 'html.parser')"
   ]
  },
  {
   "cell_type": "code",
   "execution_count": 16,
   "metadata": {},
   "outputs": [
    {
     "data": {
      "text/plain": [
       "bs4.BeautifulSoup"
      ]
     },
     "execution_count": 16,
     "metadata": {},
     "output_type": "execute_result"
    }
   ],
   "source": [
    "type(bs)"
   ]
  },
  {
   "cell_type": "code",
   "execution_count": 18,
   "metadata": {},
   "outputs": [
    {
     "data": {
      "text/plain": [
       "'An Interesting Title'"
      ]
     },
     "execution_count": 18,
     "metadata": {},
     "output_type": "execute_result"
    }
   ],
   "source": [
    "bs.h1.get_text()"
   ]
  },
  {
   "cell_type": "code",
   "execution_count": 1,
   "metadata": {},
   "outputs": [],
   "source": [
    "from datetime import datetime"
   ]
  },
  {
   "cell_type": "code",
   "execution_count": 4,
   "metadata": {},
   "outputs": [
    {
     "data": {
      "text/plain": [
       "datetime.datetime(2017, 10, 1, 0, 0)"
      ]
     },
     "execution_count": 4,
     "metadata": {},
     "output_type": "execute_result"
    }
   ],
   "source": [
    "datetime(2017,10,1)"
   ]
  }
 ],
 "metadata": {
  "hide_input": false,
  "kernelspec": {
   "display_name": "Python 3",
   "language": "python",
   "name": "python3"
  },
  "language_info": {
   "codemirror_mode": {
    "name": "ipython",
    "version": 3
   },
   "file_extension": ".py",
   "mimetype": "text/x-python",
   "name": "python",
   "nbconvert_exporter": "python",
   "pygments_lexer": "ipython3",
   "version": "3.6.4"
  },
  "varInspector": {
   "cols": {
    "lenName": 16,
    "lenType": 16,
    "lenVar": 40
   },
   "kernels_config": {
    "python": {
     "delete_cmd_postfix": "",
     "delete_cmd_prefix": "del ",
     "library": "var_list.py",
     "varRefreshCmd": "print(var_dic_list())"
    },
    "r": {
     "delete_cmd_postfix": ") ",
     "delete_cmd_prefix": "rm(",
     "library": "var_list.r",
     "varRefreshCmd": "cat(var_dic_list()) "
    }
   },
   "types_to_exclude": [
    "module",
    "function",
    "builtin_function_or_method",
    "instance",
    "_Feature"
   ],
   "window_display": false
  }
 },
 "nbformat": 4,
 "nbformat_minor": 2
}
