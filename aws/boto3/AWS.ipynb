{
 "cells": [
  {
   "cell_type": "markdown",
   "id": "21a6de21-629c-4075-9001-e3c580270cf7",
   "metadata": {},
   "source": [
    "# AWS\n",
    "The following is an example of how to work with AWS services like S3"
   ]
  },
  {
   "cell_type": "code",
   "execution_count": 9,
   "id": "99430161-e2e5-4c7d-9c19-796766bbee3c",
   "metadata": {},
   "outputs": [],
   "source": [
    "import os\n",
    "import boto3\n",
    "import pandas as pd\n",
    "from urllib.parse import urlparse\n",
    "from io import BytesIO\n",
    "from getpass import getpass\n",
    "\n",
    "\n",
    "def get_var(var):\n",
    "    var = var.lower()\n",
    "    try:\n",
    "        os.environ[var.upper()]\n",
    "    except KeyError:\n",
    "        os.environ[var.upper()] = getpass(f\"Enter {var}: \")\n",
    "\n",
    "    var = os.environ[var.upper()]\n",
    "    return var\n",
    "\n",
    "\n",
    "def to_s3(data: pd.DataFrame, s3_uri: str, **kwargs):\n",
    "    client = boto3.client(\"s3\")\n",
    "    parsed_s3 = urlparse(s3_uri)\n",
    "    bytes_ = BytesIO()\n",
    "    data.to_parquet(path=bytes_, **kwargs)\n",
    "    bytes_.seek(0)\n",
    "    client.upload_fileobj(Fileobj=bytes_, Bucket=parsed_s3.netloc, Key=parsed_s3.path.strip(\"/\"))\n",
    "\n",
    "\n",
    "def from_s3(s3_uri: str) -> pd.DataFrame:\n",
    "    client = boto3.client(\"s3\")\n",
    "    parsed_s3 = urlparse(s3_uri)\n",
    "\n",
    "    obj = client.get_object(Bucket=parsed_s3.netloc, Key=parsed_s3.path.strip(\"/\"))\n",
    "    bytes_ = BytesIO(obj[\"Body\"].read())\n",
    "    return pd.read_parquet(bytes_)"
   ]
  },
  {
   "cell_type": "code",
   "execution_count": 10,
   "id": "6bfd3ea2-b1d0-4738-bfe9-18a4c17997df",
   "metadata": {},
   "outputs": [
    {
     "name": "stdout",
     "output_type": "stream",
     "text": [
      "Setup\n"
     ]
    }
   ],
   "source": [
    "# get_var(\"AWS_ACCESS_KEY_ID\")\n",
    "# get_var(\"AWS_SECRET_ACCESS_KEY\")\n",
    "# os.environ[\"AWS_ACCESS_KEY_ID\"] = get_var(\"ASHLI_AWS_ACCESS_KEY_ID\")\n",
    "# os.environ[\"AWS_SECRET_ACCESS_KEY\"] = get_var(\"ASHLI_AWS_SECRET_ACCESS_KEY\")\n",
    "os.environ[\"AWS_ACCESS_KEY_ID\"] = get_var(\"NAMIOT_AWS_ACCESS_KEY_ID\")\n",
    "os.environ[\"AWS_SECRET_ACCESS_KEY\"] = get_var(\"NAMIOT_AWS_SECRET_ACCESS_KEY\")\n",
    "print(\"Setup\")"
   ]
  },
  {
   "cell_type": "code",
   "execution_count": 11,
   "id": "46d4ab50-84a8-4a4c-ab34-58428844012b",
   "metadata": {},
   "outputs": [
    {
     "name": "stdout",
     "output_type": "stream",
     "text": [
      "Using bucket with name: ahm-weldability\n"
     ]
    }
   ],
   "source": [
    "# bucket_name = 'ahm-ashli'\n",
    "bucket_name = 'ahm-weldability'\n",
    "print(f'Using bucket with name: {bucket_name}')"
   ]
  },
  {
   "cell_type": "markdown",
   "id": "7a178a07-c8fd-4242-9100-7a65ba97a1a0",
   "metadata": {},
   "source": [
    "## Example of writing a dataframe to s3 in parquet format\n",
    "must have in requirements.txt\n",
    "\n",
    "```\n",
    "pandas\n",
    "boto3\n",
    "pyarrow\n",
    "```"
   ]
  },
  {
   "cell_type": "code",
   "execution_count": 4,
   "id": "d50b217c-b9e5-4cb2-a19f-0fc3aeb3e36a",
   "metadata": {},
   "outputs": [],
   "source": [
    "s3_key=\"/example/df/dummy.parquet\"\n",
    "test_data = pd.DataFrame([[entry for entry in range(5)] for row in range(20)])\n",
    "test_data.columns = list(map(str, test_data.columns))\n",
    "to_s3(test_data, f\"s3://{bucket_name}{s3_key}\")"
   ]
  },
  {
   "cell_type": "code",
   "execution_count": 5,
   "id": "8f4dba82-f378-4501-8c4b-998bc8e690a2",
   "metadata": {},
   "outputs": [
    {
     "name": "stdout",
     "output_type": "stream",
     "text": [
      "ParseResult(scheme='s3', netloc='ahm-weldability', path='/example/df/dummy.parquet', params='', query='', fragment='')\n",
      "example/df/dummy.parquet\n"
     ]
    }
   ],
   "source": [
    "parsed_s3 = urlparse(f\"s3://{bucket_name}{s3_key}\")\n",
    "print(f\"{parsed_s3}\")\n",
    "key_s3 = parsed_s3.path.strip(\"/\")\n",
    "print(f\"{key_s3}\")\n"
   ]
  },
  {
   "cell_type": "markdown",
   "id": "b09c783a-3bd9-46ec-addf-05c054c84e18",
   "metadata": {},
   "source": [
    "## Example of reading data from s3 into DataFrame\n",
    "must have in requirements.txt\n",
    "\n",
    "```\n",
    "pandas\n",
    "boto3\n",
    "pyarrow\n",
    "```"
   ]
  },
  {
   "cell_type": "code",
   "execution_count": 6,
   "id": "c7eebf92-cea1-4795-af43-a9d9553b1481",
   "metadata": {},
   "outputs": [
    {
     "name": "stdout",
     "output_type": "stream",
     "text": [
      "s3://ahm-weldability/example/df/dummy.parquet\n"
     ]
    },
    {
     "data": {
      "text/html": [
       "<div>\n",
       "<style scoped>\n",
       "    .dataframe tbody tr th:only-of-type {\n",
       "        vertical-align: middle;\n",
       "    }\n",
       "\n",
       "    .dataframe tbody tr th {\n",
       "        vertical-align: top;\n",
       "    }\n",
       "\n",
       "    .dataframe thead th {\n",
       "        text-align: right;\n",
       "    }\n",
       "</style>\n",
       "<table border=\"1\" class=\"dataframe\">\n",
       "  <thead>\n",
       "    <tr style=\"text-align: right;\">\n",
       "      <th></th>\n",
       "      <th>0</th>\n",
       "      <th>1</th>\n",
       "      <th>2</th>\n",
       "      <th>3</th>\n",
       "      <th>4</th>\n",
       "    </tr>\n",
       "  </thead>\n",
       "  <tbody>\n",
       "    <tr>\n",
       "      <th>0</th>\n",
       "      <td>0</td>\n",
       "      <td>1</td>\n",
       "      <td>2</td>\n",
       "      <td>3</td>\n",
       "      <td>4</td>\n",
       "    </tr>\n",
       "    <tr>\n",
       "      <th>1</th>\n",
       "      <td>0</td>\n",
       "      <td>1</td>\n",
       "      <td>2</td>\n",
       "      <td>3</td>\n",
       "      <td>4</td>\n",
       "    </tr>\n",
       "    <tr>\n",
       "      <th>2</th>\n",
       "      <td>0</td>\n",
       "      <td>1</td>\n",
       "      <td>2</td>\n",
       "      <td>3</td>\n",
       "      <td>4</td>\n",
       "    </tr>\n",
       "    <tr>\n",
       "      <th>3</th>\n",
       "      <td>0</td>\n",
       "      <td>1</td>\n",
       "      <td>2</td>\n",
       "      <td>3</td>\n",
       "      <td>4</td>\n",
       "    </tr>\n",
       "    <tr>\n",
       "      <th>4</th>\n",
       "      <td>0</td>\n",
       "      <td>1</td>\n",
       "      <td>2</td>\n",
       "      <td>3</td>\n",
       "      <td>4</td>\n",
       "    </tr>\n",
       "    <tr>\n",
       "      <th>5</th>\n",
       "      <td>0</td>\n",
       "      <td>1</td>\n",
       "      <td>2</td>\n",
       "      <td>3</td>\n",
       "      <td>4</td>\n",
       "    </tr>\n",
       "    <tr>\n",
       "      <th>6</th>\n",
       "      <td>0</td>\n",
       "      <td>1</td>\n",
       "      <td>2</td>\n",
       "      <td>3</td>\n",
       "      <td>4</td>\n",
       "    </tr>\n",
       "    <tr>\n",
       "      <th>7</th>\n",
       "      <td>0</td>\n",
       "      <td>1</td>\n",
       "      <td>2</td>\n",
       "      <td>3</td>\n",
       "      <td>4</td>\n",
       "    </tr>\n",
       "    <tr>\n",
       "      <th>8</th>\n",
       "      <td>0</td>\n",
       "      <td>1</td>\n",
       "      <td>2</td>\n",
       "      <td>3</td>\n",
       "      <td>4</td>\n",
       "    </tr>\n",
       "    <tr>\n",
       "      <th>9</th>\n",
       "      <td>0</td>\n",
       "      <td>1</td>\n",
       "      <td>2</td>\n",
       "      <td>3</td>\n",
       "      <td>4</td>\n",
       "    </tr>\n",
       "    <tr>\n",
       "      <th>10</th>\n",
       "      <td>0</td>\n",
       "      <td>1</td>\n",
       "      <td>2</td>\n",
       "      <td>3</td>\n",
       "      <td>4</td>\n",
       "    </tr>\n",
       "    <tr>\n",
       "      <th>11</th>\n",
       "      <td>0</td>\n",
       "      <td>1</td>\n",
       "      <td>2</td>\n",
       "      <td>3</td>\n",
       "      <td>4</td>\n",
       "    </tr>\n",
       "    <tr>\n",
       "      <th>12</th>\n",
       "      <td>0</td>\n",
       "      <td>1</td>\n",
       "      <td>2</td>\n",
       "      <td>3</td>\n",
       "      <td>4</td>\n",
       "    </tr>\n",
       "    <tr>\n",
       "      <th>13</th>\n",
       "      <td>0</td>\n",
       "      <td>1</td>\n",
       "      <td>2</td>\n",
       "      <td>3</td>\n",
       "      <td>4</td>\n",
       "    </tr>\n",
       "    <tr>\n",
       "      <th>14</th>\n",
       "      <td>0</td>\n",
       "      <td>1</td>\n",
       "      <td>2</td>\n",
       "      <td>3</td>\n",
       "      <td>4</td>\n",
       "    </tr>\n",
       "    <tr>\n",
       "      <th>15</th>\n",
       "      <td>0</td>\n",
       "      <td>1</td>\n",
       "      <td>2</td>\n",
       "      <td>3</td>\n",
       "      <td>4</td>\n",
       "    </tr>\n",
       "    <tr>\n",
       "      <th>16</th>\n",
       "      <td>0</td>\n",
       "      <td>1</td>\n",
       "      <td>2</td>\n",
       "      <td>3</td>\n",
       "      <td>4</td>\n",
       "    </tr>\n",
       "    <tr>\n",
       "      <th>17</th>\n",
       "      <td>0</td>\n",
       "      <td>1</td>\n",
       "      <td>2</td>\n",
       "      <td>3</td>\n",
       "      <td>4</td>\n",
       "    </tr>\n",
       "    <tr>\n",
       "      <th>18</th>\n",
       "      <td>0</td>\n",
       "      <td>1</td>\n",
       "      <td>2</td>\n",
       "      <td>3</td>\n",
       "      <td>4</td>\n",
       "    </tr>\n",
       "    <tr>\n",
       "      <th>19</th>\n",
       "      <td>0</td>\n",
       "      <td>1</td>\n",
       "      <td>2</td>\n",
       "      <td>3</td>\n",
       "      <td>4</td>\n",
       "    </tr>\n",
       "  </tbody>\n",
       "</table>\n",
       "</div>"
      ],
      "text/plain": [
       "    0  1  2  3  4\n",
       "0   0  1  2  3  4\n",
       "1   0  1  2  3  4\n",
       "2   0  1  2  3  4\n",
       "3   0  1  2  3  4\n",
       "4   0  1  2  3  4\n",
       "5   0  1  2  3  4\n",
       "6   0  1  2  3  4\n",
       "7   0  1  2  3  4\n",
       "8   0  1  2  3  4\n",
       "9   0  1  2  3  4\n",
       "10  0  1  2  3  4\n",
       "11  0  1  2  3  4\n",
       "12  0  1  2  3  4\n",
       "13  0  1  2  3  4\n",
       "14  0  1  2  3  4\n",
       "15  0  1  2  3  4\n",
       "16  0  1  2  3  4\n",
       "17  0  1  2  3  4\n",
       "18  0  1  2  3  4\n",
       "19  0  1  2  3  4"
      ]
     },
     "execution_count": 6,
     "metadata": {},
     "output_type": "execute_result"
    }
   ],
   "source": [
    "s3_path = f\"s3://{bucket_name}{s3_key}\"\n",
    "print(s3_path)\n",
    "data = from_s3(s3_path)\n",
    "data"
   ]
  },
  {
   "cell_type": "code",
   "execution_count": 38,
   "id": "9a96634c-0c99-4ed9-91aa-092f8a80c2db",
   "metadata": {},
   "outputs": [],
   "source": [
    "s3client = boto3.client('s3')"
   ]
  },
  {
   "cell_type": "markdown",
   "id": "60c8aac1-c173-4f67-8998-51b4deb24f46",
   "metadata": {},
   "source": [
    "## We might set a best practice that no application service account should be allowed to create or delete buckets.  This would allow better control on managing the high level settings"
   ]
  },
  {
   "cell_type": "code",
   "execution_count": null,
   "id": "b75b71db-4fd6-4105-b9ae-8c618f116a2b",
   "metadata": {},
   "outputs": [],
   "source": [
    "s3client.create_bucket(Bucket=bucket_name)"
   ]
  },
  {
   "cell_type": "code",
   "execution_count": null,
   "id": "39f206c4-31bb-4989-8251-347b0cc25105",
   "metadata": {},
   "outputs": [],
   "source": [
    "list_buckets_resp = s3client.list_buckets()\n",
    "for bucket in list_buckets_resp['Buckets']:\n",
    "    print('Bucket --> {} - there since {}'.format(\n",
    "        bucket['Name'], bucket['CreationDate']))"
   ]
  },
  {
   "cell_type": "markdown",
   "id": "77a9632d-25de-4193-84b8-6f0b84fe233f",
   "metadata": {},
   "source": [
    "## Example of creating an object using boto3 client"
   ]
  },
  {
   "cell_type": "code",
   "execution_count": null,
   "id": "e16c23d8-78de-44ae-aa8e-b7de3d6b741d",
   "metadata": {},
   "outputs": [],
   "source": [
    "bucket_name = 'ahm-ashli'\n",
    "object_key = 'test/python_sample_key.txt'\n",
    "\n",
    "print('Uploading some data to {} with key: {}'.format(\n",
    "    bucket_name, object_key))\n",
    "\n",
    "s3client.put_object(Bucket=bucket_name, Key=object_key, Body=b'Hello World!')"
   ]
  },
  {
   "cell_type": "markdown",
   "id": "b747a063-0690-4662-b47d-425802d19b02",
   "metadata": {},
   "source": [
    "## Example of generating a temporary URL to download the object without credentials"
   ]
  },
  {
   "cell_type": "code",
   "execution_count": null,
   "id": "ac328e2c-7ba0-40fe-8c43-4b75f4cb33d8",
   "metadata": {},
   "outputs": [],
   "source": [
    "url = s3client.generate_presigned_url(\n",
    "    'get_object', {'Bucket': bucket_name, 'Key': object_key})\n",
    "print('\\nTry this URL in your browser to download the object:')\n",
    "print(url)"
   ]
  },
  {
   "cell_type": "code",
   "execution_count": null,
   "id": "f6d81ad2-8728-4d80-8dad-afc3b20c088b",
   "metadata": {},
   "outputs": [],
   "source": []
  }
 ],
 "metadata": {
  "kernelspec": {
   "display_name": "Py3.9 (pyspark_dev)",
   "language": "python",
   "name": "pyspark_dev"
  },
  "language_info": {
   "codemirror_mode": {
    "name": "ipython",
    "version": 3
   },
   "file_extension": ".py",
   "mimetype": "text/x-python",
   "name": "python",
   "nbconvert_exporter": "python",
   "pygments_lexer": "ipython3",
   "version": "3.9.7"
  }
 },
 "nbformat": 4,
 "nbformat_minor": 5
}
