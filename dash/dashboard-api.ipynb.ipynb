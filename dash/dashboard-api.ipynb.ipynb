{
    "nbformat_minor": 1, 
    "nbformat": 4, 
    "cells": [
        {
            "source": [
                "# Creating Dashboards Programmatically<br>with Plotly and Python"
            ], 
            "cell_type": "markdown", 
            "metadata": {}
        }, 
        {
            "source": [
                "***"
            ], 
            "cell_type": "markdown", 
            "metadata": {}
        }, 
        {
            "source": [
                "### Plotly Dashboards: Overview\n", 
                "A dashboard is a collection of plots, images, text, and web embeds organized with a custom layout. With Plotly, you can create dashbords with a drag and drop method using our [online GUI](https://plot.ly/dashboard/create/) or programmatically.\n", 
                "\n", 
                "With both methods your plots and dashboards are stored in your [online account](https://plot.ly/organize).\n", 
                "\n", 
                "New to Plotly?<br>\n", 
                "[Get started](https://plot.ly/d3-js-for-python-and-pandas-charts/) by installing Plotly's Python API and [reading the primer](https://plot.ly/python/getting-started/)."
            ], 
            "cell_type": "markdown", 
            "metadata": {}
        }, 
        {
            "source": [
                "#### Version Check \n", 
                "Note: The dashboard API is available in version <b>2.0.5.+</b><br>\n", 
                "Run  `pip install plotly --upgrade` to update your Plotly version."
            ], 
            "cell_type": "markdown", 
            "metadata": {}
        }, 
        {
            "source": [
                "import plotly\n", 
                "plotly.__version__"
            ], 
            "cell_type": "code", 
            "metadata": {}, 
            "execution_count": 83, 
            "outputs": [
                {
                    "output_type": "execute_result", 
                    "data": {
                        "text/plain": [
                            "'2.0.15'"
                        ]
                    }, 
                    "execution_count": 83, 
                    "metadata": {}
                }
            ]
        }, 
        {
            "source": [
                "#### Imports"
            ], 
            "cell_type": "markdown", 
            "metadata": {}
        }, 
        {
            "source": [
                "import plotly.dashboard_objs as dashboard\n", 
                "import plotly.plotly as py\n", 
                "import plotly.graph_objs as go\n", 
                "\n", 
                "from datetime import datetime\n", 
                "import IPython.display\n", 
                "from IPython.display import Image\n", 
                "import numpy as np\n", 
                "import pandas as pd\n", 
                "import pandas_datareader.data as web\n", 
                "\n", 
                "import urllib3\n", 
                "urllib3.disable_warnings()"
            ], 
            "cell_type": "code", 
            "metadata": {
                "collapsed": true
            }, 
            "execution_count": 84, 
            "outputs": []
        }, 
        {
            "source": [
                "##### Style & Colorscheme "
            ], 
            "cell_type": "markdown", 
            "metadata": {}
        }, 
        {
            "source": [
                "colors = ['#8CC800', '#001A7A', '#119dff', '#00C1B5', '#00B760']\n", 
                "colorscale = 'Blues'"
            ], 
            "cell_type": "code", 
            "metadata": {
                "collapsed": true
            }, 
            "execution_count": 85, 
            "outputs": []
        }, 
        {
            "source": [
                "##### Choose Plots\n", 
                "Here we'll create a few plots to add to the dashboard."
            ], 
            "cell_type": "markdown", 
            "metadata": {}
        }, 
        {
            "source": [
                "df = web.DataReader(\"aapl\", 'google', datetime(2007, 1, 1), datetime(2008, 1, 1))\n", 
                "\n", 
                "trace0 = go.Box(x=df.Open, name='Open', marker={'color': colors[1]})\n", 
                "trace1 = go.Box(x=df.Close, name='Close', marker={'color': colors[2]})\n", 
                "trace2 = go.Box(x=df.High, name='High', marker={'color': colors[3]})\n", 
                "trace3 = go.Box(x=df.Low, name='Low', marker={'color': colors[4]})\n", 
                "data = [trace0, trace1, trace2, trace3]\n", 
                "\n", 
                "py.iplot(data, filename='dashboard/box')"
            ], 
            "cell_type": "code", 
            "metadata": {}, 
            "execution_count": 86, 
            "outputs": [
                {
                    "output_type": "execute_result", 
                    "data": {
                        "text/plain": [
                            "<plotly.tools.PlotlyDisplay object>"
                        ], 
                        "text/html": [
                            "<iframe id=\"igraph\" scrolling=\"no\" style=\"border:none;\" seamless=\"seamless\" src=\"https://plot.ly//~chelsea_lyn/15741.embed\" height=\"525px\" width=\"100%\"></iframe>"
                        ]
                    }, 
                    "execution_count": 86, 
                    "metadata": {}
                }
            ]
        }, 
        {
            "source": [
                "url1=py.plot(data, filename='dashboard/box', auto_open=False)\n", 
                "url1"
            ], 
            "cell_type": "code", 
            "metadata": {}, 
            "execution_count": 87, 
            "outputs": [
                {
                    "output_type": "execute_result", 
                    "data": {
                        "text/plain": [
                            "u'https://plot.ly/~chelsea_lyn/15741'"
                        ]
                    }, 
                    "execution_count": 87, 
                    "metadata": {}
                }
            ]
        }, 
        {
            "source": [
                "df = web.DataReader(\"aapl\", 'google', datetime(2007, 1, 1), datetime(2008, 1, 1))\n", 
                "\n", 
                "trace = go.Ohlc(x=df.index,\n", 
                "                open=df.Open,\n", 
                "                high=df.High,\n", 
                "                low=df.Low,\n", 
                "                close=df.Close,\n", 
                "                increasing=dict(line=dict(color= colors[4])),\n", 
                "                decreasing=dict(line=dict(color= colors[2])))\n", 
                "data = [trace]\n", 
                "py.iplot(data, filename='dashboard/ohlc', sharing='secret')"
            ], 
            "cell_type": "code", 
            "metadata": {}, 
            "execution_count": 88, 
            "outputs": [
                {
                    "output_type": "execute_result", 
                    "data": {
                        "text/plain": [
                            "<plotly.tools.PlotlyDisplay object>"
                        ], 
                        "text/html": [
                            "<iframe id=\"igraph\" scrolling=\"no\" style=\"border:none;\" seamless=\"seamless\" src=\"https://plot.ly//~chelsea_lyn/15735.embed?share_key=Eg6pUWBgMqUB3jHMQW7pJY\" height=\"525px\" width=\"100%\"></iframe>"
                        ]
                    }, 
                    "execution_count": 88, 
                    "metadata": {}
                }
            ]
        }, 
        {
            "source": [
                "url2=py.plot(data, filename='dashboard/ohlc', sharing='secret', auto_open=False)\n", 
                "url2"
            ], 
            "cell_type": "code", 
            "metadata": {}, 
            "execution_count": 89, 
            "outputs": [
                {
                    "output_type": "execute_result", 
                    "data": {
                        "text/plain": [
                            "u'https://plot.ly/~chelsea_lyn/15735?share_key=Eg6pUWBgMqUB3jHMQW7pJY'"
                        ]
                    }, 
                    "execution_count": 89, 
                    "metadata": {}
                }
            ]
        }, 
        {
            "source": [
                "df_2007 = web.DataReader(\"aapl\", 'google', datetime(2007, 1, 1), datetime(2007, 12, 31))\n", 
                "df_2008 = web.DataReader(\"aapl\", 'google', datetime(2008, 1, 1), datetime(2008, 12, 31))\n", 
                "\n", 
                "trace0 = go.Scatter(x=df.index, y=df_2007.High, name='2007', mode='markers', line={'color': colors[1], 'width':4})\n", 
                "trace1 = go.Scatter(x=df.index, y=df_2008.High, name='2008', mode='markers', line={'color': colors[3], 'width':4})\n", 
                "data = [trace0, trace1]\n", 
                "\n", 
                "py.iplot(data, filename='dashboard/scatter1')"
            ], 
            "cell_type": "code", 
            "metadata": {}, 
            "execution_count": 107, 
            "outputs": [
                {
                    "output_type": "execute_result", 
                    "data": {
                        "text/plain": [
                            "<plotly.tools.PlotlyDisplay object>"
                        ], 
                        "text/html": [
                            "<iframe id=\"igraph\" scrolling=\"no\" style=\"border:none;\" seamless=\"seamless\" src=\"https://plot.ly//~chelsea_lyn/15737.embed\" height=\"525px\" width=\"100%\"></iframe>"
                        ]
                    }, 
                    "execution_count": 107, 
                    "metadata": {}
                }
            ]
        }, 
        {
            "source": [
                "url3 = py.plot(data, filename='dashboard/scatter1', auto_open=False)\n", 
                "url3"
            ], 
            "cell_type": "code", 
            "metadata": {}, 
            "execution_count": 91, 
            "outputs": [
                {
                    "output_type": "execute_result", 
                    "data": {
                        "text/plain": [
                            "u'https://plot.ly/~chelsea_lyn/15737'"
                        ]
                    }, 
                    "execution_count": 91, 
                    "metadata": {}
                }
            ]
        }, 
        {
            "source": [
                "df_2007 = web.DataReader(\"aapl\", 'google', datetime(2007, 1, 1), datetime(2007, 12, 31))\n", 
                "df_2008 = web.DataReader(\"aapl\", 'google', datetime(2008, 1, 1), datetime(2008, 12, 31))\n", 
                "\n", 
                "trace0 = go.Scatter(x=df.index, y=df_2007.Close, name='2007', mode='markers', line={'color': colors[1], 'width':4})\n", 
                "trace1 = go.Scatter(x=df.index, y=df_2008.Close, name='2008', mode='markers', line={'color': colors[3], 'width':4})\n", 
                "data = [trace0, trace1]\n", 
                "\n", 
                "py.iplot(data, filename='dashboard/scatter2')"
            ], 
            "cell_type": "code", 
            "metadata": {}, 
            "execution_count": 92, 
            "outputs": [
                {
                    "output_type": "execute_result", 
                    "data": {
                        "text/plain": [
                            "<plotly.tools.PlotlyDisplay object>"
                        ], 
                        "text/html": [
                            "<iframe id=\"igraph\" scrolling=\"no\" style=\"border:none;\" seamless=\"seamless\" src=\"https://plot.ly//~chelsea_lyn/15739.embed\" height=\"525px\" width=\"100%\"></iframe>"
                        ]
                    }, 
                    "execution_count": 92, 
                    "metadata": {}
                }
            ]
        }, 
        {
            "source": [
                "url4 = py.plot(data, filename='dashboard/scatter2', auto_open=False)\n", 
                "url4"
            ], 
            "cell_type": "code", 
            "metadata": {}, 
            "execution_count": 93, 
            "outputs": [
                {
                    "output_type": "execute_result", 
                    "data": {
                        "text/plain": [
                            "u'https://plot.ly/~chelsea_lyn/15739'"
                        ]
                    }, 
                    "execution_count": 93, 
                    "metadata": {}
                }
            ]
        }, 
        {
            "source": [
                "#### Initialize Dashboard"
            ], 
            "cell_type": "markdown", 
            "metadata": {}
        }, 
        {
            "source": [
                "my_board = dashboard.Dashboard()\n", 
                "my_board.get_preview()"
            ], 
            "cell_type": "code", 
            "metadata": {}, 
            "execution_count": 94, 
            "outputs": [
                {
                    "output_type": "execute_result", 
                    "data": {
                        "text/plain": [
                            "<IPython.core.display.HTML object>"
                        ], 
                        "text/html": [
                            "\n", 
                            "<!DOCTYPE HTML>\n", 
                            "<html>\n", 
                            "  <head>\n", 
                            "    <style>\n", 
                            "      body {\n", 
                            "        margin: 0px;\n", 
                            "        padding: 0px;\n", 
                            "      }\n", 
                            "    </style>\n", 
                            "  </head>\n", 
                            "  <body>\n", 
                            "    <canvas id=\"myCanvas\" width=\"400\" height=\"400\"></canvas>\n", 
                            "    <script>\n", 
                            "      var canvas = document.getElementById('myCanvas');\n", 
                            "      var context = canvas.getContext('2d');\n", 
                            "      <!-- Dashboard -->\n", 
                            "      context.beginPath();\n", 
                            "      context.rect(0, 0, 400, 400);\n", 
                            "      context.lineWidth = 2;\n", 
                            "      context.strokeStyle = 'black';\n", 
                            "      context.stroke();\n", 
                            "      </script>\n", 
                            "  </body>\n", 
                            "</html>\n"
                        ]
                    }, 
                    "execution_count": 94, 
                    "metadata": {}
                }
            ]
        }, 
        {
            "source": [
                "#### Fill Dashboard\n", 
                "If you want to place a plot, text box or a webpage into the dashboard, you need to place it in a `box` (which is just a dictionary) and `insert` it into your dashboard. We will be inserting a plot, a text box, and a secret plot.\n", 
                "\n", 
                "##### Plot\n", 
                "```\n", 
                "{\n", 
                "    'type': 'box',\n", 
                "    'boxType': 'plot',\n", 
                "    'fileId': '',\n", 
                "    'shareKey': None,\n", 
                "    'title': ''\n", 
                "}\n", 
                "```\n", 
                "- `fileId` is of the form `username:number` (eg. 'PlotBot:1300') which can be found in the url of your plot once it's up on the Plotly server.\n", 
                "- `shareKey`: optional - the sharekey if your plot is secret.\n", 
                "- `title`: optional - sets the title of your box.\n", 
                "\n", 
                "##### Text\n", 
                "```\n", 
                "{\n", 
                "    'type': 'box',\n", 
                "    'boxType': 'text',\n", 
                "    'text': '',\n", 
                "    'title': ''\n", 
                "}\n", 
                "```\n", 
                "- `text`: the text you want displayed in your box.\n", 
                "- `title`: optional - sets the title of your box.\n", 
                "\n", 
                "##### Webpage\n", 
                "```\n", 
                "{\n", 
                "    'type': 'box',\n", 
                "    'boxType': 'webpage',\n", 
                "    'url': '',\n", 
                "    'title': ''\n", 
                "}\n", 
                "```\n", 
                "- `url`: the url of your webpage (eg. 'https://en.wikipedia.org/wiki/Main_Page').\n", 
                "- `title`: optional - sets the title of your box."
            ], 
            "cell_type": "markdown", 
            "metadata": {}
        }, 
        {
            "source": [
                "##### Helper Functions: \n", 
                "To extract the fileId from a url, use the `fileId_from_url` below. If your url is `secret`, use `sharekey_from_url` to return the sharekey from the url, then place in your box that contains a secret plot."
            ], 
            "cell_type": "markdown", 
            "metadata": {}
        }, 
        {
            "source": [
                "def fileId_from_url(url):\n", 
                "    \"\"\"Return fileId from a url.\"\"\"\n", 
                "    index = url.find('~')\n", 
                "    fileId = url[index + 1:]\n", 
                "    local_id_index = fileId.find('/')\n", 
                "\n", 
                "    share_key_index = fileId.find('?share_key')\n", 
                "    if share_key_index == -1:\n", 
                "        return fileId.replace('/', ':')\n", 
                "    else:\n", 
                "        return fileId[:share_key_index].replace('/', ':')\n", 
                "\n", 
                "def sharekey_from_url(url):\n", 
                "    \"\"\"Return the sharekey from a url.\"\"\"\n", 
                "    index = url.find('share_key=')\n", 
                "    return url[index + len('share_key='):]"
            ], 
            "cell_type": "code", 
            "metadata": {
                "collapsed": true
            }, 
            "execution_count": 95, 
            "outputs": []
        }, 
        {
            "source": [
                "fileId_1 = fileId_from_url(url1)\n", 
                "fileId_2 = fileId_from_url(url2)\n", 
                "fileId_3 = fileId_from_url(url3)\n", 
                "fileId_4 = fileId_from_url(url4)\n", 
                "\n", 
                "box_a = {\n", 
                "    'type': 'box',\n", 
                "    'boxType': 'plot',\n", 
                "    'fileId': fileId_1,\n", 
                "    'title': 'AAPL 2007 Box Plot'\n", 
                "}\n", 
                "\n", 
                "box_b = {\n", 
                "    'type': 'box',\n", 
                "    'boxType': 'plot',\n", 
                "    'fileId': fileId_2,\n", 
                "    'title': '2007 Open High Low Close',\n", 
                "    'shareKey': sharekey_from_url(url2)\n", 
                "}\n", 
                "\n", 
                "box_c = {\n", 
                "    'type': 'box',\n", 
                "    'boxType': 'plot',\n", 
                "    'fileId': fileId_3,\n", 
                "    'title': '2007 vs 2008 Open',\n", 
                "}\n", 
                "\n", 
                "box_d = {\n", 
                "    'type': 'box',\n", 
                "    'boxType': 'plot',\n", 
                "    'fileId': fileId_4,\n", 
                "    'title': '2007 vs 2008 Close',\n", 
                "}\n", 
                "\n", 
                "my_board.insert(box_b)"
            ], 
            "cell_type": "code", 
            "metadata": {}, 
            "execution_count": 96, 
            "outputs": []
        }, 
        {
            "source": [
                "![IPython terminal](https://images.plot.ly/plotly-documentation/images/dashboard_1.png)"
            ], 
            "cell_type": "markdown", 
            "metadata": {}
        }, 
        {
            "source": [
                "my_board.insert(box_a, 'above', 1)"
            ], 
            "cell_type": "code", 
            "metadata": {
                "collapsed": true
            }, 
            "execution_count": 97, 
            "outputs": []
        }, 
        {
            "source": [
                "my_board.insert(box_c, 'left', 2)"
            ], 
            "cell_type": "code", 
            "metadata": {
                "collapsed": true
            }, 
            "execution_count": 98, 
            "outputs": []
        }, 
        {
            "source": [
                "![IPython terminal](https://images.plot.ly/plotly-documentation/images/dashboard_3.png)"
            ], 
            "cell_type": "markdown", 
            "metadata": {}
        }, 
        {
            "source": [
                "my_board.insert(box_d, 'above', 3)"
            ], 
            "cell_type": "code", 
            "metadata": {}, 
            "execution_count": 106, 
            "outputs": []
        }, 
        {
            "source": [
                "#### Add Title\n", 
                "Set the title of your dashboard."
            ], 
            "cell_type": "markdown", 
            "metadata": {}
        }, 
        {
            "source": [
                "my_board['settings']['title'] = 'AAPL Dashboard: Created Programatically'"
            ], 
            "cell_type": "code", 
            "metadata": {
                "collapsed": true
            }, 
            "execution_count": 100, 
            "outputs": []
        }, 
        {
            "source": [
                "#### Add a Logo\n", 
                "Add a logo to the top-left corner of the dashboard."
            ], 
            "cell_type": "markdown", 
            "metadata": {}
        }, 
        {
            "source": [
                "my_board['settings']['logoUrl'] = 'https://images.plot.ly/logo/new-branding/plotly-logomark.png'"
            ], 
            "cell_type": "code", 
            "metadata": {
                "collapsed": true
            }, 
            "execution_count": 101, 
            "outputs": []
        }, 
        {
            "source": [
                "#### Add Links\n", 
                "Add some links to the header of the dashboard."
            ], 
            "cell_type": "markdown", 
            "metadata": {}
        }, 
        {
            "source": [
                "my_board['settings']['links'] = []\n", 
                "my_board['settings']['links'].append({'title': 'Plotly', 'url': 'https://plot.ly/'})\n", 
                "my_board['settings']['links'].append({'title': 'Python', 'url': 'https://www.python.org/'})"
            ], 
            "cell_type": "code", 
            "metadata": {
                "collapsed": true
            }, 
            "execution_count": 102, 
            "outputs": []
        }, 
        {
            "source": [
                "#### Change Color Settings"
            ], 
            "cell_type": "markdown", 
            "metadata": {}
        }, 
        {
            "source": [
                "my_board['settings']['headerBackgroundColor'] = colors[1]\n", 
                "my_board['settings']['headerForegroundColor'] = '#ffffff'\n", 
                "my_board['settings']['boxHeaderBackgroundColor'] = colors[2]\n", 
                "my_board['settings']['boxHeaderFontColor'] = '#ffffff'\n", 
                "\n", 
                "# my_board['settings']['foregroundColor'] = '#000000'\n", 
                "# my_board['settings']['backgroundColor'] = colors[1]\n", 
                "# my_board['settings']['boxBackgroundColor'] = '#ffffff'\n", 
                "# my_board['settings']['boxBorderColor'] = colors[1]"
            ], 
            "cell_type": "code", 
            "metadata": {}, 
            "execution_count": 103, 
            "outputs": []
        }, 
        {
            "source": [
                "#### Upload Dashboard\n", 
                "To upload your dashboard to your [Plotly cloud account](https://plot.ly/organize/home/) use `py.dashboard_ops.upload()`."
            ], 
            "cell_type": "markdown", 
            "metadata": {}
        }, 
        {
            "source": [
                "py.dashboard_ops.upload(my_board, 'webinar', auto_open=False)"
            ], 
            "cell_type": "code", 
            "metadata": {}, 
            "execution_count": 104, 
            "outputs": [
                {
                    "output_type": "execute_result", 
                    "data": {
                        "text/plain": [
                            "u'https://plot.ly/~chelsea_lyn/15748/aapl-dashboard-created-programatically-with-python-plotly/'"
                        ]
                    }, 
                    "execution_count": 104, 
                    "metadata": {}
                }
            ]
        }, 
        {
            "source": [
                "***"
            ], 
            "cell_type": "markdown", 
            "metadata": {}
        }, 
        {
            "source": [
                "#### Want to learn more?\n", 
                "Checkout our online documentation: https://plot.ly/python/<br>\n", 
                "Or sign up for Plotly's DASH workshop at PLOTCON NYC: https://plotcon.plot.ly/workshops"
            ], 
            "cell_type": "markdown", 
            "metadata": {}
        }, 
        {
            "source": [
                "from IPython.display import display, HTML\n", 
                "\n", 
                "display(HTML('<link href=\"//fonts.googleapis.com/css?family=Open+Sans:600,400,300,200|Inconsolata|Ubuntu+Mono:400,700\" rel=\"stylesheet\" type=\"text/css\" />'))\n", 
                "display(HTML('<link rel=\"stylesheet\" type=\"text/css\" href=\"http://help.plot.ly/documentation/all_static/css/ipython-notebook-custom.css\">'))\n"
            ], 
            "cell_type": "code", 
            "metadata": {}, 
            "execution_count": 80, 
            "outputs": [
                {
                    "output_type": "display_data", 
                    "data": {
                        "text/plain": [
                            "<IPython.core.display.HTML object>"
                        ], 
                        "text/html": [
                            "<link href=\"//fonts.googleapis.com/css?family=Open+Sans:600,400,300,200|Inconsolata|Ubuntu+Mono:400,700\" rel=\"stylesheet\" type=\"text/css\" />"
                        ]
                    }, 
                    "metadata": {}
                }, 
                {
                    "output_type": "display_data", 
                    "data": {
                        "text/plain": [
                            "<IPython.core.display.HTML object>"
                        ], 
                        "text/html": [
                            "<link rel=\"stylesheet\" type=\"text/css\" href=\"http://help.plot.ly/documentation/all_static/css/ipython-notebook-custom.css\">"
                        ]
                    }, 
                    "metadata": {}
                }
            ]
        }
    ], 
    "metadata": {
        "kernelspec": {
            "display_name": "Python 2", 
            "name": "python2", 
            "language": "python"
        }, 
        "language_info": {
            "mimetype": "text/x-python", 
            "nbconvert_exporter": "python", 
            "name": "python", 
            "pygments_lexer": "ipython2", 
            "version": "2.7.10", 
            "file_extension": ".py", 
            "codemirror_mode": {
                "version": 2, 
                "name": "ipython"
            }
        }, 
        "anaconda-cloud": {}
    }
}