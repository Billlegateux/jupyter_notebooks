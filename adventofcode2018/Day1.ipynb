{
 "cells": [
  {
   "cell_type": "markdown",
   "metadata": {},
   "source": [
    "# Advent Of Code 2018 - [Day 1](https://adventofcode.com/2018/day/1)"
   ]
  },
  {
   "cell_type": "markdown",
   "metadata": {},
   "source": [
    "# Day 1 / Part 1"
   ]
  },
  {
   "cell_type": "markdown",
   "metadata": {},
   "source": [
    "### Solution Using Pandas library"
   ]
  },
  {
   "cell_type": "code",
   "execution_count": 1,
   "metadata": {},
   "outputs": [],
   "source": [
    "import pandas as pd"
   ]
  },
  {
   "cell_type": "code",
   "execution_count": 2,
   "metadata": {},
   "outputs": [
    {
     "name": "stdout",
     "output_type": "stream",
     "text": [
      "1.66 ms ± 73.2 µs per loop (mean ± std. dev. of 7 runs, 1000 loops each)\n"
     ]
    }
   ],
   "source": [
    "%%timeit\n",
    "pd.read_csv('data/Day1_Input.txt', header=None, names=['Frequency']).sum()"
   ]
  },
  {
   "cell_type": "markdown",
   "metadata": {},
   "source": [
    "### Solution using \"pain, vanilla\" Python"
   ]
  },
  {
   "cell_type": "markdown",
   "metadata": {},
   "source": [
    "Some people may not realize it, but there is a built-in ```sum()``` function. I then used list comprehension syntax to parse the values in the input file text as a Python ```list```"
   ]
  },
  {
   "cell_type": "code",
   "execution_count": 3,
   "metadata": {},
   "outputs": [
    {
     "name": "stdout",
     "output_type": "stream",
     "text": [
      "411 µs ± 7.31 µs per loop (mean ± std. dev. of 7 runs, 1000 loops each)\n"
     ]
    }
   ],
   "source": [
    "%%timeit\n",
    "sum([int(item.replace('+','')) for item in open('data/Day1_Input.txt')])"
   ]
  },
  {
   "cell_type": "markdown",
   "metadata": {},
   "source": [
    "# Day 1 / Part 2"
   ]
  },
  {
   "cell_type": "markdown",
   "metadata": {},
   "source": [
    "Since the puzzle instructions says that I may have to loop through my input data multiple times until I reach my solution, I looked into using itertools' ```cycle``` class"
   ]
  },
  {
   "cell_type": "code",
   "execution_count": 4,
   "metadata": {
    "scrolled": false
   },
   "outputs": [
    {
     "name": "stdout",
     "output_type": "stream",
     "text": [
      "137336 ith sum: 72330\n"
     ]
    }
   ],
   "source": [
    "import itertools\n",
    "\n",
    "freq_list = itertools.cycle([int(item.replace('+','')) for item in open('data/Day1_Input.txt')])\n",
    "\n",
    "sum = 0\n",
    "already_seen = set()\n",
    "for i, value in enumerate(freq_list):\n",
    "    sum = sum + value\n",
    "    if sum in already_seen:\n",
    "        print(i, \"ith sum:\", sum)\n",
    "        break\n",
    "    already_seen.add(sum)\n",
    "    # Since the for loop would loop forever with a cycled list, we have to stop somewhere\n",
    "    if i > 1000000:\n",
    "        print(\"After a million iterations, I still have not found the answer\")\n",
    "        break"
   ]
  },
  {
   "cell_type": "markdown",
   "metadata": {},
   "source": [
    "Wow, it took 137,336 iterations to get to my solution. I did not expect it to take this many iterations since my input data only has 960 values."
   ]
  }
 ],
 "metadata": {
  "gist": {
   "data": {
    "description": "adventofcode2018/Untitled.ipynb",
    "public": true
   },
   "id": ""
  },
  "hide_input": false,
  "kernelspec": {
   "display_name": "Python 3",
   "language": "python",
   "name": "python3"
  },
  "language_info": {
   "codemirror_mode": {
    "name": "ipython",
    "version": 3
   },
   "file_extension": ".py",
   "mimetype": "text/x-python",
   "name": "python",
   "nbconvert_exporter": "python",
   "pygments_lexer": "ipython3",
   "version": "3.7.1"
  }
 },
 "nbformat": 4,
 "nbformat_minor": 2
}
