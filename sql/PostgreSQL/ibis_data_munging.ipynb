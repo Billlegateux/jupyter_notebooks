{
 "cells": [
  {
   "cell_type": "code",
   "execution_count": 1,
   "metadata": {},
   "outputs": [
    {
     "name": "stderr",
     "output_type": "stream",
     "text": [
      "D:\\Miniconda3\\envs\\ibis_dev\\lib\\site-packages\\ibis\\sql\\postgres\\compiler.py:234: UserWarning: locale specific date formats (%c, %x, %X) are not yet implemented for Windows\n",
      "  warnings.warn(\n"
     ]
    }
   ],
   "source": [
    "import ibis\n",
    "import matplotlib.pyplot as plt\n",
    "import os\n",
    "import pandas as pd\n",
    "ibis.options.interactive = True\n",
    "pd.options.display.max_rows=1000"
   ]
  },
  {
   "cell_type": "markdown",
   "metadata": {},
   "source": [
    "#### Server details"
   ]
  },
  {
   "cell_type": "code",
   "execution_count": 2,
   "metadata": {},
   "outputs": [],
   "source": [
    "host = 'blah_blah.somecompany.com'\n",
    "port = '5432'\n",
    "db = 'SC_Health_DB'\n",
    "user = os.environ['sc_health_user']\n",
    "pwd = os.environ['sc_health_pwd']"
   ]
  },
  {
   "cell_type": "markdown",
   "metadata": {},
   "source": [
    "#### Define ibis connection object"
   ]
  },
  {
   "cell_type": "code",
   "execution_count": 3,
   "metadata": {},
   "outputs": [],
   "source": [
    "conn = ibis.postgres.connect(\n",
    "    url=f'postgresql://{user}:{pwd}@{host}:{port}/{db}'\n",
    ")"
   ]
  },
  {
   "cell_type": "markdown",
   "metadata": {},
   "source": [
    "#### `conn` object has useful methods"
   ]
  },
  {
   "cell_type": "code",
   "execution_count": 4,
   "metadata": {},
   "outputs": [
    {
     "data": {
      "text/plain": [
       "['HOP_Trailer_Track_All_Feeds',\n",
       " 'associate_assets',\n",
       " 'associate_desks',\n",
       " 'associate_devices',\n",
       " 'associate_locker',\n",
       " 'associate_master',\n",
       " 'window_master',\n",
       " 'window_master_excel',\n",
       " 'wm_carriers',\n",
       " 'wm_changepoints',\n",
       " 'wm_destinations',\n",
       " 'wm_return_routes',\n",
       " 'wm_shuttles']"
      ]
     },
     "execution_count": 4,
     "metadata": {},
     "output_type": "execute_result"
    }
   ],
   "source": [
    "conn.list_tables()"
   ]
  },
  {
   "cell_type": "markdown",
   "metadata": {},
   "source": [
    "#### Let's create an ibis table object containing associates info"
   ]
  },
  {
   "cell_type": "code",
   "execution_count": 5,
   "metadata": {},
   "outputs": [],
   "source": [
    "associates = conn.table('associate_master')"
   ]
  },
  {
   "cell_type": "code",
   "execution_count": 6,
   "metadata": {},
   "outputs": [
    {
     "data": {
      "text/plain": [
       "ibis.expr.types.TableExpr"
      ]
     },
     "execution_count": 6,
     "metadata": {},
     "output_type": "execute_result"
    }
   ],
   "source": [
    "type(associates)"
   ]
  },
  {
   "cell_type": "markdown",
   "metadata": {},
   "source": [
    "#### Let's find out the data type or schema of the columns"
   ]
  },
  {
   "cell_type": "code",
   "execution_count": 7,
   "metadata": {},
   "outputs": [
    {
     "data": {
      "text/plain": [
       "ibis.Schema {  \n",
       "  EMPLID              string\n",
       "  EMPL_RCD#           int64\n",
       "  EFFDT               timestamp\n",
       "  EFFSEQ              int64\n",
       "  NAME                string\n",
       "  PREFERRED_NAME      string\n",
       "  COUNTY              string\n",
       "  STATE               string\n",
       "  COUNTRY             string\n",
       "  PER_ORG             string\n",
       "  PER_ORG_DESCR       string\n",
       "  PER_ORG_ABBRV       string\n",
       "  ORIG_HIRE_DT        timestamp\n",
       "  HIRE_DT             timestamp\n",
       "  WORK_PHONE          string\n",
       "  WORK_EXT            string\n",
       "  DEPTID              string\n",
       "  JOBCODE             string\n",
       "  EMPL_STATUS         string\n",
       "  EMPL_ST_DESCR       string\n",
       "  EMPL_ST_ABBRV       string\n",
       "  EMPL_CLASS          string\n",
       "  EMPL_CLS_DESCR      string\n",
       "  EMPL_CLS_ABBRV      string\n",
       "  LOCATION            string\n",
       "  JOB_ENTRY_DT        timestamp\n",
       "  DEPT_ENTRY_DT       timestamp\n",
       "  SHIFT               string\n",
       "  WORK_SHIFT_CODE     string\n",
       "  REG_TEMP            string\n",
       "  FULL_PART_TIME      string\n",
       "  COMPANY             string\n",
       "  BUSINESS_UNIT       string\n",
       "  BUS_UNIT_NAME_H     string\n",
       "  BUS_UNIT_ABBRV_H    string\n",
       "  PAYGROUP            string\n",
       "  EMPL_TYPE           string\n",
       "  EMPL_TYP_DESCR      string\n",
       "  EMPL_TYP_ABBRV      string\n",
       "  JOBTITLE            string\n",
       "  JOBTITLE_ABBRV      string\n",
       "  DEPTNAME            string\n",
       "  DEPTNAME_ABBRV      string\n",
       "  TEAM_NUMBER         string\n",
       "  PLANT_LOC_CODE      string\n",
       "  DEPT_NO             string\n",
       "  ASSOC_NO            int64\n",
       "  PAGER_NO            string\n",
       "  COOR_EMPLID         string\n",
       "  COOR_FIRST_NAME     string\n",
       "  COOR_LAST_NAME      string\n",
       "  COOR_BACKUP_EMPLID  string\n",
       "  LAST_NAME_SRCH      string\n",
       "  FIRST_NAME_SRCH     string\n",
       "  EXEMPT_CODE         string\n",
       "  BUS_UNIT_H          string\n",
       "  BUS_UNIT_ID_H       string\n",
       "  HAM_UNIT_NAME_H     string\n",
       "  HAM_UNIT_ABBRV_H    string\n",
       "  BUS_TEAM_H          string\n",
       "  BUS_TEAM_ID_H       string\n",
       "  HAM_TEAM_NAME_H     string\n",
       "  HAM_TEAM_ABBRV_H    string\n",
       "  TEAM_DESCR_H        string\n",
       "  DEPT_DESCR          string\n",
       "  OPRID               string\n",
       "  OPRDEFNDESC         string\n",
       "  EMAILID             string\n",
       "  ASGN_END_DT         timestamp\n",
       "  ASSGN_PCT_H         int64\n",
       "  LD_ASGN_ACTN_DT_H   timestamp\n",
       "}"
      ]
     },
     "execution_count": 7,
     "metadata": {},
     "output_type": "execute_result"
    }
   ],
   "source": [
    "associates.schema()"
   ]
  },
  {
   "cell_type": "markdown",
   "metadata": {},
   "source": [
    "#### Let's create a pandas dataframe so we can compare performance between the two later on"
   ]
  },
  {
   "cell_type": "code",
   "execution_count": 8,
   "metadata": {},
   "outputs": [],
   "source": [
    "associates_df = associates.execute(limit=50000)"
   ]
  },
  {
   "cell_type": "code",
   "execution_count": 9,
   "metadata": {},
   "outputs": [
    {
     "data": {
      "text/plain": [
       "pandas.core.frame.DataFrame"
      ]
     },
     "execution_count": 9,
     "metadata": {},
     "output_type": "execute_result"
    }
   ],
   "source": [
    "type(associates_df)"
   ]
  },
  {
   "cell_type": "markdown",
   "metadata": {},
   "source": [
    "### Let's do some simple aggregations"
   ]
  },
  {
   "cell_type": "markdown",
   "metadata": {},
   "source": [
    "#### Count of associates by division"
   ]
  },
  {
   "cell_type": "code",
   "execution_count": 10,
   "metadata": {},
   "outputs": [
    {
     "data": {
      "text/plain": [
       "                   HAM_TEAM_NAME_H  count\n",
       "0                       MAP Line 1   6587\n",
       "1       AEP Manufacturing Division   5259\n",
       "2                       ELP Line 3   5098\n",
       "3                        NOT FOUND   4364\n",
       "4                       MAP Line 2   2061\n",
       "5             HAM Quality Division   1397\n",
       "6                       Purchasing   1375\n",
       "7      Med Inactive Transition Div    851\n",
       "8   Human Resource & Corp Services    606\n",
       "9          Administration Division    495\n",
       "10                         Default    488\n",
       "11     Inactive HAM Purchasing Div    483\n",
       "12     AEP Mfg, Planning & Control    429\n",
       "13         Supply Chain Management    347\n",
       "14    Planning & Strategy Division    290\n",
       "15             NA Quality Division    257\n",
       "16     MAP Mfg, Planning & Control    220\n",
       "17     ELP Mfg, Planning & Control    193\n",
       "18     Manufacturing Tech Division    179\n",
       "19              New Model Strategy    175\n",
       "20  Performance Manufacturing Cntr    128\n",
       "21  Inactive Contract Services Div     76\n",
       "22                      Accounting     69\n",
       "23          Company Staff Division     37\n",
       "24  Alternative Job Assignment Div     37\n",
       "25  Gov, Risk, Compliance & Ethics      8\n",
       "26   Inactive HNAS - Company Staff      1"
      ]
     },
     "execution_count": 10,
     "metadata": {},
     "output_type": "execute_result"
    }
   ],
   "source": [
    "# group associates table by HAM_TEAM_NAME_H column,\n",
    "# then aggregate on HAM_TEAM_NAME_H column\n",
    "# by doing a count on that column\n",
    "# then sort by 'count' column in descending order\n",
    "(associates.group_by('HAM_TEAM_NAME_H')\n",
    "           .aggregate(associates['HAM_TEAM_NAME_H']\n",
    "           .count())\n",
    "           .sort_by(('count', False))\n",
    ")"
   ]
  },
  {
   "cell_type": "markdown",
   "metadata": {},
   "source": [
    "#### You may have noticed that `count` column was automatically created, but what if you want to call that column something else?"
   ]
  },
  {
   "cell_type": "markdown",
   "metadata": {},
   "source": [
    "We can just add `.name('new_column_name')` right after the `.count()` invocation"
   ]
  },
  {
   "cell_type": "code",
   "execution_count": 11,
   "metadata": {},
   "outputs": [
    {
     "data": {
      "text/plain": [
       "                   HAM_TEAM_NAME_H  Count of Associates\n",
       "0                       MAP Line 1                 6587\n",
       "1       AEP Manufacturing Division                 5259\n",
       "2                       ELP Line 3                 5098\n",
       "3                        NOT FOUND                 4364\n",
       "4                       MAP Line 2                 2061\n",
       "5             HAM Quality Division                 1397\n",
       "6                       Purchasing                 1375\n",
       "7      Med Inactive Transition Div                  851\n",
       "8   Human Resource & Corp Services                  606\n",
       "9          Administration Division                  495\n",
       "10                         Default                  488\n",
       "11     Inactive HAM Purchasing Div                  483\n",
       "12     AEP Mfg, Planning & Control                  429\n",
       "13         Supply Chain Management                  347\n",
       "14    Planning & Strategy Division                  290\n",
       "15             NA Quality Division                  257\n",
       "16     MAP Mfg, Planning & Control                  220\n",
       "17     ELP Mfg, Planning & Control                  193\n",
       "18     Manufacturing Tech Division                  179\n",
       "19              New Model Strategy                  175\n",
       "20  Performance Manufacturing Cntr                  128\n",
       "21  Inactive Contract Services Div                   76\n",
       "22                      Accounting                   69\n",
       "23          Company Staff Division                   37\n",
       "24  Alternative Job Assignment Div                   37\n",
       "25  Gov, Risk, Compliance & Ethics                    8\n",
       "26   Inactive HNAS - Company Staff                    1"
      ]
     },
     "execution_count": 11,
     "metadata": {},
     "output_type": "execute_result"
    }
   ],
   "source": [
    "# group associates table by HAM_TEAM_NAME_H column,\n",
    "# then aggregate on HAM_TEAM_NAME_H column\n",
    "# doing a count on that column\n",
    "# name the count column 'Count of Associates' instead\n",
    "# then sort by 'count' column in descending order\n",
    "(associates.group_by('HAM_TEAM_NAME_H')\n",
    "           .aggregate(associates['HAM_TEAM_NAME_H']\n",
    "           .count().name('Count of Associates'))\n",
    "           .sort_by(('Count of Associates', False))\n",
    ")"
   ]
  },
  {
   "cell_type": "markdown",
   "metadata": {},
   "source": [
    "#### Same thing as above, but using `value_counts()` inspired by pandas"
   ]
  },
  {
   "cell_type": "markdown",
   "metadata": {},
   "source": [
    "The disadvantage of using `value_counts()` is you don't have the ability to make your own custom column name for count, you are stuck with the column name `count`"
   ]
  },
  {
   "cell_type": "code",
   "execution_count": 12,
   "metadata": {},
   "outputs": [
    {
     "data": {
      "text/plain": [
       "                   HAM_TEAM_NAME_H  count\n",
       "0                       MAP Line 1   6587\n",
       "1       AEP Manufacturing Division   5259\n",
       "2                       ELP Line 3   5098\n",
       "3                        NOT FOUND   4364\n",
       "4                       MAP Line 2   2061\n",
       "5             HAM Quality Division   1397\n",
       "6                       Purchasing   1375\n",
       "7      Med Inactive Transition Div    851\n",
       "8   Human Resource & Corp Services    606\n",
       "9          Administration Division    495\n",
       "10                         Default    488\n",
       "11     Inactive HAM Purchasing Div    483\n",
       "12     AEP Mfg, Planning & Control    429\n",
       "13         Supply Chain Management    347\n",
       "14    Planning & Strategy Division    290\n",
       "15             NA Quality Division    257\n",
       "16     MAP Mfg, Planning & Control    220\n",
       "17     ELP Mfg, Planning & Control    193\n",
       "18     Manufacturing Tech Division    179\n",
       "19              New Model Strategy    175\n",
       "20  Performance Manufacturing Cntr    128\n",
       "21  Inactive Contract Services Div     76\n",
       "22                      Accounting     69\n",
       "23          Company Staff Division     37\n",
       "24  Alternative Job Assignment Div     37\n",
       "25  Gov, Risk, Compliance & Ethics      8\n",
       "26   Inactive HNAS - Company Staff      1"
      ]
     },
     "execution_count": 12,
     "metadata": {},
     "output_type": "execute_result"
    }
   ],
   "source": [
    "associates['HAM_TEAM_NAME_H'].value_counts().sort_by(('count', False))"
   ]
  },
  {
   "cell_type": "markdown",
   "metadata": {},
   "source": [
    "#### Let's compare timings between ibis and pandas"
   ]
  },
  {
   "cell_type": "markdown",
   "metadata": {},
   "source": [
    "```ibis```"
   ]
  },
  {
   "cell_type": "code",
   "execution_count": 13,
   "metadata": {},
   "outputs": [
    {
     "name": "stdout",
     "output_type": "stream",
     "text": [
      "564 µs ± 51.3 µs per loop (mean ± std. dev. of 7 runs, 1000 loops each)\n"
     ]
    }
   ],
   "source": [
    "%%timeit\n",
    "associates['HAM_TEAM_NAME_H'].value_counts().sort_by(('count', False))"
   ]
  },
  {
   "cell_type": "markdown",
   "metadata": {},
   "source": [
    "```pandas```"
   ]
  },
  {
   "cell_type": "code",
   "execution_count": 14,
   "metadata": {},
   "outputs": [
    {
     "name": "stdout",
     "output_type": "stream",
     "text": [
      "17.9 ms ± 682 µs per loop (mean ± std. dev. of 7 runs, 100 loops each)\n"
     ]
    }
   ],
   "source": [
    "%%timeit\n",
    "associates_df.groupby('HAM_TEAM_NAME_H').agg(Count=('HAM_TEAM_NAME_H', 'count'))"
   ]
  },
  {
   "cell_type": "markdown",
   "metadata": {},
   "source": [
    "**Amazing, even though the pandas dataframe is in memory, it is still slower than ibis, which is computing the value counts at the database.**"
   ]
  },
  {
   "cell_type": "markdown",
   "metadata": {},
   "source": [
    "#### Let's compare timings of their group by aggregation"
   ]
  },
  {
   "cell_type": "code",
   "execution_count": 15,
   "metadata": {},
   "outputs": [
    {
     "name": "stdout",
     "output_type": "stream",
     "text": [
      "607 µs ± 41 µs per loop (mean ± std. dev. of 7 runs, 1000 loops each)\n"
     ]
    }
   ],
   "source": [
    "%%timeit\n",
    "(associates.group_by('HAM_TEAM_NAME_H')\n",
    "           .aggregate(associates['HAM_TEAM_NAME_H']\n",
    "           .count().name('Count'))\n",
    "           .sort_by(('Count', False))\n",
    ")"
   ]
  },
  {
   "cell_type": "code",
   "execution_count": 16,
   "metadata": {},
   "outputs": [
    {
     "name": "stdout",
     "output_type": "stream",
     "text": [
      "17.6 ms ± 679 µs per loop (mean ± std. dev. of 7 runs, 100 loops each)\n"
     ]
    }
   ],
   "source": [
    "%%timeit\n",
    "(associates_df.groupby('HAM_TEAM_NAME_H')\n",
    "              .agg(Count=('HAM_TEAM_NAME_H', 'count'))\n",
    "              .sort_values('Count', ascending=False)\n",
    ")"
   ]
  },
  {
   "cell_type": "markdown",
   "metadata": {},
   "source": [
    "#### Again, ibis is substantially outperforming pandas"
   ]
  },
  {
   "cell_type": "markdown",
   "metadata": {},
   "source": [
    "## Data Munging with ibis"
   ]
  },
  {
   "cell_type": "markdown",
   "metadata": {},
   "source": [
    "Going back to our associates data, let's do some more advance filtering"
   ]
  },
  {
   "cell_type": "markdown",
   "metadata": {},
   "source": [
    "#### Boolean Filtering"
   ]
  },
  {
   "cell_type": "markdown",
   "metadata": {},
   "source": [
    "Our associates table consists not just active associates, but also associates who have retired or were terminated."
   ]
  },
  {
   "cell_type": "markdown",
   "metadata": {},
   "source": [
    "Let's confirm using the `EMPL_ST_DESC` column"
   ]
  },
  {
   "cell_type": "code",
   "execution_count": 17,
   "metadata": {},
   "outputs": [
    {
     "data": {
      "text/plain": [
       "0        Active\n",
       "1      Deceased\n",
       "2       Retired\n",
       "3    Terminated\n",
       "Name: EMPL_ST_DESCR, dtype: object"
      ]
     },
     "execution_count": 17,
     "metadata": {},
     "output_type": "execute_result"
    }
   ],
   "source": [
    "associates.EMPL_ST_DESCR.distinct()"
   ]
  },
  {
   "cell_type": "code",
   "execution_count": 18,
   "metadata": {},
   "outputs": [
    {
     "data": {
      "text/plain": [
       "  EMPL_ST_DESCR  count\n",
       "0        Active   9958\n",
       "1      Deceased    480\n",
       "2       Retired   6164\n",
       "3    Terminated  14908"
      ]
     },
     "execution_count": 18,
     "metadata": {},
     "output_type": "execute_result"
    }
   ],
   "source": [
    "associates.EMPL_ST_DESCR.value_counts()"
   ]
  },
  {
   "cell_type": "markdown",
   "metadata": {},
   "source": [
    "#### Let's build criteria to include only active Honda associates and exclude those in 'Default' or 'NOT FOUND' divisions"
   ]
  },
  {
   "cell_type": "markdown",
   "metadata": {},
   "source": [
    "To compose boolean expressions with `AND` or `OR`, use the respective `&` and `|` operators.  For set operations, we can use `.isin()` or `.notin()` methods"
   ]
  },
  {
   "cell_type": "code",
   "execution_count": 19,
   "metadata": {},
   "outputs": [],
   "source": [
    "criteria1 = associates['EMPL_ST_DESCR'] == 'Active'\n",
    "criteria2 = associates['HAM_TEAM_NAME_H'].notin(['Default','NOT FOUND'])"
   ]
  },
  {
   "cell_type": "code",
   "execution_count": 20,
   "metadata": {},
   "outputs": [
    {
     "data": {
      "text/plain": [
       "                   HAM_TEAM_NAME_H  count\n",
       "0       AEP Manufacturing Division   2284\n",
       "1                       ELP Line 3   2112\n",
       "2                       MAP Line 2   1513\n",
       "3                       MAP Line 1   1475\n",
       "4             HAM Quality Division    543\n",
       "5                       Purchasing    425\n",
       "6          Supply Chain Management    272\n",
       "7   Human Resource & Corp Services    245\n",
       "8      AEP Mfg, Planning & Control    196\n",
       "9              NA Quality Division    172\n",
       "10     MAP Mfg, Planning & Control    171\n",
       "11     Manufacturing Tech Division    111\n",
       "12     ELP Mfg, Planning & Control     96\n",
       "13              New Model Strategy     82\n",
       "14  Performance Manufacturing Cntr     75\n",
       "15                      Accounting     49\n",
       "16    Planning & Strategy Division     47\n",
       "17     Med Inactive Transition Div     41\n",
       "18  Alternative Job Assignment Div     10\n",
       "19          Company Staff Division     10"
      ]
     },
     "execution_count": 20,
     "metadata": {},
     "output_type": "execute_result"
    }
   ],
   "source": [
    "associates.filter(criteria1 & criteria2)['HAM_TEAM_NAME_H'].value_counts().sort_by(('count', False))"
   ]
  },
  {
   "cell_type": "markdown",
   "metadata": {},
   "source": [
    "#### ibis has `cumsum()` function that we can use"
   ]
  },
  {
   "cell_type": "code",
   "execution_count": 22,
   "metadata": {},
   "outputs": [],
   "source": [
    "counts = (associates.group_by('HAM_TEAM_NAME_H')\n",
    "           .aggregate(associates['HAM_TEAM_NAME_H']\n",
    "           .count().name('Count'))\n",
    "           .sort_by(('Count', False))\n",
    ")"
   ]
  },
  {
   "cell_type": "code",
   "execution_count": 78,
   "metadata": {},
   "outputs": [
    {
     "data": {
      "text/plain": [
       "                   HAM_TEAM_NAME_H\n",
       "0                       MAP Line 1\n",
       "1       AEP Manufacturing Division\n",
       "2                       ELP Line 3\n",
       "3                        NOT FOUND\n",
       "4                       MAP Line 2\n",
       "5             HAM Quality Division\n",
       "6                       Purchasing\n",
       "7      Med Inactive Transition Div\n",
       "8   Human Resource & Corp Services\n",
       "9          Administration Division\n",
       "10                         Default\n",
       "11     Inactive HAM Purchasing Div\n",
       "12     AEP Mfg, Planning & Control\n",
       "13         Supply Chain Management\n",
       "14    Planning & Strategy Division\n",
       "15             NA Quality Division\n",
       "16     MAP Mfg, Planning & Control\n",
       "17     ELP Mfg, Planning & Control\n",
       "18     Manufacturing Tech Division\n",
       "19              New Model Strategy\n",
       "20  Performance Manufacturing Cntr\n",
       "21  Inactive Contract Services Div\n",
       "22                      Accounting\n",
       "23          Company Staff Division\n",
       "24  Alternative Job Assignment Div\n",
       "25  Gov, Risk, Compliance & Ethics\n",
       "26   Inactive HNAS - Company Staff"
      ]
     },
     "execution_count": 78,
     "metadata": {},
     "output_type": "execute_result"
    }
   ],
   "source": [
    "counts[['HAM_TEAM_NAME_H']]"
   ]
  },
  {
   "cell_type": "code",
   "execution_count": 72,
   "metadata": {},
   "outputs": [
    {
     "data": {
      "text/plain": [
       "                   HAM_TEAM_NAME_H  Count  CUM_COUNT\n",
       "0                       MAP Line 1   6587       6587\n",
       "1       AEP Manufacturing Division   5259      11846\n",
       "2                       ELP Line 3   5098      16944\n",
       "3                        NOT FOUND   4364      21308\n",
       "4                       MAP Line 2   2061      23369\n",
       "5             HAM Quality Division   1397      24766\n",
       "6                       Purchasing   1375      26141\n",
       "7      Med Inactive Transition Div    851      26992\n",
       "8   Human Resource & Corp Services    606      27598\n",
       "9          Administration Division    495      28093\n",
       "10                         Default    488      28581\n",
       "11     Inactive HAM Purchasing Div    483      29064\n",
       "12     AEP Mfg, Planning & Control    429      29493\n",
       "13         Supply Chain Management    347      29840\n",
       "14    Planning & Strategy Division    290      30130\n",
       "15             NA Quality Division    257      30387\n",
       "16     MAP Mfg, Planning & Control    220      30607\n",
       "17     ELP Mfg, Planning & Control    193      30800\n",
       "18     Manufacturing Tech Division    179      30979\n",
       "19              New Model Strategy    175      31154\n",
       "20  Performance Manufacturing Cntr    128      31282\n",
       "21  Inactive Contract Services Div     76      31358\n",
       "22                      Accounting     69      31427\n",
       "23          Company Staff Division     37      31464\n",
       "24  Alternative Job Assignment Div     37      31501\n",
       "25  Gov, Risk, Compliance & Ethics      8      31509\n",
       "26   Inactive HNAS - Company Staff      1      31510"
      ]
     },
     "execution_count": 72,
     "metadata": {},
     "output_type": "execute_result"
    }
   ],
   "source": [
    "counts.mutate(CUM_COUNT=counts['Count'].cumsum())"
   ]
  },
  {
   "cell_type": "markdown",
   "metadata": {},
   "source": [
    "#### Now, let's create a table of just active associates"
   ]
  },
  {
   "cell_type": "code",
   "execution_count": 46,
   "metadata": {},
   "outputs": [],
   "source": [
    "active = associates.filter(criteria1 & criteria2)"
   ]
  },
  {
   "cell_type": "code",
   "execution_count": 47,
   "metadata": {},
   "outputs": [
    {
     "data": {
      "text/plain": [
       "9929"
      ]
     },
     "execution_count": 47,
     "metadata": {},
     "output_type": "execute_result"
    }
   ],
   "source": [
    "active.count()"
   ]
  },
  {
   "cell_type": "markdown",
   "metadata": {},
   "source": [
    "#### Let's join `active` table with table containing associates locker info"
   ]
  },
  {
   "cell_type": "code",
   "execution_count": 48,
   "metadata": {},
   "outputs": [],
   "source": [
    "lockers = conn.table('associate_locker')"
   ]
  },
  {
   "cell_type": "code",
   "execution_count": 49,
   "metadata": {},
   "outputs": [
    {
     "data": {
      "text/plain": [
       "       OPRID MMP Locker\n",
       "0    MA15790     598 MU\n",
       "1    MA05124     724 MU\n",
       "2   VC044874     626 MU\n",
       "3   VC090507      586MU\n",
       "4   VC028053     578 MU\n",
       "5   VC044020    79 MU-F\n",
       "6   VC044888     659 MU\n",
       "7    MA13771     582 MU\n",
       "8   VC035337     775 MU\n",
       "9    MA15332     656 MU\n",
       "10  VC041321   161 MU-F\n",
       "11  VC021160     628 MU\n",
       "12   MM00873     646 MU\n",
       "13  VC036556     619 MU\n",
       "14   MA17558     641 MU\n",
       "15  VC046908     959 MU\n",
       "16  VC043333     700 MU\n",
       "17  VC045094     728 MU\n",
       "18  VC044114    26 MU-F\n",
       "19   MM15158    41 MU-F\n",
       "20  VC041630   151 MU-F\n",
       "21  VC041632   150 MU-F\n",
       "22  VC037914    16 MU-F\n",
       "23  VC044120     676 MU\n",
       "24  VC041877     695 MU\n",
       "25  VC044177    no need\n",
       "26  VC037294     640 MU\n",
       "27   MA13808    46 MU-F\n",
       "28   MT17423     618 MU\n",
       "29  VC044264     577 MU\n",
       "30  VC043334    no need\n",
       "31  VC043568    81 MU-F\n",
       "32   MA17411     649 MU\n",
       "33  VC043336    no need\n",
       "34  VC044806    no need\n",
       "35  VC044696     608 MU\n",
       "36  VC046734     958 MU\n",
       "37   MA16397     699 MU\n",
       "38  VC039909    88 MU-F\n",
       "39  VC006078     MU 621\n",
       "40   MT16369    45 MU-F\n",
       "41  VC038202     731 MU\n",
       "42  VC037558    56 MU-F\n",
       "43  VC043557       None\n",
       "44   MM17428     672 MU\n",
       "45  VC037401     620 MU\n",
       "46  VC039605    43 MU-F\n",
       "47  VC041672     MU 661\n",
       "48   MA00849     558 MU\n",
       "49   MA15087     603 MU\n",
       "50   MM14868     721 MU\n",
       "51   MN08807    42 MU-F\n",
       "52  VC043204      653MU\n",
       "53  VC037527       None\n",
       "54   MA05163     727 MU\n",
       "55   MA05181   111 MU-F\n",
       "56  VC037337       None\n",
       "57   MA12584    55 MU-F\n",
       "58   MM12570    37 MU-F\n",
       "59   MT15365     710 MU\n",
       "60   MM26115     702 MU\n",
       "61  VC037430     613 MU\n",
       "62  VC038124    no need\n",
       "63   MM23602    40 MU-F\n",
       "64   MM17690     567 MU\n",
       "65   MM04775    36 MU-F\n",
       "66   MN08829      655MU\n",
       "67  VC036793     574 MU\n",
       "68  VC099817    no need\n",
       "69  VC041634    no need\n",
       "70   MM06517   101 MU-F\n",
       "71  VC034533    58 MU-F\n",
       "72  VC037092     652 MU\n",
       "73   CW05214     666 MU\n",
       "74   MA17151       XXXX"
      ]
     },
     "execution_count": 49,
     "metadata": {},
     "output_type": "execute_result"
    }
   ],
   "source": [
    "lockers"
   ]
  },
  {
   "cell_type": "markdown",
   "metadata": {},
   "source": [
    "#### Let's perform an INNER join"
   ]
  },
  {
   "cell_type": "code",
   "execution_count": 50,
   "metadata": {},
   "outputs": [],
   "source": [
    "inner_joined = active.inner_join(lockers, predicates=active['OPRID']==lockers['OPRID'])"
   ]
  },
  {
   "cell_type": "markdown",
   "metadata": {},
   "source": [
    "#### Let's define what columns to return"
   ]
  },
  {
   "cell_type": "code",
   "execution_count": null,
   "metadata": {},
   "outputs": [],
   "source": [
    "inner_joined[lockers, active['NAME']]"
   ]
  },
  {
   "cell_type": "markdown",
   "metadata": {},
   "source": [
    "#### To create a new column or modify an existing column, you would use the `mutate()` method"
   ]
  },
  {
   "cell_type": "markdown",
   "metadata": {},
   "source": [
    "Let's make the `name` column all upper case with the `upper()` method.  Here is a list of all available string [methods](http://ibis-project.org/docs/api.html#string-methods) in ibis."
   ]
  },
  {
   "cell_type": "code",
   "execution_count": null,
   "metadata": {},
   "outputs": [],
   "source": [
    "inner_joined[lockers, active['NAME']].mutate(NAME=active['NAME'].upper())"
   ]
  },
  {
   "cell_type": "markdown",
   "metadata": {},
   "source": [
    "#### Using regex to extract text from one column to create a new column"
   ]
  },
  {
   "cell_type": "code",
   "execution_count": 53,
   "metadata": {},
   "outputs": [],
   "source": [
    "import re"
   ]
  },
  {
   "cell_type": "code",
   "execution_count": 54,
   "metadata": {},
   "outputs": [],
   "source": [
    "pattern = \"^[^,]+\"  # match one or more characters from beginning of string until the comma, but exclude comma"
   ]
  },
  {
   "cell_type": "markdown",
   "metadata": {},
   "source": [
    "Extract last name from `NAME` column and create new column called `LAST_NAME` with it"
   ]
  },
  {
   "cell_type": "code",
   "execution_count": 55,
   "metadata": {},
   "outputs": [],
   "source": [
    "lastnames = associates.mutate(LAST_NAME=associates['NAME'].re_extract(pattern, 0))['LAST_NAME','NAME']"
   ]
  },
  {
   "cell_type": "code",
   "execution_count": null,
   "metadata": {},
   "outputs": [],
   "source": [
    "lastnames"
   ]
  },
  {
   "cell_type": "markdown",
   "metadata": {},
   "source": [
    "#### Using SQL's `LIKE`"
   ]
  },
  {
   "cell_type": "code",
   "execution_count": null,
   "metadata": {},
   "outputs": [],
   "source": [
    "associates.filter(associates['NAME'].like('Smouse%'))"
   ]
  },
  {
   "cell_type": "markdown",
   "metadata": {},
   "source": [
    "#### Obtaining date objects"
   ]
  },
  {
   "cell_type": "code",
   "execution_count": 67,
   "metadata": {},
   "outputs": [
    {
     "data": {
      "text/plain": [
       "0        9\n",
       "1       17\n",
       "2       30\n",
       "3        2\n",
       "4        4\n",
       "        ..\n",
       "9995    28\n",
       "9996    15\n",
       "9997     1\n",
       "9998     1\n",
       "9999    15\n",
       "Name: tmp, Length: 10000, dtype: int32"
      ]
     },
     "execution_count": 67,
     "metadata": {},
     "output_type": "execute_result"
    }
   ],
   "source": [
    "associates['EFFDT'].day()"
   ]
  },
  {
   "cell_type": "code",
   "execution_count": 68,
   "metadata": {},
   "outputs": [
    {
     "data": {
      "text/plain": [
       "0        5\n",
       "1        8\n",
       "2       11\n",
       "3       12\n",
       "4        1\n",
       "        ..\n",
       "9995     5\n",
       "9996     1\n",
       "9997     3\n",
       "9998     3\n",
       "9999     6\n",
       "Name: tmp, Length: 10000, dtype: int32"
      ]
     },
     "execution_count": 68,
     "metadata": {},
     "output_type": "execute_result"
    }
   ],
   "source": [
    "associates['EFFDT'].month()"
   ]
  },
  {
   "cell_type": "code",
   "execution_count": 69,
   "metadata": {},
   "outputs": [
    {
     "data": {
      "text/plain": [
       "0       1980\n",
       "1       1979\n",
       "2       1992\n",
       "3       2002\n",
       "4       1993\n",
       "        ... \n",
       "9995    2004\n",
       "9996    2014\n",
       "9997    2019\n",
       "9998    2014\n",
       "9999    1990\n",
       "Name: tmp, Length: 10000, dtype: int32"
      ]
     },
     "execution_count": 69,
     "metadata": {},
     "output_type": "execute_result"
    }
   ],
   "source": [
    "associates['EFFDT'].year()"
   ]
  },
  {
   "cell_type": "code",
   "execution_count": 66,
   "metadata": {},
   "outputs": [
    {
     "data": {
      "text/plain": [
       "0          Friday\n",
       "1          Friday\n",
       "2          Monday\n",
       "3          Monday\n",
       "4          Monday\n",
       "          ...    \n",
       "9995       Friday\n",
       "9996    Wednesday\n",
       "9997       Friday\n",
       "9998     Saturday\n",
       "9999       Friday\n",
       "Name: tmp, Length: 10000, dtype: object"
      ]
     },
     "execution_count": 66,
     "metadata": {},
     "output_type": "execute_result"
    }
   ],
   "source": [
    "associates['EFFDT'].day_of_week.full_name()"
   ]
  }
 ],
 "metadata": {
  "kernelspec": {
   "display_name": "Py3.9 (data_eval)",
   "language": "python",
   "name": "data_eval"
  },
  "language_info": {
   "codemirror_mode": {
    "name": "ipython",
    "version": 3
   },
   "file_extension": ".py",
   "mimetype": "text/x-python",
   "name": "python",
   "nbconvert_exporter": "python",
   "pygments_lexer": "ipython3",
   "version": "3.9.8"
  },
  "widgets": {
   "application/vnd.jupyter.widget-state+json": {
    "state": {},
    "version_major": 2,
    "version_minor": 0
   }
  }
 },
 "nbformat": 4,
 "nbformat_minor": 4
}
