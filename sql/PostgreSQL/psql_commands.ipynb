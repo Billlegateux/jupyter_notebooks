{
 "cells": [
  {
   "cell_type": "markdown",
   "metadata": {},
   "source": [
    "# psql commands - these are commands you issue at the psql prompt"
   ]
  },
  {
   "cell_type": "markdown",
   "metadata": {},
   "source": [
    "psql [documentation](https://www.postgresql.org/docs/11/app-psql.html) - you want to look at the \"Meta-Commands\""
   ]
  },
  {
   "cell_type": "markdown",
   "metadata": {},
   "source": [
    "You can enter the psql prompt or psql interactive mode by entering the following at your Linux terminal:<br>\n",
    "sudo -u your_username psql database_name"
   ]
  },
  {
   "cell_type": "markdown",
   "metadata": {},
   "source": [
    "### Meta-Commands"
   ]
  },
  {
   "cell_type": "markdown",
   "metadata": {},
   "source": [
    "- **Switch or connect to another database:** \\c ```database_name``` or \\connect ```database_name```\n",
    "- **Set password for a specific database:** \\password ```database_name```\n",
    "- **Export table as csv file:** copy ```table_name``` TO ```'path_to_folder/file.txt'``` WITH (FORMAT CSV, HEADER, DELIMITER '|');\n",
    "- **Import csv into database:** copy ```table_name``` FROM ```'path_to_folder/file.txt'``` WITH (FORMAT CSV, HEADER);\n",
    "- Can duplicate copy command with Python pyscopg2 library - see this StackOverflow [example](https://stackoverflow.com/questions/17559300/copy-command-with-psycopg2-library)\n",
    "- **Get connection info:** \\conninfo\n",
    "- **List of databases:** \\list\n",
    "- **List of tables:** \\dt"
   ]
  }
 ],
 "metadata": {
  "hide_input": false,
  "kernelspec": {
   "display_name": "Python 3",
   "language": "python",
   "name": "python3"
  },
  "language_info": {
   "codemirror_mode": {
    "name": "ipython",
    "version": 3
   },
   "file_extension": ".py",
   "mimetype": "text/x-python",
   "name": "python",
   "nbconvert_exporter": "python",
   "pygments_lexer": "ipython3",
   "version": "3.7.3"
  }
 },
 "nbformat": 4,
 "nbformat_minor": 2
}
