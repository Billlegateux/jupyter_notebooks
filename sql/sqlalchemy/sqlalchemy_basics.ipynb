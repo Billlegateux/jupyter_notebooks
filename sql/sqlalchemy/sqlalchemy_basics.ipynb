{
 "cells": [
  {
   "cell_type": "markdown",
   "metadata": {},
   "source": [
    "### SQL Alchemy is Python's ORM (Object Relational Mapping) Library"
   ]
  },
  {
   "cell_type": "markdown",
   "metadata": {},
   "source": [
    "[Reference #1](https://docs.sqlalchemy.org/en/13/core/metadata.html?highlight=sqlalchemy%20sql%20schema%20table#sqlalchemy.schema.Table)\n",
    "[Reference #2](https://www.pythonsheets.com/notes/python-sqlalchemy.html)"
   ]
  },
  {
   "cell_type": "code",
   "execution_count": 1,
   "metadata": {},
   "outputs": [],
   "source": [
    "from sqlalchemy import create_engine\n",
    "from sqlalchemy import inspect\n",
    "from sqlalchemy import MetaData\n",
    "from sqlalchemy import select\n",
    "from sqlalchemy import Table\n",
    "from sqlalchemy.orm import sessionmaker\n",
    "import os\n",
    "import pprint"
   ]
  },
  {
   "cell_type": "markdown",
   "metadata": {},
   "source": [
    "### Working with Existing Database"
   ]
  },
  {
   "cell_type": "code",
   "execution_count": 2,
   "metadata": {},
   "outputs": [],
   "source": [
    "username = os.environ['windowsuser']\n",
    "pwd = os.environ['windowspwd']\n",
    "server = 'VCLO49529.am.mds.honda.com'\n",
    "port = '5432'\n",
    "database = 'techtribes'"
   ]
  },
  {
   "cell_type": "code",
   "execution_count": 3,
   "metadata": {},
   "outputs": [],
   "source": [
    "engine = create_engine(f'postgresql://{username}:{pwd}@{server}:{port}/{database}')"
   ]
  },
  {
   "cell_type": "code",
   "execution_count": 4,
   "metadata": {},
   "outputs": [],
   "source": [
    "inspector = inspect(engine)"
   ]
  },
  {
   "cell_type": "code",
   "execution_count": 5,
   "metadata": {},
   "outputs": [
    {
     "name": "stdout",
     "output_type": "stream",
     "text": [
      "['basic_member_info', 'lab_visitors_log', 'think_tank_metrics']\n"
     ]
    }
   ],
   "source": [
    "print(inspector.get_table_names())"
   ]
  },
  {
   "cell_type": "markdown",
   "metadata": {},
   "source": [
    "### Create metadata object"
   ]
  },
  {
   "cell_type": "code",
   "execution_count": 6,
   "metadata": {},
   "outputs": [
    {
     "name": "stdout",
     "output_type": "stream",
     "text": [
      "{'basic_member_info': Table('basic_member_info', MetaData(bind=None), Column('first_name', VARCHAR(length=20), table=<basic_member_info>), Column('last_name', VARCHAR(length=20), table=<basic_member_info>), Column('hondaweb_id', VARCHAR(length=20), table=<basic_member_info>, primary_key=True, nullable=False), Column('hondaweb_url', VARCHAR(length=250), table=<basic_member_info>), Column('is_ahm', VARCHAR(length=3), table=<basic_member_info>), schema=None),\n",
      " 'lab_visitors_log': Table('lab_visitors_log', MetaData(bind=None), Column('When', TIMESTAMP(), table=<lab_visitors_log>), Column('Location', TEXT(), table=<lab_visitors_log>), Column('Who_Came_For_Help', TEXT(), table=<lab_visitors_log>), Column('Who_Helped', TEXT(), table=<lab_visitors_log>), Column('What', TEXT(), table=<lab_visitors_log>), Column('Resolution', TEXT(), table=<lab_visitors_log>), Column('Tags', TEXT(), table=<lab_visitors_log>), schema=None),\n",
      " 'think_tank_metrics': Table('think_tank_metrics', MetaData(bind=None), Column('UseCaseName', TEXT(), table=<think_tank_metrics>), Column('UseCasePersona', TEXT(), table=<think_tank_metrics>), Column('AssociateName', TEXT(), table=<think_tank_metrics>), Column('Company', TEXT(), table=<think_tank_metrics>), Column('Division', TEXT(), table=<think_tank_metrics>), Column('Group', TEXT(), table=<think_tank_metrics>), Column('Technical Keywords', TEXT(), table=<think_tank_metrics>), Column('Business Keywords', TEXT(), table=<think_tank_metrics>), Column('Date', TEXT(), table=<think_tank_metrics>), schema=None)}\n"
     ]
    }
   ],
   "source": [
    "metadata = MetaData()\n",
    "metadata.reflect(bind=engine)\n",
    "pprint.pprint(metadata.tables)"
   ]
  },
  {
   "cell_type": "markdown",
   "metadata": {},
   "source": [
    "### Create table object"
   ]
  },
  {
   "cell_type": "code",
   "execution_count": 7,
   "metadata": {},
   "outputs": [],
   "source": [
    "lab_log = metadata.tables['lab_visitors_log']"
   ]
  },
  {
   "cell_type": "code",
   "execution_count": 8,
   "metadata": {},
   "outputs": [
    {
     "data": {
      "text/plain": [
       "['When',\n",
       " 'Location',\n",
       " 'Who_Came_For_Help',\n",
       " 'Who_Helped',\n",
       " 'What',\n",
       " 'Resolution',\n",
       " 'Tags']"
      ]
     },
     "execution_count": 8,
     "metadata": {},
     "output_type": "execute_result"
    }
   ],
   "source": [
    "lab_log.columns.keys()"
   ]
  },
  {
   "cell_type": "markdown",
   "metadata": {},
   "source": [
    "### Create a session and then query"
   ]
  },
  {
   "cell_type": "markdown",
   "metadata": {},
   "source": [
    "[Reference #1](https://docs.sqlalchemy.org/en/13/core/metadata.html?highlight=sqlalchemy%20sql%20schema%20table#sqlalchemy.schema.Table)\n",
    "[Reference #2](https://www.pythonsheets.com/notes/python-sqlalchemy.html)"
   ]
  },
  {
   "cell_type": "code",
   "execution_count": 9,
   "metadata": {},
   "outputs": [],
   "source": [
    "Session = sessionmaker(bind=engine)\n",
    "session = Session()"
   ]
  },
  {
   "cell_type": "markdown",
   "metadata": {},
   "source": [
    "#### Can query using ```filter_by():```"
   ]
  },
  {
   "cell_type": "code",
   "execution_count": 10,
   "metadata": {},
   "outputs": [],
   "source": [
    "query = session.query(lab_log).filter_by(Who_Helped='Dan Dafler')"
   ]
  },
  {
   "cell_type": "markdown",
   "metadata": {},
   "source": [
    "#### Can also query using ```filter():```"
   ]
  },
  {
   "cell_type": "code",
   "execution_count": 30,
   "metadata": {},
   "outputs": [
    {
     "data": {
      "text/plain": [
       "(datetime.datetime(2019, 1, 18, 0, 0),\n",
       " 'MMC',\n",
       " 'Ryan Smith',\n",
       " 'Dan Dafler, Han Zou, Lyndsay Rush, Miguel Miranda, Ryan Smith',\n",
       " 'Monthly report works, runs slower now than implementation; many external links',\n",
       " None,\n",
       " 'Pandas')"
      ]
     },
     "execution_count": 30,
     "metadata": {},
     "output_type": "execute_result"
    }
   ],
   "source": [
    "session.query(lab_log).filter(lab_log.columns.Who_Helped.like('%Dan%')).first()"
   ]
  },
  {
   "cell_type": "code",
   "execution_count": 33,
   "metadata": {},
   "outputs": [
    {
     "name": "stdout",
     "output_type": "stream",
     "text": [
      "(datetime.datetime(2019, 1, 18, 0, 0), 'MMC', 'Ryan Smith', 'Dan Dafler, Han Zou, Lyndsay Rush, Miguel Miranda, Ryan Smith', 'Monthly report works, runs slower now than implementation; many external links', None, 'Pandas')\n",
      "(datetime.datetime(2019, 1, 18, 0, 0), 'MMC', 'Bob Keating', 'Dan Dafler, Han Zou, Lyndsay Rush, Miguel Miranda, Ryan Smith', 'Losing It team tracking sheet', 'UserForms', 'Excel VBA')\n",
      "(datetime.datetime(2019, 3, 29, 0, 0), 'MMC', 'Catherine Doran', 'Lyndsay Rush, Dan Dafler', 'Excel radar chart formatting', None, 'Excel')\n",
      "(datetime.datetime(2019, 3, 29, 0, 0), 'MMC', 'Han Zou', 'Lyndsay Rush,\\xa0Dan Dafler', 'How to set up RSA - not available in HondaWeb', None, 'ITSM')\n",
      "(datetime.datetime(2019, 5, 3, 0, 0), 'MMC', 'Catherine Doran', 'Dan Dafler, Ryan Smith', 'Real-time data for team to use in supplier discussions', None, 'Business Objects')\n",
      "(datetime.datetime(2019, 5, 10, 0, 0), 'MMC', 'Catherine Doran, Ken Winkle', 'Dan Dafler, Ryan Smith, Miguel Miranda', 'Real-time data for team to use in supplier discussions', None, 'Business Objects')\n",
      "(datetime.datetime(2019, 5, 31, 0, 0), 'MMC', 'Mike Ramsey', 'Dan Dafler, Han Zou', 'Presentation to explain SQL to potential SQL students', None, 'SQL')\n",
      "(datetime.datetime(2019, 6, 28, 0, 0), 'MMC', 'Vince Taglione', 'Lyndsay Rush, Dan Dafler, Miguel Miranda', 'Cannot access functions of old Hondaweb (SQM, etc.)', 'submit for access', 'HESR')\n",
      "(datetime.datetime(2019, 8, 9, 0, 0), 'MMC', 'Scott Levan', 'Ryan Smith, Chuan Baker, Miguel Miranda, Dan Dafler', 'Reserving PWG resources via Outlook (Double booking of resources is a problem today).', None, 'Outlook')\n",
      "(datetime.datetime(2019, 8, 15, 0, 0), 'MMC', 'Bob Keating', 'Miguel Miranda, Dan Dafler', 'Trying to create a new central certification SharePoint site similar to existing color SharePoint site. Questions about updating URLs and creating new document library metadata fields.', 'Add custom SharePoint document library fields.', 'SharePoint')\n",
      "(datetime.datetime(2019, 8, 23, 0, 0), 'MMC', 'Yuko Hamlett', 'Ryan Smith, Chuan Baker, Miguel Miranda, Dan Dafler', 'Within Microsoft Office (Excel?), whenever use the send to email option, Lotus Notes keeps coming up instead of Microsoft Outlook.', None, 'Excel')\n",
      "(datetime.datetime(2019, 8, 30, 0, 0), 'MMC', 'Catherine Doran, Mickey Michael', 'Ryan Smith, Chuan Baker, Dan Dafler', 'Need to create some new GQI/Arank reports within Microsoft Excel.', 'Demonstrated power of Tableau including TMM Report implementation.', 'Excel')\n",
      "(datetime.datetime(2019, 9, 6, 0, 0), 'MMC', 'Mickey Michael', 'Dan Dafler', 'Wanted assistance with creating Excel timelines.', \"Implemented Excel timeline with some of Mickey's data.\", 'Excel')\n",
      "(datetime.datetime(2019, 9, 20, 0, 0), 'MMC', 'Ryan Smith', 'Ryan Smith, Chuan Baker, Mike Ramsey, Dan Dafler', 'Trying to use dbeaver with microsoft access color database; Microsoft access color database has some unexpected data formatting that is causing issues.', 'Need to perform some table joins in relation to multiple tables within the access database.', 'dbeaver, SQL')\n",
      "(datetime.datetime(2019, 9, 20, 0, 0), 'MMC', 'Yuko Hamlett', 'Ryan Smith, Mike Ramsey, Dan Dafler', 'Confirming needed access to Tableau and Tableau report originally created by Ryan Smith.', \"Confirmed Yuko's access, demonstrated to her how to make changes to report, and pointed Yuko to available HLC training.\", 'Tableau')\n",
      "(datetime.datetime(2019, 9, 25, 0, 0), 'HSO', 'Rick Carlise', 'Daniel Kim', 'Help with automating file creation in a network share drive', None, 'python')\n",
      "(datetime.datetime(2019, 9, 25, 0, 0), 'HSO', 'Bobby Miller', 'Daniel Kim', 'Help with getting started with Python', None, 'python')\n",
      "(datetime.datetime(2019, 9, 27, 0, 0), 'MMC', 'Tony Mariucci', 'Dan Dafler', 'Talk regarding Tableau top 10 dashboards for supplier aranks, downtime, units to repair, and index.', 'Talk regarding Tableau top 10 dashboards for supplier aranks, downtime, units to repair, and index.', 'Tableau')\n",
      "(datetime.datetime(2019, 10, 1, 0, 0), 'MMC', 'Ken Winkle', 'Dan Dafler', 'Business Objects/Intelligence training', 'Business Objects/Intelligence training', 'Business Objects')\n",
      "(datetime.datetime(2019, 10, 2, 0, 0), 'HSO', 'Ian Colquhoun', 'Daniel Kim', 'Help with duplicating his Python environment with others so they can take advantage of his Excel automation script', None, 'python, excel')\n",
      "(datetime.datetime(2019, 10, 2, 0, 0), 'HSO', 'Askia Toure', 'Daniel Kim', 'Help with getting started with R, RStudio IDE, and SQL', None, 'R,\\xa0rstudio, SQL')\n",
      "(datetime.datetime(2019, 10, 4, 0, 0), 'MMC', 'Fallon Beveridge, Scott Shearer', 'Mike Ramsey, Ryan Smith, Dan Dafler', 'Excel macros', 'Excel Macros', 'Excel VBA')\n",
      "(datetime.datetime(2019, 10, 8, 0, 0), 'MMC', 'Yuko Hamlett', 'Dan Dafler', 'When send emails to suppliers, get numerous outlook undeliverable responses. Associates then has to take those undeliverable responses, and for each one, look up a new supplier contact to send the email to. Would like an improved way to get a summary of email undeliverable responses and mass pull replacement supplier contact information.', 'TBD - started exploring Excel, Excel VBA, and Microsoft Outlook functionality.', 'Outlook')\n",
      "(datetime.datetime(2019, 10, 25, 0, 0), 'HSO', 'Ian Colquhoun', 'Daniel Kim', 'Excel pivot tables and visualizations', None, 'Excel')\n",
      "(datetime.datetime(2019, 10, 25, 0, 0), 'MMC', 'Ian Colquhoun', 'Daniel Kim, Ryan Smith, Dan Dafler', 'Flex Inspection CRV Reporting currently in Microsoft Excel (Having forms and VBA). Too complicated and time consuming to maintain the addition of new charts. Also, some performance issues with the spreadsheet.', 'Solution to use Pivot tables/charts based off of the raw data. Solution also to add a VBA button to handle the performance issues caused by increasing countif functions.', 'Excel VBA')\n",
      "(datetime.datetime(2019, 11, 1, 0, 0), 'MMC', 'Tony Mariucci', 'Miguel Miranda, Dan Dafler', 'Microsoft Excel filter by cell color appears to not be working in relation to specific scenario.', 'Confirmed Excel filter by color working for specific scenario and that non matching entries were getting hidden. Demonstrated how to copy data without including the filtered out values.', 'Excel')\n",
      "(datetime.datetime(2019, 11, 8, 0, 0), 'HSO', 'Ian Colquhoun', 'Daniel Kim', 'Help with Excel pivot tables', None, 'Excel')\n",
      "(datetime.datetime(2019, 11, 8, 0, 0), 'MMC', 'Ian Colquhoun', 'Daniel Kim', 'Flex Inspection CRV Reporting currently in Microsoft Excel (Having forms and VBA). Too complicated and time consuming to maintain the addition of new charts. Also, some performance issues with the spreadsheet.', 'Help with Excel pivot tables', 'Excel VBA')\n",
      "(datetime.datetime(2019, 11, 8, 0, 0), 'MMC', 'Fallon Beveridge', 'Ryan Smith, Dan Dafler, Chuan Baker, Miguel Miranda', 'Adding functionality and improving performance of an existing Excel Macro.', 'Modified Excel VBA Macro', 'Excel VBA')\n",
      "(datetime.datetime(2019, 11, 22, 0, 0), 'MMC', 'Bob Keating', 'Dan Dafler, Ryan Smith, Chuan Baker, Miguel Miranda', 'Have an Excel file that is not filtering as expected.', \"Excel spreadsheet had a formatted table and added column wasn't included in the formatted table; solution was to include the added column in the formatted table.\", 'Excel')\n",
      "(datetime.datetime(2019, 11, 22, 0, 0), 'MMC', 'Fallon Beveridge', 'Ryan Smith, Dan Dafler, Chuan Baker, Miguel Miranda', 'Adding functionality and improving performance of an existing Excel Macro.', 'Modified Excel VBA Macro', 'Excel VBA')\n",
      "(datetime.datetime(2019, 10, 30, 0, 0), 'HSO', 'Stephen Francis', 'Lee Simon, Daniel Kim', 'Excel VBA and SQL', None, 'Excel VBA, SQL')\n",
      "(datetime.datetime(2019, 10, 16, 0, 0), 'HSO', 'Ryan P Miller', 'Daniel Kim', 'dbeaver, SQL\\xa0help', None, 'dbeaver, SQL')\n"
     ]
    }
   ],
   "source": [
    "for row in session.query(lab_log).filter(lab_log.columns.Who_Helped.like('%Dan%')).all():\n",
    "    print(row)"
   ]
  },
  {
   "cell_type": "markdown",
   "metadata": {},
   "source": [
    "### DELETE / Empty a table"
   ]
  },
  {
   "cell_type": "code",
   "execution_count": null,
   "metadata": {},
   "outputs": [],
   "source": [
    "with engine.connect() as conn:\n",
    "    del_stmt = lab_log.delete()\n",
    "    conn.execute(del_stmt)"
   ]
  },
  {
   "cell_type": "markdown",
   "metadata": {},
   "source": [
    "### DROP a table"
   ]
  },
  {
   "cell_type": "code",
   "execution_count": null,
   "metadata": {},
   "outputs": [],
   "source": [
    "lab_log.drop(engine)"
   ]
  }
 ],
 "metadata": {
  "hide_input": false,
  "kernelspec": {
   "display_name": "Python 3",
   "language": "python",
   "name": "python3"
  },
  "language_info": {
   "codemirror_mode": {
    "name": "ipython",
    "version": 3
   },
   "file_extension": ".py",
   "mimetype": "text/x-python",
   "name": "python",
   "nbconvert_exporter": "python",
   "pygments_lexer": "ipython3",
   "version": "3.7.3"
  },
  "varInspector": {
   "cols": {
    "lenName": 16,
    "lenType": 16,
    "lenVar": 40
   },
   "kernels_config": {
    "python": {
     "delete_cmd_postfix": "",
     "delete_cmd_prefix": "del ",
     "library": "var_list.py",
     "varRefreshCmd": "print(var_dic_list())"
    },
    "r": {
     "delete_cmd_postfix": ") ",
     "delete_cmd_prefix": "rm(",
     "library": "var_list.r",
     "varRefreshCmd": "cat(var_dic_list()) "
    }
   },
   "types_to_exclude": [
    "module",
    "function",
    "builtin_function_or_method",
    "instance",
    "_Feature"
   ],
   "window_display": false
  },
  "widgets": {
   "application/vnd.jupyter.widget-state+json": {
    "state": {},
    "version_major": 2,
    "version_minor": 0
   }
  }
 },
 "nbformat": 4,
 "nbformat_minor": 4
}
