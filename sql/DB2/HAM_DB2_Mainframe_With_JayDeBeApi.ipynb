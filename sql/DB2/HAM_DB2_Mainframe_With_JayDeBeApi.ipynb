{
 "cells": [
  {
   "cell_type": "markdown",
   "metadata": {},
   "source": [
    "# Connecting to DB2 Mainframe Server Using JayDeBeApi"
   ]
  },
  {
   "cell_type": "markdown",
   "metadata": {},
   "source": [
    "**GOAL:** Execute a query to run against mainframe DB2 server and return the results back as a pandas dataframe."
   ]
  },
  {
   "cell_type": "markdown",
   "metadata": {},
   "source": [
    "To work with mainframe DB2 with 64-bit Python, unfortunately, we must use a specific Java runtime environment version (JRE) that supports the timestamps used in the mainframe tables.  Otherwise, you will get a Java [error](https://stackoverflow.com/questions/36354899/unsupportedcharsetexception-cp1027-with-db2-jdbc-driver).  We also need to have JDBC driver (.jar)."
   ]
  },
  {
   "cell_type": "markdown",
   "metadata": {},
   "source": [
    "1. Unzip jre.zip file.  Set JAVA_HOME to the path where you unzipped the jre.zip file\n",
    "2. Add the path to the db2jcc4.jar file to the connect() method or add it to the CLASSPATH environment variable"
   ]
  },
  {
   "cell_type": "markdown",
   "metadata": {},
   "source": [
    "The db2jcc4.jar file can be downloaded from IBM's [site](https://www.ibm.com/support/pages/db2-jdbc-driver-versions-and-downloads).  However, the file will be compressed in a .tar file which Windows does not know how to unzip.  To unzip the .tar file, you will need to download or install the 7zip software.  Mainframe DB2 z/OS is currently version 10.5.  Contact Manabendra Datta to confirm version."
   ]
  },
  {
   "cell_type": "markdown",
   "metadata": {},
   "source": [
    "**UPDATE:** There is [issue](https://www.ibm.com/support/pages/db2-alias-name-behaviour-changes-latest-drivers-versions) with version JDBC drivers >= 4 where column name alias are not being utilized, but return the actual column name instead.  The fix is to append ```:useJDBC4ColumnNameAndLabelSemantics=false;``` to the end of the connection string."
   ]
  },
  {
   "cell_type": "code",
   "execution_count": 2,
   "metadata": {},
   "outputs": [],
   "source": [
    "from getpass import getpass\n",
    "import jaydebeapi as jdba\n",
    "import pandas as pd"
   ]
  },
  {
   "cell_type": "markdown",
   "metadata": {},
   "source": [
    "#### Confirm ```JAVA_HOME``` was set:"
   ]
  },
  {
   "cell_type": "code",
   "execution_count": 3,
   "metadata": {},
   "outputs": [
    {
     "name": "stdout",
     "output_type": "stream",
     "text": [
      "JAVA_HOME=D:\\jdk1_8\n"
     ]
    }
   ],
   "source": [
    "!set JAVA_HOME"
   ]
  },
  {
   "cell_type": "markdown",
   "metadata": {},
   "source": [
    "#### Provide database credentials"
   ]
  },
  {
   "cell_type": "code",
   "execution_count": 4,
   "metadata": {},
   "outputs": [
    {
     "name": "stdin",
     "output_type": "stream",
     "text": [
      "Enter your DB2 user id:  ma17151\n",
      "Enter your DB2 password:  ········\n"
     ]
    }
   ],
   "source": [
    "user = input(\"Enter your DB2 user id: \")\n",
    "pwd   = getpass(\"Enter your DB2 password: \")"
   ]
  },
  {
   "cell_type": "markdown",
   "metadata": {},
   "source": [
    "#### Server details"
   ]
  },
  {
   "cell_type": "code",
   "execution_count": null,
   "metadata": {},
   "outputs": [],
   "source": [
    "host = 'SOMECOMPANY.COM'\n",
    "port = '50000'\n",
    "database = 'HAMPCSP'"
   ]
  },
  {
   "cell_type": "markdown",
   "metadata": {},
   "source": [
    "#### SQL query to obtain current date and time"
   ]
  },
  {
   "cell_type": "code",
   "execution_count": 15,
   "metadata": {},
   "outputs": [],
   "source": [
    "sql =\"\"\"\n",
    "SELECT\n",
    "    CURRENT TIMESTAMP as DATETIME_NOW\n",
    "FROM\n",
    "    SYSIBM.SYSDUMMY1\n",
    "\"\"\""
   ]
  },
  {
   "cell_type": "markdown",
   "metadata": {},
   "source": [
    "#### Usually best practice to use `with` statement when making a database connection so that we can ensure database connections are closed"
   ]
  },
  {
   "cell_type": "code",
   "execution_count": 16,
   "metadata": {},
   "outputs": [],
   "source": [
    "with jdba.connect('com.ibm.db2.jcc.DB2Driver',\n",
    "    f'jdbc:db2://{host}:{port}/{database}:useJDBC4ColumnNameAndLabelSemantics=false;',\n",
    "    [user, pwd],\n",
    "    jars=['D:/JDBC_Drivers/mainframe_db2/db2jcc4.jar']\n",
    ") as conn:\n",
    "    df_current_datetime = pd.read_sql(sql, conn, index_col=None)"
   ]
  },
  {
   "cell_type": "code",
   "execution_count": 17,
   "metadata": {},
   "outputs": [
    {
     "data": {
      "text/html": [
       "<div>\n",
       "<style scoped>\n",
       "    .dataframe tbody tr th:only-of-type {\n",
       "        vertical-align: middle;\n",
       "    }\n",
       "\n",
       "    .dataframe tbody tr th {\n",
       "        vertical-align: top;\n",
       "    }\n",
       "\n",
       "    .dataframe thead th {\n",
       "        text-align: right;\n",
       "    }\n",
       "</style>\n",
       "<table border=\"1\" class=\"dataframe\">\n",
       "  <thead>\n",
       "    <tr style=\"text-align: right;\">\n",
       "      <th></th>\n",
       "      <th>DATETIME_NOW</th>\n",
       "    </tr>\n",
       "  </thead>\n",
       "  <tbody>\n",
       "    <tr>\n",
       "      <th>0</th>\n",
       "      <td>2021-04-22 07:59:09.436720</td>\n",
       "    </tr>\n",
       "  </tbody>\n",
       "</table>\n",
       "</div>"
      ],
      "text/plain": [
       "                 DATETIME_NOW\n",
       "0  2021-04-22 07:59:09.436720"
      ]
     },
     "execution_count": 17,
     "metadata": {},
     "output_type": "execute_result"
    }
   ],
   "source": [
    "df_current_datetime"
   ]
  }
 ],
 "metadata": {
  "hide_input": false,
  "kernelspec": {
   "display_name": "Py3.9 (data_eval)",
   "language": "python",
   "name": "data_eval"
  },
  "language_info": {
   "codemirror_mode": {
    "name": "ipython",
    "version": 3
   },
   "file_extension": ".py",
   "mimetype": "text/x-python",
   "name": "python",
   "nbconvert_exporter": "python",
   "pygments_lexer": "ipython3",
   "version": "3.9.8"
  },
  "varInspector": {
   "cols": {
    "lenName": 16,
    "lenType": 16,
    "lenVar": 40
   },
   "kernels_config": {
    "python": {
     "delete_cmd_postfix": "",
     "delete_cmd_prefix": "del ",
     "library": "var_list.py",
     "varRefreshCmd": "print(var_dic_list())"
    },
    "r": {
     "delete_cmd_postfix": ") ",
     "delete_cmd_prefix": "rm(",
     "library": "var_list.r",
     "varRefreshCmd": "cat(var_dic_list()) "
    }
   },
   "types_to_exclude": [
    "module",
    "function",
    "builtin_function_or_method",
    "instance",
    "_Feature"
   ],
   "window_display": false
  },
  "widgets": {
   "application/vnd.jupyter.widget-state+json": {
    "state": {},
    "version_major": 2,
    "version_minor": 0
   }
  }
 },
 "nbformat": 4,
 "nbformat_minor": 4
}
