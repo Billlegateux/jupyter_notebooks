{
 "cells": [
  {
   "cell_type": "markdown",
   "id": "e68035fc-b099-4cf0-a297-dd480b3164c6",
   "metadata": {},
   "source": [
    "# PURPOSE"
   ]
  },
  {
   "cell_type": "markdown",
   "id": "6e0737fc-2202-467a-9783-298c111c27c4",
   "metadata": {},
   "source": [
    "#### Extract data from mainframe DB2 and then upload to sqlite"
   ]
  },
  {
   "cell_type": "code",
   "execution_count": 1,
   "id": "205c75bf-8d5d-409b-8973-9be9ddccdedf",
   "metadata": {},
   "outputs": [],
   "source": [
    "from sqlalchemy import create_engine\n",
    "import os\n",
    "import pandas as pd\n",
    "import pyodbc"
   ]
  },
  {
   "cell_type": "code",
   "execution_count": 2,
   "id": "339a5fe1-7e69-4c23-99a2-67481ebf46d7",
   "metadata": {},
   "outputs": [],
   "source": [
    "dsn = 'DSNOGW01'\n",
    "user = os.getenv('windowsuser')\n",
    "pwd = os.getenv('mainframepwd')"
   ]
  },
  {
   "cell_type": "code",
   "execution_count": 3,
   "id": "f8951dd6-7e1d-46ec-8868-d040f7d7cc53",
   "metadata": {},
   "outputs": [],
   "source": [
    "with pyodbc.connect(f'DSN={dsn};UID={user};PWD={pwd}') as conn:\n",
    "    sql = \"\"\"\n",
    "    SELECT\n",
    "        EMPLID,\n",
    "        \"EMPL_RCD#\",\n",
    "        EFFDT,\n",
    "        EFFSEQ,\n",
    "        RTRIM(NAME) AS NAME,\n",
    "        RTRIM(PREFERRED_NAME) AS PREFERRED_NAME,\n",
    "        COUNTY,\n",
    "        STATE,\n",
    "        COUNTRY,\n",
    "        PER_ORG,\n",
    "        PER_ORG_DESCR,\n",
    "        PER_ORG_ABBRV,\n",
    "        ORIG_HIRE_DT,\n",
    "        HIRE_DT,\n",
    "        WORK_PHONE,\n",
    "        DEPTID,\n",
    "        JOBCODE,\n",
    "        EMPL_STATUS,\n",
    "        RTRIM(EMPL_ST_DESCR) AS EMPL_ST_DESCR,\n",
    "        EMPL_ST_ABBRV,\n",
    "        EMPL_CLASS,\n",
    "        EMPL_CLS_DESCR,\n",
    "        EMPL_CLS_ABBRV,\n",
    "        LOCATION,\n",
    "        JOB_ENTRY_DT,\n",
    "        DEPT_ENTRY_DT,\n",
    "        SHIFT,\n",
    "        WORK_SHIFT_CODE,\n",
    "        REG_TEMP,\n",
    "        FULL_PART_TIME,\n",
    "        RTRIM(COMPANY) AS COMPANY,\n",
    "        RTRIM(BUSINESS_UNIT) AS BUSINESS_UNIT,\n",
    "        RTRIM(BUS_UNIT_NAME_H) AS BUS_UNIT_NAME_H ,\n",
    "        BUS_UNIT_ABBRV_H,\n",
    "        PAYGROUP,\n",
    "        EMPL_TYPE,\n",
    "        RTRIM(EMPL_TYP_DESCR) AS EMPL_TYP_DESCR,\n",
    "        EMPL_TYP_ABBRV,\n",
    "        JOBTITLE,\n",
    "        JOBTITLE_ABBRV,\n",
    "        RTRIM(DEPTNAME) AS DEPTNAME,\n",
    "        DEPTNAME_ABBRV,\n",
    "        TEAM_NUMBER,\n",
    "        PLANT_LOC_CODE,\n",
    "        DEPT_NO,\n",
    "        ASSOC_NO,\n",
    "        PAGER_NO,\n",
    "        COOR_EMPLID,\n",
    "        COOR_FIRST_NAME,\n",
    "        COOR_LAST_NAME,\n",
    "        COOR_BACKUP_EMPLID,\n",
    "        RTRIM(LAST_NAME_SRCH) as LAST_NAME_SRCH,\n",
    "        RTRIM(FIRST_NAME_SRCH) as FIRST_NAME_SRCH,\n",
    "        EXEMPT_CODE,\n",
    "        BUS_UNIT_H,\n",
    "        BUS_UNIT_ID_H,\n",
    "        HAM_UNIT_NAME_H,\n",
    "        HAM_UNIT_ABBRV_H,\n",
    "        BUS_TEAM_H,\n",
    "        BUS_TEAM_ID_H,\n",
    "        HAM_TEAM_NAME_H,\n",
    "        HAM_TEAM_ABBRV_H,\n",
    "        TEAM_DESCR_H,\n",
    "        DEPT_DESCR,\n",
    "        RTRIM(OPRID) AS OPRID,\n",
    "        OPRDEFNDESC,\n",
    "        RTRIM(EMAILID) AS EMAILID,\n",
    "        ASGN_END_DT,\n",
    "        ASSGN_PCT_H,\n",
    "        LD_ASGN_ACTN_DT_H\n",
    "    FROM\n",
    "        ARS.ASSOCIATE_INFO_VW\n",
    "    WHERE\n",
    "        HAM_UNIT_NAME_H = 'Supply Chain Mgt'\n",
    "    FOR READ ONLY WITH UR\n",
    "    \"\"\"\n",
    "    df = pd.read_sql(sql, conn)"
   ]
  },
  {
   "cell_type": "code",
   "execution_count": null,
   "id": "645ff628-3897-4661-80cb-080a44056ffd",
   "metadata": {},
   "outputs": [],
   "source": [
    "df = pd.read_clipboard()"
   ]
  },
  {
   "cell_type": "code",
   "execution_count": null,
   "id": "67696f06-1182-415f-bdb0-6b349190dc79",
   "metadata": {},
   "outputs": [],
   "source": [
    "df.head()"
   ]
  },
  {
   "cell_type": "code",
   "execution_count": 5,
   "id": "93335e2e-57c8-4dbd-9c7a-108e59b61147",
   "metadata": {},
   "outputs": [
    {
     "data": {
      "text/plain": [
       "EMPLID               object\n",
       "EMPL_RCD#             int64\n",
       "EFFDT                object\n",
       "EFFSEQ                int64\n",
       "NAME                 object\n",
       "                      ...  \n",
       "OPRDEFNDESC          object\n",
       "EMAILID              object\n",
       "ASGN_END_DT          object\n",
       "ASSGN_PCT_H           int64\n",
       "LD_ASGN_ACTN_DT_H    object\n",
       "Length: 70, dtype: object"
      ]
     },
     "execution_count": 5,
     "metadata": {},
     "output_type": "execute_result"
    }
   ],
   "source": [
    "df.dtypes"
   ]
  },
  {
   "cell_type": "code",
   "execution_count": null,
   "id": "7e5d379f-bcf2-4cd4-b4a0-d735149c799d",
   "metadata": {},
   "outputs": [],
   "source": [
    "with create_engine('sqlite:///C:/Users/SomeUser/<path_to_your>/sc_roster.db', echo=False).connect() as conn:\n",
    "    df.to_sql('sc_associates', conn, if_exists='replace')"
   ]
  }
 ],
 "metadata": {
  "kernelspec": {
   "display_name": "Py3.9 (data_eval)",
   "language": "python",
   "name": "data_eval"
  },
  "language_info": {
   "codemirror_mode": {
    "name": "ipython",
    "version": 3
   },
   "file_extension": ".py",
   "mimetype": "text/x-python",
   "name": "python",
   "nbconvert_exporter": "python",
   "pygments_lexer": "ipython3",
   "version": "3.9.8"
  }
 },
 "nbformat": 4,
 "nbformat_minor": 5
}
