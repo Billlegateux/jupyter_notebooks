{
 "cells": [
  {
   "cell_type": "markdown",
   "metadata": {},
   "source": [
    "# Useful example of saving a large query result directly into a csv file"
   ]
  },
  {
   "cell_type": "markdown",
   "metadata": {},
   "source": [
    "**By \"large\", I mean larger than the available RAM memory on your computer.**"
   ]
  },
  {
   "cell_type": "code",
   "execution_count": null,
   "metadata": {},
   "outputs": [],
   "source": [
    "import pyodbc\n",
    "from getpass import getpass\n",
    "import pandas as pd\n",
    "\n",
    "userid = getpass(prompt='Enter user ID: ')\n",
    "pw     = getpass(prompt='Enter password: ')"
   ]
  },
  {
   "cell_type": "code",
   "execution_count": null,
   "metadata": {},
   "outputs": [],
   "source": [
    "cnxn_string = 'DSN=YOUR_DSN;UID=' + userid + ';PWD=' + pw\n",
    "\n",
    "cnxn = pyodbc.connect(cnxn_string)\n",
    "cursor = cnxn.cursor()\n",
    "\n",
    "sql = \"\"\"\n",
    "SELECT\n",
    "    COLUMN1,\n",
    "    COLUMN2,\n",
    "    .\n",
    "    .\n",
    "    .\n",
    "    COLUMN_n\n",
    "\n",
    "FROM\n",
    "    SCHEMA.TABLE1 as TABLE1\n",
    "\n",
    "    INNER JOIN SCHEMA.TABLE2 as TABLE2 ON\n",
    "        TABLE1.COMMON_KEY = TABLE2.COMMON_KEY\n",
    "\n",
    "    INNER JOIN SCHEMA.TABLE3 as TABLE3 ON\n",
    "        TABLE1.COMMON_KEY = TABLE3.COMMON_KEY\n",
    "\n",
    "WHERE\n",
    "    TABLE2.SOME_COLUMN = 'YOUR_CAR'\n",
    "    AND TABLE1.SOME_DATE_COLUMN between '2008-01-01- and '2008-03-31'\n",
    "\n",
    "ORDER BY\n",
    "    TABLE3.SOME_COLUMN_TO_SORT_ON\n",
    "\"\"\"\n",
    "\n",
    "# df = pd.read_sql(sql, cnxn, index_col=None)\n",
    "\n",
    "# For large result set (> RAM) that you want to save directly into a csv file:\n",
    "for c in pd.read_sql(sql, cnxn, chunksize=10000):\n",
    "    c.to_csv(r'D:\\temp\\lots_of_data.csv', index=False, mode='a', header=False)\n",
    "\n",
    "# Close connections\n",
    "cursor.close()\n",
    "cnxn.close()"
   ]
  },
  {
   "cell_type": "markdown",
   "metadata": {},
   "source": [
    "### Documentation on read_sql() and to_csv() functions:"
   ]
  },
  {
   "cell_type": "code",
   "execution_count": 2,
   "metadata": {},
   "outputs": [
    {
     "name": "stdout",
     "output_type": "stream",
     "text": [
      "Help on function read_sql in module pandas.io.sql:\n",
      "\n",
      "read_sql(sql, con, index_col=None, coerce_float=True, params=None, parse_dates=None, columns=None, chunksize=None)\n",
      "    Read SQL query or database table into a DataFrame.\n",
      "    \n",
      "    Parameters\n",
      "    ----------\n",
      "    sql : string SQL query or SQLAlchemy Selectable (select or text object)\n",
      "        to be executed, or database table name.\n",
      "    con : SQLAlchemy connectable(engine/connection) or database string URI\n",
      "        or DBAPI2 connection (fallback mode)\n",
      "        Using SQLAlchemy makes it possible to use any DB supported by that\n",
      "        library.\n",
      "        If a DBAPI2 object, only sqlite3 is supported.\n",
      "    index_col : string or list of strings, optional, default: None\n",
      "        Column(s) to set as index(MultiIndex)\n",
      "    coerce_float : boolean, default True\n",
      "        Attempt to convert values of non-string, non-numeric objects (like\n",
      "        decimal.Decimal) to floating point, useful for SQL result sets\n",
      "    params : list, tuple or dict, optional, default: None\n",
      "        List of parameters to pass to execute method.  The syntax used\n",
      "        to pass parameters is database driver dependent. Check your\n",
      "        database driver documentation for which of the five syntax styles,\n",
      "        described in PEP 249's paramstyle, is supported.\n",
      "        Eg. for psycopg2, uses %(name)s so use params={'name' : 'value'}\n",
      "    parse_dates : list or dict, default: None\n",
      "        - List of column names to parse as dates\n",
      "        - Dict of ``{column_name: format string}`` where format string is\n",
      "          strftime compatible in case of parsing string times or is one of\n",
      "          (D, s, ns, ms, us) in case of parsing integer timestamps\n",
      "        - Dict of ``{column_name: arg dict}``, where the arg dict corresponds\n",
      "          to the keyword arguments of :func:`pandas.to_datetime`\n",
      "          Especially useful with databases without native Datetime support,\n",
      "          such as SQLite\n",
      "    columns : list, default: None\n",
      "        List of column names to select from sql table (only used when reading\n",
      "        a table).\n",
      "    chunksize : int, default None\n",
      "        If specified, return an iterator where `chunksize` is the\n",
      "        number of rows to include in each chunk.\n",
      "    \n",
      "    Returns\n",
      "    -------\n",
      "    DataFrame\n",
      "    \n",
      "    Notes\n",
      "    -----\n",
      "    This function is a convenience wrapper around ``read_sql_table`` and\n",
      "    ``read_sql_query`` (and for backward compatibility) and will delegate\n",
      "    to the specific function depending on the provided input (database\n",
      "    table name or sql query).  The delegated function might have more specific\n",
      "    notes about their functionality not listed here.\n",
      "    \n",
      "    See also\n",
      "    --------\n",
      "    read_sql_table : Read SQL database table into a DataFrame\n",
      "    read_sql_query : Read SQL query into a DataFrame\n",
      "\n"
     ]
    }
   ],
   "source": [
    "help(pd.read_sql)"
   ]
  },
  {
   "cell_type": "code",
   "execution_count": 4,
   "metadata": {},
   "outputs": [
    {
     "name": "stdout",
     "output_type": "stream",
     "text": [
      "Help on function to_csv in module pandas.core.frame:\n",
      "\n",
      "to_csv(self, path_or_buf=None, sep=',', na_rep='', float_format=None, columns=None, header=True, index=True, index_label=None, mode='w', encoding=None, compression=None, quoting=None, quotechar='\"', line_terminator='\\n', chunksize=None, tupleize_cols=False, date_format=None, doublequote=True, escapechar=None, decimal='.')\n",
      "    Write DataFrame to a comma-separated values (csv) file\n",
      "    \n",
      "    Parameters\n",
      "    ----------\n",
      "    path_or_buf : string or file handle, default None\n",
      "        File path or object, if None is provided the result is returned as\n",
      "        a string.\n",
      "    sep : character, default ','\n",
      "        Field delimiter for the output file.\n",
      "    na_rep : string, default ''\n",
      "        Missing data representation\n",
      "    float_format : string, default None\n",
      "        Format string for floating point numbers\n",
      "    columns : sequence, optional\n",
      "        Columns to write\n",
      "    header : boolean or list of string, default True\n",
      "        Write out column names. If a list of string is given it is assumed\n",
      "        to be aliases for the column names\n",
      "    index : boolean, default True\n",
      "        Write row names (index)\n",
      "    index_label : string or sequence, or False, default None\n",
      "        Column label for index column(s) if desired. If None is given, and\n",
      "        `header` and `index` are True, then the index names are used. A\n",
      "        sequence should be given if the DataFrame uses MultiIndex.  If\n",
      "        False do not print fields for index names. Use index_label=False\n",
      "        for easier importing in R\n",
      "    mode : str\n",
      "        Python write mode, default 'w'\n",
      "    encoding : string, optional\n",
      "        A string representing the encoding to use in the output file,\n",
      "        defaults to 'ascii' on Python 2 and 'utf-8' on Python 3.\n",
      "    compression : string, optional\n",
      "        a string representing the compression to use in the output file,\n",
      "        allowed values are 'gzip', 'bz2', 'xz',\n",
      "        only used when the first argument is a filename\n",
      "    line_terminator : string, default ``'\\n'``\n",
      "        The newline character or character sequence to use in the output\n",
      "        file\n",
      "    quoting : optional constant from csv module\n",
      "        defaults to csv.QUOTE_MINIMAL. If you have set a `float_format`\n",
      "        then floats are converted to strings and thus csv.QUOTE_NONNUMERIC\n",
      "        will treat them as non-numeric\n",
      "    quotechar : string (length 1), default '\\\"'\n",
      "        character used to quote fields\n",
      "    doublequote : boolean, default True\n",
      "        Control quoting of `quotechar` inside a field\n",
      "    escapechar : string (length 1), default None\n",
      "        character used to escape `sep` and `quotechar` when appropriate\n",
      "    chunksize : int or None\n",
      "        rows to write at a time\n",
      "    tupleize_cols : boolean, default False\n",
      "        write multi_index columns as a list of tuples (if True)\n",
      "        or new (expanded format) if False)\n",
      "    date_format : string, default None\n",
      "        Format string for datetime objects\n",
      "    decimal: string, default '.'\n",
      "        Character recognized as decimal separator. E.g. use ',' for\n",
      "        European data\n",
      "    \n",
      "        .. versionadded:: 0.16.0\n",
      "\n"
     ]
    }
   ],
   "source": [
    "help(pd.DataFrame.to_csv)"
   ]
  }
 ],
 "metadata": {
  "_draft": {
   "nbviewer_url": "https://gist.github.com/d7ac7f95fa2cc976cc067d6653fc9135"
  },
  "gist": {
   "data": {
    "description": "sql/Querying_Against_CoRe_MQ-Copy2.ipynb",
    "public": true
   },
   "id": "d7ac7f95fa2cc976cc067d6653fc9135"
  },
  "hide_input": false,
  "kernelspec": {
   "display_name": "Python 3",
   "language": "python",
   "name": "python3"
  },
  "language_info": {
   "codemirror_mode": {
    "name": "ipython",
    "version": 3
   },
   "file_extension": ".py",
   "mimetype": "text/x-python",
   "name": "python",
   "nbconvert_exporter": "python",
   "pygments_lexer": "ipython3",
   "version": "3.6.1"
  },
  "varInspector": {
   "cols": {
    "lenName": 16,
    "lenType": 16,
    "lenVar": 40
   },
   "kernels_config": {
    "python": {
     "delete_cmd_postfix": "",
     "delete_cmd_prefix": "del ",
     "library": "var_list.py",
     "varRefreshCmd": "print(var_dic_list())"
    },
    "r": {
     "delete_cmd_postfix": ") ",
     "delete_cmd_prefix": "rm(",
     "library": "var_list.r",
     "varRefreshCmd": "cat(var_dic_list()) "
    }
   },
   "types_to_exclude": [
    "module",
    "function",
    "builtin_function_or_method",
    "instance",
    "_Feature"
   ],
   "window_display": false
  }
 },
 "nbformat": 4,
 "nbformat_minor": 1
}
