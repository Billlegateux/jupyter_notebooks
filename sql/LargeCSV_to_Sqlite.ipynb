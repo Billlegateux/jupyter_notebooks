{
 "cells": [
  {
   "cell_type": "code",
   "execution_count": 17,
   "metadata": {},
   "outputs": [],
   "source": [
    "%matplotlib inline\n",
    "import matplotlib.pyplot as plt\n",
    "from matplotlib.ticker import FuncFormatter\n",
    "import seaborn as sns\n",
    "import datetime as dt\n",
    "import numpy as np\n",
    "import sqlite3\n",
    "import pandas as pd"
   ]
  },
  {
   "cell_type": "code",
   "execution_count": 6,
   "metadata": {},
   "outputs": [],
   "source": [
    "columns = ['WAR_CLAIM_DATE',\n",
    "        'WAR_DEFECT_CODE',\n",
    "        'VIN_MODEL_YR',\n",
    "        'VIN_FACTORY',\n",
    "        'VIN_MODEL_TYPE',\n",
    "        'WAR_ORIG_DISTR_CDE',\n",
    "        'WAR_RESP_DISTR_CDE',\n",
    "        'WAR_EXCH_RATE_AMT',\n",
    "        'CLAIM_LABOR_HRS_QTY',\n",
    "        'WAR_LABOR_CHG_AMT_USD',\n",
    "        'WAR_PARTS_CHG_AMT_USD',\n",
    "        'WAR_HDLG_CHG_AMT_USD',\n",
    "        'WAR_TOTAL_CHG_AMT_USD',\n",
    "        'PHASE_TYPE',\n",
    "        'PART_COST_25',\n",
    "        'DRIVER_PASSENGER',\n",
    "        'DIR_NUMBER',\n",
    "        'NA_FCTRY_YES_NO',\n",
    "        'PAB_TYPE',\n",
    "        'DAB_TYPE',\n",
    "        'STATE_CODE',\n",
    "        'COUNTRY',\n",
    "        'ZONE_REGION',\n",
    "        'CLAIM_SUBLET_AMT_USD',\n",
    "        'SUBLET_TYPE1_CODE',\n",
    "        'SUBLET_TYPE2_CODE',\n",
    "        'SUBLET_TYPE_DESC',\n",
    "        'SUBLET_YES_NO',\n",
    "        'WRWHA1_LABOR_CHG_AMT_USD',\n",
    "        'FRGT_SUBL_TAX_AMT_USD'\n",
    "       ]\n",
    "\n",
    "data_type = {\n",
    "        'WAR_CLAIM_DATE': str,\n",
    "        'WAR_DEFECT_CODE': str,\n",
    "        'VIN_MODEL_YR': str,\n",
    "        'VIN_FACTORY': str,\n",
    "        'VIN_MODEL_TYPE': str,\n",
    "        'WAR_ORIG_DISTR_CDE': str,\n",
    "        'WAR_RESP_DISTR_CDE': str,\n",
    "        'WAR_EXCH_RATE_AMT': np.float32,\n",
    "        'CLAIM_LABOR_HRS_QTY': np.float32,\n",
    "        'WAR_LABOR_CHG_AMT_USD': np.float32,\n",
    "        'WAR_PARTS_CHG_AMT_USD': np.float32,\n",
    "        'WAR_HDLG_CHG_AMT_USD': np.float32,\n",
    "        'WAR_TOTAL_CHG_AMT_USD': np.float32,\n",
    "        'PHASE_TYPE': str,\n",
    "        'PART_COST_25': str,\n",
    "        'DRIVER_PASSENGER': str,\n",
    "        'DIR_NUMBER': str,\n",
    "        'NA_FCTRY_YES_NO': str,\n",
    "        'PAB_TYPE': str,\n",
    "        'DAB_TYPE': str,\n",
    "        'STATE_CODE': str,\n",
    "        'COUNTRY': str,\n",
    "        'ZONE_REGION': str,\n",
    "        'CLAIM_SUBLET_AMT_USD': np.float32,\n",
    "        'SUBLET_TYPE1_CODE': str,\n",
    "        'SUBLET_TYPE2_CODE': str,\n",
    "        'SUBLET_TYPE_DESC': str,\n",
    "        'SUBLET_YES_NO': str,\n",
    "        'WRWHA1_LABOR_CHG_AMT_USD': np.float32,\n",
    "        'FRGT_SUBL_TAX_AMT_USD': np.float32\n",
    "    }"
   ]
  },
  {
   "cell_type": "code",
   "execution_count": 7,
   "metadata": {},
   "outputs": [
    {
     "name": "stdout",
     "output_type": "stream",
     "text": [
      "315 seconds: completed 13000000 rowsWall time: 5min 16s\n"
     ]
    }
   ],
   "source": [
    "%%time\n",
    "conn = sqlite3.connect(r'D:\\temp\\some_database.db')\n",
    "cursor = conn.cursor()\n",
    "\n",
    "# Since we are going to load/re-create the complaint's table in its entirety, DROP it\n",
    "cursor.execute('DROP TABLE IF EXISTS dataframe')\n",
    "\n",
    "chunksize = 40000\n",
    "j = 0\n",
    "\n",
    "begin = dt.datetime.now()\n",
    "\n",
    "# use the columns list to define the column names of the complaints table\n",
    "for df in pd.read_csv(r'D:\\temp\\DAB_PAB_Raw_Claims.csv', names=columns, dtype=data_type, chunksize=chunksize, \n",
    "                      delimiter=',', iterator=True, error_bad_lines=False):    \n",
    "    j+=1\n",
    "    # To print on same line, use '\\r' and end='' option with the print function\n",
    "    print('\\r'+'{} seconds: completed {} rows'.format((dt.datetime.now() - begin).seconds, j*chunksize),end='')\n",
    "\n",
    "    df.to_sql('dataframe', conn, if_exists='append', index=False)\n",
    "cursor.close()\n",
    "conn.close()"
   ]
  },
  {
   "cell_type": "code",
   "execution_count": 11,
   "metadata": {},
   "outputs": [
    {
     "name": "stdout",
     "output_type": "stream",
     "text": [
      "Wall time: 4.52 s\n"
     ]
    }
   ],
   "source": [
    "%%time\n",
    "conn = sqlite3.connect(r'D:\\temp\\some_database.db')\n",
    "\n",
    "sql = \"\"\"\n",
    "SELECT\n",
    "    count(*) as qty\n",
    "\n",
    "FROM\n",
    "    dataframe\n",
    "\"\"\"\n",
    "\n",
    "df = pd.read_sql_query(sql, conn)"
   ]
  },
  {
   "cell_type": "code",
   "execution_count": 23,
   "metadata": {},
   "outputs": [
    {
     "name": "stdout",
     "output_type": "stream",
     "text": [
      "Wall time: 20 s\n"
     ]
    }
   ],
   "source": [
    "%%time\n",
    "conn = sqlite3.connect(r'D:\\temp\\some_database.db')\n",
    "\n",
    "sql = \"\"\"\n",
    "SELECT\n",
    "    WAR_CLAIM_DATE,\n",
    "    SUM(WAR_TOTAL_CHG_AMT_USD) AS TOTALCHG\n",
    "\n",
    "FROM\n",
    "    dataframe\n",
    "    \n",
    "GROUP BY\n",
    "    WAR_CLAIM_DATE\n",
    "\"\"\"\n",
    "\n",
    "by_month = pd.read_sql_query(sql, conn)\n",
    "by_month = by_month.set_index('WAR_CLAIM_DATE')"
   ]
  },
  {
   "cell_type": "code",
   "execution_count": 24,
   "metadata": {},
   "outputs": [
    {
     "data": {
      "image/png": "[encoded data removed]",
      "text/plain": [
       "<matplotlib.figure.Figure at 0x118e8550>"
      ]
     },
     "metadata": {},
     "output_type": "display_data"
    }
   ],
   "source": [
    "fig = plt.figure(figsize=(14,8))\n",
    "ax = plt.subplot(1,1,1)\n",
    "ax.yaxis.set_major_formatter(FuncFormatter('${:,.0f}'.format))\n",
    "plt.xticks(rotation=270, fontsize=8)\n",
    "by_month.plot.bar(ax=ax, color='b', alpha=0.4)\n",
    "sns.despine()"
   ]
  }
 ],
 "metadata": {
  "hide_input": false,
  "kernelspec": {
   "display_name": "Python 3",
   "language": "python",
   "name": "python3"
  },
  "language_info": {
   "codemirror_mode": {
    "name": "ipython",
    "version": 3
   },
   "file_extension": ".py",
   "mimetype": "text/x-python",
   "name": "python",
   "nbconvert_exporter": "python",
   "pygments_lexer": "ipython3",
   "version": "3.6.5"
  }
 },
 "nbformat": 4,
 "nbformat_minor": 2
}
