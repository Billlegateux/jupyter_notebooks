{
 "cells": [
  {
   "cell_type": "markdown",
   "metadata": {},
   "source": [
    "# Connecting to a JBoss Virtual Database Using JDBC Driver"
   ]
  },
  {
   "cell_type": "markdown",
   "metadata": {},
   "source": [
    "**NOTE:** In order for JayDeBeApi library to work with the Red Hat JBoss JDBC driver, have to install JPype1 version 0.6.3 instead of the latest version 0.7.  Otherwise, you'll get ```convertStrings``` error per this GitHub [issue](https://github.com/jpype-project/jpype/issues/498)."
   ]
  },
  {
   "cell_type": "markdown",
   "metadata": {},
   "source": [
    "Therefore, you can install JayDeBeApi and jpype1 version 0.6.3 with conda command by doing:<br>\n",
    "    ```conda install JayDeBeApi jpype1==0.6.3```"
   ]
  },
  {
   "cell_type": "markdown",
   "metadata": {},
   "source": [
    "You also need to set the ```JAVA_HOME``` environment variable and know the path to the .jar file containing the teiid driver."
   ]
  },
  {
   "cell_type": "code",
   "execution_count": 2,
   "metadata": {},
   "outputs": [
    {
     "name": "stdout",
     "output_type": "stream",
     "text": [
      "D:\\jdk1_8\n"
     ]
    }
   ],
   "source": [
    "!echo %JAVA_HOME%"
   ]
  },
  {
   "cell_type": "code",
   "execution_count": 1,
   "metadata": {},
   "outputs": [],
   "source": [
    "import jaydebeapi\n",
    "import pandas as pd\n",
    "from getpass import getpass"
   ]
  },
  {
   "cell_type": "code",
   "execution_count": 3,
   "metadata": {},
   "outputs": [
    {
     "name": "stdout",
     "output_type": "stream",
     "text": [
      "Enter your user name: ········\n",
      "Enter your password: ········\n"
     ]
    }
   ],
   "source": [
    "username = getpass(\"Enter your user name: \")\n",
    "password = getpass(\"Enter your password: \")"
   ]
  },
  {
   "cell_type": "code",
   "execution_count": 4,
   "metadata": {},
   "outputs": [],
   "source": [
    "cnxn = jaydebeapi.connect(\"org.teiid.jdbc.TeiidDriver\", \n",
    "                          \"jdbc:teiid:cms_vdb_hna@mm://hamsxlpocdb01.some_company.com:31000\",\n",
    "                          [username, password],\n",
    "                          # Alternative to setting the CLASSPATH environment variable, you can set the path with the jars option\n",
    "                          jars='D:/LDE_Project/JDBC_Drivers/teiid-jdbc-8.12.14.6_4-redhat-64-3.jar')"
   ]
  },
  {
   "cell_type": "code",
   "execution_count": 5,
   "metadata": {},
   "outputs": [],
   "source": [
    "sql = \"\"\"\n",
    "SELECT\n",
    "    *\n",
    "FROM\n",
    "    cmsapp.SUPP_LOC_PLANT_TBL\n",
    "\"\"\"\n",
    "\n",
    "df = pd.read_sql(sql, cnxn, index_col=None)\n",
    "\n",
    "cnxn.close()"
   ]
  },
  {
   "cell_type": "code",
   "execution_count": 6,
   "metadata": {},
   "outputs": [
    {
     "data": {
      "text/html": [
       "<div>\n",
       "<style scoped>\n",
       "    .dataframe tbody tr th:only-of-type {\n",
       "        vertical-align: middle;\n",
       "    }\n",
       "\n",
       "    .dataframe tbody tr th {\n",
       "        vertical-align: top;\n",
       "    }\n",
       "\n",
       "    .dataframe thead th {\n",
       "        text-align: right;\n",
       "    }\n",
       "</style>\n",
       "<table border=\"1\" class=\"dataframe\">\n",
       "  <thead>\n",
       "    <tr style=\"text-align: right;\">\n",
       "      <th></th>\n",
       "      <th>ID</th>\n",
       "      <th>SUPP_NAME</th>\n",
       "      <th>SUPP_NO</th>\n",
       "      <th>SUPP_LOC_CODE</th>\n",
       "      <th>ALL_PLANTS</th>\n",
       "      <th>CREATED_DATE</th>\n",
       "    </tr>\n",
       "  </thead>\n",
       "  <tbody>\n",
       "    <tr>\n",
       "      <th>0</th>\n",
       "      <td>7239928</td>\n",
       "      <td>METAL &amp; WIRE PRODUCTS CO</td>\n",
       "      <td>012821</td>\n",
       "      <td>06</td>\n",
       "      <td>IPS</td>\n",
       "      <td>2020-01-09 01:00:04.380000</td>\n",
       "    </tr>\n",
       "    <tr>\n",
       "      <th>1</th>\n",
       "      <td>7239929</td>\n",
       "      <td>AISIN USA MFG INC</td>\n",
       "      <td>012829</td>\n",
       "      <td>Default</td>\n",
       "      <td>ELP, HCM, HMA, HMI, IPS, MAP</td>\n",
       "      <td>2020-01-09 01:00:04.380000</td>\n",
       "    </tr>\n",
       "    <tr>\n",
       "      <th>2</th>\n",
       "      <td>7239930</td>\n",
       "      <td>None</td>\n",
       "      <td>012829</td>\n",
       "      <td>00</td>\n",
       "      <td>IPS</td>\n",
       "      <td>2020-01-09 01:00:04.380000</td>\n",
       "    </tr>\n",
       "    <tr>\n",
       "      <th>3</th>\n",
       "      <td>7239931</td>\n",
       "      <td>AISIN USA MFG INC</td>\n",
       "      <td>012829</td>\n",
       "      <td>01</td>\n",
       "      <td>HCM, HMA</td>\n",
       "      <td>2020-01-09 01:00:04.380000</td>\n",
       "    </tr>\n",
       "    <tr>\n",
       "      <th>4</th>\n",
       "      <td>7239932</td>\n",
       "      <td>AISIN USA MFG INC</td>\n",
       "      <td>012829</td>\n",
       "      <td>02</td>\n",
       "      <td>ELP, HMA, IPS, MAP</td>\n",
       "      <td>2020-01-09 01:00:04.380000</td>\n",
       "    </tr>\n",
       "  </tbody>\n",
       "</table>\n",
       "</div>"
      ],
      "text/plain": [
       "        ID                 SUPP_NAME SUPP_NO SUPP_LOC_CODE  \\\n",
       "0  7239928  METAL & WIRE PRODUCTS CO  012821            06   \n",
       "1  7239929         AISIN USA MFG INC  012829       Default   \n",
       "2  7239930                      None  012829            00   \n",
       "3  7239931         AISIN USA MFG INC  012829            01   \n",
       "4  7239932         AISIN USA MFG INC  012829            02   \n",
       "\n",
       "                     ALL_PLANTS                CREATED_DATE  \n",
       "0                           IPS  2020-01-09 01:00:04.380000  \n",
       "1  ELP, HCM, HMA, HMI, IPS, MAP  2020-01-09 01:00:04.380000  \n",
       "2                           IPS  2020-01-09 01:00:04.380000  \n",
       "3                      HCM, HMA  2020-01-09 01:00:04.380000  \n",
       "4            ELP, HMA, IPS, MAP  2020-01-09 01:00:04.380000  "
      ]
     },
     "execution_count": 6,
     "metadata": {},
     "output_type": "execute_result"
    }
   ],
   "source": [
    "df.head()"
   ]
  },
  {
   "cell_type": "markdown",
   "metadata": {},
   "source": [
    "### Usually best practice to use a context manager when connecting to a database to ensure database connection will be closed"
   ]
  },
  {
   "cell_type": "markdown",
   "metadata": {},
   "source": [
    "jaydebeapi library does not support context management, so we'll use contextmanager decorator from the contextlib module to enable it"
   ]
  },
  {
   "cell_type": "code",
   "execution_count": 7,
   "metadata": {},
   "outputs": [],
   "source": [
    "from contextlib import contextmanager"
   ]
  },
  {
   "cell_type": "code",
   "execution_count": 10,
   "metadata": {},
   "outputs": [],
   "source": [
    "@contextmanager\n",
    "def db_connect(db, user, pwd):\n",
    "    conn = jaydebeapi.connect('com.ibm.db2.jcc.DB2Driver', f'jdbc:teiid:{db}@mm://hamsxlpocdb01.some_company.com:31000',\n",
    "                    [user, pwd], jars=['D:/JDBC_Drivers/mainframe_db2/db2jcc4.jar'])\n",
    "    try:\n",
    "        yield conn\n",
    "    finally:\n",
    "        conn.close()"
   ]
  },
  {
   "cell_type": "code",
   "execution_count": 11,
   "metadata": {},
   "outputs": [],
   "source": [
    "with db_connect('cms_vdb_hna', username, password) as conn:\n",
    "    df = pd.read_sql(sql, conn, index_col=None)"
   ]
  },
  {
   "cell_type": "code",
   "execution_count": 12,
   "metadata": {},
   "outputs": [
    {
     "data": {
      "text/html": [
       "<div>\n",
       "<style scoped>\n",
       "    .dataframe tbody tr th:only-of-type {\n",
       "        vertical-align: middle;\n",
       "    }\n",
       "\n",
       "    .dataframe tbody tr th {\n",
       "        vertical-align: top;\n",
       "    }\n",
       "\n",
       "    .dataframe thead th {\n",
       "        text-align: right;\n",
       "    }\n",
       "</style>\n",
       "<table border=\"1\" class=\"dataframe\">\n",
       "  <thead>\n",
       "    <tr style=\"text-align: right;\">\n",
       "      <th></th>\n",
       "      <th>ID</th>\n",
       "      <th>SUPP_NAME</th>\n",
       "      <th>SUPP_NO</th>\n",
       "      <th>SUPP_LOC_CODE</th>\n",
       "      <th>ALL_PLANTS</th>\n",
       "      <th>CREATED_DATE</th>\n",
       "    </tr>\n",
       "  </thead>\n",
       "  <tbody>\n",
       "    <tr>\n",
       "      <th>0</th>\n",
       "      <td>7239928</td>\n",
       "      <td>METAL &amp; WIRE PRODUCTS CO</td>\n",
       "      <td>012821</td>\n",
       "      <td>06</td>\n",
       "      <td>IPS</td>\n",
       "      <td>2020-01-09 01:00:04.380000</td>\n",
       "    </tr>\n",
       "    <tr>\n",
       "      <th>1</th>\n",
       "      <td>7239929</td>\n",
       "      <td>AISIN USA MFG INC</td>\n",
       "      <td>012829</td>\n",
       "      <td>Default</td>\n",
       "      <td>ELP, HCM, HMA, HMI, IPS, MAP</td>\n",
       "      <td>2020-01-09 01:00:04.380000</td>\n",
       "    </tr>\n",
       "    <tr>\n",
       "      <th>2</th>\n",
       "      <td>7239930</td>\n",
       "      <td>None</td>\n",
       "      <td>012829</td>\n",
       "      <td>00</td>\n",
       "      <td>IPS</td>\n",
       "      <td>2020-01-09 01:00:04.380000</td>\n",
       "    </tr>\n",
       "    <tr>\n",
       "      <th>3</th>\n",
       "      <td>7239931</td>\n",
       "      <td>AISIN USA MFG INC</td>\n",
       "      <td>012829</td>\n",
       "      <td>01</td>\n",
       "      <td>HCM, HMA</td>\n",
       "      <td>2020-01-09 01:00:04.380000</td>\n",
       "    </tr>\n",
       "    <tr>\n",
       "      <th>4</th>\n",
       "      <td>7239932</td>\n",
       "      <td>AISIN USA MFG INC</td>\n",
       "      <td>012829</td>\n",
       "      <td>02</td>\n",
       "      <td>ELP, HMA, IPS, MAP</td>\n",
       "      <td>2020-01-09 01:00:04.380000</td>\n",
       "    </tr>\n",
       "  </tbody>\n",
       "</table>\n",
       "</div>"
      ],
      "text/plain": [
       "        ID                 SUPP_NAME SUPP_NO SUPP_LOC_CODE  \\\n",
       "0  7239928  METAL & WIRE PRODUCTS CO  012821            06   \n",
       "1  7239929         AISIN USA MFG INC  012829       Default   \n",
       "2  7239930                      None  012829            00   \n",
       "3  7239931         AISIN USA MFG INC  012829            01   \n",
       "4  7239932         AISIN USA MFG INC  012829            02   \n",
       "\n",
       "                     ALL_PLANTS                CREATED_DATE  \n",
       "0                           IPS  2020-01-09 01:00:04.380000  \n",
       "1  ELP, HCM, HMA, HMI, IPS, MAP  2020-01-09 01:00:04.380000  \n",
       "2                           IPS  2020-01-09 01:00:04.380000  \n",
       "3                      HCM, HMA  2020-01-09 01:00:04.380000  \n",
       "4            ELP, HMA, IPS, MAP  2020-01-09 01:00:04.380000  "
      ]
     },
     "execution_count": 12,
     "metadata": {},
     "output_type": "execute_result"
    }
   ],
   "source": [
    "df.head()"
   ]
  }
 ],
 "metadata": {
  "hide_input": false,
  "kernelspec": {
   "display_name": "Python 3 (ipykernel)",
   "language": "python",
   "name": "python3"
  },
  "language_info": {
   "codemirror_mode": {
    "name": "ipython",
    "version": 3
   },
   "file_extension": ".py",
   "mimetype": "text/x-python",
   "name": "python",
   "nbconvert_exporter": "python",
   "pygments_lexer": "ipython3",
   "version": "3.9.8"
  },
  "varInspector": {
   "cols": {
    "lenName": 16,
    "lenType": 16,
    "lenVar": 40
   },
   "kernels_config": {
    "python": {
     "delete_cmd_postfix": "",
     "delete_cmd_prefix": "del ",
     "library": "var_list.py",
     "varRefreshCmd": "print(var_dic_list())"
    },
    "r": {
     "delete_cmd_postfix": ") ",
     "delete_cmd_prefix": "rm(",
     "library": "var_list.r",
     "varRefreshCmd": "cat(var_dic_list()) "
    }
   },
   "types_to_exclude": [
    "module",
    "function",
    "builtin_function_or_method",
    "instance",
    "_Feature"
   ],
   "window_display": false
  }
 },
 "nbformat": 4,
 "nbformat_minor": 4
}
