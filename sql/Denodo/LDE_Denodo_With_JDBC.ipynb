{
 "cells": [
  {
   "cell_type": "code",
   "execution_count": 32,
   "metadata": {},
   "outputs": [],
   "source": [
    "from contextlib import contextmanager\n",
    "from datetime import datetime\n",
    "from datetime import date\n",
    "from getpass import getpass\n",
    "import jaydebeapi as jdba\n",
    "import pandas as pd\n",
    "pd.options.display.max_columns=50\n",
    "pd.options.display.max_rows=1000"
   ]
  },
  {
   "cell_type": "code",
   "execution_count": 2,
   "metadata": {},
   "outputs": [
    {
     "name": "stdout",
     "output_type": "stream",
     "text": [
      "JAVA_HOME=D:\\jdk1_8\n"
     ]
    }
   ],
   "source": [
    "!set JAVA_HOME"
   ]
  },
  {
   "cell_type": "code",
   "execution_count": 3,
   "metadata": {},
   "outputs": [
    {
     "name": "stdin",
     "output_type": "stream",
     "text": [
      "Enter password:  ········\n"
     ]
    }
   ],
   "source": [
    "user = 'ma17151'\n",
    "pwd = getpass(\"Enter password: \")"
   ]
  },
  {
   "cell_type": "code",
   "execution_count": 12,
   "metadata": {},
   "outputs": [],
   "source": [
    "db = 'lde_packaging'\n",
    "host = 'hnadxledvps01.somecompany.com'\n",
    "port = '9999'\n",
    "# NOTE: With this particular Denodo server, have to use driver version 2019-03-12 or older or else will get errors\n",
    "jar_path = r'D:\\JDBC_Drivers\\denodo\\denodo-vdp-jdbcdriver-7.0-update-20190312.jar'"
   ]
  },
  {
   "cell_type": "code",
   "execution_count": 24,
   "metadata": {},
   "outputs": [],
   "source": [
    "@contextmanager\n",
    "def db_connect(user: str, pwd: str, host: str, port: str, db: str, jar_path: str):\n",
    "    conn = jdba.connect('com.denodo.vdp.jdbc.Driver', f'jdbc:vdb://{host}:{port}/{db}',\n",
    "                    [user, pwd], jars=[jar_path])\n",
    "    try:\n",
    "        yield conn\n",
    "    finally:\n",
    "        conn.close()"
   ]
  },
  {
   "cell_type": "code",
   "execution_count": 6,
   "metadata": {},
   "outputs": [],
   "source": [
    "sql = \"\"\"\n",
    "select * from aps_part_demand fetch first 50 rows only\n",
    "\"\"\""
   ]
  },
  {
   "cell_type": "code",
   "execution_count": 25,
   "metadata": {},
   "outputs": [],
   "source": [
    "sql = \"\"\"\n",
    "select * from iv_employee_income\n",
    "\"\"\""
   ]
  },
  {
   "cell_type": "code",
   "execution_count": 60,
   "metadata": {},
   "outputs": [],
   "source": [
    "with db_connect(user, pwd, host, port, db, jar_path) as conn:\n",
    "    df = pd.read_sql(sql, conn, index_col=None, parse_dates=['hire_date'])"
   ]
  },
  {
   "cell_type": "code",
   "execution_count": null,
   "metadata": {},
   "outputs": [],
   "source": [
    "df.head()"
   ]
  },
  {
   "cell_type": "code",
   "execution_count": 62,
   "metadata": {},
   "outputs": [],
   "source": [
    "df['seniority'] = df['hire_date'].map(lambda x: (datetime.today() - x).days / 365)"
   ]
  },
  {
   "cell_type": "code",
   "execution_count": null,
   "metadata": {},
   "outputs": [],
   "source": [
    "df.head()"
   ]
  },
  {
   "cell_type": "code",
   "execution_count": 47,
   "metadata": {},
   "outputs": [
    {
     "data": {
      "text/plain": [
       "employee_id                 int64\n",
       "first_name                 object\n",
       "last_name                  object\n",
       "email                      object\n",
       "phone_number               object\n",
       "hire_date          datetime64[ns]\n",
       "job_id                     object\n",
       "salary                    float64\n",
       "commission_pct            float64\n",
       "manager_id                float64\n",
       "department_id               int64\n",
       "seniority                 float64\n",
       "days              timedelta64[ns]\n",
       "dtype: object"
      ]
     },
     "execution_count": 47,
     "metadata": {},
     "output_type": "execute_result"
    }
   ],
   "source": [
    "df.dtypes"
   ]
  },
  {
   "cell_type": "code",
   "execution_count": 50,
   "metadata": {},
   "outputs": [
    {
     "data": {
      "text/plain": [
       "3207"
      ]
     },
     "execution_count": 50,
     "metadata": {},
     "output_type": "execute_result"
    }
   ],
   "source": [
    "df['days'][0].days"
   ]
  },
  {
   "cell_type": "code",
   "execution_count": 49,
   "metadata": {},
   "outputs": [
    {
     "data": {
      "text/plain": [
       "['__abs__',\n",
       " '__add__',\n",
       " '__array_priority__',\n",
       " '__bool__',\n",
       " '__class__',\n",
       " '__delattr__',\n",
       " '__dict__',\n",
       " '__dir__',\n",
       " '__divmod__',\n",
       " '__doc__',\n",
       " '__eq__',\n",
       " '__floordiv__',\n",
       " '__format__',\n",
       " '__ge__',\n",
       " '__getattribute__',\n",
       " '__gt__',\n",
       " '__hash__',\n",
       " '__init__',\n",
       " '__init_subclass__',\n",
       " '__inv__',\n",
       " '__le__',\n",
       " '__lt__',\n",
       " '__mod__',\n",
       " '__module__',\n",
       " '__mul__',\n",
       " '__ne__',\n",
       " '__neg__',\n",
       " '__new__',\n",
       " '__pos__',\n",
       " '__pyx_vtable__',\n",
       " '__radd__',\n",
       " '__rdivmod__',\n",
       " '__reduce__',\n",
       " '__reduce_cython__',\n",
       " '__reduce_ex__',\n",
       " '__repr__',\n",
       " '__rfloordiv__',\n",
       " '__rmod__',\n",
       " '__rmul__',\n",
       " '__rsub__',\n",
       " '__rtruediv__',\n",
       " '__setattr__',\n",
       " '__setstate__',\n",
       " '__setstate_cython__',\n",
       " '__sizeof__',\n",
       " '__str__',\n",
       " '__sub__',\n",
       " '__subclasshook__',\n",
       " '__truediv__',\n",
       " '__weakref__',\n",
       " '_d',\n",
       " '_ensure_components',\n",
       " '_h',\n",
       " '_has_ns',\n",
       " '_m',\n",
       " '_ms',\n",
       " '_ns',\n",
       " '_repr_base',\n",
       " '_round',\n",
       " '_s',\n",
       " '_us',\n",
       " 'asm8',\n",
       " 'ceil',\n",
       " 'components',\n",
       " 'days',\n",
       " 'delta',\n",
       " 'floor',\n",
       " 'freq',\n",
       " 'is_populated',\n",
       " 'isoformat',\n",
       " 'max',\n",
       " 'microseconds',\n",
       " 'min',\n",
       " 'nanoseconds',\n",
       " 'resolution',\n",
       " 'resolution_string',\n",
       " 'round',\n",
       " 'seconds',\n",
       " 'to_numpy',\n",
       " 'to_pytimedelta',\n",
       " 'to_timedelta64',\n",
       " 'total_seconds',\n",
       " 'value',\n",
       " 'view']"
      ]
     },
     "execution_count": 49,
     "metadata": {},
     "output_type": "execute_result"
    }
   ],
   "source": [
    "dir(df['days'][0])"
   ]
  }
 ],
 "metadata": {
  "hide_input": false,
  "kernelspec": {
   "display_name": "Py3.9 (data_eval)",
   "language": "python",
   "name": "data_eval"
  },
  "language_info": {
   "codemirror_mode": {
    "name": "ipython",
    "version": 3
   },
   "file_extension": ".py",
   "mimetype": "text/x-python",
   "name": "python",
   "nbconvert_exporter": "python",
   "pygments_lexer": "ipython3",
   "version": "3.9.8"
  },
  "varInspector": {
   "cols": {
    "lenName": 16,
    "lenType": 16,
    "lenVar": 40
   },
   "kernels_config": {
    "python": {
     "delete_cmd_postfix": "",
     "delete_cmd_prefix": "del ",
     "library": "var_list.py",
     "varRefreshCmd": "print(var_dic_list())"
    },
    "r": {
     "delete_cmd_postfix": ") ",
     "delete_cmd_prefix": "rm(",
     "library": "var_list.r",
     "varRefreshCmd": "cat(var_dic_list()) "
    }
   },
   "types_to_exclude": [
    "module",
    "function",
    "builtin_function_or_method",
    "instance",
    "_Feature"
   ],
   "window_display": false
  },
  "widgets": {
   "application/vnd.jupyter.widget-state+json": {
    "state": {},
    "version_major": 2,
    "version_minor": 0
   }
  }
 },
 "nbformat": 4,
 "nbformat_minor": 4
}
