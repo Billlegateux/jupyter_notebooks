{
 "cells": [
  {
   "cell_type": "markdown",
   "metadata": {
    "slideshow": {
     "slide_type": "slide"
    }
   },
   "source": [
    "# Agenda for Jupyter\n",
    "<img src=\"https://jupyter.org/assets/main-logo.svg\" style=\"float:right;height:240pt\"/>\n",
    "\n",
    "1. Configure Your Settings\n",
    "1. Connect to Snowflake\n",
    "1. Query Snowflake Data\n",
    "1. Parametrizing Queries\n",
    "1. Stat Plan Python Routines\n",
    "1. Manipulating Pandas DataFrames\n"
   ]
  },
  {
   "cell_type": "markdown",
   "metadata": {
    "slideshow": {
     "slide_type": "slide"
    }
   },
   "source": [
    "## Configure Your Settings"
   ]
  },
  {
   "cell_type": "markdown",
   "metadata": {
    "slideshow": {
     "slide_type": "fragment"
    }
   },
   "source": [
    "Navigate to **📁 / aeconf / aeuser.txt**"
   ]
  },
  {
   "cell_type": "markdown",
   "metadata": {
    "slideshow": {
     "slide_type": "fragment"
    }
   },
   "source": [
    "**Lines 18-22 are the same for everyone:**\n",
    "\n",
    "```\n",
    "## Snowflake\n",
    "## ----------------\n",
    "SFAUTHENTICATOR='https://verisk.okta.com'\n",
    "SFACCOUNT='verisk.us-east-1.privatelink'\n",
    "SFWAREHOUSE='IPO_ANALYTICS_WH'\n",
    "```"
   ]
  },
  {
   "cell_type": "markdown",
   "metadata": {
    "slideshow": {
     "slide_type": "fragment"
    }
   },
   "source": [
    "```\n",
    "SFDATABASE='YOUR_GROUP_DATABASE'\n",
    "SFSCHEMA='YOUR_SCHEMA_CREATED_EARLIER'\n",
    "SFUSER='YOUR-i-NUMBER'\n",
    "SFROLE='YOUR_ROLE'\n",
    "```"
   ]
  },
  {
   "cell_type": "markdown",
   "metadata": {
    "slideshow": {
     "slide_type": "slide"
    }
   },
   "source": [
    "## Connect to Snowflake"
   ]
  },
  {
   "cell_type": "code",
   "execution_count": null,
   "metadata": {
    "ExecuteTime": {
     "end_time": "2020-04-06T14:55:15.915834Z",
     "start_time": "2020-04-06T14:55:15.585783Z"
    },
    "code_folding": [],
    "slideshow": {
     "slide_type": "fragment"
    }
   },
   "outputs": [],
   "source": [
    "# System packages imports\n",
    "import os\n",
    "import pandas as pd\n",
    "from getpass import getpass"
   ]
  },
  {
   "cell_type": "code",
   "execution_count": null,
   "metadata": {
    "ExecuteTime": {
     "end_time": "2020-04-06T14:55:17.247873Z",
     "start_time": "2020-04-06T14:55:16.824597Z"
    }
   },
   "outputs": [],
   "source": [
    "# Import our in-house package to connect to Snowflake\n",
    "import sfcommon.sfdb as sf"
   ]
  },
  {
   "cell_type": "code",
   "execution_count": null,
   "metadata": {
    "ExecuteTime": {
     "end_time": "2020-04-06T14:55:22.377888Z",
     "start_time": "2020-04-06T14:55:17.961251Z"
    }
   },
   "outputs": [
    {
     "name": "stdin",
     "output_type": "stream",
     "text": [
      "Password:  ············\n"
     ]
    }
   ],
   "source": [
    "# Prompt your password since we did not save it in aeconf.txt\n",
    "# Reference: https://docs.python.org/3.7/library/getpass.html\n",
    "os.environ['SFPASSWORD'] = getpass(prompt='Password: ', stream=None)"
   ]
  },
  {
   "cell_type": "code",
   "execution_count": null,
   "metadata": {
    "ExecuteTime": {
     "end_time": "2020-04-06T14:55:28.814457Z",
     "start_time": "2020-04-06T14:55:27.289663Z"
    },
    "slideshow": {
     "slide_type": "fragment"
    }
   },
   "outputs": [],
   "source": [
    "# This will read aeconf.txt settings that we configured earlier,\n",
    "# and use those settings to initailize a connection to Snowflake database\n",
    "# Reference: https://docs.snowflake.com/en/user-guide/python-connector.html\n",
    "sf_conn = sf.get_connect()"
   ]
  },
  {
   "cell_type": "code",
   "execution_count": null,
   "metadata": {
    "ExecuteTime": {
     "end_time": "2020-04-06T14:55:30.615902Z",
     "start_time": "2020-04-06T14:55:30.514211Z"
    }
   },
   "outputs": [
    {
     "data": {
      "application/javascript": [
       "\n",
       "    require(['notebook/js/codecell'], function(codecell) {\n",
       "      // https://github.com/jupyter/notebook/issues/2453\n",
       "      codecell.CodeCell.options_default.highlight_modes['magic_text/x-sql'] = {'reg':[/^%read_sql/, /.*=\\s*%read_sql/,\n",
       "                                                                                      /^%%read_sql/]};\n",
       "      Jupyter.notebook.events.one('kernel_ready.Kernel', function(){\n",
       "          console.log('BBBBB');\n",
       "          Jupyter.notebook.get_cells().map(function(cell){\n",
       "              if (cell.cell_type == 'code'){ cell.auto_highlight(); } }) ;\n",
       "      });\n",
       "    });\n",
       "    "
      ]
     },
     "metadata": {},
     "output_type": "display_data"
    }
   ],
   "source": [
    "# This will enable you to perform sql_magic in your notebook. \n",
    "# sql_magic is Jupyter magic for writing SQL to interact with relational databases. \n",
    "# Query results are saved directly to a Pandas dataframe.\n",
    "# Reference: https://github.com/pivotal-legacy/sql_magic\n",
    "%reload_ext sql_magic\n",
    "%config SQL.conn_name = 'sf_conn' # we defined sf_conn in the cell above"
   ]
  },
  {
   "cell_type": "markdown",
   "metadata": {
    "slideshow": {
     "slide_type": "slide"
    }
   },
   "source": [
    "## Query Snowflake Data"
   ]
  },
  {
   "cell_type": "markdown",
   "metadata": {},
   "source": [
    "How many records are in our dataset?"
   ]
  },
  {
   "cell_type": "code",
   "execution_count": null,
   "metadata": {
    "ExecuteTime": {
     "end_time": "2020-04-06T14:56:16.417827Z",
     "start_time": "2020-04-06T14:56:16.253208Z"
    }
   },
   "outputs": [
    {
     "name": "stdout",
     "output_type": "stream",
     "text": [
      "Query started at 10:56:16 AM EDT; Query executed in 0.00 m"
     ]
    },
    {
     "data": {
      "text/html": [
       "<div>\n",
       "<style scoped>\n",
       "    .dataframe tbody tr th:only-of-type {\n",
       "        vertical-align: middle;\n",
       "    }\n",
       "\n",
       "    .dataframe tbody tr th {\n",
       "        vertical-align: top;\n",
       "    }\n",
       "\n",
       "    .dataframe thead th {\n",
       "        text-align: right;\n",
       "    }\n",
       "</style>\n",
       "<table border=\"1\" class=\"dataframe\">\n",
       "  <thead>\n",
       "    <tr style=\"text-align: right;\">\n",
       "      <th></th>\n",
       "      <th>CNT</th>\n",
       "    </tr>\n",
       "  </thead>\n",
       "  <tbody>\n",
       "    <tr>\n",
       "      <th>0</th>\n",
       "      <td>1263221</td>\n",
       "    </tr>\n",
       "  </tbody>\n",
       "</table>\n",
       "</div>"
      ],
      "text/plain": [
       "       CNT\n",
       "0  1263221"
      ]
     },
     "execution_count": null,
     "metadata": {},
     "output_type": "execute_result"
    }
   ],
   "source": [
    "%%read_sql\n",
    "SELECT count(1) as cnt\n",
    "FROM IPO_DEAL_DB.Q1_2020_TRAINING.BLDG_CONT_PREM_SUBSET"
   ]
  },
  {
   "cell_type": "markdown",
   "metadata": {},
   "source": [
    "What's the aggregate premium amount and policy count per (constr_mtrl, st, inc_yr) grouping?\n",
    "\n",
    "A unique policy is assumed to be defined as having distinct (tl_grp, co, prem_rec_id, inc_yr) values"
   ]
  },
  {
   "cell_type": "code",
   "execution_count": null,
   "metadata": {
    "ExecuteTime": {
     "end_time": "2020-04-06T15:01:19.022535Z",
     "start_time": "2020-04-06T15:01:17.785062Z"
    },
    "slideshow": {
     "slide_type": "subslide"
    }
   },
   "outputs": [
    {
     "name": "stdout",
     "output_type": "stream",
     "text": [
      "Query started at 11:01:17 AM EDT; Query executed in 0.02 m"
     ]
    }
   ],
   "source": [
    "%%read_sql -d df_input_selections\n",
    "SELECT \n",
    "  constr_mtrl,\n",
    "  st,\n",
    "  inc_yr,\n",
    "  SUM(prem_amt) AS prem_amt, -- aggregate premium amounts\n",
    "  SUM(expo) AS expo, -- aggregate exposure\n",
    "  COUNT(DISTINCT(tl_grp||co||prem_rec_id||inc_yr)) AS pol_cnt -- count of unique policies\n",
    "FROM \n",
    "  IPO_DEAL_DB.Q1_2020_TRAINING.BLDG_CONT_PREM_SUBSET\n",
    "WHERE\n",
    "  (inc_yr::INTEGER BETWEEN 2014 AND 2018) AND -- filter to records with inception year between 2014 and 2018\n",
    "  closeout_date <= 20192 AND -- filter to closeout as of 20192\n",
    "  bldg_cont_cov_id = 'bldg' AND -- filter to 'bldg' coverage records\n",
    "  liab_prop_cov_id IN ('prop', 'comb') AND -- filter to 'prop' and 'comb' coverage records\n",
    "  terror_cov_cd NOT IN ('7', '8') AND -- exclude certain terror coverages '7' and '8'\n",
    "  asgnd_sev IN ('0', '1') -- only severity of 0 or 1 has data quality worth processing\n",
    "GROUP BY \n",
    "  constr_mtrl, st, inc_yr\n",
    "ORDER BY \n",
    "  constr_mtrl, st, inc_yr;"
   ]
  },
  {
   "cell_type": "code",
   "execution_count": null,
   "metadata": {
    "ExecuteTime": {
     "end_time": "2020-04-06T15:01:32.303103Z",
     "start_time": "2020-04-06T15:01:32.289324Z"
    },
    "slideshow": {
     "slide_type": "subslide"
    }
   },
   "outputs": [
    {
     "data": {
      "text/html": [
       "<div>\n",
       "<style scoped>\n",
       "    .dataframe tbody tr th:only-of-type {\n",
       "        vertical-align: middle;\n",
       "    }\n",
       "\n",
       "    .dataframe tbody tr th {\n",
       "        vertical-align: top;\n",
       "    }\n",
       "\n",
       "    .dataframe thead th {\n",
       "        text-align: right;\n",
       "    }\n",
       "</style>\n",
       "<table border=\"1\" class=\"dataframe\">\n",
       "  <thead>\n",
       "    <tr style=\"text-align: right;\">\n",
       "      <th></th>\n",
       "      <th>CONSTR_MTRL</th>\n",
       "      <th>ST</th>\n",
       "      <th>INC_YR</th>\n",
       "      <th>PREM_AMT</th>\n",
       "      <th>EXPO</th>\n",
       "      <th>POL_CNT</th>\n",
       "    </tr>\n",
       "  </thead>\n",
       "  <tbody>\n",
       "    <tr>\n",
       "      <th>0</th>\n",
       "      <td>fire resistive</td>\n",
       "      <td>19</td>\n",
       "      <td>2014</td>\n",
       "      <td>399727.0</td>\n",
       "      <td>4105155.0</td>\n",
       "      <td>107</td>\n",
       "    </tr>\n",
       "    <tr>\n",
       "      <th>1</th>\n",
       "      <td>fire resistive</td>\n",
       "      <td>19</td>\n",
       "      <td>2015</td>\n",
       "      <td>495395.0</td>\n",
       "      <td>4991156.0</td>\n",
       "      <td>109</td>\n",
       "    </tr>\n",
       "    <tr>\n",
       "      <th>2</th>\n",
       "      <td>fire resistive</td>\n",
       "      <td>19</td>\n",
       "      <td>2016</td>\n",
       "      <td>658596.0</td>\n",
       "      <td>6767995.0</td>\n",
       "      <td>106</td>\n",
       "    </tr>\n",
       "    <tr>\n",
       "      <th>3</th>\n",
       "      <td>fire resistive</td>\n",
       "      <td>19</td>\n",
       "      <td>2017</td>\n",
       "      <td>644850.0</td>\n",
       "      <td>6599928.0</td>\n",
       "      <td>107</td>\n",
       "    </tr>\n",
       "    <tr>\n",
       "      <th>4</th>\n",
       "      <td>fire resistive</td>\n",
       "      <td>19</td>\n",
       "      <td>2018</td>\n",
       "      <td>688464.0</td>\n",
       "      <td>6218659.0</td>\n",
       "      <td>107</td>\n",
       "    </tr>\n",
       "    <tr>\n",
       "      <th>5</th>\n",
       "      <td>frame</td>\n",
       "      <td>19</td>\n",
       "      <td>2014</td>\n",
       "      <td>5426771.0</td>\n",
       "      <td>28841413.0</td>\n",
       "      <td>2063</td>\n",
       "    </tr>\n",
       "    <tr>\n",
       "      <th>6</th>\n",
       "      <td>frame</td>\n",
       "      <td>19</td>\n",
       "      <td>2015</td>\n",
       "      <td>6124989.0</td>\n",
       "      <td>34580610.0</td>\n",
       "      <td>2070</td>\n",
       "    </tr>\n",
       "    <tr>\n",
       "      <th>7</th>\n",
       "      <td>frame</td>\n",
       "      <td>19</td>\n",
       "      <td>2016</td>\n",
       "      <td>7168403.0</td>\n",
       "      <td>41661453.0</td>\n",
       "      <td>2061</td>\n",
       "    </tr>\n",
       "    <tr>\n",
       "      <th>8</th>\n",
       "      <td>frame</td>\n",
       "      <td>19</td>\n",
       "      <td>2017</td>\n",
       "      <td>7908189.0</td>\n",
       "      <td>48697337.0</td>\n",
       "      <td>2030</td>\n",
       "    </tr>\n",
       "    <tr>\n",
       "      <th>9</th>\n",
       "      <td>frame</td>\n",
       "      <td>19</td>\n",
       "      <td>2018</td>\n",
       "      <td>8495693.0</td>\n",
       "      <td>52784555.0</td>\n",
       "      <td>2022</td>\n",
       "    </tr>\n",
       "    <tr>\n",
       "      <th>10</th>\n",
       "      <td>joisted masonry</td>\n",
       "      <td>19</td>\n",
       "      <td>2014</td>\n",
       "      <td>6309872.0</td>\n",
       "      <td>28599688.0</td>\n",
       "      <td>2689</td>\n",
       "    </tr>\n",
       "    <tr>\n",
       "      <th>11</th>\n",
       "      <td>joisted masonry</td>\n",
       "      <td>19</td>\n",
       "      <td>2015</td>\n",
       "      <td>6599896.0</td>\n",
       "      <td>29872971.0</td>\n",
       "      <td>2622</td>\n",
       "    </tr>\n",
       "    <tr>\n",
       "      <th>12</th>\n",
       "      <td>joisted masonry</td>\n",
       "      <td>19</td>\n",
       "      <td>2016</td>\n",
       "      <td>6871030.0</td>\n",
       "      <td>33589382.0</td>\n",
       "      <td>2533</td>\n",
       "    </tr>\n",
       "    <tr>\n",
       "      <th>13</th>\n",
       "      <td>joisted masonry</td>\n",
       "      <td>19</td>\n",
       "      <td>2017</td>\n",
       "      <td>7092819.0</td>\n",
       "      <td>37285829.0</td>\n",
       "      <td>2503</td>\n",
       "    </tr>\n",
       "    <tr>\n",
       "      <th>14</th>\n",
       "      <td>joisted masonry</td>\n",
       "      <td>19</td>\n",
       "      <td>2018</td>\n",
       "      <td>7462963.0</td>\n",
       "      <td>40569766.0</td>\n",
       "      <td>2444</td>\n",
       "    </tr>\n",
       "    <tr>\n",
       "      <th>15</th>\n",
       "      <td>masonry non-combustible</td>\n",
       "      <td>19</td>\n",
       "      <td>2014</td>\n",
       "      <td>4015886.0</td>\n",
       "      <td>31583871.0</td>\n",
       "      <td>1379</td>\n",
       "    </tr>\n",
       "    <tr>\n",
       "      <th>16</th>\n",
       "      <td>masonry non-combustible</td>\n",
       "      <td>19</td>\n",
       "      <td>2015</td>\n",
       "      <td>4217716.0</td>\n",
       "      <td>32582673.0</td>\n",
       "      <td>1367</td>\n",
       "    </tr>\n",
       "    <tr>\n",
       "      <th>17</th>\n",
       "      <td>masonry non-combustible</td>\n",
       "      <td>19</td>\n",
       "      <td>2016</td>\n",
       "      <td>4399870.0</td>\n",
       "      <td>34878065.0</td>\n",
       "      <td>1370</td>\n",
       "    </tr>\n",
       "    <tr>\n",
       "      <th>18</th>\n",
       "      <td>masonry non-combustible</td>\n",
       "      <td>19</td>\n",
       "      <td>2017</td>\n",
       "      <td>4530342.0</td>\n",
       "      <td>38104767.0</td>\n",
       "      <td>1398</td>\n",
       "    </tr>\n",
       "    <tr>\n",
       "      <th>19</th>\n",
       "      <td>masonry non-combustible</td>\n",
       "      <td>19</td>\n",
       "      <td>2018</td>\n",
       "      <td>4663902.0</td>\n",
       "      <td>39830316.0</td>\n",
       "      <td>1362</td>\n",
       "    </tr>\n",
       "    <tr>\n",
       "      <th>20</th>\n",
       "      <td>modified firse resistive</td>\n",
       "      <td>19</td>\n",
       "      <td>2014</td>\n",
       "      <td>36918.0</td>\n",
       "      <td>267607.0</td>\n",
       "      <td>14</td>\n",
       "    </tr>\n",
       "    <tr>\n",
       "      <th>21</th>\n",
       "      <td>modified firse resistive</td>\n",
       "      <td>19</td>\n",
       "      <td>2015</td>\n",
       "      <td>51766.0</td>\n",
       "      <td>284136.0</td>\n",
       "      <td>13</td>\n",
       "    </tr>\n",
       "    <tr>\n",
       "      <th>22</th>\n",
       "      <td>modified firse resistive</td>\n",
       "      <td>19</td>\n",
       "      <td>2016</td>\n",
       "      <td>61838.0</td>\n",
       "      <td>413889.0</td>\n",
       "      <td>14</td>\n",
       "    </tr>\n",
       "    <tr>\n",
       "      <th>23</th>\n",
       "      <td>modified firse resistive</td>\n",
       "      <td>19</td>\n",
       "      <td>2017</td>\n",
       "      <td>83263.0</td>\n",
       "      <td>524641.0</td>\n",
       "      <td>15</td>\n",
       "    </tr>\n",
       "    <tr>\n",
       "      <th>24</th>\n",
       "      <td>modified firse resistive</td>\n",
       "      <td>19</td>\n",
       "      <td>2018</td>\n",
       "      <td>123527.0</td>\n",
       "      <td>975919.0</td>\n",
       "      <td>18</td>\n",
       "    </tr>\n",
       "    <tr>\n",
       "      <th>25</th>\n",
       "      <td>non-combustible</td>\n",
       "      <td>19</td>\n",
       "      <td>2014</td>\n",
       "      <td>1356293.0</td>\n",
       "      <td>8619992.0</td>\n",
       "      <td>573</td>\n",
       "    </tr>\n",
       "    <tr>\n",
       "      <th>26</th>\n",
       "      <td>non-combustible</td>\n",
       "      <td>19</td>\n",
       "      <td>2015</td>\n",
       "      <td>1423928.0</td>\n",
       "      <td>8696385.0</td>\n",
       "      <td>550</td>\n",
       "    </tr>\n",
       "    <tr>\n",
       "      <th>27</th>\n",
       "      <td>non-combustible</td>\n",
       "      <td>19</td>\n",
       "      <td>2016</td>\n",
       "      <td>1411952.0</td>\n",
       "      <td>9553058.0</td>\n",
       "      <td>536</td>\n",
       "    </tr>\n",
       "    <tr>\n",
       "      <th>28</th>\n",
       "      <td>non-combustible</td>\n",
       "      <td>19</td>\n",
       "      <td>2017</td>\n",
       "      <td>1557773.0</td>\n",
       "      <td>11307510.0</td>\n",
       "      <td>553</td>\n",
       "    </tr>\n",
       "    <tr>\n",
       "      <th>29</th>\n",
       "      <td>non-combustible</td>\n",
       "      <td>19</td>\n",
       "      <td>2018</td>\n",
       "      <td>1621762.0</td>\n",
       "      <td>12360553.0</td>\n",
       "      <td>548</td>\n",
       "    </tr>\n",
       "  </tbody>\n",
       "</table>\n",
       "</div>"
      ],
      "text/plain": [
       "                 CONSTR_MTRL  ST INC_YR   PREM_AMT        EXPO  POL_CNT\n",
       "0             fire resistive  19   2014   399727.0   4105155.0      107\n",
       "1             fire resistive  19   2015   495395.0   4991156.0      109\n",
       "2             fire resistive  19   2016   658596.0   6767995.0      106\n",
       "3             fire resistive  19   2017   644850.0   6599928.0      107\n",
       "4             fire resistive  19   2018   688464.0   6218659.0      107\n",
       "5                      frame  19   2014  5426771.0  28841413.0     2063\n",
       "6                      frame  19   2015  6124989.0  34580610.0     2070\n",
       "7                      frame  19   2016  7168403.0  41661453.0     2061\n",
       "8                      frame  19   2017  7908189.0  48697337.0     2030\n",
       "9                      frame  19   2018  8495693.0  52784555.0     2022\n",
       "10           joisted masonry  19   2014  6309872.0  28599688.0     2689\n",
       "11           joisted masonry  19   2015  6599896.0  29872971.0     2622\n",
       "12           joisted masonry  19   2016  6871030.0  33589382.0     2533\n",
       "13           joisted masonry  19   2017  7092819.0  37285829.0     2503\n",
       "14           joisted masonry  19   2018  7462963.0  40569766.0     2444\n",
       "15   masonry non-combustible  19   2014  4015886.0  31583871.0     1379\n",
       "16   masonry non-combustible  19   2015  4217716.0  32582673.0     1367\n",
       "17   masonry non-combustible  19   2016  4399870.0  34878065.0     1370\n",
       "18   masonry non-combustible  19   2017  4530342.0  38104767.0     1398\n",
       "19   masonry non-combustible  19   2018  4663902.0  39830316.0     1362\n",
       "20  modified firse resistive  19   2014    36918.0    267607.0       14\n",
       "21  modified firse resistive  19   2015    51766.0    284136.0       13\n",
       "22  modified firse resistive  19   2016    61838.0    413889.0       14\n",
       "23  modified firse resistive  19   2017    83263.0    524641.0       15\n",
       "24  modified firse resistive  19   2018   123527.0    975919.0       18\n",
       "25           non-combustible  19   2014  1356293.0   8619992.0      573\n",
       "26           non-combustible  19   2015  1423928.0   8696385.0      550\n",
       "27           non-combustible  19   2016  1411952.0   9553058.0      536\n",
       "28           non-combustible  19   2017  1557773.0  11307510.0      553\n",
       "29           non-combustible  19   2018  1621762.0  12360553.0      548"
      ]
     },
     "execution_count": null,
     "metadata": {},
     "output_type": "execute_result"
    }
   ],
   "source": [
    "df_input_selections  # contains results of our last query"
   ]
  },
  {
   "cell_type": "code",
   "execution_count": null,
   "metadata": {
    "ExecuteTime": {
     "end_time": "2020-04-06T15:03:57.817856Z",
     "start_time": "2020-04-06T15:03:57.814106Z"
    }
   },
   "outputs": [
    {
     "data": {
      "text/plain": [
       "pandas.core.frame.DataFrame"
      ]
     },
     "execution_count": null,
     "metadata": {},
     "output_type": "execute_result"
    }
   ],
   "source": [
    "type(df_input_selections)"
   ]
  },
  {
   "cell_type": "markdown",
   "metadata": {
    "slideshow": {
     "slide_type": "subslide"
    }
   },
   "source": [
    "### Quick Note on Magic Commands: `%` and `%%`"
   ]
  },
  {
   "cell_type": "code",
   "execution_count": null,
   "metadata": {
    "ExecuteTime": {
     "end_time": "2020-04-06T15:06:55.401238Z",
     "start_time": "2020-04-06T15:06:55.397257Z"
    },
    "slideshow": {
     "slide_type": "fragment"
    }
   },
   "outputs": [],
   "source": [
    "%%read_sql\n",
    "-- Description of my code\n",
    "/*\n",
    "Must use SQL-style comments because %%read_sql tells Jupyter to treat this whole cell as SQL\n",
    "\n",
    "nothing is allowed above %%read_sql\n",
    "\n",
    "and no Python is allowed in this cell\n",
    "*/"
   ]
  },
  {
   "cell_type": "code",
   "execution_count": null,
   "metadata": {
    "ExecuteTime": {
     "end_time": "2020-04-06T15:07:10.920878Z",
     "start_time": "2020-04-06T15:07:10.436723Z"
    },
    "slideshow": {
     "slide_type": "subslide"
    }
   },
   "outputs": [
    {
     "name": "stdout",
     "output_type": "stream",
     "text": [
      "Query started at 11:07:10 AM EDT; Query executed in 0.01 m"
     ]
    },
    {
     "data": {
      "text/html": [
       "<div>\n",
       "<style scoped>\n",
       "    .dataframe tbody tr th:only-of-type {\n",
       "        vertical-align: middle;\n",
       "    }\n",
       "\n",
       "    .dataframe tbody tr th {\n",
       "        vertical-align: top;\n",
       "    }\n",
       "\n",
       "    .dataframe thead th {\n",
       "        text-align: right;\n",
       "    }\n",
       "</style>\n",
       "<table border=\"1\" class=\"dataframe\">\n",
       "  <thead>\n",
       "    <tr style=\"text-align: right;\">\n",
       "      <th></th>\n",
       "      <th>COUNT(1)</th>\n",
       "    </tr>\n",
       "  </thead>\n",
       "  <tbody>\n",
       "    <tr>\n",
       "      <th>0</th>\n",
       "      <td>1263221</td>\n",
       "    </tr>\n",
       "  </tbody>\n",
       "</table>\n",
       "</div>"
      ],
      "text/plain": [
       "   COUNT(1)\n",
       "0   1263221"
      ]
     },
     "execution_count": null,
     "metadata": {},
     "output_type": "execute_result"
    }
   ],
   "source": [
    "print('This passes!')\n",
    "\n",
    "%read_sql SELECT COUNT(1) FROM IPO_DEAL_DB.Q1_2020_TRAINING.BLDG_CONT_PREM_SUBSET;"
   ]
  },
  {
   "cell_type": "markdown",
   "metadata": {
    "slideshow": {
     "slide_type": "slide"
    }
   },
   "source": [
    "## Parametrizing Queries: Using Python Variables in SQL\n",
    "Previous code requires you to manually update SQL to run with new filter conditions, but we can do better."
   ]
  },
  {
   "cell_type": "code",
   "execution_count": null,
   "metadata": {
    "ExecuteTime": {
     "end_time": "2020-04-06T15:16:30.368969Z",
     "start_time": "2020-04-06T15:16:30.365996Z"
    }
   },
   "outputs": [],
   "source": [
    "# Let's define some varaibles in Python\n",
    "input_relation = 'IPO_DEAL_DB.Q1_2020_TRAINING.BLDG_CONT_PREM_SUBSET'\n",
    "my_table_name = 'input_selections_i26250'\n",
    "inc_start_yr = 2014\n",
    "inc_end_yr = 2018\n",
    "closeout_date = 20192\n",
    "bldg_cont_cov_id = 'bldg'"
   ]
  },
  {
   "cell_type": "code",
   "execution_count": null,
   "metadata": {
    "ExecuteTime": {
     "end_time": "2020-04-06T15:11:13.202726Z",
     "start_time": "2020-04-06T15:11:11.922451Z"
    },
    "slideshow": {
     "slide_type": "fragment"
    }
   },
   "outputs": [
    {
     "name": "stdout",
     "output_type": "stream",
     "text": [
      "Query started at 11:11:11 AM EDT; Query executed in 0.02 m"
     ]
    },
    {
     "data": {
      "text/html": [
       "<div>\n",
       "<style scoped>\n",
       "    .dataframe tbody tr th:only-of-type {\n",
       "        vertical-align: middle;\n",
       "    }\n",
       "\n",
       "    .dataframe tbody tr th {\n",
       "        vertical-align: top;\n",
       "    }\n",
       "\n",
       "    .dataframe thead th {\n",
       "        text-align: right;\n",
       "    }\n",
       "</style>\n",
       "<table border=\"1\" class=\"dataframe\">\n",
       "  <thead>\n",
       "    <tr style=\"text-align: right;\">\n",
       "      <th></th>\n",
       "      <th>status</th>\n",
       "    </tr>\n",
       "  </thead>\n",
       "  <tbody>\n",
       "    <tr>\n",
       "      <th>0</th>\n",
       "      <td>Table INPUT_SELECTIONS_I26250 successfully cre...</td>\n",
       "    </tr>\n",
       "  </tbody>\n",
       "</table>\n",
       "</div>"
      ],
      "text/plain": [
       "                                              status\n",
       "0  Table INPUT_SELECTIONS_I26250 successfully cre..."
      ]
     },
     "execution_count": null,
     "metadata": {},
     "output_type": "execute_result"
    }
   ],
   "source": [
    "%%read_sql\n",
    "CREATE OR REPLACE TEMP TABLE {my_table_name} AS (\n",
    "    SELECT \n",
    "      inc_yr, st, constr_mtrl, \n",
    "      SUM(prem_amt) AS prem_amt,\n",
    "      SUM(expo) AS expo,\n",
    "      COUNT(DISTINCT(tl_grp||co||prem_rec_id||inc_yr)) AS pol_cnt\n",
    "    FROM \n",
    "      {input_relation}\n",
    "    WHERE\n",
    "      inc_yr::INTEGER BETWEEN {inc_start_yr}  AND {inc_end_yr} AND\n",
    "      closeout_date <= {closeout_date} AND\n",
    "      lower(bldg_cont_cov_id) = '{bldg_cont_cov_id}' AND\n",
    "      lower(liab_prop_cov_id) IN ('prop', 'comb') AND\n",
    "      terror_cov_cd NOT IN ('7', '8') AND\n",
    "      asgnd_sev IN ('0', '1')\n",
    "    GROUP BY \n",
    "      constr_mtrl, st, inc_yr\n",
    "    ORDER BY \n",
    "      constr_mtrl, st, inc_yr\n",
    ");"
   ]
  },
  {
   "cell_type": "code",
   "execution_count": null,
   "metadata": {
    "ExecuteTime": {
     "end_time": "2020-04-06T15:12:12.097659Z",
     "start_time": "2020-04-06T15:12:10.670276Z"
    }
   },
   "outputs": [
    {
     "name": "stdout",
     "output_type": "stream",
     "text": [
      "Query started at 11:12:10 AM EDT; Query executed in 0.02 m"
     ]
    },
    {
     "data": {
      "text/html": [
       "<div>\n",
       "<style scoped>\n",
       "    .dataframe tbody tr th:only-of-type {\n",
       "        vertical-align: middle;\n",
       "    }\n",
       "\n",
       "    .dataframe tbody tr th {\n",
       "        vertical-align: top;\n",
       "    }\n",
       "\n",
       "    .dataframe thead th {\n",
       "        text-align: right;\n",
       "    }\n",
       "</style>\n",
       "<table border=\"1\" class=\"dataframe\">\n",
       "  <thead>\n",
       "    <tr style=\"text-align: right;\">\n",
       "      <th></th>\n",
       "      <th>INC_YR</th>\n",
       "      <th>ST</th>\n",
       "      <th>CONSTR_MTRL</th>\n",
       "      <th>PREM_AMT</th>\n",
       "      <th>EXPO</th>\n",
       "      <th>POL_CNT</th>\n",
       "    </tr>\n",
       "  </thead>\n",
       "  <tbody>\n",
       "    <tr>\n",
       "      <th>0</th>\n",
       "      <td>2018</td>\n",
       "      <td>19</td>\n",
       "      <td>joisted masonry</td>\n",
       "      <td>7462963.0</td>\n",
       "      <td>40569766.0</td>\n",
       "      <td>2444</td>\n",
       "    </tr>\n",
       "    <tr>\n",
       "      <th>1</th>\n",
       "      <td>2014</td>\n",
       "      <td>19</td>\n",
       "      <td>masonry non-combustible</td>\n",
       "      <td>4015886.0</td>\n",
       "      <td>31583871.0</td>\n",
       "      <td>1379</td>\n",
       "    </tr>\n",
       "    <tr>\n",
       "      <th>2</th>\n",
       "      <td>2016</td>\n",
       "      <td>19</td>\n",
       "      <td>masonry non-combustible</td>\n",
       "      <td>4399870.0</td>\n",
       "      <td>34878065.0</td>\n",
       "      <td>1370</td>\n",
       "    </tr>\n",
       "    <tr>\n",
       "      <th>3</th>\n",
       "      <td>2014</td>\n",
       "      <td>19</td>\n",
       "      <td>non-combustible</td>\n",
       "      <td>1356293.0</td>\n",
       "      <td>8619992.0</td>\n",
       "      <td>573</td>\n",
       "    </tr>\n",
       "    <tr>\n",
       "      <th>4</th>\n",
       "      <td>2014</td>\n",
       "      <td>19</td>\n",
       "      <td>fire resistive</td>\n",
       "      <td>399727.0</td>\n",
       "      <td>4105155.0</td>\n",
       "      <td>107</td>\n",
       "    </tr>\n",
       "    <tr>\n",
       "      <th>5</th>\n",
       "      <td>2015</td>\n",
       "      <td>19</td>\n",
       "      <td>fire resistive</td>\n",
       "      <td>495395.0</td>\n",
       "      <td>4991156.0</td>\n",
       "      <td>109</td>\n",
       "    </tr>\n",
       "    <tr>\n",
       "      <th>6</th>\n",
       "      <td>2016</td>\n",
       "      <td>19</td>\n",
       "      <td>fire resistive</td>\n",
       "      <td>658596.0</td>\n",
       "      <td>6767995.0</td>\n",
       "      <td>106</td>\n",
       "    </tr>\n",
       "    <tr>\n",
       "      <th>7</th>\n",
       "      <td>2018</td>\n",
       "      <td>19</td>\n",
       "      <td>frame</td>\n",
       "      <td>8495693.0</td>\n",
       "      <td>52784555.0</td>\n",
       "      <td>2022</td>\n",
       "    </tr>\n",
       "    <tr>\n",
       "      <th>8</th>\n",
       "      <td>2017</td>\n",
       "      <td>19</td>\n",
       "      <td>modified firse resistive</td>\n",
       "      <td>83263.0</td>\n",
       "      <td>524641.0</td>\n",
       "      <td>15</td>\n",
       "    </tr>\n",
       "    <tr>\n",
       "      <th>9</th>\n",
       "      <td>2017</td>\n",
       "      <td>19</td>\n",
       "      <td>joisted masonry</td>\n",
       "      <td>7092819.0</td>\n",
       "      <td>37285829.0</td>\n",
       "      <td>2503</td>\n",
       "    </tr>\n",
       "    <tr>\n",
       "      <th>10</th>\n",
       "      <td>2018</td>\n",
       "      <td>19</td>\n",
       "      <td>modified firse resistive</td>\n",
       "      <td>123527.0</td>\n",
       "      <td>975919.0</td>\n",
       "      <td>18</td>\n",
       "    </tr>\n",
       "    <tr>\n",
       "      <th>11</th>\n",
       "      <td>2018</td>\n",
       "      <td>19</td>\n",
       "      <td>non-combustible</td>\n",
       "      <td>1621762.0</td>\n",
       "      <td>12360553.0</td>\n",
       "      <td>548</td>\n",
       "    </tr>\n",
       "    <tr>\n",
       "      <th>12</th>\n",
       "      <td>2016</td>\n",
       "      <td>19</td>\n",
       "      <td>non-combustible</td>\n",
       "      <td>1411952.0</td>\n",
       "      <td>9553058.0</td>\n",
       "      <td>536</td>\n",
       "    </tr>\n",
       "    <tr>\n",
       "      <th>13</th>\n",
       "      <td>2017</td>\n",
       "      <td>19</td>\n",
       "      <td>non-combustible</td>\n",
       "      <td>1557773.0</td>\n",
       "      <td>11307510.0</td>\n",
       "      <td>553</td>\n",
       "    </tr>\n",
       "    <tr>\n",
       "      <th>14</th>\n",
       "      <td>2015</td>\n",
       "      <td>19</td>\n",
       "      <td>joisted masonry</td>\n",
       "      <td>6599896.0</td>\n",
       "      <td>29872971.0</td>\n",
       "      <td>2622</td>\n",
       "    </tr>\n",
       "    <tr>\n",
       "      <th>15</th>\n",
       "      <td>2014</td>\n",
       "      <td>19</td>\n",
       "      <td>frame</td>\n",
       "      <td>5426771.0</td>\n",
       "      <td>28841413.0</td>\n",
       "      <td>2063</td>\n",
       "    </tr>\n",
       "    <tr>\n",
       "      <th>16</th>\n",
       "      <td>2017</td>\n",
       "      <td>19</td>\n",
       "      <td>frame</td>\n",
       "      <td>7908189.0</td>\n",
       "      <td>48697337.0</td>\n",
       "      <td>2030</td>\n",
       "    </tr>\n",
       "    <tr>\n",
       "      <th>17</th>\n",
       "      <td>2016</td>\n",
       "      <td>19</td>\n",
       "      <td>joisted masonry</td>\n",
       "      <td>6871030.0</td>\n",
       "      <td>33589382.0</td>\n",
       "      <td>2533</td>\n",
       "    </tr>\n",
       "    <tr>\n",
       "      <th>18</th>\n",
       "      <td>2015</td>\n",
       "      <td>19</td>\n",
       "      <td>non-combustible</td>\n",
       "      <td>1423928.0</td>\n",
       "      <td>8696385.0</td>\n",
       "      <td>550</td>\n",
       "    </tr>\n",
       "    <tr>\n",
       "      <th>19</th>\n",
       "      <td>2015</td>\n",
       "      <td>19</td>\n",
       "      <td>frame</td>\n",
       "      <td>6124989.0</td>\n",
       "      <td>34580610.0</td>\n",
       "      <td>2070</td>\n",
       "    </tr>\n",
       "    <tr>\n",
       "      <th>20</th>\n",
       "      <td>2016</td>\n",
       "      <td>19</td>\n",
       "      <td>frame</td>\n",
       "      <td>7168403.0</td>\n",
       "      <td>41661453.0</td>\n",
       "      <td>2061</td>\n",
       "    </tr>\n",
       "    <tr>\n",
       "      <th>21</th>\n",
       "      <td>2017</td>\n",
       "      <td>19</td>\n",
       "      <td>masonry non-combustible</td>\n",
       "      <td>4530342.0</td>\n",
       "      <td>38104767.0</td>\n",
       "      <td>1398</td>\n",
       "    </tr>\n",
       "    <tr>\n",
       "      <th>22</th>\n",
       "      <td>2016</td>\n",
       "      <td>19</td>\n",
       "      <td>modified firse resistive</td>\n",
       "      <td>61838.0</td>\n",
       "      <td>413889.0</td>\n",
       "      <td>14</td>\n",
       "    </tr>\n",
       "    <tr>\n",
       "      <th>23</th>\n",
       "      <td>2018</td>\n",
       "      <td>19</td>\n",
       "      <td>masonry non-combustible</td>\n",
       "      <td>4663902.0</td>\n",
       "      <td>39830316.0</td>\n",
       "      <td>1362</td>\n",
       "    </tr>\n",
       "    <tr>\n",
       "      <th>24</th>\n",
       "      <td>2014</td>\n",
       "      <td>19</td>\n",
       "      <td>joisted masonry</td>\n",
       "      <td>6309872.0</td>\n",
       "      <td>28599688.0</td>\n",
       "      <td>2689</td>\n",
       "    </tr>\n",
       "    <tr>\n",
       "      <th>25</th>\n",
       "      <td>2014</td>\n",
       "      <td>19</td>\n",
       "      <td>modified firse resistive</td>\n",
       "      <td>36918.0</td>\n",
       "      <td>267607.0</td>\n",
       "      <td>14</td>\n",
       "    </tr>\n",
       "    <tr>\n",
       "      <th>26</th>\n",
       "      <td>2015</td>\n",
       "      <td>19</td>\n",
       "      <td>modified firse resistive</td>\n",
       "      <td>51766.0</td>\n",
       "      <td>284136.0</td>\n",
       "      <td>13</td>\n",
       "    </tr>\n",
       "    <tr>\n",
       "      <th>27</th>\n",
       "      <td>2017</td>\n",
       "      <td>19</td>\n",
       "      <td>fire resistive</td>\n",
       "      <td>644850.0</td>\n",
       "      <td>6599928.0</td>\n",
       "      <td>107</td>\n",
       "    </tr>\n",
       "    <tr>\n",
       "      <th>28</th>\n",
       "      <td>2018</td>\n",
       "      <td>19</td>\n",
       "      <td>fire resistive</td>\n",
       "      <td>688464.0</td>\n",
       "      <td>6218659.0</td>\n",
       "      <td>107</td>\n",
       "    </tr>\n",
       "    <tr>\n",
       "      <th>29</th>\n",
       "      <td>2015</td>\n",
       "      <td>19</td>\n",
       "      <td>masonry non-combustible</td>\n",
       "      <td>4217716.0</td>\n",
       "      <td>32582673.0</td>\n",
       "      <td>1367</td>\n",
       "    </tr>\n",
       "  </tbody>\n",
       "</table>\n",
       "</div>"
      ],
      "text/plain": [
       "   INC_YR  ST               CONSTR_MTRL   PREM_AMT        EXPO  POL_CNT\n",
       "0    2018  19           joisted masonry  7462963.0  40569766.0     2444\n",
       "1    2014  19   masonry non-combustible  4015886.0  31583871.0     1379\n",
       "2    2016  19   masonry non-combustible  4399870.0  34878065.0     1370\n",
       "3    2014  19           non-combustible  1356293.0   8619992.0      573\n",
       "4    2014  19            fire resistive   399727.0   4105155.0      107\n",
       "5    2015  19            fire resistive   495395.0   4991156.0      109\n",
       "6    2016  19            fire resistive   658596.0   6767995.0      106\n",
       "7    2018  19                     frame  8495693.0  52784555.0     2022\n",
       "8    2017  19  modified firse resistive    83263.0    524641.0       15\n",
       "9    2017  19           joisted masonry  7092819.0  37285829.0     2503\n",
       "10   2018  19  modified firse resistive   123527.0    975919.0       18\n",
       "11   2018  19           non-combustible  1621762.0  12360553.0      548\n",
       "12   2016  19           non-combustible  1411952.0   9553058.0      536\n",
       "13   2017  19           non-combustible  1557773.0  11307510.0      553\n",
       "14   2015  19           joisted masonry  6599896.0  29872971.0     2622\n",
       "15   2014  19                     frame  5426771.0  28841413.0     2063\n",
       "16   2017  19                     frame  7908189.0  48697337.0     2030\n",
       "17   2016  19           joisted masonry  6871030.0  33589382.0     2533\n",
       "18   2015  19           non-combustible  1423928.0   8696385.0      550\n",
       "19   2015  19                     frame  6124989.0  34580610.0     2070\n",
       "20   2016  19                     frame  7168403.0  41661453.0     2061\n",
       "21   2017  19   masonry non-combustible  4530342.0  38104767.0     1398\n",
       "22   2016  19  modified firse resistive    61838.0    413889.0       14\n",
       "23   2018  19   masonry non-combustible  4663902.0  39830316.0     1362\n",
       "24   2014  19           joisted masonry  6309872.0  28599688.0     2689\n",
       "25   2014  19  modified firse resistive    36918.0    267607.0       14\n",
       "26   2015  19  modified firse resistive    51766.0    284136.0       13\n",
       "27   2017  19            fire resistive   644850.0   6599928.0      107\n",
       "28   2018  19            fire resistive   688464.0   6218659.0      107\n",
       "29   2015  19   masonry non-combustible  4217716.0  32582673.0     1367"
      ]
     },
     "execution_count": null,
     "metadata": {},
     "output_type": "execute_result"
    }
   ],
   "source": [
    "%%read_sql\n",
    "\n",
    "SELECT * FROM {my_table_name};"
   ]
  },
  {
   "cell_type": "code",
   "execution_count": null,
   "metadata": {
    "ExecuteTime": {
     "end_time": "2020-04-06T15:17:02.503376Z",
     "start_time": "2020-04-06T15:16:59.936489Z"
    }
   },
   "outputs": [
    {
     "name": "stdout",
     "output_type": "stream",
     "text": [
      "Query started at 11:16:59 AM EDT; Query executed in 0.04 m"
     ]
    },
    {
     "data": {
      "text/html": [
       "<div>\n",
       "<style scoped>\n",
       "    .dataframe tbody tr th:only-of-type {\n",
       "        vertical-align: middle;\n",
       "    }\n",
       "\n",
       "    .dataframe tbody tr th {\n",
       "        vertical-align: top;\n",
       "    }\n",
       "\n",
       "    .dataframe thead th {\n",
       "        text-align: right;\n",
       "    }\n",
       "</style>\n",
       "<table border=\"1\" class=\"dataframe\">\n",
       "  <thead>\n",
       "    <tr style=\"text-align: right;\">\n",
       "      <th></th>\n",
       "      <th>CNT</th>\n",
       "    </tr>\n",
       "  </thead>\n",
       "  <tbody>\n",
       "    <tr>\n",
       "      <th>0</th>\n",
       "      <td>30</td>\n",
       "    </tr>\n",
       "  </tbody>\n",
       "</table>\n",
       "</div>"
      ],
      "text/plain": [
       "   CNT\n",
       "0   30"
      ]
     },
     "execution_count": null,
     "metadata": {},
     "output_type": "execute_result"
    }
   ],
   "source": [
    "%read_sql SELECT COUNT(1) as cnt FROM {my_table_name};"
   ]
  },
  {
   "cell_type": "markdown",
   "metadata": {
    "slideshow": {
     "slide_type": "slide"
    }
   },
   "source": [
    "## Stat Plan Python Routines\n",
    "\n",
    "<a href=\"https://epm.verisk.com/confluence/pages/viewpage.action?pageId=177871408\">Actuarial Routines Documentation</a>\n"
   ]
  },
  {
   "cell_type": "markdown",
   "metadata": {
    "slideshow": {
     "slide_type": "subslide"
    }
   },
   "source": [
    "### Quick Note on Dictionaries"
   ]
  },
  {
   "cell_type": "code",
   "execution_count": null,
   "metadata": {
    "ExecuteTime": {
     "end_time": "2020-04-06T15:20:59.721678Z",
     "start_time": "2020-04-06T15:20:59.718108Z"
    }
   },
   "outputs": [
    {
     "name": "stdout",
     "output_type": "stream",
     "text": [
      "<class 'dict'>\n",
      "{'fname': 'Pranav', 'lname': 'Singh', 'friends': []}\n"
     ]
    }
   ],
   "source": [
    "my_dict = {'fname': 'Pranav', 'lname': 'Singh', 'friends': []}\n",
    "print(type(my_dict)) # what type of python object is 'd1'?\n",
    "print(my_dict) # print the entire dictionary"
   ]
  },
  {
   "cell_type": "code",
   "execution_count": null,
   "metadata": {
    "ExecuteTime": {
     "end_time": "2020-04-06T15:21:15.758307Z",
     "start_time": "2020-04-06T15:21:15.754811Z"
    }
   },
   "outputs": [
    {
     "data": {
      "text/plain": [
       "dict_keys(['fname', 'lname', 'friends'])"
      ]
     },
     "execution_count": null,
     "metadata": {},
     "output_type": "execute_result"
    }
   ],
   "source": [
    "# What are the dictionary keys?\n",
    "my_dict.keys()"
   ]
  },
  {
   "cell_type": "code",
   "execution_count": null,
   "metadata": {
    "ExecuteTime": {
     "end_time": "2020-04-06T15:21:28.290678Z",
     "start_time": "2020-04-06T15:21:28.286312Z"
    }
   },
   "outputs": [
    {
     "data": {
      "text/plain": [
       "dict_values(['Pranav', 'Singh', []])"
      ]
     },
     "execution_count": null,
     "metadata": {},
     "output_type": "execute_result"
    }
   ],
   "source": [
    "# What are the dictionary values?\n",
    "my_dict.values()"
   ]
  },
  {
   "cell_type": "code",
   "execution_count": null,
   "metadata": {
    "ExecuteTime": {
     "end_time": "2020-04-06T15:21:46.590137Z",
     "start_time": "2020-04-06T15:21:46.586468Z"
    }
   },
   "outputs": [
    {
     "data": {
      "text/plain": [
       "'Pranav'"
      ]
     },
     "execution_count": null,
     "metadata": {},
     "output_type": "execute_result"
    }
   ],
   "source": [
    "my_dict['fname']"
   ]
  },
  {
   "cell_type": "code",
   "execution_count": null,
   "metadata": {
    "ExecuteTime": {
     "end_time": "2020-04-06T15:22:21.156233Z",
     "start_time": "2020-04-06T15:22:21.151452Z"
    }
   },
   "outputs": [
    {
     "name": "stdout",
     "output_type": "stream",
     "text": [
      "key: fname value: Pranav\n",
      "key: lname value: Singh\n",
      "key: friends value: []\n"
     ]
    }
   ],
   "source": [
    "# Print each (key, value) item in the dictionary, line by line:\n",
    "for (key, value) in my_dict.items():\n",
    "    print('key:', key, 'value:', value)"
   ]
  },
  {
   "cell_type": "markdown",
   "metadata": {},
   "source": [
    "### Adjust Exposures by Term"
   ]
  },
  {
   "cell_type": "code",
   "execution_count": null,
   "metadata": {
    "ExecuteTime": {
     "end_time": "2020-04-06T15:22:45.170192Z",
     "start_time": "2020-04-06T15:22:45.143676Z"
    },
    "slideshow": {
     "slide_type": "fragment"
    }
   },
   "outputs": [
    {
     "name": "stdout",
     "output_type": "stream",
     "text": [
      "\n",
      "    Objective :\n",
      "        Procedure adj_expo_by_term takes as an input any premium relation and returns a relation\n",
      "        with adjusted exposure and a signed term value.\n",
      "        Depending on the exposure base reported an adjustment might be necessary to account for the term of the policy.\n",
      "        A common case is amount of insurance. If the amount of insurance is 500K and the policy is for 1 year this is\n",
      "        a significantly different exposure than if it was 500K for 1.5 years.\n",
      "        The adjustment is based on both the line of business and the exposure base and is only applied when appropriate.\n",
      "\n",
      "        For more information please look below to get documentation link .\n",
      "\n",
      "    ====================================================================================================\n",
      "    adj_expo_by_term Usage Example/Syntax :\n",
      "    ====================================================================================================\n",
      "        conn = sfdb.get_connect()   # User needs to create connection. Mandatory for further run.\n",
      "\n",
      "        input_param={'input_relation':         'ae_qa_db.ipascommon.input_adjust_expo_by_term_genliab',\n",
      "                     'lob':                    'genliab',\n",
      "                     'signed_term_indicator':  'y',\n",
      "                     'output_relation_type':   'transient',\n",
      "                     'output_relation_name':   'test_adj_expo_by_term'\n",
      "                     }\n",
      "\n",
      "    ====================================================================================================\n",
      "    Input Parameters and explanation :\n",
      "    ====================================================================================================\n",
      "\n",
      "        conn : Database Connection Object ( Mandatory argument )\n",
      "\n",
      "        biz_params: -> dict contain the below keys : mandatory and optional\n",
      "            Mandatory :\n",
      "                input_relation: previous proc output relation (can be specified in db.schema.table format)\n",
      "                lob: [genliab, cautoliab, cautophyd, cautonf, bop, crime, plota, other]\n",
      "                signed_term_indicator: [y, n]\n",
      "\n",
      "            Optional :\n",
      "                output_relation_name (text):  (default - adj_expo_by_term)\n",
      "                                                If not specified , default will be suffixed with i# and timestamp\n",
      "                                                If specified given name will be suffixed with i#\n",
      "\n",
      "                output_relation_type (text) : temp / transient / table ; default is temp table\n",
      "\n",
      "                                              temp tables will be created in schema : 'temp' ;\n",
      "                                                will be dropped once the session closes\n",
      "                                              transient tables will be created in schema : 'transient';\n",
      "                                                this will not be automatically dropped and\n",
      "                                                needs to be dropped by the user.\n",
      "                                              tables will be created in the schema specified in the input,\n",
      "                                              if no schema specified , will be created in public.\n",
      "                                                this will not be automatically dropped and\n",
      "                                                needs to be dropped by the user.\n",
      "\n",
      "        (Not used for now)\n",
      "        tech_params : -> any other non-business parameter that needs for the procedures\n",
      "                        ( db related values etc)\n",
      "                        Not Mandatory , user can ignore this argument.\n",
      "\n",
      "        If tables are specified without database or schema , database and schema from environ variable\n",
      "        will be used .\n",
      "\n",
      "    ====================================================================================================\n",
      "    Debug Methods :\n",
      "    ====================================================================================================\n",
      "    show_sql() : ->  Build Query String for each proc .\n",
      "                        Multiple SQL Queries within the same python module are ';' separated.\n",
      "                        Returns the SQL Query as a string.\n",
      "                        Please note , when build_query is called by itself, the queries will not\n",
      "                            be executed. This needs to be done additionally.\n",
      "\n",
      "    get_documentation() : -> This opens a New Tab on the Web-page being used for Jupyter-Hub or Notebook.\n",
      "                                Please note : Users may be required to enter User and password in the\n",
      "                                Confluence Page opened , User authentication will not be done within\n",
      "                                the system.\n",
      "    ====================================================================================================\n",
      "    Useful Notes :\n",
      "    ====================================================================================================\n",
      "\n",
      "\n",
      "    If other key-value are specified other than the mandatory + optional for biz_params , they will be ignored in the proc.\n",
      "    \n"
     ]
    }
   ],
   "source": [
    "# Import the python class for earnings from the statisitcal plan common library spcommom\n",
    "from spcommon.adj_expo_by_term import AdjExpoByTerm\n",
    "\n",
    "print(AdjExpoByTerm.__doc__)  # show documentation for this routine"
   ]
  },
  {
   "cell_type": "code",
   "execution_count": null,
   "metadata": {
    "ExecuteTime": {
     "end_time": "2020-04-06T15:24:24.120773Z",
     "start_time": "2020-04-06T15:24:24.117899Z"
    },
    "slideshow": {
     "slide_type": "subslide"
    }
   },
   "outputs": [],
   "source": [
    "input_param = {\n",
    "    'input_relation': input_relation,\n",
    "    'lob': 'other',\n",
    "    'signed_term_indicator': 'y'\n",
    "}"
   ]
  },
  {
   "cell_type": "code",
   "execution_count": null,
   "metadata": {
    "ExecuteTime": {
     "end_time": "2020-04-06T15:24:28.523663Z",
     "start_time": "2020-04-06T15:24:28.519670Z"
    },
    "slideshow": {
     "slide_type": "fragment"
    }
   },
   "outputs": [
    {
     "data": {
      "text/plain": [
       "{'input_relation': 'IPO_DEAL_DB.Q1_2020_TRAINING.BLDG_CONT_PREM_SUBSET',\n",
       " 'lob': 'other',\n",
       " 'signed_term_indicator': 'y'}"
      ]
     },
     "execution_count": null,
     "metadata": {},
     "output_type": "execute_result"
    }
   ],
   "source": [
    "input_param"
   ]
  },
  {
   "cell_type": "code",
   "execution_count": null,
   "metadata": {
    "ExecuteTime": {
     "end_time": "2020-04-06T15:25:08.354678Z",
     "start_time": "2020-04-06T15:25:08.352088Z"
    },
    "slideshow": {
     "slide_type": "subslide"
    }
   },
   "outputs": [],
   "source": [
    "# initialize the AdjExpoByTerm procedure\n",
    "adj_expo_instance = AdjExpoByTerm(sf_conn, input_param)"
   ]
  },
  {
   "cell_type": "code",
   "execution_count": null,
   "metadata": {
    "ExecuteTime": {
     "end_time": "2020-04-06T15:25:25.199584Z",
     "start_time": "2020-04-06T15:25:25.196153Z"
    }
   },
   "outputs": [
    {
     "name": "stdout",
     "output_type": "stream",
     "text": [
      "https://epm.verisk.com/confluence/display/IPASAENV/Proc_adjust_expo_by_term\n"
     ]
    }
   ],
   "source": [
    "# get documentation on the AdjExpoByTerm procedure\n",
    "adj_expo_instance.get_documentation()"
   ]
  },
  {
   "cell_type": "code",
   "execution_count": null,
   "metadata": {
    "ExecuteTime": {
     "end_time": "2020-04-06T15:31:00.089096Z",
     "start_time": "2020-04-06T15:31:00.084982Z"
    }
   },
   "outputs": [
    {
     "data": {
      "text/plain": [
       "['__abstractmethods__',\n",
       " '__call__',\n",
       " '__class__',\n",
       " '__delattr__',\n",
       " '__dict__',\n",
       " '__dir__',\n",
       " '__doc__',\n",
       " '__eq__',\n",
       " '__format__',\n",
       " '__ge__',\n",
       " '__getattribute__',\n",
       " '__gt__',\n",
       " '__hash__',\n",
       " '__init__',\n",
       " '__init_subclass__',\n",
       " '__le__',\n",
       " '__lt__',\n",
       " '__module__',\n",
       " '__ne__',\n",
       " '__new__',\n",
       " '__reduce__',\n",
       " '__reduce_ex__',\n",
       " '__repr__',\n",
       " '__setattr__',\n",
       " '__sizeof__',\n",
       " '__str__',\n",
       " '__subclasshook__',\n",
       " '__weakref__',\n",
       " '_abc_impl',\n",
       " 'all_params',\n",
       " 'append_or_run_query',\n",
       " 'check_mandatory_params',\n",
       " 'check_relation_for_join_keys',\n",
       " 'conn',\n",
       " 'convert_to_dbschrel',\n",
       " 'get_db_params',\n",
       " 'get_documentation',\n",
       " 'get_rel_suffix',\n",
       " 'link',\n",
       " 'param',\n",
       " 'process_sql',\n",
       " 'query',\n",
       " 'set_optional_params',\n",
       " 'set_output_relation_type',\n",
       " 'sfutil',\n",
       " 'show_sql',\n",
       " 'tech_params',\n",
       " 'validate_input_params']"
      ]
     },
     "execution_count": null,
     "metadata": {},
     "output_type": "execute_result"
    }
   ],
   "source": [
    "dir(adj_expo_instance)"
   ]
  },
  {
   "cell_type": "code",
   "execution_count": null,
   "metadata": {
    "ExecuteTime": {
     "end_time": "2020-04-06T15:26:46.271009Z",
     "start_time": "2020-04-06T15:26:36.781389Z"
    }
   },
   "outputs": [
    {
     "name": "stdout",
     "output_type": "stream",
     "text": [
      "\n",
      "                DROP TABLE IF EXISTS IPO_DEAL_DB.Q1_2020_TRAINING.temp_adj_expo;\n",
      "                CREATE TEMP TABLE IPO_DEAL_DB.Q1_2020_TRAINING.temp_adj_expo AS\n",
      "                SELECT\n",
      "                    *,\n",
      "                    (expo * term)::NUMERIC(12,4) as expo_adjusted\n",
      "                    ,\n",
      "                     CASE WHEN (sign(prem_amt) = 0 )\n",
      "                             THEN 0\n",
      "                          WHEN (sign(prem_amt) = 1 )\n",
      "                             THEN term::NUMERIC(12,4)\n",
      "                          WHEN (sign(prem_amt) = -1 )\n",
      "                             THEN (term * -1)::NUMERIC(12,4)\n",
      "                     END AS signed_term\n",
      "                  \n",
      "                FROM (SELECT\n",
      "                          *,\n",
      "                          CASE WHEN exp_yr is NULL OR trim(exp_yr) = ''\n",
      "                                   THEN (.5/12)\n",
      "                               WHEN \n",
      "                                NOT REGEXP_LIKE(eff_yr , '^19[789][0-9]|20[012345][0-9]$') OR\n",
      "                                NOT REGEXP_LIKE(eff_mo , '^([0]?[1-9]|1[012])$') OR\n",
      "                                NOT REGEXP_LIKE(exp_yr , '^19[789][0-9]|20[012345][0-9]$') OR\n",
      "                                NOT REGEXP_LIKE(exp_mo , '^([0]?[1-9]|1[012])$')\n",
      "                   \n",
      "                                   THEN 1\n",
      "                                   ELSE  ((GREATEST((12 * (NULLIF(exp_yr, '')::int - NULLIF(eff_yr, '')::int) + (NULLIF(exp_mo, '')::int - NULLIF(eff_mo, '')::int))::NUMERIC(12,4) , .50)) / 12 )\n",
      "                          END AS term\n",
      "                      FROM ipo_deal_db.q1_2020_training.bldg_cont_prem_subset) xx\n",
      "                ;\n",
      "               DROP TABLE IF EXISTS IPO_DEAL_DB.Q1_2020_TRAINING.adj_expo_by_term_i26250_20200406_112637;\n",
      "               CREATE TEMP TABLE IPO_DEAL_DB.Q1_2020_TRAINING.adj_expo_by_term_i26250_20200406_112637 AS\n",
      "               SELECT\n",
      "                   *\n",
      "               FROM IPO_DEAL_DB.Q1_2020_TRAINING.temp_adj_expo\n",
      "            ;\n",
      "ALTER TABLE IPO_DEAL_DB.Q1_2020_TRAINING.adj_expo_by_term_i26250_20200406_112637 DROP term;\n",
      "\n"
     ]
    }
   ],
   "source": [
    "# shows the SQL underlying the procedure, without actually executing it\n",
    "print(adj_expo_instance.show_sql())"
   ]
  },
  {
   "cell_type": "code",
   "execution_count": null,
   "metadata": {
    "ExecuteTime": {
     "end_time": "2020-04-06T15:27:59.970503Z",
     "start_time": "2020-04-06T15:27:51.186593Z"
    },
    "run_control": {
     "marked": false
    },
    "slideshow": {
     "slide_type": "subslide"
    }
   },
   "outputs": [],
   "source": [
    "# executes the SQL and save the result as a variable in python\n",
    "adj_expo_output = adj_expo_instance.process_sql()"
   ]
  },
  {
   "cell_type": "code",
   "execution_count": null,
   "metadata": {
    "ExecuteTime": {
     "end_time": "2020-04-06T15:28:38.892253Z",
     "start_time": "2020-04-06T15:28:38.888740Z"
    }
   },
   "outputs": [
    {
     "data": {
      "text/plain": [
       "'IPO_DEAL_DB.Q1_2020_TRAINING.adj_expo_by_term_i26250_20200406_112752'"
      ]
     },
     "execution_count": null,
     "metadata": {},
     "output_type": "execute_result"
    }
   ],
   "source": [
    "# print the table name on Snowflake containing the results\n",
    "adj_expo_output"
   ]
  },
  {
   "cell_type": "code",
   "execution_count": null,
   "metadata": {
    "ExecuteTime": {
     "end_time": "2020-04-06T15:29:25.854845Z",
     "start_time": "2020-04-06T15:29:24.093947Z"
    },
    "slideshow": {
     "slide_type": "subslide"
    }
   },
   "outputs": [
    {
     "name": "stdout",
     "output_type": "stream",
     "text": [
      "Query started at 11:29:24 AM EDT; Query executed in 0.03 m"
     ]
    },
    {
     "data": {
      "text/html": [
       "<div>\n",
       "<style scoped>\n",
       "    .dataframe tbody tr th:only-of-type {\n",
       "        vertical-align: middle;\n",
       "    }\n",
       "\n",
       "    .dataframe tbody tr th {\n",
       "        vertical-align: top;\n",
       "    }\n",
       "\n",
       "    .dataframe thead th {\n",
       "        text-align: right;\n",
       "    }\n",
       "</style>\n",
       "<table border=\"1\" class=\"dataframe\">\n",
       "  <thead>\n",
       "    <tr style=\"text-align: right;\">\n",
       "      <th></th>\n",
       "      <th>CONSTR_MTRL</th>\n",
       "      <th>ST</th>\n",
       "      <th>INC_YR</th>\n",
       "      <th>EXPO</th>\n",
       "      <th>EXPO_ADJUSTED</th>\n",
       "      <th>PREM_AMT</th>\n",
       "      <th>POL_CNT</th>\n",
       "    </tr>\n",
       "  </thead>\n",
       "  <tbody>\n",
       "    <tr>\n",
       "      <th>0</th>\n",
       "      <td>fire resistive</td>\n",
       "      <td>19</td>\n",
       "      <td>2014</td>\n",
       "      <td>4105155.0</td>\n",
       "      <td>4.163405e+06</td>\n",
       "      <td>399727.0</td>\n",
       "      <td>107</td>\n",
       "    </tr>\n",
       "    <tr>\n",
       "      <th>1</th>\n",
       "      <td>fire resistive</td>\n",
       "      <td>19</td>\n",
       "      <td>2015</td>\n",
       "      <td>4991156.0</td>\n",
       "      <td>5.151379e+06</td>\n",
       "      <td>495395.0</td>\n",
       "      <td>109</td>\n",
       "    </tr>\n",
       "    <tr>\n",
       "      <th>2</th>\n",
       "      <td>fire resistive</td>\n",
       "      <td>19</td>\n",
       "      <td>2016</td>\n",
       "      <td>6767995.0</td>\n",
       "      <td>6.838008e+06</td>\n",
       "      <td>658596.0</td>\n",
       "      <td>106</td>\n",
       "    </tr>\n",
       "    <tr>\n",
       "      <th>3</th>\n",
       "      <td>fire resistive</td>\n",
       "      <td>19</td>\n",
       "      <td>2017</td>\n",
       "      <td>6599928.0</td>\n",
       "      <td>6.658982e+06</td>\n",
       "      <td>644850.0</td>\n",
       "      <td>107</td>\n",
       "    </tr>\n",
       "    <tr>\n",
       "      <th>4</th>\n",
       "      <td>fire resistive</td>\n",
       "      <td>19</td>\n",
       "      <td>2018</td>\n",
       "      <td>6218659.0</td>\n",
       "      <td>6.748572e+06</td>\n",
       "      <td>688464.0</td>\n",
       "      <td>107</td>\n",
       "    </tr>\n",
       "    <tr>\n",
       "      <th>5</th>\n",
       "      <td>frame</td>\n",
       "      <td>19</td>\n",
       "      <td>2014</td>\n",
       "      <td>28841413.0</td>\n",
       "      <td>2.879528e+07</td>\n",
       "      <td>5426771.0</td>\n",
       "      <td>2063</td>\n",
       "    </tr>\n",
       "    <tr>\n",
       "      <th>6</th>\n",
       "      <td>frame</td>\n",
       "      <td>19</td>\n",
       "      <td>2015</td>\n",
       "      <td>34580610.0</td>\n",
       "      <td>3.464491e+07</td>\n",
       "      <td>6124989.0</td>\n",
       "      <td>2070</td>\n",
       "    </tr>\n",
       "    <tr>\n",
       "      <th>7</th>\n",
       "      <td>frame</td>\n",
       "      <td>19</td>\n",
       "      <td>2016</td>\n",
       "      <td>41661453.0</td>\n",
       "      <td>4.278891e+07</td>\n",
       "      <td>7168403.0</td>\n",
       "      <td>2061</td>\n",
       "    </tr>\n",
       "    <tr>\n",
       "      <th>8</th>\n",
       "      <td>frame</td>\n",
       "      <td>19</td>\n",
       "      <td>2017</td>\n",
       "      <td>48697337.0</td>\n",
       "      <td>4.918506e+07</td>\n",
       "      <td>7908189.0</td>\n",
       "      <td>2030</td>\n",
       "    </tr>\n",
       "    <tr>\n",
       "      <th>9</th>\n",
       "      <td>frame</td>\n",
       "      <td>19</td>\n",
       "      <td>2018</td>\n",
       "      <td>52784555.0</td>\n",
       "      <td>5.363458e+07</td>\n",
       "      <td>8495693.0</td>\n",
       "      <td>2022</td>\n",
       "    </tr>\n",
       "    <tr>\n",
       "      <th>10</th>\n",
       "      <td>joisted masonry</td>\n",
       "      <td>19</td>\n",
       "      <td>2014</td>\n",
       "      <td>28599688.0</td>\n",
       "      <td>2.915586e+07</td>\n",
       "      <td>6309872.0</td>\n",
       "      <td>2689</td>\n",
       "    </tr>\n",
       "    <tr>\n",
       "      <th>11</th>\n",
       "      <td>joisted masonry</td>\n",
       "      <td>19</td>\n",
       "      <td>2015</td>\n",
       "      <td>29872971.0</td>\n",
       "      <td>3.071714e+07</td>\n",
       "      <td>6599896.0</td>\n",
       "      <td>2622</td>\n",
       "    </tr>\n",
       "    <tr>\n",
       "      <th>12</th>\n",
       "      <td>joisted masonry</td>\n",
       "      <td>19</td>\n",
       "      <td>2016</td>\n",
       "      <td>33589382.0</td>\n",
       "      <td>3.443954e+07</td>\n",
       "      <td>6871030.0</td>\n",
       "      <td>2533</td>\n",
       "    </tr>\n",
       "    <tr>\n",
       "      <th>13</th>\n",
       "      <td>joisted masonry</td>\n",
       "      <td>19</td>\n",
       "      <td>2017</td>\n",
       "      <td>37285829.0</td>\n",
       "      <td>3.840985e+07</td>\n",
       "      <td>7092819.0</td>\n",
       "      <td>2503</td>\n",
       "    </tr>\n",
       "    <tr>\n",
       "      <th>14</th>\n",
       "      <td>joisted masonry</td>\n",
       "      <td>19</td>\n",
       "      <td>2018</td>\n",
       "      <td>40569766.0</td>\n",
       "      <td>4.168317e+07</td>\n",
       "      <td>7462963.0</td>\n",
       "      <td>2444</td>\n",
       "    </tr>\n",
       "    <tr>\n",
       "      <th>15</th>\n",
       "      <td>masonry non-combustible</td>\n",
       "      <td>19</td>\n",
       "      <td>2014</td>\n",
       "      <td>31583871.0</td>\n",
       "      <td>3.221071e+07</td>\n",
       "      <td>4015886.0</td>\n",
       "      <td>1379</td>\n",
       "    </tr>\n",
       "    <tr>\n",
       "      <th>16</th>\n",
       "      <td>masonry non-combustible</td>\n",
       "      <td>19</td>\n",
       "      <td>2015</td>\n",
       "      <td>32582673.0</td>\n",
       "      <td>3.309234e+07</td>\n",
       "      <td>4217716.0</td>\n",
       "      <td>1367</td>\n",
       "    </tr>\n",
       "    <tr>\n",
       "      <th>17</th>\n",
       "      <td>masonry non-combustible</td>\n",
       "      <td>19</td>\n",
       "      <td>2016</td>\n",
       "      <td>34878065.0</td>\n",
       "      <td>3.533558e+07</td>\n",
       "      <td>4399870.0</td>\n",
       "      <td>1370</td>\n",
       "    </tr>\n",
       "    <tr>\n",
       "      <th>18</th>\n",
       "      <td>masonry non-combustible</td>\n",
       "      <td>19</td>\n",
       "      <td>2017</td>\n",
       "      <td>38104767.0</td>\n",
       "      <td>3.892692e+07</td>\n",
       "      <td>4530342.0</td>\n",
       "      <td>1398</td>\n",
       "    </tr>\n",
       "    <tr>\n",
       "      <th>19</th>\n",
       "      <td>masonry non-combustible</td>\n",
       "      <td>19</td>\n",
       "      <td>2018</td>\n",
       "      <td>39830316.0</td>\n",
       "      <td>4.072915e+07</td>\n",
       "      <td>4663902.0</td>\n",
       "      <td>1362</td>\n",
       "    </tr>\n",
       "    <tr>\n",
       "      <th>20</th>\n",
       "      <td>modified firse resistive</td>\n",
       "      <td>19</td>\n",
       "      <td>2014</td>\n",
       "      <td>267607.0</td>\n",
       "      <td>2.776070e+05</td>\n",
       "      <td>36918.0</td>\n",
       "      <td>14</td>\n",
       "    </tr>\n",
       "    <tr>\n",
       "      <th>21</th>\n",
       "      <td>modified firse resistive</td>\n",
       "      <td>19</td>\n",
       "      <td>2015</td>\n",
       "      <td>284136.0</td>\n",
       "      <td>2.841360e+05</td>\n",
       "      <td>51766.0</td>\n",
       "      <td>13</td>\n",
       "    </tr>\n",
       "    <tr>\n",
       "      <th>22</th>\n",
       "      <td>modified firse resistive</td>\n",
       "      <td>19</td>\n",
       "      <td>2016</td>\n",
       "      <td>413889.0</td>\n",
       "      <td>4.138890e+05</td>\n",
       "      <td>61838.0</td>\n",
       "      <td>14</td>\n",
       "    </tr>\n",
       "    <tr>\n",
       "      <th>23</th>\n",
       "      <td>modified firse resistive</td>\n",
       "      <td>19</td>\n",
       "      <td>2017</td>\n",
       "      <td>524641.0</td>\n",
       "      <td>5.246410e+05</td>\n",
       "      <td>83263.0</td>\n",
       "      <td>15</td>\n",
       "    </tr>\n",
       "    <tr>\n",
       "      <th>24</th>\n",
       "      <td>modified firse resistive</td>\n",
       "      <td>19</td>\n",
       "      <td>2018</td>\n",
       "      <td>975919.0</td>\n",
       "      <td>9.860672e+05</td>\n",
       "      <td>123527.0</td>\n",
       "      <td>18</td>\n",
       "    </tr>\n",
       "    <tr>\n",
       "      <th>25</th>\n",
       "      <td>non-combustible</td>\n",
       "      <td>19</td>\n",
       "      <td>2014</td>\n",
       "      <td>8619992.0</td>\n",
       "      <td>8.791122e+06</td>\n",
       "      <td>1356293.0</td>\n",
       "      <td>573</td>\n",
       "    </tr>\n",
       "    <tr>\n",
       "      <th>26</th>\n",
       "      <td>non-combustible</td>\n",
       "      <td>19</td>\n",
       "      <td>2015</td>\n",
       "      <td>8696385.0</td>\n",
       "      <td>9.181807e+06</td>\n",
       "      <td>1423928.0</td>\n",
       "      <td>550</td>\n",
       "    </tr>\n",
       "    <tr>\n",
       "      <th>27</th>\n",
       "      <td>non-combustible</td>\n",
       "      <td>19</td>\n",
       "      <td>2016</td>\n",
       "      <td>9553058.0</td>\n",
       "      <td>9.842325e+06</td>\n",
       "      <td>1411952.0</td>\n",
       "      <td>536</td>\n",
       "    </tr>\n",
       "    <tr>\n",
       "      <th>28</th>\n",
       "      <td>non-combustible</td>\n",
       "      <td>19</td>\n",
       "      <td>2017</td>\n",
       "      <td>11307510.0</td>\n",
       "      <td>1.151356e+07</td>\n",
       "      <td>1557773.0</td>\n",
       "      <td>553</td>\n",
       "    </tr>\n",
       "    <tr>\n",
       "      <th>29</th>\n",
       "      <td>non-combustible</td>\n",
       "      <td>19</td>\n",
       "      <td>2018</td>\n",
       "      <td>12360553.0</td>\n",
       "      <td>1.256000e+07</td>\n",
       "      <td>1621762.0</td>\n",
       "      <td>548</td>\n",
       "    </tr>\n",
       "  </tbody>\n",
       "</table>\n",
       "</div>"
      ],
      "text/plain": [
       "                 CONSTR_MTRL  ST INC_YR        EXPO  EXPO_ADJUSTED   PREM_AMT  \\\n",
       "0             fire resistive  19   2014   4105155.0   4.163405e+06   399727.0   \n",
       "1             fire resistive  19   2015   4991156.0   5.151379e+06   495395.0   \n",
       "2             fire resistive  19   2016   6767995.0   6.838008e+06   658596.0   \n",
       "3             fire resistive  19   2017   6599928.0   6.658982e+06   644850.0   \n",
       "4             fire resistive  19   2018   6218659.0   6.748572e+06   688464.0   \n",
       "5                      frame  19   2014  28841413.0   2.879528e+07  5426771.0   \n",
       "6                      frame  19   2015  34580610.0   3.464491e+07  6124989.0   \n",
       "7                      frame  19   2016  41661453.0   4.278891e+07  7168403.0   \n",
       "8                      frame  19   2017  48697337.0   4.918506e+07  7908189.0   \n",
       "9                      frame  19   2018  52784555.0   5.363458e+07  8495693.0   \n",
       "10           joisted masonry  19   2014  28599688.0   2.915586e+07  6309872.0   \n",
       "11           joisted masonry  19   2015  29872971.0   3.071714e+07  6599896.0   \n",
       "12           joisted masonry  19   2016  33589382.0   3.443954e+07  6871030.0   \n",
       "13           joisted masonry  19   2017  37285829.0   3.840985e+07  7092819.0   \n",
       "14           joisted masonry  19   2018  40569766.0   4.168317e+07  7462963.0   \n",
       "15   masonry non-combustible  19   2014  31583871.0   3.221071e+07  4015886.0   \n",
       "16   masonry non-combustible  19   2015  32582673.0   3.309234e+07  4217716.0   \n",
       "17   masonry non-combustible  19   2016  34878065.0   3.533558e+07  4399870.0   \n",
       "18   masonry non-combustible  19   2017  38104767.0   3.892692e+07  4530342.0   \n",
       "19   masonry non-combustible  19   2018  39830316.0   4.072915e+07  4663902.0   \n",
       "20  modified firse resistive  19   2014    267607.0   2.776070e+05    36918.0   \n",
       "21  modified firse resistive  19   2015    284136.0   2.841360e+05    51766.0   \n",
       "22  modified firse resistive  19   2016    413889.0   4.138890e+05    61838.0   \n",
       "23  modified firse resistive  19   2017    524641.0   5.246410e+05    83263.0   \n",
       "24  modified firse resistive  19   2018    975919.0   9.860672e+05   123527.0   \n",
       "25           non-combustible  19   2014   8619992.0   8.791122e+06  1356293.0   \n",
       "26           non-combustible  19   2015   8696385.0   9.181807e+06  1423928.0   \n",
       "27           non-combustible  19   2016   9553058.0   9.842325e+06  1411952.0   \n",
       "28           non-combustible  19   2017  11307510.0   1.151356e+07  1557773.0   \n",
       "29           non-combustible  19   2018  12360553.0   1.256000e+07  1621762.0   \n",
       "\n",
       "    POL_CNT  \n",
       "0       107  \n",
       "1       109  \n",
       "2       106  \n",
       "3       107  \n",
       "4       107  \n",
       "5      2063  \n",
       "6      2070  \n",
       "7      2061  \n",
       "8      2030  \n",
       "9      2022  \n",
       "10     2689  \n",
       "11     2622  \n",
       "12     2533  \n",
       "13     2503  \n",
       "14     2444  \n",
       "15     1379  \n",
       "16     1367  \n",
       "17     1370  \n",
       "18     1398  \n",
       "19     1362  \n",
       "20       14  \n",
       "21       13  \n",
       "22       14  \n",
       "23       15  \n",
       "24       18  \n",
       "25      573  \n",
       "26      550  \n",
       "27      536  \n",
       "28      553  \n",
       "29      548  "
      ]
     },
     "execution_count": null,
     "metadata": {},
     "output_type": "execute_result"
    }
   ],
   "source": [
    "%%read_sql output_2\n",
    "\n",
    "SELECT \n",
    "  constr_mtrl,\n",
    "  st,\n",
    "  inc_yr,\n",
    "  SUM(expo) as expo, -- aggregate exposure\n",
    "  SUM(expo_adjusted) as expo_adjusted, -- aggregate adjusted exposure\n",
    "  SUM(prem_amt) AS prem_amt, -- aggregate premium amounts\n",
    "  COUNT(DISTINCT(tl_grp||co||prem_rec_id||inc_yr)) AS pol_cnt -- unique policies\n",
    "FROM \n",
    "  {adj_expo_output}\n",
    "WHERE\n",
    "  (inc_yr::INTEGER BETWEEN {inc_start_yr} AND {inc_end_yr}) AND -- filter to records with inception year between 2014 and 2018\n",
    "  closeout_date <= {closeout_date} AND -- filter to closeout as of 20192\n",
    "  bldg_cont_cov_id = 'bldg' AND -- filter to 'bldg' coverage records\n",
    "  liab_prop_cov_id IN ('prop', 'comb') AND -- filter to 'prop' and 'comb' coverage records\n",
    "  terror_cov_cd NOT IN ('7', '8') AND -- exclude terror coverages '7' and '8'\n",
    "  asgnd_sev IN ('0', '1') -- only severity of 0 or 1 has data quality worth processing\n",
    "GROUP BY \n",
    "  constr_mtrl, st, inc_yr\n",
    "ORDER BY \n",
    "  constr_mtrl, st, inc_yr;"
   ]
  },
  {
   "cell_type": "markdown",
   "metadata": {
    "slideshow": {
     "slide_type": "slide"
    }
   },
   "source": [
    "## Manipulating Pandas DataFrames"
   ]
  },
  {
   "cell_type": "code",
   "execution_count": null,
   "metadata": {
    "ExecuteTime": {
     "end_time": "2020-04-06T15:34:01.140066Z",
     "start_time": "2020-04-06T15:34:01.131441Z"
    },
    "slideshow": {
     "slide_type": "fragment"
    }
   },
   "outputs": [
    {
     "name": "stdout",
     "output_type": "stream",
     "text": [
      "<class 'pandas.core.frame.DataFrame'>\n",
      "<class 'pandas.core.frame.DataFrame'>\n",
      "RangeIndex: 30 entries, 0 to 29\n",
      "Data columns (total 7 columns):\n",
      "CONSTR_MTRL      30 non-null object\n",
      "ST               30 non-null object\n",
      "INC_YR           30 non-null object\n",
      "EXPO             30 non-null float64\n",
      "EXPO_ADJUSTED    30 non-null float64\n",
      "PREM_AMT         30 non-null float64\n",
      "POL_CNT          30 non-null int64\n",
      "dtypes: float64(3), int64(1), object(3)\n",
      "memory usage: 1.8+ KB\n"
     ]
    }
   ],
   "source": [
    "# Let's get some basic info about our dataframe\n",
    "print(type(output_2))\n",
    "output_2.info()"
   ]
  },
  {
   "cell_type": "code",
   "execution_count": null,
   "metadata": {
    "ExecuteTime": {
     "end_time": "2020-04-06T15:35:37.643147Z",
     "start_time": "2020-04-06T15:35:37.619019Z"
    },
    "slideshow": {
     "slide_type": "fragment"
    }
   },
   "outputs": [
    {
     "data": {
      "text/html": [
       "<div>\n",
       "<style scoped>\n",
       "    .dataframe tbody tr th:only-of-type {\n",
       "        vertical-align: middle;\n",
       "    }\n",
       "\n",
       "    .dataframe tbody tr th {\n",
       "        vertical-align: top;\n",
       "    }\n",
       "\n",
       "    .dataframe thead th {\n",
       "        text-align: right;\n",
       "    }\n",
       "</style>\n",
       "<table border=\"1\" class=\"dataframe\">\n",
       "  <thead>\n",
       "    <tr style=\"text-align: right;\">\n",
       "      <th></th>\n",
       "      <th>EXPO</th>\n",
       "      <th>EXPO_ADJUSTED</th>\n",
       "      <th>PREM_AMT</th>\n",
       "      <th>POL_CNT</th>\n",
       "    </tr>\n",
       "  </thead>\n",
       "  <tbody>\n",
       "    <tr>\n",
       "      <th>count</th>\n",
       "      <td>3.000000e+01</td>\n",
       "      <td>3.000000e+01</td>\n",
       "      <td>3.000000e+01</td>\n",
       "      <td>30.000000</td>\n",
       "    </tr>\n",
       "    <tr>\n",
       "      <th>mean</th>\n",
       "      <td>2.117164e+07</td>\n",
       "      <td>2.158948e+07</td>\n",
       "      <td>3.396813e+06</td>\n",
       "      <td>1109.433333</td>\n",
       "    </tr>\n",
       "    <tr>\n",
       "      <th>std</th>\n",
       "      <td>1.697442e+07</td>\n",
       "      <td>1.727242e+07</td>\n",
       "      <td>2.946261e+06</td>\n",
       "      <td>980.359423</td>\n",
       "    </tr>\n",
       "    <tr>\n",
       "      <th>min</th>\n",
       "      <td>2.676070e+05</td>\n",
       "      <td>2.776070e+05</td>\n",
       "      <td>3.691800e+04</td>\n",
       "      <td>13.000000</td>\n",
       "    </tr>\n",
       "    <tr>\n",
       "      <th>25%</th>\n",
       "      <td>6.313976e+06</td>\n",
       "      <td>6.681380e+06</td>\n",
       "      <td>6.482865e+05</td>\n",
       "      <td>107.000000</td>\n",
       "    </tr>\n",
       "    <tr>\n",
       "      <th>50%</th>\n",
       "      <td>2.048012e+07</td>\n",
       "      <td>2.067764e+07</td>\n",
       "      <td>2.818824e+06</td>\n",
       "      <td>967.500000</td>\n",
       "    </tr>\n",
       "    <tr>\n",
       "      <th>75%</th>\n",
       "      <td>3.480370e+07</td>\n",
       "      <td>3.516291e+07</td>\n",
       "      <td>6.263651e+06</td>\n",
       "      <td>2053.250000</td>\n",
       "    </tr>\n",
       "    <tr>\n",
       "      <th>max</th>\n",
       "      <td>5.278456e+07</td>\n",
       "      <td>5.363458e+07</td>\n",
       "      <td>8.495693e+06</td>\n",
       "      <td>2689.000000</td>\n",
       "    </tr>\n",
       "  </tbody>\n",
       "</table>\n",
       "</div>"
      ],
      "text/plain": [
       "               EXPO  EXPO_ADJUSTED      PREM_AMT      POL_CNT\n",
       "count  3.000000e+01   3.000000e+01  3.000000e+01    30.000000\n",
       "mean   2.117164e+07   2.158948e+07  3.396813e+06  1109.433333\n",
       "std    1.697442e+07   1.727242e+07  2.946261e+06   980.359423\n",
       "min    2.676070e+05   2.776070e+05  3.691800e+04    13.000000\n",
       "25%    6.313976e+06   6.681380e+06  6.482865e+05   107.000000\n",
       "50%    2.048012e+07   2.067764e+07  2.818824e+06   967.500000\n",
       "75%    3.480370e+07   3.516291e+07  6.263651e+06  2053.250000\n",
       "max    5.278456e+07   5.363458e+07  8.495693e+06  2689.000000"
      ]
     },
     "execution_count": null,
     "metadata": {},
     "output_type": "execute_result"
    }
   ],
   "source": [
    "# Let's do some standard calculations on all our numerical columns\n",
    "output_2.describe()"
   ]
  },
  {
   "cell_type": "code",
   "execution_count": null,
   "metadata": {
    "ExecuteTime": {
     "end_time": "2020-04-06T15:38:11.226932Z",
     "start_time": "2020-04-06T15:38:11.217554Z"
    }
   },
   "outputs": [
    {
     "data": {
      "text/html": [
       "<div>\n",
       "<style scoped>\n",
       "    .dataframe tbody tr th:only-of-type {\n",
       "        vertical-align: middle;\n",
       "    }\n",
       "\n",
       "    .dataframe tbody tr th {\n",
       "        vertical-align: top;\n",
       "    }\n",
       "\n",
       "    .dataframe thead th {\n",
       "        text-align: right;\n",
       "    }\n",
       "</style>\n",
       "<table border=\"1\" class=\"dataframe\">\n",
       "  <thead>\n",
       "    <tr style=\"text-align: right;\">\n",
       "      <th></th>\n",
       "      <th>CONSTR_MTRL</th>\n",
       "      <th>ST</th>\n",
       "      <th>INC_YR</th>\n",
       "    </tr>\n",
       "  </thead>\n",
       "  <tbody>\n",
       "    <tr>\n",
       "      <th>0</th>\n",
       "      <td>fire resistive</td>\n",
       "      <td>19</td>\n",
       "      <td>2014</td>\n",
       "    </tr>\n",
       "    <tr>\n",
       "      <th>1</th>\n",
       "      <td>fire resistive</td>\n",
       "      <td>19</td>\n",
       "      <td>2015</td>\n",
       "    </tr>\n",
       "    <tr>\n",
       "      <th>2</th>\n",
       "      <td>fire resistive</td>\n",
       "      <td>19</td>\n",
       "      <td>2016</td>\n",
       "    </tr>\n",
       "    <tr>\n",
       "      <th>3</th>\n",
       "      <td>fire resistive</td>\n",
       "      <td>19</td>\n",
       "      <td>2017</td>\n",
       "    </tr>\n",
       "    <tr>\n",
       "      <th>4</th>\n",
       "      <td>fire resistive</td>\n",
       "      <td>19</td>\n",
       "      <td>2018</td>\n",
       "    </tr>\n",
       "    <tr>\n",
       "      <th>5</th>\n",
       "      <td>frame</td>\n",
       "      <td>19</td>\n",
       "      <td>2014</td>\n",
       "    </tr>\n",
       "    <tr>\n",
       "      <th>6</th>\n",
       "      <td>frame</td>\n",
       "      <td>19</td>\n",
       "      <td>2015</td>\n",
       "    </tr>\n",
       "    <tr>\n",
       "      <th>7</th>\n",
       "      <td>frame</td>\n",
       "      <td>19</td>\n",
       "      <td>2016</td>\n",
       "    </tr>\n",
       "    <tr>\n",
       "      <th>8</th>\n",
       "      <td>frame</td>\n",
       "      <td>19</td>\n",
       "      <td>2017</td>\n",
       "    </tr>\n",
       "    <tr>\n",
       "      <th>9</th>\n",
       "      <td>frame</td>\n",
       "      <td>19</td>\n",
       "      <td>2018</td>\n",
       "    </tr>\n",
       "  </tbody>\n",
       "</table>\n",
       "</div>"
      ],
      "text/plain": [
       "      CONSTR_MTRL  ST INC_YR\n",
       "0  fire resistive  19   2014\n",
       "1  fire resistive  19   2015\n",
       "2  fire resistive  19   2016\n",
       "3  fire resistive  19   2017\n",
       "4  fire resistive  19   2018\n",
       "5           frame  19   2014\n",
       "6           frame  19   2015\n",
       "7           frame  19   2016\n",
       "8           frame  19   2017\n",
       "9           frame  19   2018"
      ]
     },
     "execution_count": null,
     "metadata": {},
     "output_type": "execute_result"
    }
   ],
   "source": [
    "# Let's select the first 3 columns of the first 13 rows\n",
    "output_2.iloc[0:10, 0:3]"
   ]
  },
  {
   "cell_type": "code",
   "execution_count": null,
   "metadata": {
    "ExecuteTime": {
     "end_time": "2020-04-06T15:41:44.466875Z",
     "start_time": "2020-04-06T15:41:44.458382Z"
    }
   },
   "outputs": [
    {
     "data": {
      "text/html": [
       "<div>\n",
       "<style scoped>\n",
       "    .dataframe tbody tr th:only-of-type {\n",
       "        vertical-align: middle;\n",
       "    }\n",
       "\n",
       "    .dataframe tbody tr th {\n",
       "        vertical-align: top;\n",
       "    }\n",
       "\n",
       "    .dataframe thead th {\n",
       "        text-align: right;\n",
       "    }\n",
       "</style>\n",
       "<table border=\"1\" class=\"dataframe\">\n",
       "  <thead>\n",
       "    <tr style=\"text-align: right;\">\n",
       "      <th></th>\n",
       "      <th>CONSTR_MTRL</th>\n",
       "      <th>EXPO_ADJUSTED</th>\n",
       "    </tr>\n",
       "  </thead>\n",
       "  <tbody>\n",
       "    <tr>\n",
       "      <th>0</th>\n",
       "      <td>fire resistive</td>\n",
       "      <td>4.163405e+06</td>\n",
       "    </tr>\n",
       "    <tr>\n",
       "      <th>1</th>\n",
       "      <td>fire resistive</td>\n",
       "      <td>5.151379e+06</td>\n",
       "    </tr>\n",
       "    <tr>\n",
       "      <th>2</th>\n",
       "      <td>fire resistive</td>\n",
       "      <td>6.838008e+06</td>\n",
       "    </tr>\n",
       "    <tr>\n",
       "      <th>3</th>\n",
       "      <td>fire resistive</td>\n",
       "      <td>6.658982e+06</td>\n",
       "    </tr>\n",
       "    <tr>\n",
       "      <th>4</th>\n",
       "      <td>fire resistive</td>\n",
       "      <td>6.748572e+06</td>\n",
       "    </tr>\n",
       "    <tr>\n",
       "      <th>5</th>\n",
       "      <td>frame</td>\n",
       "      <td>2.879528e+07</td>\n",
       "    </tr>\n",
       "    <tr>\n",
       "      <th>6</th>\n",
       "      <td>frame</td>\n",
       "      <td>3.464491e+07</td>\n",
       "    </tr>\n",
       "    <tr>\n",
       "      <th>7</th>\n",
       "      <td>frame</td>\n",
       "      <td>4.278891e+07</td>\n",
       "    </tr>\n",
       "    <tr>\n",
       "      <th>8</th>\n",
       "      <td>frame</td>\n",
       "      <td>4.918506e+07</td>\n",
       "    </tr>\n",
       "    <tr>\n",
       "      <th>9</th>\n",
       "      <td>frame</td>\n",
       "      <td>5.363458e+07</td>\n",
       "    </tr>\n",
       "  </tbody>\n",
       "</table>\n",
       "</div>"
      ],
      "text/plain": [
       "      CONSTR_MTRL  EXPO_ADJUSTED\n",
       "0  fire resistive   4.163405e+06\n",
       "1  fire resistive   5.151379e+06\n",
       "2  fire resistive   6.838008e+06\n",
       "3  fire resistive   6.658982e+06\n",
       "4  fire resistive   6.748572e+06\n",
       "5           frame   2.879528e+07\n",
       "6           frame   3.464491e+07\n",
       "7           frame   4.278891e+07\n",
       "8           frame   4.918506e+07\n",
       "9           frame   5.363458e+07"
      ]
     },
     "execution_count": null,
     "metadata": {},
     "output_type": "execute_result"
    }
   ],
   "source": [
    "# Let's select the first 10 records, and limit our output to just 2 columns: CONSTR_MTRL, EXPO_ADJUSTED\n",
    "output_2.loc[0:9, ['CONSTR_MTRL', 'EXPO_ADJUSTED']]"
   ]
  },
  {
   "cell_type": "code",
   "execution_count": null,
   "metadata": {
    "ExecuteTime": {
     "end_time": "2020-04-06T15:43:38.981939Z",
     "start_time": "2020-04-06T15:43:38.970805Z"
    },
    "slideshow": {
     "slide_type": "fragment"
    }
   },
   "outputs": [
    {
     "data": {
      "text/html": [
       "<div>\n",
       "<style scoped>\n",
       "    .dataframe tbody tr th:only-of-type {\n",
       "        vertical-align: middle;\n",
       "    }\n",
       "\n",
       "    .dataframe tbody tr th {\n",
       "        vertical-align: top;\n",
       "    }\n",
       "\n",
       "    .dataframe thead th {\n",
       "        text-align: right;\n",
       "    }\n",
       "</style>\n",
       "<table border=\"1\" class=\"dataframe\">\n",
       "  <thead>\n",
       "    <tr style=\"text-align: right;\">\n",
       "      <th></th>\n",
       "      <th>CONSTR_MTRL</th>\n",
       "      <th>ST</th>\n",
       "      <th>INC_YR</th>\n",
       "      <th>EXPO</th>\n",
       "      <th>EXPO_ADJUSTED</th>\n",
       "    </tr>\n",
       "  </thead>\n",
       "  <tbody>\n",
       "    <tr>\n",
       "      <th>25</th>\n",
       "      <td>non-combustible</td>\n",
       "      <td>19</td>\n",
       "      <td>2014</td>\n",
       "      <td>8619992.0</td>\n",
       "      <td>8.791122e+06</td>\n",
       "    </tr>\n",
       "    <tr>\n",
       "      <th>26</th>\n",
       "      <td>non-combustible</td>\n",
       "      <td>19</td>\n",
       "      <td>2015</td>\n",
       "      <td>8696385.0</td>\n",
       "      <td>9.181807e+06</td>\n",
       "    </tr>\n",
       "    <tr>\n",
       "      <th>27</th>\n",
       "      <td>non-combustible</td>\n",
       "      <td>19</td>\n",
       "      <td>2016</td>\n",
       "      <td>9553058.0</td>\n",
       "      <td>9.842325e+06</td>\n",
       "    </tr>\n",
       "    <tr>\n",
       "      <th>28</th>\n",
       "      <td>non-combustible</td>\n",
       "      <td>19</td>\n",
       "      <td>2017</td>\n",
       "      <td>11307510.0</td>\n",
       "      <td>1.151356e+07</td>\n",
       "    </tr>\n",
       "    <tr>\n",
       "      <th>29</th>\n",
       "      <td>non-combustible</td>\n",
       "      <td>19</td>\n",
       "      <td>2018</td>\n",
       "      <td>12360553.0</td>\n",
       "      <td>1.256000e+07</td>\n",
       "    </tr>\n",
       "  </tbody>\n",
       "</table>\n",
       "</div>"
      ],
      "text/plain": [
       "        CONSTR_MTRL  ST INC_YR        EXPO  EXPO_ADJUSTED\n",
       "25  non-combustible  19   2014   8619992.0   8.791122e+06\n",
       "26  non-combustible  19   2015   8696385.0   9.181807e+06\n",
       "27  non-combustible  19   2016   9553058.0   9.842325e+06\n",
       "28  non-combustible  19   2017  11307510.0   1.151356e+07\n",
       "29  non-combustible  19   2018  12360553.0   1.256000e+07"
      ]
     },
     "execution_count": null,
     "metadata": {},
     "output_type": "execute_result"
    }
   ],
   "source": [
    "# Let's select records 26-30, and limit our output to all columns between CONSTR_MTRL and EXPO_ADJUSTED\n",
    "output_2.loc[25:29, 'CONSTR_MTRL':'EXPO_ADJUSTED']"
   ]
  },
  {
   "cell_type": "code",
   "execution_count": null,
   "metadata": {
    "ExecuteTime": {
     "end_time": "2020-04-06T15:47:33.314864Z",
     "start_time": "2020-04-06T15:47:33.302508Z"
    }
   },
   "outputs": [
    {
     "data": {
      "text/html": [
       "<div>\n",
       "<style scoped>\n",
       "    .dataframe tbody tr th:only-of-type {\n",
       "        vertical-align: middle;\n",
       "    }\n",
       "\n",
       "    .dataframe tbody tr th {\n",
       "        vertical-align: top;\n",
       "    }\n",
       "\n",
       "    .dataframe thead th {\n",
       "        text-align: right;\n",
       "    }\n",
       "</style>\n",
       "<table border=\"1\" class=\"dataframe\">\n",
       "  <thead>\n",
       "    <tr style=\"text-align: right;\">\n",
       "      <th></th>\n",
       "      <th>CONSTR_MTRL</th>\n",
       "      <th>ST</th>\n",
       "      <th>INC_YR</th>\n",
       "      <th>EXPO</th>\n",
       "      <th>EXPO_ADJUSTED</th>\n",
       "      <th>PREM_AMT</th>\n",
       "      <th>POL_CNT</th>\n",
       "    </tr>\n",
       "  </thead>\n",
       "  <tbody>\n",
       "    <tr>\n",
       "      <th>5</th>\n",
       "      <td>frame</td>\n",
       "      <td>19</td>\n",
       "      <td>2014</td>\n",
       "      <td>28841413.0</td>\n",
       "      <td>2.879528e+07</td>\n",
       "      <td>5426771.0</td>\n",
       "      <td>2063</td>\n",
       "    </tr>\n",
       "    <tr>\n",
       "      <th>6</th>\n",
       "      <td>frame</td>\n",
       "      <td>19</td>\n",
       "      <td>2015</td>\n",
       "      <td>34580610.0</td>\n",
       "      <td>3.464491e+07</td>\n",
       "      <td>6124989.0</td>\n",
       "      <td>2070</td>\n",
       "    </tr>\n",
       "    <tr>\n",
       "      <th>7</th>\n",
       "      <td>frame</td>\n",
       "      <td>19</td>\n",
       "      <td>2016</td>\n",
       "      <td>41661453.0</td>\n",
       "      <td>4.278891e+07</td>\n",
       "      <td>7168403.0</td>\n",
       "      <td>2061</td>\n",
       "    </tr>\n",
       "    <tr>\n",
       "      <th>8</th>\n",
       "      <td>frame</td>\n",
       "      <td>19</td>\n",
       "      <td>2017</td>\n",
       "      <td>48697337.0</td>\n",
       "      <td>4.918506e+07</td>\n",
       "      <td>7908189.0</td>\n",
       "      <td>2030</td>\n",
       "    </tr>\n",
       "    <tr>\n",
       "      <th>9</th>\n",
       "      <td>frame</td>\n",
       "      <td>19</td>\n",
       "      <td>2018</td>\n",
       "      <td>52784555.0</td>\n",
       "      <td>5.363458e+07</td>\n",
       "      <td>8495693.0</td>\n",
       "      <td>2022</td>\n",
       "    </tr>\n",
       "    <tr>\n",
       "      <th>10</th>\n",
       "      <td>joisted masonry</td>\n",
       "      <td>19</td>\n",
       "      <td>2014</td>\n",
       "      <td>28599688.0</td>\n",
       "      <td>2.915586e+07</td>\n",
       "      <td>6309872.0</td>\n",
       "      <td>2689</td>\n",
       "    </tr>\n",
       "    <tr>\n",
       "      <th>11</th>\n",
       "      <td>joisted masonry</td>\n",
       "      <td>19</td>\n",
       "      <td>2015</td>\n",
       "      <td>29872971.0</td>\n",
       "      <td>3.071714e+07</td>\n",
       "      <td>6599896.0</td>\n",
       "      <td>2622</td>\n",
       "    </tr>\n",
       "    <tr>\n",
       "      <th>12</th>\n",
       "      <td>joisted masonry</td>\n",
       "      <td>19</td>\n",
       "      <td>2016</td>\n",
       "      <td>33589382.0</td>\n",
       "      <td>3.443954e+07</td>\n",
       "      <td>6871030.0</td>\n",
       "      <td>2533</td>\n",
       "    </tr>\n",
       "    <tr>\n",
       "      <th>13</th>\n",
       "      <td>joisted masonry</td>\n",
       "      <td>19</td>\n",
       "      <td>2017</td>\n",
       "      <td>37285829.0</td>\n",
       "      <td>3.840985e+07</td>\n",
       "      <td>7092819.0</td>\n",
       "      <td>2503</td>\n",
       "    </tr>\n",
       "    <tr>\n",
       "      <th>14</th>\n",
       "      <td>joisted masonry</td>\n",
       "      <td>19</td>\n",
       "      <td>2018</td>\n",
       "      <td>40569766.0</td>\n",
       "      <td>4.168317e+07</td>\n",
       "      <td>7462963.0</td>\n",
       "      <td>2444</td>\n",
       "    </tr>\n",
       "  </tbody>\n",
       "</table>\n",
       "</div>"
      ],
      "text/plain": [
       "        CONSTR_MTRL  ST INC_YR        EXPO  EXPO_ADJUSTED   PREM_AMT  POL_CNT\n",
       "5             frame  19   2014  28841413.0   2.879528e+07  5426771.0     2063\n",
       "6             frame  19   2015  34580610.0   3.464491e+07  6124989.0     2070\n",
       "7             frame  19   2016  41661453.0   4.278891e+07  7168403.0     2061\n",
       "8             frame  19   2017  48697337.0   4.918506e+07  7908189.0     2030\n",
       "9             frame  19   2018  52784555.0   5.363458e+07  8495693.0     2022\n",
       "10  joisted masonry  19   2014  28599688.0   2.915586e+07  6309872.0     2689\n",
       "11  joisted masonry  19   2015  29872971.0   3.071714e+07  6599896.0     2622\n",
       "12  joisted masonry  19   2016  33589382.0   3.443954e+07  6871030.0     2533\n",
       "13  joisted masonry  19   2017  37285829.0   3.840985e+07  7092819.0     2503\n",
       "14  joisted masonry  19   2018  40569766.0   4.168317e+07  7462963.0     2444"
      ]
     },
     "execution_count": null,
     "metadata": {},
     "output_type": "execute_result"
    }
   ],
   "source": [
    "# Which records have a policy count greater than 2000?\n",
    "output_2.loc[(output_2['POL_CNT'] > 2000)]"
   ]
  },
  {
   "cell_type": "code",
   "execution_count": null,
   "metadata": {
    "ExecuteTime": {
     "end_time": "2020-04-06T15:49:21.436630Z",
     "start_time": "2020-04-06T15:49:21.420798Z"
    }
   },
   "outputs": [
    {
     "data": {
      "text/html": [
       "<div>\n",
       "<style scoped>\n",
       "    .dataframe tbody tr th:only-of-type {\n",
       "        vertical-align: middle;\n",
       "    }\n",
       "\n",
       "    .dataframe tbody tr th {\n",
       "        vertical-align: top;\n",
       "    }\n",
       "\n",
       "    .dataframe thead th {\n",
       "        text-align: right;\n",
       "    }\n",
       "</style>\n",
       "<table border=\"1\" class=\"dataframe\">\n",
       "  <thead>\n",
       "    <tr style=\"text-align: right;\">\n",
       "      <th></th>\n",
       "      <th>CONSTR_MTRL</th>\n",
       "      <th>ST</th>\n",
       "      <th>INC_YR</th>\n",
       "      <th>EXPO</th>\n",
       "      <th>EXPO_ADJUSTED</th>\n",
       "      <th>PREM_AMT</th>\n",
       "      <th>POL_CNT</th>\n",
       "    </tr>\n",
       "  </thead>\n",
       "  <tbody>\n",
       "    <tr>\n",
       "      <th>5</th>\n",
       "      <td>frame</td>\n",
       "      <td>19</td>\n",
       "      <td>2014</td>\n",
       "      <td>28841413.0</td>\n",
       "      <td>2.879528e+07</td>\n",
       "      <td>5426771.0</td>\n",
       "      <td>2063</td>\n",
       "    </tr>\n",
       "    <tr>\n",
       "      <th>10</th>\n",
       "      <td>joisted masonry</td>\n",
       "      <td>19</td>\n",
       "      <td>2014</td>\n",
       "      <td>28599688.0</td>\n",
       "      <td>2.915586e+07</td>\n",
       "      <td>6309872.0</td>\n",
       "      <td>2689</td>\n",
       "    </tr>\n",
       "    <tr>\n",
       "      <th>6</th>\n",
       "      <td>frame</td>\n",
       "      <td>19</td>\n",
       "      <td>2015</td>\n",
       "      <td>34580610.0</td>\n",
       "      <td>3.464491e+07</td>\n",
       "      <td>6124989.0</td>\n",
       "      <td>2070</td>\n",
       "    </tr>\n",
       "    <tr>\n",
       "      <th>11</th>\n",
       "      <td>joisted masonry</td>\n",
       "      <td>19</td>\n",
       "      <td>2015</td>\n",
       "      <td>29872971.0</td>\n",
       "      <td>3.071714e+07</td>\n",
       "      <td>6599896.0</td>\n",
       "      <td>2622</td>\n",
       "    </tr>\n",
       "    <tr>\n",
       "      <th>12</th>\n",
       "      <td>joisted masonry</td>\n",
       "      <td>19</td>\n",
       "      <td>2016</td>\n",
       "      <td>33589382.0</td>\n",
       "      <td>3.443954e+07</td>\n",
       "      <td>6871030.0</td>\n",
       "      <td>2533</td>\n",
       "    </tr>\n",
       "    <tr>\n",
       "      <th>7</th>\n",
       "      <td>frame</td>\n",
       "      <td>19</td>\n",
       "      <td>2016</td>\n",
       "      <td>41661453.0</td>\n",
       "      <td>4.278891e+07</td>\n",
       "      <td>7168403.0</td>\n",
       "      <td>2061</td>\n",
       "    </tr>\n",
       "    <tr>\n",
       "      <th>13</th>\n",
       "      <td>joisted masonry</td>\n",
       "      <td>19</td>\n",
       "      <td>2017</td>\n",
       "      <td>37285829.0</td>\n",
       "      <td>3.840985e+07</td>\n",
       "      <td>7092819.0</td>\n",
       "      <td>2503</td>\n",
       "    </tr>\n",
       "    <tr>\n",
       "      <th>8</th>\n",
       "      <td>frame</td>\n",
       "      <td>19</td>\n",
       "      <td>2017</td>\n",
       "      <td>48697337.0</td>\n",
       "      <td>4.918506e+07</td>\n",
       "      <td>7908189.0</td>\n",
       "      <td>2030</td>\n",
       "    </tr>\n",
       "    <tr>\n",
       "      <th>14</th>\n",
       "      <td>joisted masonry</td>\n",
       "      <td>19</td>\n",
       "      <td>2018</td>\n",
       "      <td>40569766.0</td>\n",
       "      <td>4.168317e+07</td>\n",
       "      <td>7462963.0</td>\n",
       "      <td>2444</td>\n",
       "    </tr>\n",
       "    <tr>\n",
       "      <th>9</th>\n",
       "      <td>frame</td>\n",
       "      <td>19</td>\n",
       "      <td>2018</td>\n",
       "      <td>52784555.0</td>\n",
       "      <td>5.363458e+07</td>\n",
       "      <td>8495693.0</td>\n",
       "      <td>2022</td>\n",
       "    </tr>\n",
       "  </tbody>\n",
       "</table>\n",
       "</div>"
      ],
      "text/plain": [
       "        CONSTR_MTRL  ST INC_YR        EXPO  EXPO_ADJUSTED   PREM_AMT  POL_CNT\n",
       "5             frame  19   2014  28841413.0   2.879528e+07  5426771.0     2063\n",
       "10  joisted masonry  19   2014  28599688.0   2.915586e+07  6309872.0     2689\n",
       "6             frame  19   2015  34580610.0   3.464491e+07  6124989.0     2070\n",
       "11  joisted masonry  19   2015  29872971.0   3.071714e+07  6599896.0     2622\n",
       "12  joisted masonry  19   2016  33589382.0   3.443954e+07  6871030.0     2533\n",
       "7             frame  19   2016  41661453.0   4.278891e+07  7168403.0     2061\n",
       "13  joisted masonry  19   2017  37285829.0   3.840985e+07  7092819.0     2503\n",
       "8             frame  19   2017  48697337.0   4.918506e+07  7908189.0     2030\n",
       "14  joisted masonry  19   2018  40569766.0   4.168317e+07  7462963.0     2444\n",
       "9             frame  19   2018  52784555.0   5.363458e+07  8495693.0     2022"
      ]
     },
     "execution_count": null,
     "metadata": {},
     "output_type": "execute_result"
    }
   ],
   "source": [
    "# Display our data sorted by premium amount in ascending order\n",
    "output_2.loc[(output_2['POL_CNT'] > 2000)].sort_values(['INC_YR','PREM_AMT'], ascending=True)"
   ]
  },
  {
   "cell_type": "code",
   "execution_count": null,
   "metadata": {
    "ExecuteTime": {
     "end_time": "2020-04-06T15:52:33.594667Z",
     "start_time": "2020-04-06T15:52:33.561125Z"
    }
   },
   "outputs": [
    {
     "data": {
      "text/html": [
       "<div>\n",
       "<style scoped>\n",
       "    .dataframe tbody tr th:only-of-type {\n",
       "        vertical-align: middle;\n",
       "    }\n",
       "\n",
       "    .dataframe tbody tr th {\n",
       "        vertical-align: top;\n",
       "    }\n",
       "\n",
       "    .dataframe thead th {\n",
       "        text-align: right;\n",
       "    }\n",
       "</style>\n",
       "<table border=\"1\" class=\"dataframe\">\n",
       "  <thead>\n",
       "    <tr style=\"text-align: right;\">\n",
       "      <th></th>\n",
       "      <th></th>\n",
       "      <th>EXPO_ADJUSTED</th>\n",
       "      <th>POL_CNT</th>\n",
       "      <th>PREM_AMT</th>\n",
       "    </tr>\n",
       "    <tr>\n",
       "      <th>ST</th>\n",
       "      <th>INC_YR</th>\n",
       "      <th></th>\n",
       "      <th></th>\n",
       "      <th></th>\n",
       "    </tr>\n",
       "  </thead>\n",
       "  <tbody>\n",
       "    <tr>\n",
       "      <th rowspan=\"5\" valign=\"top\">19</th>\n",
       "      <th>2014</th>\n",
       "      <td>1.033940e+08</td>\n",
       "      <td>6825</td>\n",
       "      <td>17545467.0</td>\n",
       "    </tr>\n",
       "    <tr>\n",
       "      <th>2015</th>\n",
       "      <td>1.130717e+08</td>\n",
       "      <td>6731</td>\n",
       "      <td>18913690.0</td>\n",
       "    </tr>\n",
       "    <tr>\n",
       "      <th>2016</th>\n",
       "      <td>1.296582e+08</td>\n",
       "      <td>6620</td>\n",
       "      <td>20571689.0</td>\n",
       "    </tr>\n",
       "    <tr>\n",
       "      <th>2017</th>\n",
       "      <td>1.452190e+08</td>\n",
       "      <td>6606</td>\n",
       "      <td>21817236.0</td>\n",
       "    </tr>\n",
       "    <tr>\n",
       "      <th>2018</th>\n",
       "      <td>1.563416e+08</td>\n",
       "      <td>6501</td>\n",
       "      <td>23056311.0</td>\n",
       "    </tr>\n",
       "    <tr>\n",
       "      <th>All</th>\n",
       "      <th></th>\n",
       "      <td>6.476845e+08</td>\n",
       "      <td>33283</td>\n",
       "      <td>101904393.0</td>\n",
       "    </tr>\n",
       "  </tbody>\n",
       "</table>\n",
       "</div>"
      ],
      "text/plain": [
       "            EXPO_ADJUSTED  POL_CNT     PREM_AMT\n",
       "ST  INC_YR                                     \n",
       "19  2014     1.033940e+08     6825   17545467.0\n",
       "    2015     1.130717e+08     6731   18913690.0\n",
       "    2016     1.296582e+08     6620   20571689.0\n",
       "    2017     1.452190e+08     6606   21817236.0\n",
       "    2018     1.563416e+08     6501   23056311.0\n",
       "All          6.476845e+08    33283  101904393.0"
      ]
     },
     "execution_count": null,
     "metadata": {},
     "output_type": "execute_result"
    }
   ],
   "source": [
    "# Pivot our data: \n",
    "# for each state and for each inception year, \n",
    "# what is the aggregate premium amount, adjusted exposure, and policy count?\n",
    "pivot1 = pd.pivot_table(output_2,\n",
    "                        values=['PREM_AMT', 'EXPO_ADJUSTED', 'POL_CNT'],\n",
    "                        index=['ST', 'INC_YR'],\n",
    "                        aggfunc=sum,\n",
    "                        margins = True)\n",
    "pivot1"
   ]
  },
  {
   "cell_type": "code",
   "execution_count": null,
   "metadata": {
    "ExecuteTime": {
     "end_time": "2020-04-06T15:53:38.543087Z",
     "start_time": "2020-04-06T15:53:38.444082Z"
    },
    "slideshow": {
     "slide_type": "subslide"
    }
   },
   "outputs": [
    {
     "data": {
      "text/html": [
       "<div>\n",
       "<style scoped>\n",
       "    .dataframe tbody tr th:only-of-type {\n",
       "        vertical-align: middle;\n",
       "    }\n",
       "\n",
       "    .dataframe tbody tr th {\n",
       "        vertical-align: top;\n",
       "    }\n",
       "\n",
       "    .dataframe thead tr th {\n",
       "        text-align: left;\n",
       "    }\n",
       "\n",
       "    .dataframe thead tr:last-of-type th {\n",
       "        text-align: right;\n",
       "    }\n",
       "</style>\n",
       "<table border=\"1\" class=\"dataframe\">\n",
       "  <thead>\n",
       "    <tr>\n",
       "      <th></th>\n",
       "      <th></th>\n",
       "      <th colspan=\"7\" halign=\"left\">EXPO_ADJUSTED</th>\n",
       "      <th colspan=\"7\" halign=\"left\">POL_CNT</th>\n",
       "      <th colspan=\"7\" halign=\"left\">PREM_AMT</th>\n",
       "    </tr>\n",
       "    <tr>\n",
       "      <th></th>\n",
       "      <th>CONSTR_MTRL</th>\n",
       "      <th>fire resistive</th>\n",
       "      <th>frame</th>\n",
       "      <th>joisted masonry</th>\n",
       "      <th>masonry non-combustible</th>\n",
       "      <th>modified firse resistive</th>\n",
       "      <th>non-combustible</th>\n",
       "      <th>All</th>\n",
       "      <th>fire resistive</th>\n",
       "      <th>frame</th>\n",
       "      <th>joisted masonry</th>\n",
       "      <th>...</th>\n",
       "      <th>modified firse resistive</th>\n",
       "      <th>non-combustible</th>\n",
       "      <th>All</th>\n",
       "      <th>fire resistive</th>\n",
       "      <th>frame</th>\n",
       "      <th>joisted masonry</th>\n",
       "      <th>masonry non-combustible</th>\n",
       "      <th>modified firse resistive</th>\n",
       "      <th>non-combustible</th>\n",
       "      <th>All</th>\n",
       "    </tr>\n",
       "    <tr>\n",
       "      <th>ST</th>\n",
       "      <th>INC_YR</th>\n",
       "      <th></th>\n",
       "      <th></th>\n",
       "      <th></th>\n",
       "      <th></th>\n",
       "      <th></th>\n",
       "      <th></th>\n",
       "      <th></th>\n",
       "      <th></th>\n",
       "      <th></th>\n",
       "      <th></th>\n",
       "      <th></th>\n",
       "      <th></th>\n",
       "      <th></th>\n",
       "      <th></th>\n",
       "      <th></th>\n",
       "      <th></th>\n",
       "      <th></th>\n",
       "      <th></th>\n",
       "      <th></th>\n",
       "      <th></th>\n",
       "      <th></th>\n",
       "    </tr>\n",
       "  </thead>\n",
       "  <tbody>\n",
       "    <tr>\n",
       "      <th rowspan=\"5\" valign=\"top\">19</th>\n",
       "      <th>2014</th>\n",
       "      <td>4.163405e+06</td>\n",
       "      <td>2.879528e+07</td>\n",
       "      <td>2.915586e+07</td>\n",
       "      <td>3.221071e+07</td>\n",
       "      <td>277607.00</td>\n",
       "      <td>8.791122e+06</td>\n",
       "      <td>1.033940e+08</td>\n",
       "      <td>107</td>\n",
       "      <td>2063</td>\n",
       "      <td>2689</td>\n",
       "      <td>...</td>\n",
       "      <td>14</td>\n",
       "      <td>573</td>\n",
       "      <td>6825</td>\n",
       "      <td>399727.0</td>\n",
       "      <td>5426771.0</td>\n",
       "      <td>6309872.0</td>\n",
       "      <td>4015886.0</td>\n",
       "      <td>36918.0</td>\n",
       "      <td>1356293.0</td>\n",
       "      <td>17545467.0</td>\n",
       "    </tr>\n",
       "    <tr>\n",
       "      <th>2015</th>\n",
       "      <td>5.151379e+06</td>\n",
       "      <td>3.464491e+07</td>\n",
       "      <td>3.071714e+07</td>\n",
       "      <td>3.309234e+07</td>\n",
       "      <td>284136.00</td>\n",
       "      <td>9.181807e+06</td>\n",
       "      <td>1.130717e+08</td>\n",
       "      <td>109</td>\n",
       "      <td>2070</td>\n",
       "      <td>2622</td>\n",
       "      <td>...</td>\n",
       "      <td>13</td>\n",
       "      <td>550</td>\n",
       "      <td>6731</td>\n",
       "      <td>495395.0</td>\n",
       "      <td>6124989.0</td>\n",
       "      <td>6599896.0</td>\n",
       "      <td>4217716.0</td>\n",
       "      <td>51766.0</td>\n",
       "      <td>1423928.0</td>\n",
       "      <td>18913690.0</td>\n",
       "    </tr>\n",
       "    <tr>\n",
       "      <th>2016</th>\n",
       "      <td>6.838008e+06</td>\n",
       "      <td>4.278891e+07</td>\n",
       "      <td>3.443954e+07</td>\n",
       "      <td>3.533558e+07</td>\n",
       "      <td>413889.00</td>\n",
       "      <td>9.842325e+06</td>\n",
       "      <td>1.296582e+08</td>\n",
       "      <td>106</td>\n",
       "      <td>2061</td>\n",
       "      <td>2533</td>\n",
       "      <td>...</td>\n",
       "      <td>14</td>\n",
       "      <td>536</td>\n",
       "      <td>6620</td>\n",
       "      <td>658596.0</td>\n",
       "      <td>7168403.0</td>\n",
       "      <td>6871030.0</td>\n",
       "      <td>4399870.0</td>\n",
       "      <td>61838.0</td>\n",
       "      <td>1411952.0</td>\n",
       "      <td>20571689.0</td>\n",
       "    </tr>\n",
       "    <tr>\n",
       "      <th>2017</th>\n",
       "      <td>6.658982e+06</td>\n",
       "      <td>4.918506e+07</td>\n",
       "      <td>3.840985e+07</td>\n",
       "      <td>3.892692e+07</td>\n",
       "      <td>524641.00</td>\n",
       "      <td>1.151356e+07</td>\n",
       "      <td>1.452190e+08</td>\n",
       "      <td>107</td>\n",
       "      <td>2030</td>\n",
       "      <td>2503</td>\n",
       "      <td>...</td>\n",
       "      <td>15</td>\n",
       "      <td>553</td>\n",
       "      <td>6606</td>\n",
       "      <td>644850.0</td>\n",
       "      <td>7908189.0</td>\n",
       "      <td>7092819.0</td>\n",
       "      <td>4530342.0</td>\n",
       "      <td>83263.0</td>\n",
       "      <td>1557773.0</td>\n",
       "      <td>21817236.0</td>\n",
       "    </tr>\n",
       "    <tr>\n",
       "      <th>2018</th>\n",
       "      <td>6.748572e+06</td>\n",
       "      <td>5.363458e+07</td>\n",
       "      <td>4.168317e+07</td>\n",
       "      <td>4.072915e+07</td>\n",
       "      <td>986067.25</td>\n",
       "      <td>1.256000e+07</td>\n",
       "      <td>1.563416e+08</td>\n",
       "      <td>107</td>\n",
       "      <td>2022</td>\n",
       "      <td>2444</td>\n",
       "      <td>...</td>\n",
       "      <td>18</td>\n",
       "      <td>548</td>\n",
       "      <td>6501</td>\n",
       "      <td>688464.0</td>\n",
       "      <td>8495693.0</td>\n",
       "      <td>7462963.0</td>\n",
       "      <td>4663902.0</td>\n",
       "      <td>123527.0</td>\n",
       "      <td>1621762.0</td>\n",
       "      <td>23056311.0</td>\n",
       "    </tr>\n",
       "    <tr>\n",
       "      <th>All</th>\n",
       "      <th></th>\n",
       "      <td>2.956035e+07</td>\n",
       "      <td>2.090487e+08</td>\n",
       "      <td>1.744056e+08</td>\n",
       "      <td>1.802947e+08</td>\n",
       "      <td>2486340.25</td>\n",
       "      <td>5.188882e+07</td>\n",
       "      <td>6.476845e+08</td>\n",
       "      <td>536</td>\n",
       "      <td>10246</td>\n",
       "      <td>12791</td>\n",
       "      <td>...</td>\n",
       "      <td>74</td>\n",
       "      <td>2760</td>\n",
       "      <td>33283</td>\n",
       "      <td>2887032.0</td>\n",
       "      <td>35124045.0</td>\n",
       "      <td>34336580.0</td>\n",
       "      <td>21827716.0</td>\n",
       "      <td>357312.0</td>\n",
       "      <td>7371708.0</td>\n",
       "      <td>101904393.0</td>\n",
       "    </tr>\n",
       "  </tbody>\n",
       "</table>\n",
       "<p>6 rows × 21 columns</p>\n",
       "</div>"
      ],
      "text/plain": [
       "             EXPO_ADJUSTED                                \\\n",
       "CONSTR_MTRL fire resistive         frame joisted masonry   \n",
       "ST  INC_YR                                                 \n",
       "19  2014      4.163405e+06  2.879528e+07    2.915586e+07   \n",
       "    2015      5.151379e+06  3.464491e+07    3.071714e+07   \n",
       "    2016      6.838008e+06  4.278891e+07    3.443954e+07   \n",
       "    2017      6.658982e+06  4.918506e+07    3.840985e+07   \n",
       "    2018      6.748572e+06  5.363458e+07    4.168317e+07   \n",
       "All           2.956035e+07  2.090487e+08    1.744056e+08   \n",
       "\n",
       "                                                                              \\\n",
       "CONSTR_MTRL masonry non-combustible modified firse resistive non-combustible   \n",
       "ST  INC_YR                                                                     \n",
       "19  2014               3.221071e+07                277607.00    8.791122e+06   \n",
       "    2015               3.309234e+07                284136.00    9.181807e+06   \n",
       "    2016               3.533558e+07                413889.00    9.842325e+06   \n",
       "    2017               3.892692e+07                524641.00    1.151356e+07   \n",
       "    2018               4.072915e+07                986067.25    1.256000e+07   \n",
       "All                    1.802947e+08               2486340.25    5.188882e+07   \n",
       "\n",
       "                                 POL_CNT                         ...  \\\n",
       "CONSTR_MTRL           All fire resistive  frame joisted masonry  ...   \n",
       "ST  INC_YR                                                       ...   \n",
       "19  2014     1.033940e+08            107   2063            2689  ...   \n",
       "    2015     1.130717e+08            109   2070            2622  ...   \n",
       "    2016     1.296582e+08            106   2061            2533  ...   \n",
       "    2017     1.452190e+08            107   2030            2503  ...   \n",
       "    2018     1.563416e+08            107   2022            2444  ...   \n",
       "All          6.476845e+08            536  10246           12791  ...   \n",
       "\n",
       "                                                                  PREM_AMT  \\\n",
       "CONSTR_MTRL modified firse resistive non-combustible    All fire resistive   \n",
       "ST  INC_YR                                                                   \n",
       "19  2014                          14             573   6825       399727.0   \n",
       "    2015                          13             550   6731       495395.0   \n",
       "    2016                          14             536   6620       658596.0   \n",
       "    2017                          15             553   6606       644850.0   \n",
       "    2018                          18             548   6501       688464.0   \n",
       "All                               74            2760  33283      2887032.0   \n",
       "\n",
       "                                                                 \\\n",
       "CONSTR_MTRL       frame joisted masonry masonry non-combustible   \n",
       "ST  INC_YR                                                        \n",
       "19  2014      5426771.0       6309872.0               4015886.0   \n",
       "    2015      6124989.0       6599896.0               4217716.0   \n",
       "    2016      7168403.0       6871030.0               4399870.0   \n",
       "    2017      7908189.0       7092819.0               4530342.0   \n",
       "    2018      8495693.0       7462963.0               4663902.0   \n",
       "All          35124045.0      34336580.0              21827716.0   \n",
       "\n",
       "                                                                   \n",
       "CONSTR_MTRL modified firse resistive non-combustible          All  \n",
       "ST  INC_YR                                                         \n",
       "19  2014                     36918.0       1356293.0   17545467.0  \n",
       "    2015                     51766.0       1423928.0   18913690.0  \n",
       "    2016                     61838.0       1411952.0   20571689.0  \n",
       "    2017                     83263.0       1557773.0   21817236.0  \n",
       "    2018                    123527.0       1621762.0   23056311.0  \n",
       "All                         357312.0       7371708.0  101904393.0  \n",
       "\n",
       "[6 rows x 21 columns]"
      ]
     },
     "execution_count": null,
     "metadata": {},
     "output_type": "execute_result"
    }
   ],
   "source": [
    "# Pivot our data: \n",
    "# for each state and for each inception year, \n",
    "# what is the aggregate premium amount, adjusted exposure, and policy count per construction material type?\n",
    "pivot2 = pd.pivot_table(output_2,\n",
    "                        values=['PREM_AMT', 'EXPO_ADJUSTED', 'POL_CNT'],\n",
    "                        index=['ST', 'INC_YR'],\n",
    "                        aggfunc=sum,\n",
    "                        columns=['CONSTR_MTRL'],\n",
    "                        margins = True)\n",
    "pivot2"
   ]
  },
  {
   "cell_type": "markdown",
   "metadata": {
    "slideshow": {
     "slide_type": "fragment"
    }
   },
   "source": [
    "### Extracting Data to CSV\n",
    "<a href=\"https://pandas.pydata.org/pandas-docs/stable/reference/api/pandas.DataFrame.to_csv.html\">Pandas Write Data Frame to CSV</a>"
   ]
  },
  {
   "cell_type": "code",
   "execution_count": null,
   "metadata": {
    "ExecuteTime": {
     "end_time": "2020-04-06T15:55:31.451465Z",
     "start_time": "2020-04-06T15:55:31.408301Z"
    },
    "slideshow": {
     "slide_type": "fragment"
    }
   },
   "outputs": [],
   "source": [
    "pivot2.to_csv('extract_pivot.csv', sep=',', na_rep='NA')"
   ]
  },
  {
   "cell_type": "markdown",
   "metadata": {
    "slideshow": {
     "slide_type": "slide"
    }
   },
   "source": [
    "## Cleanup"
   ]
  },
  {
   "cell_type": "code",
   "execution_count": null,
   "metadata": {
    "ExecuteTime": {
     "end_time": "2020-04-06T15:56:24.417534Z",
     "start_time": "2020-04-06T15:56:23.683505Z"
    },
    "slideshow": {
     "slide_type": "fragment"
    }
   },
   "outputs": [],
   "source": [
    "sf.close_connect()  # closes the Snowflake connection"
   ]
  },
  {
   "cell_type": "markdown",
   "metadata": {
    "slideshow": {
     "slide_type": "slide"
    }
   },
   "source": [
    "## References\n",
    "- [Greenplum SQL vs Snowflake SQL](https://epm.verisk.com/confluence/display/ISUIAE/GPDB+SQL+vs+SFDB+SQL)\n",
    "- [Actuarial Routines Documentation](https://epm.verisk.com/confluence/pages/viewpage.action?pageId=177871408)\n",
    "- [Pandas Write Data Frame to CSV](https://pandas.pydata.org/pandas-docs/stable/reference/api/pandas.DataFrame.to_csv.html)\n",
    "- [Pandas DataFrame Documentation](https://pandas.pydata.org/pandas-docs/stable/reference/frame.html)"
   ]
  }
 ],
 "metadata": {
  "hide_input": false,
  "kernelspec": {
   "display_name": "Python 3 (ipykernel)",
   "language": "python",
   "name": "python3"
  },
  "language_info": {
   "codemirror_mode": {
    "name": "ipython",
    "version": 3
   },
   "file_extension": ".py",
   "mimetype": "text/x-python",
   "name": "python",
   "nbconvert_exporter": "python",
   "pygments_lexer": "ipython3",
   "version": "3.9.8"
  },
  "latex_envs": {
   "LaTeX_envs_menu_present": true,
   "autoclose": false,
   "autocomplete": true,
   "bibliofile": "biblio.bib",
   "cite_by": "apalike",
   "current_citInitial": 1,
   "eqLabelWithNumbers": true,
   "eqNumInitial": 1,
   "hotkeys": {
    "equation": "Ctrl-E",
    "itemize": "Ctrl-I"
   },
   "labels_anchors": false,
   "latex_user_defs": false,
   "report_style_numbering": false,
   "user_envs_cfg": false
  },
  "toc": {
   "base_numbering": 1,
   "nav_menu": {},
   "number_sections": true,
   "sideBar": true,
   "skip_h1_title": true,
   "title_cell": "Agenda",
   "title_sidebar": "Contents",
   "toc_cell": false,
   "toc_position": {
    "height": "calc(100% - 180px)",
    "left": "10px",
    "top": "150px",
    "width": "335.594px"
   },
   "toc_section_display": true,
   "toc_window_display": false
  },
  "varInspector": {
   "cols": {
    "lenName": 16,
    "lenType": 16,
    "lenVar": 40
   },
   "kernels_config": {
    "python": {
     "delete_cmd_postfix": "",
     "delete_cmd_prefix": "del ",
     "library": "var_list.py",
     "varRefreshCmd": "print(var_dic_list())"
    },
    "r": {
     "delete_cmd_postfix": ") ",
     "delete_cmd_prefix": "rm(",
     "library": "var_list.r",
     "varRefreshCmd": "cat(var_dic_list()) "
    }
   },
   "position": {
    "height": "655.994px",
    "left": "485.994px",
    "right": "20px",
    "top": "112px",
    "width": "626.996px"
   },
   "types_to_exclude": [
    "module",
    "function",
    "builtin_function_or_method",
    "instance",
    "_Feature"
   ],
   "window_display": false
  }
 },
 "nbformat": 4,
 "nbformat_minor": 4
}
