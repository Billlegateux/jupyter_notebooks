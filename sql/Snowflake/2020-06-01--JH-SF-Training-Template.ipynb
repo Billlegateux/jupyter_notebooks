{
 "cells": [
  {
   "cell_type": "markdown",
   "metadata": {
    "slideshow": {
     "slide_type": "slide"
    }
   },
   "source": [
    "# Agenda for Jupyter\n",
    "<img src=\"https://jupyter.org/assets/main-logo.svg\" style=\"float:right;height:240pt\"/>\n",
    "\n",
    "1. Configure Your Settings\n",
    "1. Connect to Snowflake\n",
    "1. Query Snowflake Data\n",
    "1. Parametrizing Queries\n",
    "1. Stat Plan Python Routines\n",
    "1. Manipulating Pandas DataFrames\n"
   ]
  },
  {
   "cell_type": "markdown",
   "metadata": {
    "slideshow": {
     "slide_type": "slide"
    }
   },
   "source": [
    "## Configure Your Settings"
   ]
  },
  {
   "cell_type": "markdown",
   "metadata": {
    "slideshow": {
     "slide_type": "fragment"
    }
   },
   "source": [
    "Navigate to **📁 / aeconf / aeuser.txt**"
   ]
  },
  {
   "cell_type": "markdown",
   "metadata": {
    "slideshow": {
     "slide_type": "fragment"
    }
   },
   "source": [
    "**Lines 18-22 are the same for everyone:**\n",
    "\n",
    "```\n",
    "## Snowflake\n",
    "## ----------------\n",
    "SFAUTHENTICATOR='https://verisk.okta.com'\n",
    "SFACCOUNT='verisk.us-east-1.privatelink'\n",
    "SFWAREHOUSE='IPO_ANALYTICS_WH'\n",
    "```"
   ]
  },
  {
   "cell_type": "markdown",
   "metadata": {
    "slideshow": {
     "slide_type": "fragment"
    }
   },
   "source": [
    "```\n",
    "SFDATABASE='YOUR_GROUP_DATABASE'\n",
    "SFSCHEMA='YOUR_SCHEMA_CREATED_EARLIER'\n",
    "SFUSER='YOUR-i-NUMBER'\n",
    "SFROLE='YOUR_ROLE'\n",
    "```"
   ]
  },
  {
   "cell_type": "markdown",
   "metadata": {
    "slideshow": {
     "slide_type": "slide"
    }
   },
   "source": [
    "## Connect to Snowflake"
   ]
  },
  {
   "cell_type": "code",
   "execution_count": null,
   "metadata": {
    "ExecuteTime": {
     "end_time": "2020-04-02T16:18:58.176643Z",
     "start_time": "2020-04-02T16:18:57.410602Z"
    },
    "code_folding": [],
    "slideshow": {
     "slide_type": "fragment"
    }
   },
   "outputs": [],
   "source": [
    "# System packages imports\n",
    "import os\n",
    "import pandas as pd\n",
    "from getpass import getpass"
   ]
  },
  {
   "cell_type": "code",
   "execution_count": null,
   "metadata": {},
   "outputs": [],
   "source": [
    "# Import our in-house package to connect to Snowflake"
   ]
  },
  {
   "cell_type": "code",
   "execution_count": null,
   "metadata": {
    "ExecuteTime": {
     "end_time": "2020-04-02T16:19:06.229259Z",
     "start_time": "2020-04-02T16:19:03.624262Z"
    }
   },
   "outputs": [],
   "source": [
    "# Prompt your password since we did not save it in aeconf.txt\n",
    "# Reference: https://docs.python.org/3.7/library/getpass.html\n",
    "os.environ[__________] = getpass(prompt='Password: ', stream=None)"
   ]
  },
  {
   "cell_type": "code",
   "execution_count": null,
   "metadata": {
    "ExecuteTime": {
     "end_time": "2020-04-02T16:19:14.648192Z",
     "start_time": "2020-04-02T16:19:13.161838Z"
    },
    "slideshow": {
     "slide_type": "fragment"
    }
   },
   "outputs": [],
   "source": [
    "# This will read aeconf.txt settings that we configured earlier,\n",
    "# and use those settings to initailize a connection to Snowflake database\n",
    "# Reference: https://docs.snowflake.com/en/user-guide/python-connector.html\n",
    "sf_conn = sf.get_connect()"
   ]
  },
  {
   "cell_type": "code",
   "execution_count": null,
   "metadata": {
    "ExecuteTime": {
     "end_time": "2020-04-02T16:19:18.214467Z",
     "start_time": "2020-04-02T16:19:18.112443Z"
    }
   },
   "outputs": [],
   "source": [
    "# This will enable you to perform sql_magic in your notebook. \n",
    "# sql_magic is Jupyter magic for writing SQL to interact with relational databases. \n",
    "# Query results are saved directly to a Pandas dataframe.\n",
    "# Reference: https://github.com/pivotal-legacy/sql_magic\n",
    "%reload_ext sql_magic\n",
    "%config SQL.conn_name = __________ # we defined sf_conn in the cell above"
   ]
  },
  {
   "cell_type": "markdown",
   "metadata": {
    "slideshow": {
     "slide_type": "slide"
    }
   },
   "source": [
    "## Query Snowflake Data"
   ]
  },
  {
   "cell_type": "markdown",
   "metadata": {},
   "source": [
    "How many records are in our dataset?"
   ]
  },
  {
   "cell_type": "code",
   "execution_count": null,
   "metadata": {
    "ExecuteTime": {
     "end_time": "2020-04-02T16:19:22.813079Z",
     "start_time": "2020-04-02T16:19:22.683080Z"
    }
   },
   "outputs": [],
   "source": [
    "%%read_sql\n",
    "SELECT count(1) as cnt\n",
    "FROM IPO_DEAL_DB.Q1_2020_TRAINING.BLDG_CONT_PREM_SUBSET"
   ]
  },
  {
   "cell_type": "markdown",
   "metadata": {},
   "source": [
    "What's the aggregate premium amount and policy count per (constr_mtrl, st, inc_yr) grouping?\n",
    "\n",
    "A unique policy is assumed to be defined as having distinct (tl_grp, co, prem_rec_id, inc_yr) values"
   ]
  },
  {
   "cell_type": "code",
   "execution_count": null,
   "metadata": {
    "ExecuteTime": {
     "end_time": "2020-04-02T15:59:55.832266Z",
     "start_time": "2020-04-02T15:59:55.574962Z"
    },
    "slideshow": {
     "slide_type": "subslide"
    }
   },
   "outputs": [],
   "source": [
    "%%read_sql -d ___________\n",
    "SELECT \n",
    "  constr_mtrl,\n",
    "  st,\n",
    "  inc_yr,\n",
    "  ___________ AS prem_amt, -- aggregate premium amounts\n",
    "  ___________ AS expo, -- aggregate exposure\n",
    "  COUNT(___________) AS pol_cnt -- count of unique policies\n",
    "FROM \n",
    "  ______________________________\n",
    "WHERE\n",
    "  (inc_yr::INTEGER BETWEEN ____ AND ____) AND -- filter to records with inception year between 2014 and 2018\n",
    "  closeout_date ________ AND -- filter to closeout as of 20192\n",
    "  bldg_cont_cov_id __________ AND -- filter to 'bldg' coverage records\n",
    "  liab_prop_cov_id __________ AND -- filter to 'prop' and 'comb' coverage records\n",
    "  terror_cov_cd ___________ AND -- exclude certain terror coverages '7' and '8'\n",
    "  asgnd_sev ___________ -- only severity of 0 or 1 has data quality worth processing\n",
    "GROUP BY \n",
    "  constr_mtrl, st, inc_yr\n",
    "ORDER BY \n",
    "  constr_mtrl, st, inc_yr"
   ]
  },
  {
   "cell_type": "code",
   "execution_count": null,
   "metadata": {
    "ExecuteTime": {
     "end_time": "2020-04-02T15:59:55.846375Z",
     "start_time": "2020-04-02T15:59:55.834140Z"
    },
    "slideshow": {
     "slide_type": "subslide"
    }
   },
   "outputs": [],
   "source": [
    "df_input_selections  # contains results of our last query"
   ]
  },
  {
   "cell_type": "markdown",
   "metadata": {
    "slideshow": {
     "slide_type": "subslide"
    }
   },
   "source": [
    "### Quick Note on Magic Commands: `%` and `%%`"
   ]
  },
  {
   "cell_type": "code",
   "execution_count": null,
   "metadata": {
    "ExecuteTime": {
     "end_time": "2020-04-02T15:59:55.956773Z",
     "start_time": "2020-04-02T15:59:55.847938Z"
    },
    "slideshow": {
     "slide_type": "fragment"
    }
   },
   "outputs": [],
   "source": [
    "%%read_sql \n",
    "-- Description of my code\n",
    "/*\n",
    "Must use SQL-style comments because %%read_sql tells Jupyter to treat this whole cell as SQL\n",
    "\n",
    "nothing is allowed above %%read_sql\n",
    "\n",
    "and no Python is allowed in this cell\n",
    "*/"
   ]
  },
  {
   "cell_type": "code",
   "execution_count": null,
   "metadata": {
    "ExecuteTime": {
     "end_time": "2020-04-02T15:59:56.079262Z",
     "start_time": "2020-04-02T15:59:33.927Z"
    },
    "slideshow": {
     "slide_type": "subslide"
    }
   },
   "outputs": [],
   "source": [
    "print('This passes!')\n",
    "\n",
    "%read_sql SELECT COUNT(1) FROM IPO_DEAL_DB.Q1_2020_TRAINING.BLDG_CONT_PREM_SUBSET;"
   ]
  },
  {
   "cell_type": "markdown",
   "metadata": {
    "slideshow": {
     "slide_type": "slide"
    }
   },
   "source": [
    "## Parametrizing Queries: Using Python Variables in SQL\n",
    "Previous code requires you to manually update SQL to run with new filter conditions, but we can do better."
   ]
  },
  {
   "cell_type": "code",
   "execution_count": null,
   "metadata": {
    "ExecuteTime": {
     "end_time": "2020-04-02T16:00:12.752165Z",
     "start_time": "2020-04-02T16:00:12.748973Z"
    }
   },
   "outputs": [],
   "source": [
    "# Let's define some varaibles in Python"
   ]
  },
  {
   "cell_type": "code",
   "execution_count": null,
   "metadata": {
    "ExecuteTime": {
     "end_time": "2020-04-02T16:00:14.289844Z",
     "start_time": "2020-04-02T16:00:13.653494Z"
    },
    "slideshow": {
     "slide_type": "fragment"
    }
   },
   "outputs": [],
   "source": [
    "%%read_sql\n",
    "CREATE OR REPLACE TEMP TABLE ____________ AS (\n",
    "    SELECT \n",
    "      inc_yr, st, constr_mtrl, \n",
    "      SUM(prem_amt) AS prem_amt,\n",
    "      SUM(expo) AS expo,\n",
    "      COUNT(DISTINCT(tl_grp||co||prem_rec_id||inc_yr)) AS pol_cnt\n",
    "    FROM \n",
    "      __________________\n",
    "    WHERE\n",
    "      inc_yr::INTEGER BETWEEN ___________  AND ___________ AND\n",
    "      closeout_date <= ____________ AND\n",
    "      lower(bldg_cont_cov_id) = 'bldg' AND\n",
    "      lower(liab_prop_cov_id) IN ('prop', 'comb') AND\n",
    "      terror_cov_cd NOT IN ('7', '8') AND\n",
    "      asgnd_sev IN ('0', '1')\n",
    "    GROUP BY \n",
    "      constr_mtrl, st, inc_yr\n",
    "    ORDER BY \n",
    "      constr_mtrl, st, inc_yr\n",
    ");"
   ]
  },
  {
   "cell_type": "code",
   "execution_count": null,
   "metadata": {
    "ExecuteTime": {
     "end_time": "2020-04-02T16:00:14.291737Z",
     "start_time": "2020-04-02T16:00:12.416Z"
    }
   },
   "outputs": [],
   "source": [
    "%%read_sql\n",
    "\n",
    "SELECT * FROM {my_table_name};"
   ]
  },
  {
   "cell_type": "code",
   "execution_count": null,
   "metadata": {
    "ExecuteTime": {
     "end_time": "2020-04-02T16:00:14.292635Z",
     "start_time": "2020-04-02T16:00:12.512Z"
    }
   },
   "outputs": [],
   "source": [
    "%read_sql SELECT COUNT(1) as cnt FROM {my_table_name};"
   ]
  },
  {
   "cell_type": "markdown",
   "metadata": {
    "slideshow": {
     "slide_type": "slide"
    }
   },
   "source": [
    "## Stat Plan Python Routines\n",
    "\n",
    "<a href=\"https://epm.verisk.com/confluence/pages/viewpage.action?pageId=177871408\">Actuarial Routines Documentation</a>\n"
   ]
  },
  {
   "cell_type": "markdown",
   "metadata": {
    "slideshow": {
     "slide_type": "subslide"
    }
   },
   "source": [
    "### Quick Note on Dictionaries"
   ]
  },
  {
   "cell_type": "code",
   "execution_count": null,
   "metadata": {
    "ExecuteTime": {
     "end_time": "2020-04-02T16:00:15.171193Z",
     "start_time": "2020-04-02T16:00:15.167076Z"
    }
   },
   "outputs": [],
   "source": [
    "my_dict = {}\n",
    "print(type(my_dict)) # what type of python object is 'd1'?\n",
    "print(my_dict) # print the entire dictionary"
   ]
  },
  {
   "cell_type": "code",
   "execution_count": null,
   "metadata": {
    "ExecuteTime": {
     "end_time": "2020-04-02T16:00:15.822701Z",
     "start_time": "2020-04-02T16:00:15.818561Z"
    }
   },
   "outputs": [],
   "source": [
    "# What are the dictionary keys?"
   ]
  },
  {
   "cell_type": "code",
   "execution_count": null,
   "metadata": {
    "ExecuteTime": {
     "end_time": "2020-04-02T16:00:16.690663Z",
     "start_time": "2020-04-02T16:00:16.686724Z"
    }
   },
   "outputs": [],
   "source": [
    "# What are the dictionary values?"
   ]
  },
  {
   "cell_type": "code",
   "execution_count": null,
   "metadata": {
    "ExecuteTime": {
     "end_time": "2020-04-02T16:00:16.844630Z",
     "start_time": "2020-04-02T16:00:16.841575Z"
    }
   },
   "outputs": [],
   "source": [
    "# Print each (key, value) item in the dictionary, line by line:"
   ]
  },
  {
   "cell_type": "markdown",
   "metadata": {},
   "source": [
    "### Adjust Exposures by Term"
   ]
  },
  {
   "cell_type": "code",
   "execution_count": null,
   "metadata": {
    "ExecuteTime": {
     "end_time": "2020-04-02T16:00:17.691988Z",
     "start_time": "2020-04-02T16:00:17.668507Z"
    },
    "slideshow": {
     "slide_type": "fragment"
    }
   },
   "outputs": [],
   "source": [
    "# Import the python class for earnings from the statisitcal plan common library spcommom\n",
    "from spcommon.adj_expo_by_term import AdjExpoByTerm\n",
    "\n",
    "print(AdjExpoByTerm.__doc__)  # show documentation for this routine"
   ]
  },
  {
   "cell_type": "code",
   "execution_count": null,
   "metadata": {
    "ExecuteTime": {
     "end_time": "2020-04-02T16:00:17.810769Z",
     "start_time": "2020-04-02T16:00:17.808131Z"
    },
    "slideshow": {
     "slide_type": "subslide"
    }
   },
   "outputs": [],
   "source": [
    "input_param = {\n",
    "    \n",
    "}"
   ]
  },
  {
   "cell_type": "code",
   "execution_count": null,
   "metadata": {
    "ExecuteTime": {
     "end_time": "2020-04-02T16:00:17.924726Z",
     "start_time": "2020-04-02T16:00:17.899053Z"
    },
    "slideshow": {
     "slide_type": "fragment"
    }
   },
   "outputs": [],
   "source": [
    "input_param"
   ]
  },
  {
   "cell_type": "code",
   "execution_count": null,
   "metadata": {
    "ExecuteTime": {
     "end_time": "2020-04-02T16:00:19.087661Z",
     "start_time": "2020-04-02T16:00:19.084212Z"
    },
    "slideshow": {
     "slide_type": "subslide"
    }
   },
   "outputs": [],
   "source": [
    "# initialize the AdjExpoByTerm procedure"
   ]
  },
  {
   "cell_type": "code",
   "execution_count": null,
   "metadata": {},
   "outputs": [],
   "source": [
    "# get documentation on the AdjExpoByTerm procedure"
   ]
  },
  {
   "cell_type": "code",
   "execution_count": null,
   "metadata": {
    "ExecuteTime": {
     "end_time": "2020-04-02T16:00:37.929972Z",
     "start_time": "2020-04-02T16:00:19.295727Z"
    }
   },
   "outputs": [],
   "source": [
    "# shows the SQL underlying the procedure, without actually executing it"
   ]
  },
  {
   "cell_type": "code",
   "execution_count": null,
   "metadata": {
    "ExecuteTime": {
     "end_time": "2020-04-02T16:01:00.376026Z",
     "start_time": "2020-04-02T16:00:37.931614Z"
    },
    "run_control": {
     "marked": false
    },
    "slideshow": {
     "slide_type": "subslide"
    }
   },
   "outputs": [],
   "source": [
    "# executes the SQL and save the result as a variable in python"
   ]
  },
  {
   "cell_type": "code",
   "execution_count": null,
   "metadata": {
    "ExecuteTime": {
     "end_time": "2020-04-02T16:01:00.381320Z",
     "start_time": "2020-04-02T16:01:00.377991Z"
    }
   },
   "outputs": [],
   "source": [
    "# print the table name on Snowflake containing the results"
   ]
  },
  {
   "cell_type": "code",
   "execution_count": null,
   "metadata": {
    "ExecuteTime": {
     "end_time": "2020-04-02T16:01:26.553678Z",
     "start_time": "2020-04-02T16:01:25.791935Z"
    },
    "slideshow": {
     "slide_type": "subslide"
    }
   },
   "outputs": [],
   "source": [
    "%%read_sql output_2\n",
    "\n",
    "SELECT \n",
    "  constr_mtrl,\n",
    "  st,\n",
    "  inc_yr,\n",
    "  SUM(expo) as expo, -- aggregate exposure\n",
    "  SUM(expo_adjusted) as expo_adjusted, -- aggregate adjusted exposure\n",
    "  SUM(prem_amt) AS prem_amt, -- aggregate premium amounts\n",
    "  COUNT(DISTINCT(tl_grp||co||prem_rec_id||inc_yr)) AS pol_cnt -- unique policies\n",
    "FROM \n",
    "  _______________\n",
    "WHERE\n",
    "  (inc_yr::INTEGER BETWEEN {inc_start_yr} AND {inc_end_yr}) AND -- filter to records with inception year between 2014 and 2018\n",
    "  closeout_date <= {closeout_date} AND -- filter to closeout as of 20192\n",
    "  bldg_cont_cov_id = 'bldg' AND -- filter to 'bldg' coverage records\n",
    "  liab_prop_cov_id IN ('prop', 'comb') AND -- filter to 'prop' and 'comb' coverage records\n",
    "  terror_cov_cd NOT IN ('7', '8') AND -- exclude terror coverages '7' and '8'\n",
    "  asgnd_sev IN ('0', '1') -- only severity of 0 or 1 has data quality worth processing\n",
    "GROUP BY \n",
    "  constr_mtrl, st, inc_yr\n",
    "ORDER BY \n",
    "  constr_mtrl, st, inc_yr;"
   ]
  },
  {
   "cell_type": "markdown",
   "metadata": {
    "slideshow": {
     "slide_type": "slide"
    }
   },
   "source": [
    "## Manipulating Pandas DataFrames"
   ]
  },
  {
   "cell_type": "code",
   "execution_count": null,
   "metadata": {
    "ExecuteTime": {
     "end_time": "2020-04-02T17:23:07.481650Z",
     "start_time": "2020-04-02T17:23:07.479411Z"
    },
    "slideshow": {
     "slide_type": "fragment"
    }
   },
   "outputs": [],
   "source": [
    "# Let's get some basic info about our dataframe"
   ]
  },
  {
   "cell_type": "code",
   "execution_count": null,
   "metadata": {
    "ExecuteTime": {
     "end_time": "2020-04-02T16:01:01.600752Z",
     "start_time": "2020-04-02T16:01:01.480598Z"
    },
    "slideshow": {
     "slide_type": "fragment"
    }
   },
   "outputs": [],
   "source": [
    "# Let's do some standard calculations on all our numerical columns"
   ]
  },
  {
   "cell_type": "code",
   "execution_count": null,
   "metadata": {
    "ExecuteTime": {
     "end_time": "2020-04-02T16:02:55.517372Z",
     "start_time": "2020-04-02T16:02:55.508219Z"
    }
   },
   "outputs": [],
   "source": [
    "# Let's select the first 3 columns of the first 13 rows"
   ]
  },
  {
   "cell_type": "code",
   "execution_count": null,
   "metadata": {
    "ExecuteTime": {
     "end_time": "2020-04-02T16:03:44.938135Z",
     "start_time": "2020-04-02T16:03:44.928971Z"
    }
   },
   "outputs": [],
   "source": [
    "# Let's select records 11-20, and limit our output to just 2 columns: CONSTR_MTRL, EXPO_ADJUSTED"
   ]
  },
  {
   "cell_type": "code",
   "execution_count": null,
   "metadata": {
    "ExecuteTime": {
     "end_time": "2020-04-02T16:03:45.541846Z",
     "start_time": "2020-04-02T16:03:45.531127Z"
    },
    "slideshow": {
     "slide_type": "fragment"
    }
   },
   "outputs": [],
   "source": [
    "# Let's select records 26-30, and limit our output to all columns between CONSTR_MTRL and EXPO_ADJUSTED"
   ]
  },
  {
   "cell_type": "code",
   "execution_count": null,
   "metadata": {
    "ExecuteTime": {
     "end_time": "2020-04-02T16:03:47.837826Z",
     "start_time": "2020-04-02T16:03:47.824987Z"
    }
   },
   "outputs": [],
   "source": [
    "# Which records have a policy count greater than 2000?"
   ]
  },
  {
   "cell_type": "code",
   "execution_count": null,
   "metadata": {
    "ExecuteTime": {
     "end_time": "2020-04-02T16:03:51.725265Z",
     "start_time": "2020-04-02T16:03:51.708570Z"
    }
   },
   "outputs": [],
   "source": [
    "# Display our data sorted by premium amount in ascending order"
   ]
  },
  {
   "cell_type": "code",
   "execution_count": null,
   "metadata": {},
   "outputs": [],
   "source": [
    "# Pivot our data: \n",
    "# for each state and for each inception year, \n",
    "# what is the aggregate premium amount, adjusted exposure, and policy count?\n",
    "pivot1 = pd.pivot_table(output_2,\n",
    "                        ___________,\n",
    "                        ___________,\n",
    "                        ___________,\n",
    "                        margins = True)\n",
    "pivot1"
   ]
  },
  {
   "cell_type": "code",
   "execution_count": null,
   "metadata": {
    "ExecuteTime": {
     "end_time": "2020-04-02T16:05:11.351048Z",
     "start_time": "2020-04-02T16:05:11.263766Z"
    },
    "slideshow": {
     "slide_type": "subslide"
    }
   },
   "outputs": [],
   "source": [
    "# Pivot our data: \n",
    "# for each state and for each inception year, \n",
    "# what is the aggregate premium amount, adjusted exposure, and policy count per construction material type?\n",
    "pivot1 = pd.pivot_table(output_2,\n",
    "                        ___________,\n",
    "                        ___________,\n",
    "                        ___________,\n",
    "                        ___________,\n",
    "                        margins = True)\n",
    "pivot2"
   ]
  },
  {
   "cell_type": "markdown",
   "metadata": {
    "slideshow": {
     "slide_type": "fragment"
    }
   },
   "source": [
    "### Extracting Data to CSV\n",
    "<a href=\"https://pandas.pydata.org/pandas-docs/stable/reference/api/pandas.DataFrame.to_csv.html\">Pandas Write Data Frame to CSV</a>"
   ]
  },
  {
   "cell_type": "code",
   "execution_count": null,
   "metadata": {
    "ExecuteTime": {
     "end_time": "2020-04-02T15:59:56.106912Z",
     "start_time": "2020-04-02T15:59:37.315Z"
    },
    "slideshow": {
     "slide_type": "fragment"
    }
   },
   "outputs": [],
   "source": [
    "pivot2.to_csv('extract_pivot.csv', sep=',', na_rep='NA')"
   ]
  },
  {
   "cell_type": "markdown",
   "metadata": {
    "slideshow": {
     "slide_type": "slide"
    }
   },
   "source": [
    "## Cleanup"
   ]
  },
  {
   "cell_type": "code",
   "execution_count": null,
   "metadata": {
    "ExecuteTime": {
     "end_time": "2020-04-02T15:59:56.107868Z",
     "start_time": "2020-04-02T15:59:38.058Z"
    },
    "slideshow": {
     "slide_type": "fragment"
    }
   },
   "outputs": [],
   "source": [
    "sf.close_connect()  # closes the Snowflake connection"
   ]
  },
  {
   "cell_type": "markdown",
   "metadata": {
    "slideshow": {
     "slide_type": "slide"
    }
   },
   "source": [
    "## References\n",
    "- [Greenplum SQL vs Snowflake SQL](https://epm.verisk.com/confluence/display/ISUIAE/GPDB+SQL+vs+SFDB+SQL)\n",
    "- [Actuarial Routines Documentation](https://epm.verisk.com/confluence/pages/viewpage.action?pageId=177871408)\n",
    "- [Pandas Write Data Frame to CSV](https://pandas.pydata.org/pandas-docs/stable/reference/api/pandas.DataFrame.to_csv.html)\n",
    "- [Pandas DataFrame Documentation](https://pandas.pydata.org/pandas-docs/stable/reference/frame.html)"
   ]
  }
 ],
 "metadata": {
  "hide_input": false,
  "kernelspec": {
   "display_name": "Python 3 (ipykernel)",
   "language": "python",
   "name": "python3"
  },
  "language_info": {
   "codemirror_mode": {
    "name": "ipython",
    "version": 3
   },
   "file_extension": ".py",
   "mimetype": "text/x-python",
   "name": "python",
   "nbconvert_exporter": "python",
   "pygments_lexer": "ipython3",
   "version": "3.9.8"
  },
  "latex_envs": {
   "LaTeX_envs_menu_present": true,
   "autoclose": false,
   "autocomplete": true,
   "bibliofile": "biblio.bib",
   "cite_by": "apalike",
   "current_citInitial": 1,
   "eqLabelWithNumbers": true,
   "eqNumInitial": 1,
   "hotkeys": {
    "equation": "Ctrl-E",
    "itemize": "Ctrl-I"
   },
   "labels_anchors": false,
   "latex_user_defs": false,
   "report_style_numbering": false,
   "user_envs_cfg": false
  },
  "toc": {
   "base_numbering": 1,
   "nav_menu": {},
   "number_sections": true,
   "sideBar": true,
   "skip_h1_title": true,
   "title_cell": "Agenda",
   "title_sidebar": "Contents",
   "toc_cell": false,
   "toc_position": {
    "height": "calc(100% - 180px)",
    "left": "10px",
    "top": "150px",
    "width": "335.594px"
   },
   "toc_section_display": true,
   "toc_window_display": false
  },
  "varInspector": {
   "cols": {
    "lenName": 16,
    "lenType": 16,
    "lenVar": 40
   },
   "kernels_config": {
    "python": {
     "delete_cmd_postfix": "",
     "delete_cmd_prefix": "del ",
     "library": "var_list.py",
     "varRefreshCmd": "print(var_dic_list())"
    },
    "r": {
     "delete_cmd_postfix": ") ",
     "delete_cmd_prefix": "rm(",
     "library": "var_list.r",
     "varRefreshCmd": "cat(var_dic_list()) "
    }
   },
   "position": {
    "height": "655.994px",
    "left": "485.994px",
    "right": "20px",
    "top": "112px",
    "width": "626.996px"
   },
   "types_to_exclude": [
    "module",
    "function",
    "builtin_function_or_method",
    "instance",
    "_Feature"
   ],
   "window_display": false
  }
 },
 "nbformat": 4,
 "nbformat_minor": 4
}
