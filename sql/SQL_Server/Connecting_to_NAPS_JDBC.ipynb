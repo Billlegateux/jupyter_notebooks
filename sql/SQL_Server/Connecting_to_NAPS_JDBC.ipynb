{
 "cells": [
  {
   "cell_type": "markdown",
   "metadata": {},
   "source": [
    "# Connecting to NAPS SQL Server with JayDeBeApi"
   ]
  },
  {
   "cell_type": "markdown",
   "metadata": {},
   "source": [
    "**GOAL:** Query SQL Server using Single Sign-On (SSO) and return results as a pandas dataframe"
   ]
  },
  {
   "cell_type": "markdown",
   "metadata": {},
   "source": [
    "To get started, need 2 things:"
   ]
  },
  {
   "cell_type": "markdown",
   "metadata": {},
   "source": [
    "1. Open-source jtds drivers from [here](https://sourceforge.net/projects/jtds/files/jtds/).\n",
    "2. Java runtime environment (JRE).  **NOTE:** If you also need to query mainframe DB2, it is recommended that you use the same JRE used to connect to mainframe DB2"
   ]
  },
  {
   "cell_type": "markdown",
   "metadata": {},
   "source": [
    "Then review this StackOverflow [example](https://stackoverflow.com/questions/55376100/create-a-jtds-connection-string-in-python) for SQL Server connection string details."
   ]
  },
  {
   "cell_type": "markdown",
   "metadata": {},
   "source": [
    "Review this StackOverflow [example](https://stackoverflow.com/questions/13267764/i-o-error-sso-failed-native-sspi-library-not-loaded) to determine where to save the \"ntlmauth.dll\" file used for SSO (\"Single Sign On\" authentication).  Looks like you need to save it in the `java/bin` or `jre/bin` folder."
   ]
  },
  {
   "cell_type": "code",
   "execution_count": 1,
   "metadata": {},
   "outputs": [],
   "source": [
    "from getpass import getpass\n",
    "import jaydebeapi as jdpa\n",
    "import pandas as pd"
   ]
  },
  {
   "cell_type": "code",
   "execution_count": 2,
   "metadata": {},
   "outputs": [
    {
     "name": "stdout",
     "output_type": "stream",
     "text": [
      "C:\\Users\\MA17151\\java8\n"
     ]
    }
   ],
   "source": [
    "!echo %JAVA_HOME%"
   ]
  },
  {
   "cell_type": "markdown",
   "metadata": {},
   "source": [
    "#### Database server details"
   ]
  },
  {
   "cell_type": "code",
   "execution_count": 3,
   "metadata": {},
   "outputs": [],
   "source": [
    "host = 'HAMPXWSQL028'\n",
    "port = '1433'\n",
    "database = 'NAPS_Reporting'"
   ]
  },
  {
   "cell_type": "markdown",
   "metadata": {},
   "source": [
    "#### Query to obtain NAPS MBPNs.  Please use `WITH (NOLOCK)` after table name or table alias to prevent blocking others or jobs from accessing table concurrently."
   ]
  },
  {
   "cell_type": "code",
   "execution_count": 4,
   "metadata": {},
   "outputs": [],
   "source": [
    "sql = \"\"\"\n",
    "SELECT DISTINCT\n",
    "    RTRIM(PDTLS.BasePartNumber) as \"PART-NO\",\n",
    "    PDTLS.IsPartActive,\n",
    "    RTRIM(PDTLS.MBPN) as MBPN,\n",
    "    SUBSTRING(PLANT.PlantCode, 1, 3) as \"PLANT-CD\",\n",
    "    -- Create part # version without space in middle\n",
    "    REPLACE(PDTLS.BasePartNumber, ' ', '') as BPN_Without_Space,\n",
    "    REPLACE(PDTLS.MBPN, ' ', '') as MBPN_Without_Space\n",
    "\n",
    "FROM dbo.Stg_Part_Details_TBL PDTLS\n",
    "    \n",
    "    INNER JOIN dbo.Stg_Events_TBL EVENTS WITH (NOLOCK) ON\n",
    "    PDTLS.ControlEvent = EVENTS.EventID\n",
    "    \n",
    "    INNER JOIN dbo.Stg_Plant_TBL PLANT WITH (NOLOCK) ON\n",
    "    PLANT.PlantID = EVENTS.PlantID\n",
    "\n",
    "WHERE\n",
    "    PDTLS.IsPartActive = 1\n",
    "    AND PLANT.PlantCode = 'MAP'\n",
    "    AND PDTLS.PartEffectiveBeginDate <= getdate()\n",
    "    AND PDTLS.PartEffectiveEndDate > getdate()\n",
    "\"\"\""
   ]
  },
  {
   "cell_type": "markdown",
   "metadata": {},
   "source": [
    "#### Usually best practice to use `with` statement when making a database connection so that we can ensure database connections are closed"
   ]
  },
  {
   "cell_type": "markdown",
   "metadata": {},
   "source": [
    "Connect, execute query, return results back as a pandas dataframe"
   ]
  },
  {
   "cell_type": "code",
   "execution_count": 5,
   "metadata": {},
   "outputs": [],
   "source": [
    "with jdpa.connect(\n",
    "    'net.sourceforge.jtds.jdbc.Driver',\n",
    "    f'jdbc:jtds:sqlserver://{host}:{port}/{database};Trusted_Connection=yes;',\n",
    "    jars=['C:/Users/SomeUser/jtds/jtds-1.3.1.jar']\n",
    ") as conn:\n",
    "    df_mbpn = pd.read_sql(sql, conn, index_col=None)"
   ]
  },
  {
   "cell_type": "markdown",
   "metadata": {},
   "source": [
    "Number of (rows, columns):"
   ]
  },
  {
   "cell_type": "code",
   "execution_count": 6,
   "metadata": {},
   "outputs": [
    {
     "data": {
      "text/plain": [
       "(5692, 6)"
      ]
     },
     "execution_count": 6,
     "metadata": {},
     "output_type": "execute_result"
    }
   ],
   "source": [
    "df_mbpn.shape"
   ]
  },
  {
   "cell_type": "markdown",
   "metadata": {},
   "source": [
    "First 5 rows of data:"
   ]
  },
  {
   "cell_type": "code",
   "execution_count": 7,
   "metadata": {},
   "outputs": [
    {
     "data": {
      "text/html": [
       "<div>\n",
       "<style scoped>\n",
       "    .dataframe tbody tr th:only-of-type {\n",
       "        vertical-align: middle;\n",
       "    }\n",
       "\n",
       "    .dataframe tbody tr th {\n",
       "        vertical-align: top;\n",
       "    }\n",
       "\n",
       "    .dataframe thead th {\n",
       "        text-align: right;\n",
       "    }\n",
       "</style>\n",
       "<table border=\"1\" class=\"dataframe\">\n",
       "  <thead>\n",
       "    <tr style=\"text-align: right;\">\n",
       "      <th></th>\n",
       "      <th>PART-NO</th>\n",
       "      <th>IsPartActive</th>\n",
       "      <th>MBPN</th>\n",
       "      <th>PLANT-CD</th>\n",
       "      <th>BPN_Without_Space</th>\n",
       "      <th>MBPN_Without_Space</th>\n",
       "    </tr>\n",
       "  </thead>\n",
       "  <tbody>\n",
       "    <tr>\n",
       "      <th>0</th>\n",
       "      <td>00X3ATGV A000</td>\n",
       "      <td>1</td>\n",
       "      <td>00X3ATGV A000</td>\n",
       "      <td>MAP</td>\n",
       "      <td>00X3ATGVA000</td>\n",
       "      <td>00X3ATGVA000</td>\n",
       "    </tr>\n",
       "    <tr>\n",
       "      <th>1</th>\n",
       "      <td>00X3ATGV A100</td>\n",
       "      <td>1</td>\n",
       "      <td>00X3ATGV A100</td>\n",
       "      <td>MAP</td>\n",
       "      <td>00X3ATGVA100</td>\n",
       "      <td>00X3ATGVA100</td>\n",
       "    </tr>\n",
       "    <tr>\n",
       "      <th>2</th>\n",
       "      <td>00X3ATGV A200</td>\n",
       "      <td>1</td>\n",
       "      <td>00X3ATGV A200</td>\n",
       "      <td>MAP</td>\n",
       "      <td>00X3ATGVA200</td>\n",
       "      <td>00X3ATGVA200</td>\n",
       "    </tr>\n",
       "    <tr>\n",
       "      <th>3</th>\n",
       "      <td>00X3ATGV A300</td>\n",
       "      <td>1</td>\n",
       "      <td>00X3ATGV A300</td>\n",
       "      <td>MAP</td>\n",
       "      <td>00X3ATGVA300</td>\n",
       "      <td>00X3ATGVA300</td>\n",
       "    </tr>\n",
       "    <tr>\n",
       "      <th>4</th>\n",
       "      <td>00X3ATGV A400</td>\n",
       "      <td>1</td>\n",
       "      <td>00X3ATGV A400</td>\n",
       "      <td>MAP</td>\n",
       "      <td>00X3ATGVA400</td>\n",
       "      <td>00X3ATGVA400</td>\n",
       "    </tr>\n",
       "  </tbody>\n",
       "</table>\n",
       "</div>"
      ],
      "text/plain": [
       "         PART-NO  IsPartActive           MBPN PLANT-CD BPN_Without_Space  \\\n",
       "0  00X3ATGV A000             1  00X3ATGV A000      MAP      00X3ATGVA000   \n",
       "1  00X3ATGV A100             1  00X3ATGV A100      MAP      00X3ATGVA100   \n",
       "2  00X3ATGV A200             1  00X3ATGV A200      MAP      00X3ATGVA200   \n",
       "3  00X3ATGV A300             1  00X3ATGV A300      MAP      00X3ATGVA300   \n",
       "4  00X3ATGV A400             1  00X3ATGV A400      MAP      00X3ATGVA400   \n",
       "\n",
       "  MBPN_Without_Space  \n",
       "0       00X3ATGVA000  \n",
       "1       00X3ATGVA100  \n",
       "2       00X3ATGVA200  \n",
       "3       00X3ATGVA300  \n",
       "4       00X3ATGVA400  "
      ]
     },
     "execution_count": 7,
     "metadata": {},
     "output_type": "execute_result"
    }
   ],
   "source": [
    "df_mbpn.head()"
   ]
  }
 ],
 "metadata": {
  "kernelspec": {
   "display_name": "Py3.9 (data_eval)",
   "language": "python",
   "name": "data_eval"
  },
  "language_info": {
   "codemirror_mode": {
    "name": "ipython",
    "version": 3
   },
   "file_extension": ".py",
   "mimetype": "text/x-python",
   "name": "python",
   "nbconvert_exporter": "python",
   "pygments_lexer": "ipython3",
   "version": "3.9.8"
  },
  "widgets": {
   "application/vnd.jupyter.widget-state+json": {
    "state": {},
    "version_major": 2,
    "version_minor": 0
   }
  }
 },
 "nbformat": 4,
 "nbformat_minor": 4
}
