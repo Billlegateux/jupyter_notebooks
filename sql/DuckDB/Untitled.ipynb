{
 "cells": [
  {
   "cell_type": "code",
   "execution_count": null,
   "metadata": {},
   "outputs": [],
   "source": [
    "import duckdb\n",
    "conn = duckdb.connect('/home/pybokeh/projects/duckdb/ytd.duckdb')\n",
    "cursor = conn.cursor()\n",
    "\n",
    "cursor.execute(\"\"\"\n",
    "CREATE TABLE yellow_tripdata_2016_01 (   \n",
    "    VendorID bigint,\n",
    "    tpep_pickup_datetime timestamp,\n",
    "    tpep_dropoff_datetime timestamp,\n",
    "    passenger_count bigint,\n",
    "    trip_distance double,\n",
    "    pickup_longitude double,\n",
    "    pickup_latitude double,\n",
    "    RatecodeID bigint,\n",
    "    store_and_fwd_flag varchar,\n",
    "    dropoff_longitude double,\n",
    "    dropoff_latitude double,\n",
    "    payment_type bigint,\n",
    "    fare_amount double,\n",
    "    extra double,\n",
    "    mta_tax double,\n",
    "    tip_amount double,\n",
    "    tolls_amount double,\n",
    "    improvement_surcharge double,\n",
    "    total_amount double\n",
    ") \n",
    "\"\"\")\n",
    "\n",
    "cursor.execute(\"\"\"\n",
    "COPY yellow_tripdata_2016_01 FROM '/home/pybokeh/projects/duckdb/yellow_tripdata_2016-01.csv'\n",
    "WITH HEADER\n",
    "\"\"\")\n",
    "\n",
    "cursor.close()\n",
    "conn.close()"
   ]
  },
  {
   "cell_type": "code",
   "execution_count": 1,
   "metadata": {},
   "outputs": [],
   "source": [
    "import duckdb"
   ]
  },
  {
   "cell_type": "code",
   "execution_count": 71,
   "metadata": {},
   "outputs": [
    {
     "name": "stdout",
     "output_type": "stream",
     "text": [
      "117 ms ± 88.6 µs per loop (mean ± std. dev. of 7 runs, 10 loops each)\n"
     ]
    }
   ],
   "source": [
    "conn = duckdb.connect('/home/pybokeh/projects/duckdb/ytd.duckdb')\n",
    "cursor = conn.cursor()\n",
    "\n",
    "df = cursor.execute(\"\"\"\n",
    "SELECT\n",
    "    count(*) as row_count,\n",
    "    max(tip_amount) as max_tip_amount\n",
    "\n",
    "FROM yellow_tripdata_2016_01\n",
    "\"\"\").fetchdf()"
   ]
  },
  {
   "cell_type": "code",
   "execution_count": 48,
   "metadata": {},
   "outputs": [
    {
     "data": {
      "text/html": [
       "<div>\n",
       "<style scoped>\n",
       "    .dataframe tbody tr th:only-of-type {\n",
       "        vertical-align: middle;\n",
       "    }\n",
       "\n",
       "    .dataframe tbody tr th {\n",
       "        vertical-align: top;\n",
       "    }\n",
       "\n",
       "    .dataframe thead th {\n",
       "        text-align: right;\n",
       "    }\n",
       "</style>\n",
       "<table border=\"1\" class=\"dataframe\">\n",
       "  <thead>\n",
       "    <tr style=\"text-align: right;\">\n",
       "      <th></th>\n",
       "      <th>row_count</th>\n",
       "      <th>max_tip_amount</th>\n",
       "    </tr>\n",
       "  </thead>\n",
       "  <tbody>\n",
       "    <tr>\n",
       "      <th>0</th>\n",
       "      <td>10906858</td>\n",
       "      <td>998.14</td>\n",
       "    </tr>\n",
       "  </tbody>\n",
       "</table>\n",
       "</div>"
      ],
      "text/plain": [
       "   row_count  max_tip_amount\n",
       "0   10906858          998.14"
      ]
     },
     "execution_count": 48,
     "metadata": {},
     "output_type": "execute_result"
    }
   ],
   "source": [
    "df"
   ]
  }
 ],
 "metadata": {
  "hide_input": false,
  "kernelspec": {
   "display_name": "Python 3",
   "language": "python",
   "name": "python3"
  },
  "language_info": {
   "codemirror_mode": {
    "name": "ipython",
    "version": 3
   },
   "file_extension": ".py",
   "mimetype": "text/x-python",
   "name": "python",
   "nbconvert_exporter": "python",
   "pygments_lexer": "ipython3",
   "version": "3.7.3"
  }
 },
 "nbformat": 4,
 "nbformat_minor": 2
}
