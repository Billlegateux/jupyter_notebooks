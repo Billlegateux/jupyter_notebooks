{
 "cells": [
  {
   "cell_type": "markdown",
   "id": "09e70f6a-552e-4f4f-acf1-c1a1ce23a596",
   "metadata": {},
   "source": [
    "# Using DuckDB's SQL as an alternative workflow for large CSV / Parquet files"
   ]
  },
  {
   "cell_type": "markdown",
   "id": "c567ec29-d86e-4e21-b46d-4b99440897ba",
   "metadata": {},
   "source": [
    "For large CSV files, we may look to use Dask or PySpark even, when loading the CSV to a database is not possible.  But, there is an alternative SQL-based workflow using DuckDB."
   ]
  },
  {
   "cell_type": "markdown",
   "id": "976bcffe-89ae-4190-b97c-97735658d31b",
   "metadata": {},
   "source": [
    "### Let's start with Dask workflow"
   ]
  },
  {
   "cell_type": "code",
   "execution_count": 1,
   "id": "e75eb778-afc2-4f8c-bf46-4e53579af6ba",
   "metadata": {},
   "outputs": [],
   "source": [
    "import dask.dataframe as dd\n",
    "import numpy as np"
   ]
  },
  {
   "cell_type": "markdown",
   "id": "920bc125-4acc-4693-b5f9-26246260505c",
   "metadata": {},
   "source": [
    "#### For best practice, it is usually best to define data type, instead of having dask infer/guess the data type (HINT: type inference is often wrong and leads to poor performance)"
   ]
  },
  {
   "cell_type": "code",
   "execution_count": 2,
   "id": "3dc746a6-37f7-4af0-ae7a-773204e7cf8e",
   "metadata": {},
   "outputs": [],
   "source": [
    "col_types = {\n",
    "    'SUPP_NO': str,\n",
    "    'ASN_NO': str,\n",
    "    'ACTUAL_DT': str,\n",
    "    'ACTUAL_TIME': str,\n",
    "    'DC_SEG': 'category',\n",
    "    'TRLR_NO': str,\n",
    "    'TRLR_ARR_DT': str,\n",
    "    'TRLR_ARR_TIME': str,\n",
    "    'ORDERED_QTY': np.int32,   # Use lowest, memory-consuming \"bit-ness\" (Are we going to order more than 64K parts?  Negative values?)\n",
    "    'ASN_PART_QTY': np.int32,         # ditto\n",
    "    'PART_UNLD_QTY': np.int32,        # ditto\n",
    "    'TOTAL_ASN_PART_QTY': np.int32,   # ditto\n",
    "}"
   ]
  },
  {
   "cell_type": "code",
   "execution_count": 3,
   "id": "915b4311-dfa4-4c87-a3ec-199bcaf87d91",
   "metadata": {},
   "outputs": [],
   "source": [
    "df = dd.read_csv('shipping_receiving_all_plants.csv', dtype=col_types)"
   ]
  },
  {
   "cell_type": "code",
   "execution_count": 4,
   "id": "a445dc9a-ac71-41e4-88bf-3c6e49b33f68",
   "metadata": {},
   "outputs": [
    {
     "data": {
      "text/html": [
       "<div>\n",
       "<style scoped>\n",
       "    .dataframe tbody tr th:only-of-type {\n",
       "        vertical-align: middle;\n",
       "    }\n",
       "\n",
       "    .dataframe tbody tr th {\n",
       "        vertical-align: top;\n",
       "    }\n",
       "\n",
       "    .dataframe thead th {\n",
       "        text-align: right;\n",
       "    }\n",
       "</style>\n",
       "<table border=\"1\" class=\"dataframe\">\n",
       "  <thead>\n",
       "    <tr style=\"text-align: right;\">\n",
       "      <th></th>\n",
       "      <th>0</th>\n",
       "      <th>1</th>\n",
       "    </tr>\n",
       "  </thead>\n",
       "  <tbody>\n",
       "    <tr>\n",
       "      <th>REPORT_ID</th>\n",
       "      <td>GPROD006</td>\n",
       "      <td>GPROD006</td>\n",
       "    </tr>\n",
       "    <tr>\n",
       "      <th>SUPP_NO</th>\n",
       "      <td>JN999901</td>\n",
       "      <td>JN999901</td>\n",
       "    </tr>\n",
       "    <tr>\n",
       "      <th>SUPP_NAME</th>\n",
       "      <td>HONDA MOTOR COMPANY</td>\n",
       "      <td>HONDA MOTOR COMPANY</td>\n",
       "    </tr>\n",
       "    <tr>\n",
       "      <th>ORD_NO</th>\n",
       "      <td>685.0</td>\n",
       "      <td>685.0</td>\n",
       "    </tr>\n",
       "    <tr>\n",
       "      <th>PART_NO</th>\n",
       "      <td>2002MR4J K000</td>\n",
       "      <td>2002MR4J K000</td>\n",
       "    </tr>\n",
       "    <tr>\n",
       "      <th>PART_CLR_CD</th>\n",
       "      <td></td>\n",
       "      <td></td>\n",
       "    </tr>\n",
       "    <tr>\n",
       "      <th>PART_DESC</th>\n",
       "      <td>DCT MISSION ASSY(R4JT-AA0)</td>\n",
       "      <td>DCT MISSION ASSY(R4JT-AA0)</td>\n",
       "    </tr>\n",
       "    <tr>\n",
       "      <th>DELV_SCDL_DT</th>\n",
       "      <td>2019-02-26 15:00:00</td>\n",
       "      <td>2019-02-26 15:00:00</td>\n",
       "    </tr>\n",
       "    <tr>\n",
       "      <th>SORTDATE</th>\n",
       "      <td>201902261500</td>\n",
       "      <td>201902261500</td>\n",
       "    </tr>\n",
       "    <tr>\n",
       "      <th>ASN_NO</th>\n",
       "      <td>RL194971</td>\n",
       "      <td>RL194971</td>\n",
       "    </tr>\n",
       "    <tr>\n",
       "      <th>ORDERED_QTY</th>\n",
       "      <td>30</td>\n",
       "      <td>30</td>\n",
       "    </tr>\n",
       "    <tr>\n",
       "      <th>ASN_PART_QTY</th>\n",
       "      <td>30</td>\n",
       "      <td>30</td>\n",
       "    </tr>\n",
       "    <tr>\n",
       "      <th>SHIPMENT_DT</th>\n",
       "      <td>20190226</td>\n",
       "      <td>20190226</td>\n",
       "    </tr>\n",
       "    <tr>\n",
       "      <th>SHIPMENT_TIME</th>\n",
       "      <td>143000</td>\n",
       "      <td>143000</td>\n",
       "    </tr>\n",
       "    <tr>\n",
       "      <th>PART_UNLD_QTY</th>\n",
       "      <td>30</td>\n",
       "      <td>30</td>\n",
       "    </tr>\n",
       "    <tr>\n",
       "      <th>TRLR_ARR_DT</th>\n",
       "      <td>20190226</td>\n",
       "      <td>20190226</td>\n",
       "    </tr>\n",
       "    <tr>\n",
       "      <th>ASSOC_CD</th>\n",
       "      <td>MA15332</td>\n",
       "      <td>MM00873</td>\n",
       "    </tr>\n",
       "    <tr>\n",
       "      <th>ASSOC_NAME</th>\n",
       "      <td>ANDY TOMBLIN</td>\n",
       "      <td>BRYAN BELVILLE</td>\n",
       "    </tr>\n",
       "    <tr>\n",
       "      <th>SUPP_LOC</th>\n",
       "      <td>1</td>\n",
       "      <td>1</td>\n",
       "    </tr>\n",
       "    <tr>\n",
       "      <th>DATE</th>\n",
       "      <td>2019-02-26 15:00:00</td>\n",
       "      <td>2019-02-26 15:00:00</td>\n",
       "    </tr>\n",
       "    <tr>\n",
       "      <th>ORD_TYPE_CODE</th>\n",
       "      <td>DS</td>\n",
       "      <td>DS</td>\n",
       "    </tr>\n",
       "    <tr>\n",
       "      <th>SHORT_NAME_DESC</th>\n",
       "      <td>CLOSE</td>\n",
       "      <td>CLOSE</td>\n",
       "    </tr>\n",
       "    <tr>\n",
       "      <th>MPL_NO</th>\n",
       "      <td></td>\n",
       "      <td></td>\n",
       "    </tr>\n",
       "    <tr>\n",
       "      <th>SHIP_TO_CD</th>\n",
       "      <td>AEP1  01</td>\n",
       "      <td>AEP1  01</td>\n",
       "    </tr>\n",
       "    <tr>\n",
       "      <th>TRLR_ARR_TIME</th>\n",
       "      <td>133404</td>\n",
       "      <td>133404</td>\n",
       "    </tr>\n",
       "    <tr>\n",
       "      <th>TRLR_NO</th>\n",
       "      <td>515058</td>\n",
       "      <td>515058</td>\n",
       "    </tr>\n",
       "    <tr>\n",
       "      <th>RECEIPT_ADJ_TYPE</th>\n",
       "      <td>NaN</td>\n",
       "      <td>NaN</td>\n",
       "    </tr>\n",
       "    <tr>\n",
       "      <th>ADJ_TSTMP</th>\n",
       "      <td>2019-02-26 15:00:00</td>\n",
       "      <td>2019-02-26 15:00:00</td>\n",
       "    </tr>\n",
       "    <tr>\n",
       "      <th>RECEIPT_ADJ_NO</th>\n",
       "      <td>NaN</td>\n",
       "      <td>NaN</td>\n",
       "    </tr>\n",
       "    <tr>\n",
       "      <th>PLANT_CD</th>\n",
       "      <td>AEP</td>\n",
       "      <td>AEP</td>\n",
       "    </tr>\n",
       "    <tr>\n",
       "      <th>PLANT_DESC</th>\n",
       "      <td>ANNA ENGINE PLANT</td>\n",
       "      <td>ANNA ENGINE PLANT</td>\n",
       "    </tr>\n",
       "    <tr>\n",
       "      <th>ASN_PART_QTY1</th>\n",
       "      <td>0</td>\n",
       "      <td>0</td>\n",
       "    </tr>\n",
       "    <tr>\n",
       "      <th>ADJ_QTY</th>\n",
       "      <td>0</td>\n",
       "      <td>0</td>\n",
       "    </tr>\n",
       "    <tr>\n",
       "      <th>DATE1</th>\n",
       "      <td>20210624</td>\n",
       "      <td>20210624</td>\n",
       "    </tr>\n",
       "    <tr>\n",
       "      <th>TOTAL_ASN_PART_QTY</th>\n",
       "      <td>30</td>\n",
       "      <td>30</td>\n",
       "    </tr>\n",
       "    <tr>\n",
       "      <th>DC_SEG</th>\n",
       "      <td>NaN</td>\n",
       "      <td>NaN</td>\n",
       "    </tr>\n",
       "    <tr>\n",
       "      <th>ACTUAL_DT</th>\n",
       "      <td>NaN</td>\n",
       "      <td>NaN</td>\n",
       "    </tr>\n",
       "    <tr>\n",
       "      <th>ACTUAL_TIME</th>\n",
       "      <td>NaN</td>\n",
       "      <td>NaN</td>\n",
       "    </tr>\n",
       "  </tbody>\n",
       "</table>\n",
       "</div>"
      ],
      "text/plain": [
       "                                                 0  \\\n",
       "REPORT_ID                                 GPROD006   \n",
       "SUPP_NO                                   JN999901   \n",
       "SUPP_NAME           HONDA MOTOR COMPANY              \n",
       "ORD_NO                                       685.0   \n",
       "PART_NO                         2002MR4J K000        \n",
       "PART_CLR_CD                                          \n",
       "PART_DESC           DCT MISSION ASSY(R4JT-AA0)       \n",
       "DELV_SCDL_DT                   2019-02-26 15:00:00   \n",
       "SORTDATE                              201902261500   \n",
       "ASN_NO                                    RL194971   \n",
       "ORDERED_QTY                                     30   \n",
       "ASN_PART_QTY                                    30   \n",
       "SHIPMENT_DT                               20190226   \n",
       "SHIPMENT_TIME                               143000   \n",
       "PART_UNLD_QTY                                   30   \n",
       "TRLR_ARR_DT                               20190226   \n",
       "ASSOC_CD                               MA15332       \n",
       "ASSOC_NAME          ANDY TOMBLIN                     \n",
       "SUPP_LOC                                         1   \n",
       "DATE                           2019-02-26 15:00:00   \n",
       "ORD_TYPE_CODE                                   DS   \n",
       "SHORT_NAME_DESC                    CLOSE             \n",
       "MPL_NO                                               \n",
       "SHIP_TO_CD                                AEP1  01   \n",
       "TRLR_ARR_TIME                               133404   \n",
       "TRLR_NO                                515058        \n",
       "RECEIPT_ADJ_TYPE                               NaN   \n",
       "ADJ_TSTMP                      2019-02-26 15:00:00   \n",
       "RECEIPT_ADJ_NO                                 NaN   \n",
       "PLANT_CD                                      AEP    \n",
       "PLANT_DESC          ANNA ENGINE PLANT                \n",
       "ASN_PART_QTY1                                    0   \n",
       "ADJ_QTY                                          0   \n",
       "DATE1                                     20210624   \n",
       "TOTAL_ASN_PART_QTY                              30   \n",
       "DC_SEG                                         NaN   \n",
       "ACTUAL_DT                                      NaN   \n",
       "ACTUAL_TIME                                    NaN   \n",
       "\n",
       "                                                 1  \n",
       "REPORT_ID                                 GPROD006  \n",
       "SUPP_NO                                   JN999901  \n",
       "SUPP_NAME           HONDA MOTOR COMPANY             \n",
       "ORD_NO                                       685.0  \n",
       "PART_NO                         2002MR4J K000       \n",
       "PART_CLR_CD                                         \n",
       "PART_DESC           DCT MISSION ASSY(R4JT-AA0)      \n",
       "DELV_SCDL_DT                   2019-02-26 15:00:00  \n",
       "SORTDATE                              201902261500  \n",
       "ASN_NO                                    RL194971  \n",
       "ORDERED_QTY                                     30  \n",
       "ASN_PART_QTY                                    30  \n",
       "SHIPMENT_DT                               20190226  \n",
       "SHIPMENT_TIME                               143000  \n",
       "PART_UNLD_QTY                                   30  \n",
       "TRLR_ARR_DT                               20190226  \n",
       "ASSOC_CD                               MM00873      \n",
       "ASSOC_NAME          BRYAN BELVILLE                  \n",
       "SUPP_LOC                                         1  \n",
       "DATE                           2019-02-26 15:00:00  \n",
       "ORD_TYPE_CODE                                   DS  \n",
       "SHORT_NAME_DESC                    CLOSE            \n",
       "MPL_NO                                              \n",
       "SHIP_TO_CD                                AEP1  01  \n",
       "TRLR_ARR_TIME                               133404  \n",
       "TRLR_NO                                515058       \n",
       "RECEIPT_ADJ_TYPE                               NaN  \n",
       "ADJ_TSTMP                      2019-02-26 15:00:00  \n",
       "RECEIPT_ADJ_NO                                 NaN  \n",
       "PLANT_CD                                      AEP   \n",
       "PLANT_DESC          ANNA ENGINE PLANT               \n",
       "ASN_PART_QTY1                                    0  \n",
       "ADJ_QTY                                          0  \n",
       "DATE1                                     20210624  \n",
       "TOTAL_ASN_PART_QTY                              30  \n",
       "DC_SEG                                         NaN  \n",
       "ACTUAL_DT                                      NaN  \n",
       "ACTUAL_TIME                                    NaN  "
      ]
     },
     "execution_count": 4,
     "metadata": {},
     "output_type": "execute_result"
    }
   ],
   "source": [
    "df.head(2).transpose()"
   ]
  },
  {
   "cell_type": "markdown",
   "id": "3015bd08-d56a-42bb-ac6c-352a9b575407",
   "metadata": {},
   "source": [
    "#### Let's time how long it would take to sum a column using the csv file"
   ]
  },
  {
   "cell_type": "code",
   "execution_count": 5,
   "id": "e7cfd365-10c0-4f7f-aa31-2e09d4484ee7",
   "metadata": {},
   "outputs": [
    {
     "name": "stdout",
     "output_type": "stream",
     "text": [
      "47.5 s ± 2.16 s per loop (mean ± std. dev. of 7 runs, 1 loop each)\n"
     ]
    }
   ],
   "source": [
    "%%timeit\n",
    "df['ORDERED_QTY'].sum().compute()"
   ]
  },
  {
   "cell_type": "markdown",
   "id": "3d64991b-4c7e-4cdc-82a8-6427b9ad69ab",
   "metadata": {},
   "source": [
    "#### Thanks to Dask's parallelization, we didn't blow out our local machine's memory, but it still took on average almost 50 seconds.  Can we do better?"
   ]
  },
  {
   "cell_type": "markdown",
   "id": "73cdc392-220c-4024-be36-0a08b0ee5ed4",
   "metadata": {},
   "source": [
    "## Querying the parquet format using Dask instead"
   ]
  },
  {
   "cell_type": "markdown",
   "id": "5b53e2ac-c842-4ab6-a039-151051bcae54",
   "metadata": {},
   "source": [
    "As before, we should define the data type or schema for the columns.  Parquet's underlying technology is Apache Arrow, so we need to use pyarrow's data types instead."
   ]
  },
  {
   "cell_type": "code",
   "execution_count": 6,
   "id": "2d333b0b-af34-44a9-9de8-9641686d40ff",
   "metadata": {},
   "outputs": [],
   "source": [
    "import pyarrow as pa"
   ]
  },
  {
   "cell_type": "markdown",
   "id": "1b9df4e8-9a6d-4ca0-8f9d-29c08f1f007f",
   "metadata": {},
   "source": [
    "#### Converting CSV to parquet format"
   ]
  },
  {
   "cell_type": "code",
   "execution_count": 7,
   "id": "05046fa6-89f9-454b-b1b9-922c0654e64c",
   "metadata": {},
   "outputs": [],
   "source": [
    "col_schema = {\n",
    "    'SUPP_NO': pa.string(),\n",
    "    'ASN_NO': pa.string(),\n",
    "    'ACTUAL_DT': pa.string(),\n",
    "    'ACTUAL_TIME': pa.string(),\n",
    "    'DC_SEG': pa.string(),\n",
    "    'TRLR_NO': pa.string(),\n",
    "    'TRLR_ARR_DT': pa.string(),\n",
    "    'TRLR_ARR_TIME': pa.string(),\n",
    "    'ORDERED_QTY': pa.int32(),\n",
    "    'ASN_PART_QTY': pa.int32(),\n",
    "    'PART_UNLD_QTY': pa.int32(),\n",
    "    'TOTAL_ASN_PART_QTY': pa.int32(),\n",
    "}"
   ]
  },
  {
   "cell_type": "markdown",
   "id": "854134bc-235b-4d98-a493-72ad7a95cf54",
   "metadata": {},
   "source": [
    "#### Now save Dask dataframe as a parquet file.  UPDATE: Later found out that repartioning to a single partition, boosted performance."
   ]
  },
  {
   "cell_type": "code",
   "execution_count": 8,
   "id": "eb80d07d-c914-41df-b71d-886c74a3da56",
   "metadata": {},
   "outputs": [
    {
     "name": "stdout",
     "output_type": "stream",
     "text": [
      "Wall time: 1min 58s\n"
     ]
    }
   ],
   "source": [
    "%%time\n",
    "df = df.repartition(npartitions=1)\n",
    "df.to_parquet('s_r_all_plants.parquet', write_index=False, schema=col_schema)"
   ]
  },
  {
   "cell_type": "markdown",
   "id": "506f4974-333a-401c-b969-b723efdb8934",
   "metadata": {},
   "source": [
    "The conversion resulted in a folder called `s_r_all_plants.parquet` folder containing a single partition parquet file."
   ]
  },
  {
   "cell_type": "code",
   "execution_count": null,
   "id": "331a52db-4cc7-4d60-8310-303dd799e61f",
   "metadata": {},
   "outputs": [],
   "source": [
    "!dir s_r_all_plants.parquet"
   ]
  },
  {
   "cell_type": "markdown",
   "id": "ea3613c3-777d-409a-ae14-d424a97ff6dc",
   "metadata": {},
   "source": [
    "With Dask, we don't need to read all the individual parquet files, just reference the folder containing them:"
   ]
  },
  {
   "cell_type": "code",
   "execution_count": 10,
   "id": "bfea8a8b-89d7-49aa-8ce9-f265895fb4c7",
   "metadata": {},
   "outputs": [
    {
     "name": "stdout",
     "output_type": "stream",
     "text": [
      "Wall time: 106 ms\n"
     ]
    }
   ],
   "source": [
    "%%time\n",
    "dfp = dd.read_parquet('s_r_all_plants.parquet/')"
   ]
  },
  {
   "cell_type": "code",
   "execution_count": 11,
   "id": "67b76f7d-eb8b-4826-95a6-4a6f9fe8ad54",
   "metadata": {},
   "outputs": [
    {
     "data": {
      "text/html": [
       "<div>\n",
       "<style scoped>\n",
       "    .dataframe tbody tr th:only-of-type {\n",
       "        vertical-align: middle;\n",
       "    }\n",
       "\n",
       "    .dataframe tbody tr th {\n",
       "        vertical-align: top;\n",
       "    }\n",
       "\n",
       "    .dataframe thead th {\n",
       "        text-align: right;\n",
       "    }\n",
       "</style>\n",
       "<table border=\"1\" class=\"dataframe\">\n",
       "  <thead>\n",
       "    <tr style=\"text-align: right;\">\n",
       "      <th></th>\n",
       "      <th>REPORT_ID</th>\n",
       "      <th>SUPP_NO</th>\n",
       "      <th>SUPP_NAME</th>\n",
       "      <th>ORD_NO</th>\n",
       "      <th>PART_NO</th>\n",
       "      <th>PART_CLR_CD</th>\n",
       "      <th>PART_DESC</th>\n",
       "      <th>DELV_SCDL_DT</th>\n",
       "      <th>SORTDATE</th>\n",
       "      <th>ASN_NO</th>\n",
       "      <th>...</th>\n",
       "      <th>RECEIPT_ADJ_NO</th>\n",
       "      <th>PLANT_CD</th>\n",
       "      <th>PLANT_DESC</th>\n",
       "      <th>ASN_PART_QTY1</th>\n",
       "      <th>ADJ_QTY</th>\n",
       "      <th>DATE1</th>\n",
       "      <th>TOTAL_ASN_PART_QTY</th>\n",
       "      <th>DC_SEG</th>\n",
       "      <th>ACTUAL_DT</th>\n",
       "      <th>ACTUAL_TIME</th>\n",
       "    </tr>\n",
       "  </thead>\n",
       "  <tbody>\n",
       "    <tr>\n",
       "      <th>0</th>\n",
       "      <td>GPROD006</td>\n",
       "      <td>JN999901</td>\n",
       "      <td>HONDA MOTOR COMPANY</td>\n",
       "      <td>685.0</td>\n",
       "      <td>2002MR4J K000</td>\n",
       "      <td></td>\n",
       "      <td>DCT MISSION ASSY(R4JT-AA0)</td>\n",
       "      <td>2019-02-26 15:00:00</td>\n",
       "      <td>201902261500</td>\n",
       "      <td>RL194971</td>\n",
       "      <td>...</td>\n",
       "      <td>NaN</td>\n",
       "      <td>AEP</td>\n",
       "      <td>ANNA ENGINE PLANT</td>\n",
       "      <td>0</td>\n",
       "      <td>0</td>\n",
       "      <td>20210624</td>\n",
       "      <td>30</td>\n",
       "      <td>None</td>\n",
       "      <td>None</td>\n",
       "      <td>None</td>\n",
       "    </tr>\n",
       "    <tr>\n",
       "      <th>1</th>\n",
       "      <td>GPROD006</td>\n",
       "      <td>JN999901</td>\n",
       "      <td>HONDA MOTOR COMPANY</td>\n",
       "      <td>685.0</td>\n",
       "      <td>2002MR4J K000</td>\n",
       "      <td></td>\n",
       "      <td>DCT MISSION ASSY(R4JT-AA0)</td>\n",
       "      <td>2019-02-26 15:00:00</td>\n",
       "      <td>201902261500</td>\n",
       "      <td>RL194971</td>\n",
       "      <td>...</td>\n",
       "      <td>NaN</td>\n",
       "      <td>AEP</td>\n",
       "      <td>ANNA ENGINE PLANT</td>\n",
       "      <td>0</td>\n",
       "      <td>0</td>\n",
       "      <td>20210624</td>\n",
       "      <td>30</td>\n",
       "      <td>None</td>\n",
       "      <td>None</td>\n",
       "      <td>None</td>\n",
       "    </tr>\n",
       "    <tr>\n",
       "      <th>2</th>\n",
       "      <td>GPROD006</td>\n",
       "      <td>JN999901</td>\n",
       "      <td>HONDA MOTOR COMPANY</td>\n",
       "      <td>685.0</td>\n",
       "      <td>2002MR4J K000</td>\n",
       "      <td></td>\n",
       "      <td>DCT MISSION ASSY(R4JT-AA0)</td>\n",
       "      <td>2019-02-26 15:00:00</td>\n",
       "      <td>201902261500</td>\n",
       "      <td>RL194971</td>\n",
       "      <td>...</td>\n",
       "      <td>NaN</td>\n",
       "      <td>AEP</td>\n",
       "      <td>ANNA ENGINE PLANT</td>\n",
       "      <td>0</td>\n",
       "      <td>0</td>\n",
       "      <td>20210624</td>\n",
       "      <td>30</td>\n",
       "      <td>None</td>\n",
       "      <td>None</td>\n",
       "      <td>None</td>\n",
       "    </tr>\n",
       "    <tr>\n",
       "      <th>3</th>\n",
       "      <td>GPROD006</td>\n",
       "      <td>JN999901</td>\n",
       "      <td>HONDA MOTOR COMPANY</td>\n",
       "      <td>685.0</td>\n",
       "      <td>2002MR4J K000</td>\n",
       "      <td></td>\n",
       "      <td>DCT MISSION ASSY(R4JT-AA0)</td>\n",
       "      <td>2019-02-26 15:00:00</td>\n",
       "      <td>201902261500</td>\n",
       "      <td>RL194971</td>\n",
       "      <td>...</td>\n",
       "      <td>NaN</td>\n",
       "      <td>AEP</td>\n",
       "      <td>ANNA ENGINE PLANT</td>\n",
       "      <td>0</td>\n",
       "      <td>0</td>\n",
       "      <td>20210624</td>\n",
       "      <td>30</td>\n",
       "      <td>None</td>\n",
       "      <td>None</td>\n",
       "      <td>None</td>\n",
       "    </tr>\n",
       "    <tr>\n",
       "      <th>4</th>\n",
       "      <td>GPROD006</td>\n",
       "      <td>JN999901</td>\n",
       "      <td>HONDA MOTOR COMPANY</td>\n",
       "      <td>685.0</td>\n",
       "      <td>2002MR4J K000</td>\n",
       "      <td></td>\n",
       "      <td>DCT MISSION ASSY(R4JT-AA0)</td>\n",
       "      <td>2019-02-26 15:00:00</td>\n",
       "      <td>201902261500</td>\n",
       "      <td>RL194971</td>\n",
       "      <td>...</td>\n",
       "      <td>NaN</td>\n",
       "      <td>AEP</td>\n",
       "      <td>ANNA ENGINE PLANT</td>\n",
       "      <td>0</td>\n",
       "      <td>0</td>\n",
       "      <td>20210624</td>\n",
       "      <td>30</td>\n",
       "      <td>None</td>\n",
       "      <td>None</td>\n",
       "      <td>None</td>\n",
       "    </tr>\n",
       "  </tbody>\n",
       "</table>\n",
       "<p>5 rows × 38 columns</p>\n",
       "</div>"
      ],
      "text/plain": [
       "  REPORT_ID   SUPP_NO                       SUPP_NAME  ORD_NO  \\\n",
       "0  GPROD006  JN999901  HONDA MOTOR COMPANY              685.0   \n",
       "1  GPROD006  JN999901  HONDA MOTOR COMPANY              685.0   \n",
       "2  GPROD006  JN999901  HONDA MOTOR COMPANY              685.0   \n",
       "3  GPROD006  JN999901  HONDA MOTOR COMPANY              685.0   \n",
       "4  GPROD006  JN999901  HONDA MOTOR COMPANY              685.0   \n",
       "\n",
       "              PART_NO  PART_CLR_CD                       PART_DESC  \\\n",
       "0  2002MR4J K000                    DCT MISSION ASSY(R4JT-AA0)       \n",
       "1  2002MR4J K000                    DCT MISSION ASSY(R4JT-AA0)       \n",
       "2  2002MR4J K000                    DCT MISSION ASSY(R4JT-AA0)       \n",
       "3  2002MR4J K000                    DCT MISSION ASSY(R4JT-AA0)       \n",
       "4  2002MR4J K000                    DCT MISSION ASSY(R4JT-AA0)       \n",
       "\n",
       "          DELV_SCDL_DT      SORTDATE    ASN_NO  ...  RECEIPT_ADJ_NO  PLANT_CD  \\\n",
       "0  2019-02-26 15:00:00  201902261500  RL194971  ...             NaN      AEP    \n",
       "1  2019-02-26 15:00:00  201902261500  RL194971  ...             NaN      AEP    \n",
       "2  2019-02-26 15:00:00  201902261500  RL194971  ...             NaN      AEP    \n",
       "3  2019-02-26 15:00:00  201902261500  RL194971  ...             NaN      AEP    \n",
       "4  2019-02-26 15:00:00  201902261500  RL194971  ...             NaN      AEP    \n",
       "\n",
       "                       PLANT_DESC  ASN_PART_QTY1  ADJ_QTY     DATE1  \\\n",
       "0  ANNA ENGINE PLANT                           0        0  20210624   \n",
       "1  ANNA ENGINE PLANT                           0        0  20210624   \n",
       "2  ANNA ENGINE PLANT                           0        0  20210624   \n",
       "3  ANNA ENGINE PLANT                           0        0  20210624   \n",
       "4  ANNA ENGINE PLANT                           0        0  20210624   \n",
       "\n",
       "  TOTAL_ASN_PART_QTY DC_SEG  ACTUAL_DT ACTUAL_TIME  \n",
       "0                 30   None       None        None  \n",
       "1                 30   None       None        None  \n",
       "2                 30   None       None        None  \n",
       "3                 30   None       None        None  \n",
       "4                 30   None       None        None  \n",
       "\n",
       "[5 rows x 38 columns]"
      ]
     },
     "execution_count": 11,
     "metadata": {},
     "output_type": "execute_result"
    }
   ],
   "source": [
    "dfp.head()"
   ]
  },
  {
   "cell_type": "markdown",
   "id": "cd1dd373-eff4-4c7e-9d6e-56f5b8b64e03",
   "metadata": {},
   "source": [
    "#### Computing the sum on parquet file took less than a second"
   ]
  },
  {
   "cell_type": "code",
   "execution_count": 12,
   "id": "018756d7-5fd8-4e62-8e86-9f02acaae852",
   "metadata": {},
   "outputs": [
    {
     "name": "stdout",
     "output_type": "stream",
     "text": [
      "195 ms ± 48.1 ms per loop (mean ± std. dev. of 7 runs, 1 loop each)\n"
     ]
    }
   ],
   "source": [
    "%%timeit\n",
    "dfp['ORDERED_QTY'].sum().compute()"
   ]
  },
  {
   "cell_type": "markdown",
   "id": "f51522eb-4e81-4910-8b33-bd770b976d52",
   "metadata": {},
   "source": [
    "But, what if you don't want to use dataframe API?  But a SQL workflow instead?"
   ]
  },
  {
   "cell_type": "markdown",
   "id": "df317660-77f1-4e23-8d36-f4e4788df5cc",
   "metadata": {},
   "source": [
    "## SQL Workflow using DuckDB"
   ]
  },
  {
   "cell_type": "markdown",
   "id": "3e5c71f2-f342-4483-81ea-ec57762358c7",
   "metadata": {},
   "source": [
    "Starting with version 0.2.7, DuckDB now supports querying parquet files!  Just `pip install duckdb`, then you're good to go."
   ]
  },
  {
   "cell_type": "code",
   "execution_count": 13,
   "id": "a19d4224-f1e5-4b9e-b176-461beea4a22b",
   "metadata": {},
   "outputs": [],
   "source": [
    "import duckdb"
   ]
  },
  {
   "cell_type": "code",
   "execution_count": 14,
   "id": "66ffd365-ac85-4679-a24e-aa2a8a2ff8b5",
   "metadata": {},
   "outputs": [
    {
     "data": {
      "text/plain": [
       "'0.2.7'"
      ]
     },
     "execution_count": 14,
     "metadata": {},
     "output_type": "execute_result"
    }
   ],
   "source": [
    "duckdb.__version__"
   ]
  },
  {
   "cell_type": "markdown",
   "id": "3c52d67b-d5c1-4091-8429-db4caac29104",
   "metadata": {},
   "source": [
    "#### I prefer to use context manager (using `with` statement) when connecting to databases.  But, DuckDB does not yet support context management.  So I have to implement a custom class myself."
   ]
  },
  {
   "cell_type": "code",
   "execution_count": 15,
   "id": "b3a71300-8d4f-40c5-aee7-6952eb620325",
   "metadata": {},
   "outputs": [],
   "source": [
    "class DuckDBConn:\n",
    "    \"\"\"\"\"\"\n",
    "    def __init__(self):\n",
    "        \"\"\"Constructor\"\"\"\n",
    "        pass\n",
    "    def __enter__(self):\n",
    "        \"\"\"\n",
    "        Open the database connection\n",
    "        \"\"\"\n",
    "        self.conn = duckdb.connect()\n",
    "        return self.conn\n",
    "    def __exit__(self, exc_type, exc_val, exc_tb):\n",
    "        \"\"\"\n",
    "        Close the connection\n",
    "        \"\"\"\n",
    "        self.conn.close()\n",
    "        if exc_val:\n",
    "            raise"
   ]
  },
  {
   "cell_type": "markdown",
   "id": "51969270-105f-42cd-a7b9-37a1aa535a4b",
   "metadata": {},
   "source": [
    "DuckDB supports wildcard \"globbing\" with the asterisk symbol to read in multiple parquet files:"
   ]
  },
  {
   "cell_type": "code",
   "execution_count": 16,
   "id": "a1882127-f9a4-4c82-b711-f2e71edd7e0a",
   "metadata": {},
   "outputs": [
    {
     "name": "stdout",
     "output_type": "stream",
     "text": [
      "113 ms ± 3.56 ms per loop (mean ± std. dev. of 7 runs, 1 loop each)\n"
     ]
    }
   ],
   "source": [
    "%%timeit\n",
    "with DuckDBConn() as con:\n",
    "    df_sr = con.execute(\"\"\"\n",
    "        SELECT sum(ORDERED_QTY) as sum_ordered\n",
    "        FROM 's_r_all_plants.parquet/*.parquet'\n",
    "    \"\"\").df()\n",
    "    \n",
    "df_sr"
   ]
  },
  {
   "cell_type": "markdown",
   "id": "5299a88a-f833-48c2-afb2-c4935b477d73",
   "metadata": {},
   "source": [
    "DuckDB was just as fast as Dask."
   ]
  },
  {
   "cell_type": "markdown",
   "id": "6074e2ac-9b2d-4375-88c8-c5201d42b3cd",
   "metadata": {},
   "source": [
    "Let's try to convert the parquet files into a single parquet file to see if there could be performance improvements.  But the problem is, there doesn't seem to be good documentation to determine optimal `row_group_size`.  Through trial and error, I settled on 200K rows."
   ]
  },
  {
   "cell_type": "code",
   "execution_count": 17,
   "id": "5e62eb9f-15e4-47ed-9139-f99d65021159",
   "metadata": {},
   "outputs": [],
   "source": [
    "import pyarrow.parquet as pq"
   ]
  },
  {
   "cell_type": "code",
   "execution_count": 18,
   "id": "87eb2e9d-5d6b-49de-a4eb-c742bdedb869",
   "metadata": {},
   "outputs": [],
   "source": [
    "pq.write_table(pq.ParquetDataset('s_r_all_plants.parquet/').read(), 'shipping_receiving.parquet')"
   ]
  },
  {
   "cell_type": "code",
   "execution_count": null,
   "id": "e7333235-ee72-4131-a637-e95ba4bbda65",
   "metadata": {},
   "outputs": [],
   "source": [
    "!dir"
   ]
  },
  {
   "cell_type": "code",
   "execution_count": 20,
   "id": "17c7fc64-f750-4824-9b4f-89fea54b3b90",
   "metadata": {},
   "outputs": [
    {
     "name": "stdout",
     "output_type": "stream",
     "text": [
      "140 ms ± 11.2 ms per loop (mean ± std. dev. of 7 runs, 1 loop each)\n"
     ]
    }
   ],
   "source": [
    "%%timeit\n",
    "with DuckDBConn() as con:\n",
    "    df_sr = con.execute(\"\"\"\n",
    "       SELECT sum(ORDERED_QTY) as sum_ordered\n",
    "       FROM 'shipping_receiving.parquet'\n",
    "       \"\"\").df()\n",
    "    \n",
    "df_sr"
   ]
  },
  {
   "cell_type": "markdown",
   "id": "123aada0-77d7-4cfd-9e5e-dcd8a98a1cfa",
   "metadata": {},
   "source": [
    "With DuckDB, we got some speed boost with a single file, parquet file."
   ]
  },
  {
   "cell_type": "markdown",
   "id": "37ec9799-9e00-475e-8a59-1cfca5055993",
   "metadata": {},
   "source": [
    "#### Let's see if there is a difference with Dask"
   ]
  },
  {
   "cell_type": "code",
   "execution_count": 21,
   "id": "8bd56d61-4fc0-4c89-ab00-7b71f07b08f4",
   "metadata": {},
   "outputs": [],
   "source": [
    "dfp = dd.read_parquet('shipping_receiving.parquet')"
   ]
  },
  {
   "cell_type": "code",
   "execution_count": 22,
   "id": "14fe64da-450e-4118-b84d-187ffbaa0a21",
   "metadata": {},
   "outputs": [
    {
     "name": "stdout",
     "output_type": "stream",
     "text": [
      "Wall time: 324 ms\n"
     ]
    },
    {
     "data": {
      "text/plain": [
       "15301755765"
      ]
     },
     "execution_count": 22,
     "metadata": {},
     "output_type": "execute_result"
    }
   ],
   "source": [
    "%%time\n",
    "dfp['ORDERED_QTY'].sum().compute()"
   ]
  },
  {
   "cell_type": "markdown",
   "id": "8f750e6d-0c98-4b21-9b81-921c3d0b528f",
   "metadata": {},
   "source": [
    "With Dask reading a single file, parquet file, it did not get much, if any speed boost."
   ]
  }
 ],
 "metadata": {
  "kernelspec": {
   "display_name": "Py3.9 (data_eval)",
   "language": "python",
   "name": "data_eval"
  },
  "language_info": {
   "codemirror_mode": {
    "name": "ipython",
    "version": 3
   },
   "file_extension": ".py",
   "mimetype": "text/x-python",
   "name": "python",
   "nbconvert_exporter": "python",
   "pygments_lexer": "ipython3",
   "version": "3.9.8"
  }
 },
 "nbformat": 4,
 "nbformat_minor": 5
}
