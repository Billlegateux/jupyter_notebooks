{
 "cells": [
  {
   "cell_type": "code",
   "execution_count": 14,
   "metadata": {},
   "outputs": [
    {
     "name": "stdout",
     "output_type": "stream",
     "text": [
      "()\n"
     ]
    }
   ],
   "source": [
    "from tkinter import Tk, filedialog, Label, Button\n",
    "root = Tk()\n",
    "\n",
    "root.geometry('350x200')\n",
    "lbl = Label(root, text=\"FQS-3 claims:\")\n",
    "lbl.grid(column=0, row=0)\n",
    "\n",
    "def getclaims():\n",
    "    file = filedialog.askopenfilename(filetypes = ((\"Excel\",\"*.xls*\"),(\"all files\",\"*.*\")))\n",
    "\n",
    "btn = Button(root, text=\"Open\", command=getclaims)\n",
    "btn.grid(column=1, row=0)\n",
    "\n",
    "print(file)\n",
    "\n",
    "\n",
    "root.mainloop()"
   ]
  },
  {
   "cell_type": "code",
   "execution_count": 16,
   "metadata": {},
   "outputs": [],
   "source": [
    "from tkinter import *\n",
    "from tkinter import ttk\n",
    "\n",
    "def calculate(*args):\n",
    "    try:\n",
    "        value = float(feet.get())\n",
    "        meters.set((0.3048 * value * 10000.0 + 0.5)/10000.0)\n",
    "    except ValueError:\n",
    "        pass\n",
    "    \n",
    "root = Tk()\n",
    "root.title(\"Feet to Meters\")\n",
    "\n",
    "mainframe = ttk.Frame(root, padding=\"3 3 12 12\")\n",
    "mainframe.grid(column=0, row=0, sticky=(N, W, E, S))\n",
    "mainframe.columnconfigure(0, weight=1)\n",
    "mainframe.rowconfigure(0, weight=1)\n",
    "\n",
    "feet = StringVar()\n",
    "meters = StringVar()\n",
    "\n",
    "feet_entry = ttk.Entry(mainframe, width=7, textvariable=feet)\n",
    "feet_entry.grid(column=2, row=1, sticky=(W, E))\n",
    "\n",
    "ttk.Label(mainframe, textvariable=meters).grid(column=2, row=2, sticky=(W, E))\n",
    "ttk.Button(mainframe, text=\"Calculate\", command=calculate).grid(column=3, row=3, sticky=W)\n",
    "\n",
    "ttk.Label(mainframe, text=\"feet\").grid(column=3, row=1, sticky=W)\n",
    "ttk.Label(mainframe, text=\"is equivalent to\").grid(column=1, row=2, sticky=E)\n",
    "ttk.Label(mainframe, text=\"meters\").grid(column=3, row=2, sticky=W)\n",
    "\n",
    "for child in mainframe.winfo_children(): child.grid_configure(padx=5, pady=5)\n",
    "\n",
    "feet_entry.focus()\n",
    "root.bind('<Return>', calculate)\n",
    "\n",
    "root.mainloop()"
   ]
  }
 ],
 "metadata": {
  "hide_input": false,
  "kernelspec": {
   "display_name": "Python 3",
   "language": "python",
   "name": "python3"
  },
  "language_info": {
   "codemirror_mode": {
    "name": "ipython",
    "version": 3
   },
   "file_extension": ".py",
   "mimetype": "text/x-python",
   "name": "python",
   "nbconvert_exporter": "python",
   "pygments_lexer": "ipython3",
   "version": "3.6.4"
  },
  "varInspector": {
   "cols": {
    "lenName": 16,
    "lenType": 16,
    "lenVar": 40
   },
   "kernels_config": {
    "python": {
     "delete_cmd_postfix": "",
     "delete_cmd_prefix": "del ",
     "library": "var_list.py",
     "varRefreshCmd": "print(var_dic_list())"
    },
    "r": {
     "delete_cmd_postfix": ") ",
     "delete_cmd_prefix": "rm(",
     "library": "var_list.r",
     "varRefreshCmd": "cat(var_dic_list()) "
    }
   },
   "types_to_exclude": [
    "module",
    "function",
    "builtin_function_or_method",
    "instance",
    "_Feature"
   ],
   "window_display": false
  }
 },
 "nbformat": 4,
 "nbformat_minor": 2
}
