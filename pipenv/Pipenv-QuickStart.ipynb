{
 "cells": [
  {
   "cell_type": "markdown",
   "metadata": {},
   "source": [
    "# ```pipenv``` is the officially supported way of making virtual environments\n",
    "\n",
    "but it is somewhat buggy on Windows as of right now.  Here is [link](https://media.readthedocs.org/pdf/pipenv/latest/pipenv.pdf) to its documentation."
   ]
  },
  {
   "cell_type": "markdown",
   "metadata": {},
   "source": [
    "### Step 1: ```pip install --user pipenv```\n",
    "\n",
    "NOTE: For me, without the --user flag, I got a file permission error. The docs for pipenv says it is to prevent breaking any system-wide packages.\n",
    "\n",
    "### Step 1a (Optional): create ```PIPENV_VENV_IN_PROJECT``` environment variable and set it to 1 if you want pipenv to install the virtual environment within your project's folder inside a folder called ```.venv```.\n",
    "    - 'NIX: export PIPENV_VENV_IN_PROJECT=1\n",
    "    - Windows: set PIPENV_VENV_IN_PROJECT=1\n",
    "    \n",
    "Otherwise, your virtual environment will be installed at your OS's default \"user\" directory which is OS-dependent.  To find that location of where your virtual environment was installed, you can invoke: ```pipenv --venv```\n",
    "\n",
    "### Step 2: ```cd my_project```, then do ```pipenv install```\n",
    "\n",
    "This will create 2 files: Pipfile and Pipfile.lock which are used for another person/user to be able to create an exact duplicate of your Python virtual environment.  It basically replaces or supercedes the requirements.txt file.\n",
    "\n",
    "### Step 3: Activate the environment with ```pipenv shell```.  NOTE: On Windows (this is where it is sort of buggy), the terminal prompt may not update to indicate a virtual environment is activated.  In which case, you can just activate the virtual environment by invoking .../Script/activate.bat \n",
    "\n",
    "Then install packages like you normally do with ```pip```, except use ```pipenv```. So, instead of ```pip install <package_name>```, do ```pipenv install <package_name>```.\n",
    "\n",
    "To force a \"freeze\" or \"lock\" on your virtual environment with package and dependencies info, do: ```pipenv lock```\n",
    "\n",
    "To deactivate the virtual environment, do: ```exit``` or if you used activate.bat on Windows, then invoke .../Script/deactivate.bat instead."
   ]
  },
  {
   "cell_type": "markdown",
   "metadata": {},
   "source": [
    "**To duplicate someone else's Python virtual environment:**\n",
    "\n",
    "Navigate to the project's folder that contains the Pipfile and Pipfile.lock files.  Then do ```pipenv install```"
   ]
  }
 ],
 "metadata": {
  "hide_input": false,
  "kernelspec": {
   "display_name": "Python 3",
   "language": "python",
   "name": "python3"
  },
  "language_info": {
   "codemirror_mode": {
    "name": "ipython",
    "version": 3
   },
   "file_extension": ".py",
   "mimetype": "text/x-python",
   "name": "python",
   "nbconvert_exporter": "python",
   "pygments_lexer": "ipython3",
   "version": "3.6.1"
  },
  "varInspector": {
   "cols": {
    "lenName": 16,
    "lenType": 16,
    "lenVar": 40
   },
   "kernels_config": {
    "python": {
     "delete_cmd_postfix": "",
     "delete_cmd_prefix": "del ",
     "library": "var_list.py",
     "varRefreshCmd": "print(var_dic_list())"
    },
    "r": {
     "delete_cmd_postfix": ") ",
     "delete_cmd_prefix": "rm(",
     "library": "var_list.r",
     "varRefreshCmd": "cat(var_dic_list()) "
    }
   },
   "types_to_exclude": [
    "module",
    "function",
    "builtin_function_or_method",
    "instance",
    "_Feature"
   ],
   "window_display": false
  }
 },
 "nbformat": 4,
 "nbformat_minor": 2
}
