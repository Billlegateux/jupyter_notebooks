{
 "cells": [
  {
   "cell_type": "markdown",
   "metadata": {},
   "source": [
    "## Windows Version and is assumed PATH environment variable is not properly set"
   ]
  },
  {
   "cell_type": "markdown",
   "metadata": {},
   "source": [
    "### ```pipenv``` is the officially supported way of making virtual environments\n",
    "\n",
    "Here is [link](https://media.readthedocs.org/pdf/pipenv/latest/pipenv.pdf) to its documentation."
   ]
  },
  {
   "cell_type": "markdown",
   "metadata": {},
   "source": [
    "### Step 1: Navigate to directory containing pip.exe file, usually it is in the Scripts folder then do:<br><br> ```pip install --user pipenv```\n",
    "\n",
    "hen find out where pipenv.exe file is located at, it should be in the Scripts folder.  If not, you can run:\n",
    "\n",
    "```python -m site --user-site``` and then replace ```site-packages``` with ```Scripts``` per section 1.1.2 of the [docs](https://media.readthedocs.org/pdf/pipenv/latest/pipenv.pdf).\n",
    "\n",
    "### Step 1a (Optional): create ```PIPENV_VENV_IN_PROJECT``` environment variable and set it to 1 if you want pipenv to install the virtual environment within your project's folder inside a folder called ```.venv```.\n",
    "\n",
    "    - Windows: set PIPENV_VENV_IN_PROJECT=1\n",
    "    \n",
    "Otherwise, your virtual environment will be installed at your OS's default \"user\" directory which is OS-dependent.  To find that location of where your virtual environment was installed, you can invoke: ```pipenv --venv```\n",
    "\n",
    "### Step 2: ```cd my_project```, then do ```pipenv install```\n",
    "\n",
    "This will create 2 files: Pipfile and Pipfile.lock which are used for another person/user to be able to create an exact duplicate of your Python virtual environment.  It basically replaces or supercedes the requirements.txt file.\n",
    "\n",
    "### Step 3: Activate the environment with ```pipenv shell``` \n",
    "\n",
    "Then install packages like you normally do with ```pip```, except use ```pipenv```. So, instead of ```pip install <package_name>```, do ```pipenv install <package_name>```.\n",
    "\n",
    "To force a \"freeze\" or \"lock\" on your virtual environment with package and dependencies info, do: ```pipenv lock```\n",
    "\n",
    "To deactivate the virtual environment, do: ```exit``` or if you used activate.bat on Windows, then invoke .../Script/deactivate.bat instead."
   ]
  },
  {
   "cell_type": "markdown",
   "metadata": {},
   "source": [
    "**To duplicate someone else's Python virtual environment:**\n",
    "\n",
    "Navigate to the project's folder that contains the Pipfile and Pipfile.lock files.  Then do ```pipenv install```"
   ]
  },
  {
   "cell_type": "markdown",
   "metadata": {},
   "source": [
    "## pipenv --help"
   ]
  },
  {
   "cell_type": "markdown",
   "metadata": {},
   "source": [
    "```\n",
    "Usage: pipenv [OPTIONS] COMMAND [ARGS]...\n",
    "\n",
    "Options:\n",
    "  --where             Output project home information.\n",
    "  --venv              Output virtualenv information.\n",
    "  --py                Output Python interpreter information.\n",
    "  --envs              Output Environment Variable options.\n",
    "  --rm                Remove the virtualenv.\n",
    "  --bare              Minimal output.\n",
    "  --completion        Output completion (to be eval'd).\n",
    "  --man               Display manpage.\n",
    "  --three / --two     Use Python 3/2 when creating virtualenv.\n",
    "  --python TEXT       Specify which version of Python virtualenv should use.\n",
    "  --site-packages     Enable site-packages for the virtualenv.\n",
    "  --pypi-mirror TEXT  Specify a PyPI mirror.\n",
    "  --support           Output diagnostic information for use in Github issues.\n",
    "  --version           Show the version and exit.\n",
    "  -h, --help          Show this message and exit.\n",
    "\n",
    "\n",
    "Usage Examples:\n",
    "   Create a new project using Python 3.6, specifically:\n",
    "   $ pipenv --python 3.6\n",
    "\n",
    "   Install all dependencies for a project (including dev):\n",
    "   $ pipenv install --dev\n",
    "\n",
    "   Create a lockfile containing pre-releases:\n",
    "   $ pipenv lock --pre\n",
    "\n",
    "   Show a graph of your installed dependencies:\n",
    "   $ pipenv graph\n",
    "\n",
    "   Check your installed dependencies for security vulnerabilities:\n",
    "   $ pipenv check\n",
    "\n",
    "   Install a local setup.py into your virtual environment/Pipfile:\n",
    "   $ pipenv install -e .\n",
    "\n",
    "   Use a lower-level pip command:\n",
    "   $ pipenv run pip freeze\n",
    "\n",
    "Commands:\n",
    "  check      Checks for security vulnerabilities and against PEP 508 markers\n",
    "             provided in Pipfile.\n",
    "  clean      Uninstalls all packages not specified in Pipfile.lock.\n",
    "  graph      Displays currently-installed dependency graph information.\n",
    "  install    Installs provided packages and adds them to Pipfile, or (if none\n",
    "             is given), installs all packages.\n",
    "  lock       Generates Pipfile.lock.\n",
    "  open       View a given module in your editor.\n",
    "  run        Spawns a command installed into the virtualenv.\n",
    "  shell      Spawns a shell within the virtualenv.\n",
    "  sync       Installs all packages specified in Pipfile.lock.\n",
    "  uninstall  Un-installs a provided package and removes it from Pipfile.\n",
    "  update     Runs lock, then sync.\n",
    "```"
   ]
  },
  {
   "cell_type": "markdown",
   "metadata": {},
   "source": [
    "## Linux Version"
   ]
  },
  {
   "cell_type": "markdown",
   "metadata": {},
   "source": [
    "pip install --user pipenv\n",
    "\n",
    "The binary executables are usually located at: ```/home/$USER/.local/bin```, if not then do:\n",
    "\n",
    "```python -m site --user-base``` and then add ```/bin``` at the end per per section 1.1.2 of the [docs](https://media.readthedocs.org/pdf/pipenv/latest/pipenv.pdf)\n",
    "\n",
    "So need to set the PATH environment variable in your ~/.bashrc file:\n",
    "\n",
    "```export PATH=\"/home/$USER/.local/bin:$PATH\"```\n",
    "\n",
    "```export PIPENV_VENV_IN_PROJECT=1```\n",
    "\n",
    "Then navigate to your project's folder then do:\n",
    "\n",
    "```pipenv install```\n",
    "\n",
    "```pipenv shell```\n",
    "\n",
    "```pipenv install <package_name>```\n",
    "\n",
    "```exit```"
   ]
  }
 ],
 "metadata": {
  "hide_input": false,
  "kernelspec": {
   "display_name": "Python 3",
   "language": "python",
   "name": "python3"
  },
  "language_info": {
   "codemirror_mode": {
    "name": "ipython",
    "version": 3
   },
   "file_extension": ".py",
   "mimetype": "text/x-python",
   "name": "python",
   "nbconvert_exporter": "python",
   "pygments_lexer": "ipython3",
   "version": "3.6.5"
  },
  "varInspector": {
   "cols": {
    "lenName": 16,
    "lenType": 16,
    "lenVar": 40
   },
   "kernels_config": {
    "python": {
     "delete_cmd_postfix": "",
     "delete_cmd_prefix": "del ",
     "library": "var_list.py",
     "varRefreshCmd": "print(var_dic_list())"
    },
    "r": {
     "delete_cmd_postfix": ") ",
     "delete_cmd_prefix": "rm(",
     "library": "var_list.r",
     "varRefreshCmd": "cat(var_dic_list()) "
    }
   },
   "types_to_exclude": [
    "module",
    "function",
    "builtin_function_or_method",
    "instance",
    "_Feature"
   ],
   "window_display": false
  }
 },
 "nbformat": 4,
 "nbformat_minor": 2
}
