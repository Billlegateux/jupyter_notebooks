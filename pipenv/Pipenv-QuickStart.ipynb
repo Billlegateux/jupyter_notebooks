{
 "cells": [
  {
   "cell_type": "markdown",
   "metadata": {},
   "source": [
    "# ```pipenv``` is the officially supported way of making virtual environments"
   ]
  },
  {
   "cell_type": "markdown",
   "metadata": {},
   "source": [
    "### Step 1: ```pip install pipenv```\n",
    "### Step 2: ```cd my_project```, then do ```pipenv install```\n",
    "\n",
    "This will create 2 files: Pipfile and Pipfile.lock which are used for another person/user to be able to create an exact duplicate of your Python virtual environment.  It basically replaces or supercedes the requirements.txt file.\n",
    "\n",
    "### Step 3: Activate the environment with ```pipenv shell```\n",
    "\n",
    "Then install packages like you normally do with ```pip```, except use ```pipenv```. So, instead of ```pip install <package_name>```, do ```pipenv install <package_name>```.\n",
    "\n",
    "To force a \"freeze\" or \"lock\" on your virtual environment with package and dependencies info, do: ```pipenv lock```\n",
    "\n",
    "To deactivate the virtual environment, do: ```exit```"
   ]
  },
  {
   "cell_type": "markdown",
   "metadata": {},
   "source": [
    "## To duplicate someone else's Python virtual environment\n",
    "\n",
    "Navigate to the project's folder that contains the Pipfile and Pipfile.lock files.  Then do ```pipenv install```"
   ]
  }
 ],
 "metadata": {
  "hide_input": false,
  "kernelspec": {
   "display_name": "Python 3",
   "language": "python",
   "name": "python3"
  },
  "language_info": {
   "codemirror_mode": {
    "name": "ipython",
    "version": 3
   },
   "file_extension": ".py",
   "mimetype": "text/x-python",
   "name": "python",
   "nbconvert_exporter": "python",
   "pygments_lexer": "ipython3",
   "version": "3.6.1"
  },
  "varInspector": {
   "cols": {
    "lenName": 16,
    "lenType": 16,
    "lenVar": 40
   },
   "kernels_config": {
    "python": {
     "delete_cmd_postfix": "",
     "delete_cmd_prefix": "del ",
     "library": "var_list.py",
     "varRefreshCmd": "print(var_dic_list())"
    },
    "r": {
     "delete_cmd_postfix": ") ",
     "delete_cmd_prefix": "rm(",
     "library": "var_list.r",
     "varRefreshCmd": "cat(var_dic_list()) "
    }
   },
   "types_to_exclude": [
    "module",
    "function",
    "builtin_function_or_method",
    "instance",
    "_Feature"
   ],
   "window_display": false
  }
 },
 "nbformat": 4,
 "nbformat_minor": 2
}
