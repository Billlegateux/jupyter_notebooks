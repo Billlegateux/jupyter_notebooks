{
 "cells": [
  {
   "cell_type": "markdown",
   "metadata": {},
   "source": [
    "# Python Script to Get Raw Claims for a Chosen GraphCat ID, Group, and SubGroup"
   ]
  },
  {
   "cell_type": "code",
   "execution_count": 1,
   "metadata": {},
   "outputs": [],
   "source": [
    "%matplotlib inline\n",
    "import matplotlib.pyplot as plt\n",
    "import numpy as np\n",
    "import seaborn as sns\n",
    "import great_expectations as ge\n",
    "import ipywidgets as widgets  # library for creating widgets for jupyter notebooks\n",
    "from ipywidgets import interact, interactive, fixed, interact_manual\n",
    "import time\n",
    "from pathlib import Path\n",
    "from win10toast import ToastNotifier\n",
    "import os\n",
    "import pyodbc  # used for connecting to ODBC data sources\n",
    "import pandas as pd  # data analysis library\n",
    "plt.rcParams['figure.figsize'] = [12, 8]\n",
    "pd.options.display.max_rows=1000\n",
    "pd.options.display.max_columns=100"
   ]
  },
  {
   "cell_type": "markdown",
   "metadata": {},
   "source": [
    "### RVMS Database Credentials:"
   ]
  },
  {
   "cell_type": "code",
   "execution_count": 2,
   "metadata": {},
   "outputs": [],
   "source": [
    "userid_rvms = os.environ['windowsuser']\n",
    "pw_rvms     = os.environ['windowspwd']\n",
    "dsn_rvms = 'HDC-SQLP-RVMS'"
   ]
  },
  {
   "cell_type": "markdown",
   "metadata": {},
   "source": [
    "### Query to obtain list of GraphCat Groups and their Sub-Groups:"
   ]
  },
  {
   "cell_type": "code",
   "execution_count": 3,
   "metadata": {},
   "outputs": [
    {
     "name": "stdout",
     "output_type": "stream",
     "text": [
      "Wall time: 535 ms\n"
     ]
    }
   ],
   "source": [
    "%%time\n",
    "\n",
    "cnxn_string = 'DSN=' + dsn_rvms + ';UID=' + userid_rvms + ';PWD=' + pw_rvms\n",
    "\n",
    "cnxn = pyodbc.connect(cnxn_string)\n",
    "cursor = cnxn.cursor()\n",
    "\n",
    "# Copy/Paste your SQL text here\n",
    "sql = \"\"\"\n",
    "SELECT\n",
    "    MQ_GRPS.GRP_ID,\n",
    "    MQ_GRPS.GRP_NM,\n",
    "    MQ_SUBGRPS.SUBGRP_ID,\n",
    "    MQ_SUBGRPS.SUBGRP_NM\n",
    "\n",
    "FROM\n",
    "    dbo.tbl_MQ_GRPKEYS AS MQ_GRPKEYS\n",
    "\n",
    "    LEFT JOIN dbo.tbl_MQ_GRPS AS MQ_GRPS ON\n",
    "    MQ_GRPKEYS.GRP_ID = MQ_GRPS.GRP_ID\n",
    "\n",
    "    LEFT JOIN dbo.tbl_MQ_SUBGRPS AS MQ_SUBGRPS ON\n",
    "    MQ_GRPKEYS.SUBGRP_ID = MQ_SUBGRPS.SUBGRP_ID\n",
    "    \"\"\"\n",
    "\n",
    "gc_group_subgroup = pd.read_sql(sql, cnxn, index_col=None)\n",
    "\n",
    "# For large data (data > RAM, use chunking):\n",
    "\"\"\"\n",
    "for c in pd.read_sql(sql, cnxn, chunksize=10000):\n",
    "    c.to_csv(r'D:\\temp\\resultset.csv', index=False, mode='a')\"\"\"\n",
    "\n",
    "# Close connections\n",
    "cursor.close()\n",
    "cnxn.close()"
   ]
  },
  {
   "cell_type": "code",
   "execution_count": 4,
   "metadata": {},
   "outputs": [
    {
     "data": {
      "text/html": [
       "<div>\n",
       "<style scoped>\n",
       "    .dataframe tbody tr th:only-of-type {\n",
       "        vertical-align: middle;\n",
       "    }\n",
       "\n",
       "    .dataframe tbody tr th {\n",
       "        vertical-align: top;\n",
       "    }\n",
       "\n",
       "    .dataframe thead th {\n",
       "        text-align: right;\n",
       "    }\n",
       "</style>\n",
       "<table border=\"1\" class=\"dataframe\">\n",
       "  <thead>\n",
       "    <tr style=\"text-align: right;\">\n",
       "      <th></th>\n",
       "      <th>GRP_ID</th>\n",
       "      <th>GRP_NM</th>\n",
       "      <th>SUBGRP_ID</th>\n",
       "      <th>SUBGRP_NM</th>\n",
       "    </tr>\n",
       "  </thead>\n",
       "  <tbody>\n",
       "    <tr>\n",
       "      <th>0</th>\n",
       "      <td>1</td>\n",
       "      <td>Chassis</td>\n",
       "      <td>1</td>\n",
       "      <td>ABS/TCS/VSA/BSC</td>\n",
       "    </tr>\n",
       "    <tr>\n",
       "      <th>1</th>\n",
       "      <td>1</td>\n",
       "      <td>Chassis</td>\n",
       "      <td>2</td>\n",
       "      <td>Alignment/Drift/SWOC</td>\n",
       "    </tr>\n",
       "    <tr>\n",
       "      <th>2</th>\n",
       "      <td>1</td>\n",
       "      <td>Chassis</td>\n",
       "      <td>7</td>\n",
       "      <td>Brake Judder</td>\n",
       "    </tr>\n",
       "    <tr>\n",
       "      <th>3</th>\n",
       "      <td>1</td>\n",
       "      <td>Chassis</td>\n",
       "      <td>8</td>\n",
       "      <td>Brake Noise</td>\n",
       "    </tr>\n",
       "    <tr>\n",
       "      <th>4</th>\n",
       "      <td>1</td>\n",
       "      <td>Chassis</td>\n",
       "      <td>9</td>\n",
       "      <td>Brake Pipes/hoses</td>\n",
       "    </tr>\n",
       "  </tbody>\n",
       "</table>\n",
       "</div>"
      ],
      "text/plain": [
       "   GRP_ID   GRP_NM  SUBGRP_ID             SUBGRP_NM\n",
       "0       1  Chassis          1       ABS/TCS/VSA/BSC\n",
       "1       1  Chassis          2  Alignment/Drift/SWOC\n",
       "2       1  Chassis          7          Brake Judder\n",
       "3       1  Chassis          8           Brake Noise\n",
       "4       1  Chassis          9     Brake Pipes/hoses"
      ]
     },
     "execution_count": 4,
     "metadata": {},
     "output_type": "execute_result"
    }
   ],
   "source": [
    "gc_group_subgroup.head()"
   ]
  },
  {
   "cell_type": "markdown",
   "metadata": {},
   "source": [
    "### Create unique list of GraphCat groups and subgroups to be used for GUI controls"
   ]
  },
  {
   "cell_type": "code",
   "execution_count": 5,
   "metadata": {},
   "outputs": [],
   "source": [
    "group_list = sorted(gc_group_subgroup['GRP_NM'].unique().tolist())"
   ]
  },
  {
   "cell_type": "code",
   "execution_count": 6,
   "metadata": {},
   "outputs": [],
   "source": [
    "subgroup_list = sorted(gc_group_subgroup['SUBGRP_NM'].unique().tolist())"
   ]
  },
  {
   "cell_type": "code",
   "execution_count": 7,
   "metadata": {},
   "outputs": [
    {
     "data": {
      "text/plain": [
       "['Chassis',\n",
       " 'Denso',\n",
       " 'Engine',\n",
       " 'Exterior',\n",
       " 'Interior',\n",
       " 'OBD',\n",
       " 'Other',\n",
       " 'Transmission']"
      ]
     },
     "execution_count": 7,
     "metadata": {},
     "output_type": "execute_result"
    }
   ],
   "source": [
    "group_list"
   ]
  },
  {
   "cell_type": "code",
   "execution_count": 8,
   "metadata": {
    "scrolled": false
   },
   "outputs": [
    {
     "data": {
      "text/plain": [
       "['ABS/TCS/VSA/BSC',\n",
       " 'ATF Cooling',\n",
       " 'Alignment/Drift/SWOC',\n",
       " 'Audio',\n",
       " 'Battery',\n",
       " 'Body',\n",
       " 'Brake Judder',\n",
       " 'Brake Noise',\n",
       " 'Brake Pipes/hoses',\n",
       " 'Bulbs',\n",
       " 'Bumper Paint',\n",
       " 'Bumpers',\n",
       " 'CVT Trans',\n",
       " 'Calipers/Disk/Drums/Pads',\n",
       " 'Catalytic Converter',\n",
       " 'Center Console',\n",
       " 'Center Module',\n",
       " 'Charging System',\n",
       " 'Clutch',\n",
       " 'Combimeter',\n",
       " 'Conventional Brakes (pedal/booster)',\n",
       " 'Cooling System',\n",
       " 'Cruise Control',\n",
       " 'Cup Holder',\n",
       " 'Cylinder Head',\n",
       " 'Dampers',\n",
       " 'Diff, Transf Controls',\n",
       " 'Door Liner',\n",
       " 'Door Systems',\n",
       " 'Drive Shaft',\n",
       " 'ECU/PCM/TCM',\n",
       " 'EGR System',\n",
       " 'Engine Block',\n",
       " 'Engine Trim',\n",
       " 'Engine Wiring',\n",
       " 'Evap System Component',\n",
       " 'Exhaust Manifold',\n",
       " 'Exterior Trim',\n",
       " 'Fender Cladding',\n",
       " 'Floor Covering/Carpet',\n",
       " 'Front Light Housing',\n",
       " 'Front Seats',\n",
       " 'Fuel Pump',\n",
       " 'Fuel Sending Unit',\n",
       " 'Fuel System',\n",
       " 'Fuel Tank',\n",
       " 'Gear Shifter/Select Lever',\n",
       " 'General Trans',\n",
       " 'Glass',\n",
       " 'Glove Box',\n",
       " 'HVAC',\n",
       " 'HVAC Vents',\n",
       " 'Hand/cable Brakes',\n",
       " 'Hard Start',\n",
       " 'Harness',\n",
       " 'Headliner',\n",
       " 'Hood/Fuel/Trunk Lid',\n",
       " 'Horn',\n",
       " 'Ignition System',\n",
       " 'Immobi',\n",
       " 'Instrument Panel',\n",
       " 'Intake Flow',\n",
       " 'Intake System',\n",
       " 'Interior Lighting',\n",
       " 'Interior Trim',\n",
       " 'Jack',\n",
       " 'Keys\\\\Keyless',\n",
       " 'MIL On',\n",
       " 'MPX',\n",
       " 'Manual Trans',\n",
       " 'Master Cylinder',\n",
       " 'Mirrors',\n",
       " 'Missfire',\n",
       " 'Mounts - Engine/mission',\n",
       " 'Navi',\n",
       " 'O2 Sensor',\n",
       " 'Oil Leaks',\n",
       " 'Oil Pump',\n",
       " 'Other',\n",
       " 'P/S Gearbox',\n",
       " 'P/S Pump/hoses',\n",
       " 'Paint',\n",
       " 'Pedals',\n",
       " 'Power Outlet',\n",
       " 'Rear Light Housing',\n",
       " 'Rear Seats',\n",
       " 'Rear Tray',\n",
       " 'Relay/Fuse',\n",
       " 'SRS',\n",
       " 'Seals',\n",
       " 'Seat Belts',\n",
       " 'Seat Heater',\n",
       " 'Silencer/Exhaust Pipes',\n",
       " 'Solenoids',\n",
       " 'Speakers',\n",
       " 'Starter',\n",
       " 'Steering System',\n",
       " 'Steering Vibration',\n",
       " 'Steering Wheel/column',\n",
       " 'Sunroof',\n",
       " 'Sunvisor',\n",
       " 'Suspension Components',\n",
       " 'Switches',\n",
       " 'Switches/Sensors',\n",
       " 'Throttle Control/DBW',\n",
       " 'Timing Components',\n",
       " 'Torque Converter',\n",
       " 'Washer System',\n",
       " 'Waterleak',\n",
       " 'Wheel Bearings',\n",
       " 'Wheels',\n",
       " 'Windnoise',\n",
       " 'Window Regulator',\n",
       " 'Wiper Arm/blade',\n",
       " 'Wiper Motor']"
      ]
     },
     "execution_count": 8,
     "metadata": {},
     "output_type": "execute_result"
    }
   ],
   "source": [
    "subgroup_list"
   ]
  },
  {
   "cell_type": "markdown",
   "metadata": {},
   "source": [
    "### Create a list of GraphCat Descriptions at GraphCat Level"
   ]
  },
  {
   "cell_type": "code",
   "execution_count": 9,
   "metadata": {},
   "outputs": [
    {
     "name": "stdout",
     "output_type": "stream",
     "text": [
      "Wall time: 188 ms\n"
     ]
    }
   ],
   "source": [
    "%%time\n",
    "\n",
    "cnxn_string = 'DSN=' + dsn_rvms + ';UID=' + userid_rvms + ';PWD=' + pw_rvms\n",
    "\n",
    "cnxn = pyodbc.connect(cnxn_string)\n",
    "cursor = cnxn.cursor()\n",
    "\n",
    "# Copy/Paste your SQL text here\n",
    "sql = \"\"\"\n",
    "SELECT\n",
    "    DISTINCT\n",
    "    GC_MASTER.GraphCatID,\n",
    "    GC_MASTER.GraphCatDesc,\n",
    "    GC_MASTER.GraphCatType,\n",
    "    CONCAT(CAST(GC_MASTER.GraphCatID as VARCHAR), ' - ', GC_MASTER.GraphCatDesc) AS GraphCat\n",
    "\n",
    "FROM\n",
    "    dbo.tbl_GraphCatMaster as GC_MASTER\n",
    "\n",
    "WHERE\n",
    "    GC_MASTER.GraphCatType = 'R'\n",
    "    AND GC_MASTER.GraphCatDesc like 'R %'\n",
    "    \"\"\"\n",
    "\n",
    "gc_list = pd.read_sql(sql, cnxn, index_col=None)\n",
    "\n",
    "# For large data (data > RAM, use chunking):\n",
    "\"\"\"\n",
    "for c in pd.read_sql(sql, cnxn, chunksize=10000):\n",
    "    c.to_csv(r'D:\\temp\\resultset.csv', index=False, mode='a')\"\"\"\n",
    "\n",
    "# Close connections\n",
    "cursor.close()\n",
    "cnxn.close()"
   ]
  },
  {
   "cell_type": "code",
   "execution_count": 10,
   "metadata": {},
   "outputs": [
    {
     "data": {
      "text/html": [
       "<div>\n",
       "<style scoped>\n",
       "    .dataframe tbody tr th:only-of-type {\n",
       "        vertical-align: middle;\n",
       "    }\n",
       "\n",
       "    .dataframe tbody tr th {\n",
       "        vertical-align: top;\n",
       "    }\n",
       "\n",
       "    .dataframe thead th {\n",
       "        text-align: right;\n",
       "    }\n",
       "</style>\n",
       "<table border=\"1\" class=\"dataframe\">\n",
       "  <thead>\n",
       "    <tr style=\"text-align: right;\">\n",
       "      <th></th>\n",
       "      <th>GraphCatID</th>\n",
       "      <th>GraphCatDesc</th>\n",
       "      <th>GraphCatType</th>\n",
       "      <th>GraphCat</th>\n",
       "    </tr>\n",
       "  </thead>\n",
       "  <tbody>\n",
       "    <tr>\n",
       "      <th>0</th>\n",
       "      <td>1</td>\n",
       "      <td>R MAP TL 2001 KA</td>\n",
       "      <td>R</td>\n",
       "      <td>1 - R MAP TL 2001 KA</td>\n",
       "    </tr>\n",
       "    <tr>\n",
       "      <th>1</th>\n",
       "      <td>2</td>\n",
       "      <td>R MAP TL 2001 KC</td>\n",
       "      <td>R</td>\n",
       "      <td>2 - R MAP TL 2001 KC</td>\n",
       "    </tr>\n",
       "    <tr>\n",
       "      <th>2</th>\n",
       "      <td>3</td>\n",
       "      <td>R MAP TL 2001 KJ</td>\n",
       "      <td>R</td>\n",
       "      <td>3 - R MAP TL 2001 KJ</td>\n",
       "    </tr>\n",
       "    <tr>\n",
       "      <th>3</th>\n",
       "      <td>4</td>\n",
       "      <td>R MAP CL 2001 KA</td>\n",
       "      <td>R</td>\n",
       "      <td>4 - R MAP CL 2001 KA</td>\n",
       "    </tr>\n",
       "    <tr>\n",
       "      <th>4</th>\n",
       "      <td>5</td>\n",
       "      <td>R MAP CL 2001 KC</td>\n",
       "      <td>R</td>\n",
       "      <td>5 - R MAP CL 2001 KC</td>\n",
       "    </tr>\n",
       "  </tbody>\n",
       "</table>\n",
       "</div>"
      ],
      "text/plain": [
       "   GraphCatID      GraphCatDesc GraphCatType              GraphCat\n",
       "0           1  R MAP TL 2001 KA            R  1 - R MAP TL 2001 KA\n",
       "1           2  R MAP TL 2001 KC            R  2 - R MAP TL 2001 KC\n",
       "2           3  R MAP TL 2001 KJ            R  3 - R MAP TL 2001 KJ\n",
       "3           4  R MAP CL 2001 KA            R  4 - R MAP CL 2001 KA\n",
       "4           5  R MAP CL 2001 KC            R  5 - R MAP CL 2001 KC"
      ]
     },
     "execution_count": 10,
     "metadata": {},
     "output_type": "execute_result"
    }
   ],
   "source": [
    "gc_list.head()"
   ]
  },
  {
   "cell_type": "markdown",
   "metadata": {},
   "source": [
    "### Could not find an easy solution to split delimited string into multiple columns using native SQL Server SQL, so resorted to using Python functions:"
   ]
  },
  {
   "cell_type": "code",
   "execution_count": 11,
   "metadata": {},
   "outputs": [],
   "source": [
    "def getModelYear(row) -> str:\n",
    "    word_token = row['GraphCatDesc'].split()\n",
    "    \n",
    "    model_year = word_token[3]\n",
    "    \n",
    "    if model_year.isdigit():\n",
    "        return model_year\n",
    "    else:\n",
    "        return word_token[4]\n",
    "        \n",
    "\n",
    "def getFactoryCode(row) -> str:\n",
    "    word_token = row['GraphCatDesc'].split()\n",
    "    factory_code = word_token[1]\n",
    "    \n",
    "    return factory_code.upper()\n",
    "\n",
    "def getModelName(row) -> str:\n",
    "    word_token = row['GraphCatDesc'].split()\n",
    "    model_name = word_token[2]\n",
    "    \n",
    "    return model_name.upper()"
   ]
  },
  {
   "cell_type": "markdown",
   "metadata": {},
   "source": [
    "### Add Model Year, Factory, and Model Name columns"
   ]
  },
  {
   "cell_type": "code",
   "execution_count": 12,
   "metadata": {},
   "outputs": [],
   "source": [
    "gc_list['ModelYear'] = gc_list.apply(getModelYear, axis='columns')\n",
    "gc_list['Factory'] = gc_list.apply(getFactoryCode, axis='columns')\n",
    "gc_list['ModelName'] = gc_list.apply(getModelName, axis='columns')"
   ]
  },
  {
   "cell_type": "code",
   "execution_count": 13,
   "metadata": {},
   "outputs": [
    {
     "data": {
      "text/html": [
       "<div>\n",
       "<style scoped>\n",
       "    .dataframe tbody tr th:only-of-type {\n",
       "        vertical-align: middle;\n",
       "    }\n",
       "\n",
       "    .dataframe tbody tr th {\n",
       "        vertical-align: top;\n",
       "    }\n",
       "\n",
       "    .dataframe thead th {\n",
       "        text-align: right;\n",
       "    }\n",
       "</style>\n",
       "<table border=\"1\" class=\"dataframe\">\n",
       "  <thead>\n",
       "    <tr style=\"text-align: right;\">\n",
       "      <th></th>\n",
       "      <th>GraphCatID</th>\n",
       "      <th>GraphCatDesc</th>\n",
       "      <th>GraphCatType</th>\n",
       "      <th>GraphCat</th>\n",
       "      <th>ModelYear</th>\n",
       "      <th>Factory</th>\n",
       "      <th>ModelName</th>\n",
       "    </tr>\n",
       "  </thead>\n",
       "  <tbody>\n",
       "    <tr>\n",
       "      <th>0</th>\n",
       "      <td>1</td>\n",
       "      <td>R MAP TL 2001 KA</td>\n",
       "      <td>R</td>\n",
       "      <td>1 - R MAP TL 2001 KA</td>\n",
       "      <td>2001</td>\n",
       "      <td>MAP</td>\n",
       "      <td>TL</td>\n",
       "    </tr>\n",
       "    <tr>\n",
       "      <th>1</th>\n",
       "      <td>2</td>\n",
       "      <td>R MAP TL 2001 KC</td>\n",
       "      <td>R</td>\n",
       "      <td>2 - R MAP TL 2001 KC</td>\n",
       "      <td>2001</td>\n",
       "      <td>MAP</td>\n",
       "      <td>TL</td>\n",
       "    </tr>\n",
       "    <tr>\n",
       "      <th>2</th>\n",
       "      <td>3</td>\n",
       "      <td>R MAP TL 2001 KJ</td>\n",
       "      <td>R</td>\n",
       "      <td>3 - R MAP TL 2001 KJ</td>\n",
       "      <td>2001</td>\n",
       "      <td>MAP</td>\n",
       "      <td>TL</td>\n",
       "    </tr>\n",
       "    <tr>\n",
       "      <th>3</th>\n",
       "      <td>4</td>\n",
       "      <td>R MAP CL 2001 KA</td>\n",
       "      <td>R</td>\n",
       "      <td>4 - R MAP CL 2001 KA</td>\n",
       "      <td>2001</td>\n",
       "      <td>MAP</td>\n",
       "      <td>CL</td>\n",
       "    </tr>\n",
       "    <tr>\n",
       "      <th>4</th>\n",
       "      <td>5</td>\n",
       "      <td>R MAP CL 2001 KC</td>\n",
       "      <td>R</td>\n",
       "      <td>5 - R MAP CL 2001 KC</td>\n",
       "      <td>2001</td>\n",
       "      <td>MAP</td>\n",
       "      <td>CL</td>\n",
       "    </tr>\n",
       "  </tbody>\n",
       "</table>\n",
       "</div>"
      ],
      "text/plain": [
       "   GraphCatID      GraphCatDesc GraphCatType              GraphCat ModelYear  \\\n",
       "0           1  R MAP TL 2001 KA            R  1 - R MAP TL 2001 KA      2001   \n",
       "1           2  R MAP TL 2001 KC            R  2 - R MAP TL 2001 KC      2001   \n",
       "2           3  R MAP TL 2001 KJ            R  3 - R MAP TL 2001 KJ      2001   \n",
       "3           4  R MAP CL 2001 KA            R  4 - R MAP CL 2001 KA      2001   \n",
       "4           5  R MAP CL 2001 KC            R  5 - R MAP CL 2001 KC      2001   \n",
       "\n",
       "  Factory ModelName  \n",
       "0     MAP        TL  \n",
       "1     MAP        TL  \n",
       "2     MAP        TL  \n",
       "3     MAP        CL  \n",
       "4     MAP        CL  "
      ]
     },
     "execution_count": 13,
     "metadata": {},
     "output_type": "execute_result"
    }
   ],
   "source": [
    "gc_list.head()"
   ]
  },
  {
   "cell_type": "markdown",
   "metadata": {},
   "source": [
    "### Get input from user to limit GraphCats to certain model years and models"
   ]
  },
  {
   "cell_type": "code",
   "execution_count": 14,
   "metadata": {},
   "outputs": [
    {
     "name": "stdout",
     "output_type": "stream",
     "text": [
      "Enter one or more model years separated by comma: 2015\n",
      "Enter one or more model names separated by comma: crv\n"
     ]
    }
   ],
   "source": [
    "years_str = input(\"Enter one or more model years separated by comma: \").replace(' ', '')\n",
    "models_str = input(\"Enter one or more model names separated by comma: \").replace(' ', '').upper()\n",
    "\n",
    "years_list = years_str.split(',')\n",
    "models_list = models_str.split(',')"
   ]
  },
  {
   "cell_type": "code",
   "execution_count": 15,
   "metadata": {},
   "outputs": [],
   "source": [
    "models = '|'.join(models_list)"
   ]
  },
  {
   "cell_type": "code",
   "execution_count": 16,
   "metadata": {},
   "outputs": [
    {
     "data": {
      "text/plain": [
       "'CRV'"
      ]
     },
     "execution_count": 16,
     "metadata": {},
     "output_type": "execute_result"
    }
   ],
   "source": [
    "models"
   ]
  },
  {
   "cell_type": "code",
   "execution_count": 17,
   "metadata": {},
   "outputs": [],
   "source": [
    "year_criteria = gc_list['ModelYear'].isin(years_list)\n",
    "model_criteria = gc_list['ModelName'].str.contains(models)"
   ]
  },
  {
   "cell_type": "code",
   "execution_count": 18,
   "metadata": {},
   "outputs": [],
   "source": [
    "gc_list_final = gc_list[(year_criteria) & (model_criteria)]"
   ]
  },
  {
   "cell_type": "code",
   "execution_count": 19,
   "metadata": {},
   "outputs": [],
   "source": [
    "graphcats = gc_list_final['GraphCat'].tolist()"
   ]
  },
  {
   "cell_type": "code",
   "execution_count": 20,
   "metadata": {},
   "outputs": [
    {
     "data": {
      "text/plain": [
       "['1074 - R ELP CRV 2015 2WD KA',\n",
       " '1075 - R ELP CRV 2015 4WD KA',\n",
       " '1076 - R ELP CRV 2015 4WD KC',\n",
       " '1126 - R HCM CRV 2015 2WD KA',\n",
       " '1127 - R HCM CRV 2015 4WD KA',\n",
       " '1128 - R HCM CRV 2015 2WD KC',\n",
       " '1129 - R HCM CRV 2015 4WD KC',\n",
       " '1377 - R HDM CRV 2015 KA KL',\n",
       " '1378 - R HDM CRV 2015 KK KM',\n",
       " '1379 - R HDM CRV 2015 KX']"
      ]
     },
     "execution_count": 20,
     "metadata": {},
     "output_type": "execute_result"
    }
   ],
   "source": [
    "graphcats"
   ]
  },
  {
   "cell_type": "code",
   "execution_count": 21,
   "metadata": {},
   "outputs": [
    {
     "data": {
      "text/plain": [
       "['1074 - R ELP CRV 2015 2WD KA',\n",
       " '1075 - R ELP CRV 2015 4WD KA',\n",
       " '1076 - R ELP CRV 2015 4WD KC',\n",
       " '1126 - R HCM CRV 2015 2WD KA',\n",
       " '1127 - R HCM CRV 2015 4WD KA',\n",
       " '1128 - R HCM CRV 2015 2WD KC',\n",
       " '1129 - R HCM CRV 2015 4WD KC',\n",
       " '1377 - R HDM CRV 2015 KA KL',\n",
       " '1378 - R HDM CRV 2015 KK KM',\n",
       " '1379 - R HDM CRV 2015 KX']"
      ]
     },
     "execution_count": 21,
     "metadata": {},
     "output_type": "execute_result"
    }
   ],
   "source": [
    "graphcats"
   ]
  },
  {
   "cell_type": "markdown",
   "metadata": {},
   "source": [
    "### Query to obtain raw claims by GraphCatID, Group, and SubGroup:"
   ]
  },
  {
   "cell_type": "code",
   "execution_count": 22,
   "metadata": {},
   "outputs": [
    {
     "data": {
      "application/vnd.jupyter.widget-view+json": {
       "model_id": "a2108195fd3646a5a400f71662b8a596",
       "version_major": 2,
       "version_minor": 0
      },
      "text/plain": [
       "SelectMultiple(description='GraphCats', index=(0, 1, 2, 3, 4, 5, 6, 7, 8, 9), options=('1074 - R ELP CRV 2015 …"
      ]
     },
     "metadata": {},
     "output_type": "display_data"
    },
    {
     "data": {
      "application/vnd.jupyter.widget-view+json": {
       "model_id": "1bce4047397b4734969675395ecc2048",
       "version_major": 2,
       "version_minor": 0
      },
      "text/plain": [
       "interactive(children=(Dropdown(description='group', options=('Chassis', 'Denso', 'Engine', 'Exterior', 'Interi…"
      ]
     },
     "metadata": {},
     "output_type": "display_data"
    },
    {
     "name": "stdout",
     "output_type": "stream",
     "text": [
      "Wall time: 175 ms\n"
     ]
    }
   ],
   "source": [
    "%%time\n",
    "\n",
    "gc_list = widgets.SelectMultiple(\n",
    "    options=graphcats,\n",
    "    index=list(range(len(graphcats))),\n",
    "    rows=20,\n",
    "    description='GraphCats',\n",
    "    disabled=False\n",
    ")\n",
    "display(gc_list)\n",
    "\n",
    "def getRawClaimsByGroupSubGroup(group=group_list, subgroup=subgroup_list):\n",
    "    cnxn_string = 'DSN=' + dsn_rvms + ';UID=' + userid_rvms + ';PWD=' + pw_rvms\n",
    "\n",
    "    cnxn = pyodbc.connect(cnxn_string)\n",
    "    cursor = cnxn.cursor()\n",
    "    \n",
    "    gc_id_list = gc_list.value\n",
    "    number_of_gc = len(gc_id_list)\n",
    "\n",
    "    # Copy/Paste your SQL text here\n",
    "    sql = \"\"\"\n",
    "    WITH GC_GROUP_SUBGRP AS (\n",
    "\n",
    "    SELECT\n",
    "        MQ_GRPS.GRP_ID,\n",
    "        MQ_GRPS.GRP_NM,\n",
    "        MQ_SUBGRPS.SUBGRP_ID,\n",
    "        MQ_SUBGRPS.SUBGRP_NM\n",
    "\n",
    "    FROM\n",
    "        dbo.tbl_MQ_GRPKEYS AS MQ_GRPKEYS\n",
    "\n",
    "        LEFT JOIN dbo.tbl_MQ_GRPS AS MQ_GRPS ON\n",
    "        MQ_GRPKEYS.GRP_ID = MQ_GRPS.GRP_ID\n",
    "\n",
    "        LEFT JOIN dbo.tbl_MQ_SUBGRPS AS MQ_SUBGRPS ON\n",
    "        MQ_GRPKEYS.SUBGRP_ID = MQ_SUBGRPS.SUBGRP_ID\n",
    "\n",
    "\n",
    "    ),\n",
    "\n",
    "    RESERVE_GC_MTC AS (\n",
    "\n",
    "    SELECT\n",
    "        GC_MTC.GraphCatID,\n",
    "        GC_MTC.MTC_Model,\n",
    "        GC_MTC.MTC_Type,\n",
    "        GC_MTC.MTC_Option,\n",
    "        GC_MASTER.GraphCatDesc,\n",
    "        GC_MASTER.GraphCatType\n",
    "\n",
    "\n",
    "    FROM\n",
    "        RVMS.dbo.tbl_GraphCat_MTC as GC_MTC\n",
    "\n",
    "        LEFT JOIN dbo.tbl_GraphCatMaster AS GC_MASTER ON\n",
    "        GC_MTC.GraphCatID = GC_MASTER.GraphCatID\n",
    "\n",
    "    WHERE\n",
    "        GC_MASTER.GraphCatType = 'R'\n",
    "\n",
    "    )\n",
    "\n",
    "\n",
    "    SELECT\n",
    "        RESERVE_GC_MTC.GraphCatID,\n",
    "        RESERVE_GC_MTC.GraphCatDesc,\n",
    "        RESERVE_GC_MTC.GraphCatType,\n",
    "        CLA1_FINAL.*,\n",
    "        CLA1_FINAL.WAR_EXCH_RATE_AMT * CLA1_FINAL.WAR_TOTAL_CHG_AMT as WAR_TOTAL_CHG_AMT_USD,\n",
    "        SUBSTRING(CLA1_FINAL.SERVICE_PART_NO, 1, 5) AS PART5,\n",
    "        GC_GROUP_SUBGRP.GRP_NM,\n",
    "        GC_GROUP_SUBGRP.SUBGRP_NM\n",
    "\n",
    "    FROM\n",
    "        RVMS.dbo.war_wrcla1_final as CLA1_FINAL\n",
    "\n",
    "        LEFT JOIN GC_GROUP_SUBGRP AS GC_GROUP_SUBGRP ON\n",
    "        CLA1_FINAL.GRP_ID = GC_GROUP_SUBGRP.GRP_ID\n",
    "        AND CLA1_FINAL.SUBGRP_ID = GC_GROUP_SUBGRP.SUBGRP_ID\n",
    "\n",
    "        LEFT JOIN RESERVE_GC_MTC as RESERVE_GC_MTC ON\n",
    "        CLA1_FINAL.MTC_MODEL = RESERVE_GC_MTC.MTC_Model\n",
    "        AND CLA1_FINAL.MTC_TYPE = RESERVE_GC_MTC.MTC_Type\n",
    "        AND CLA1_FINAL.MTC_OPTION = RESERVE_GC_MTC.MTC_Option\n",
    "\n",
    "    WHERE\n",
    "        CLA1_FINAL.CAMPAIGN_CODE = 'N'\n",
    "        AND RESERVE_GC_MTC.GraphCatID IN(%s)\n",
    "        AND GC_GROUP_SUBGRP.GRP_NM = ?\n",
    "        AND GC_GROUP_SUBGRP.SUBGRP_NM = ?\n",
    "        \"\"\" % (\",\".join(\"?\" * number_of_gc))\n",
    "        \n",
    "        \n",
    "    parameter_list = []\n",
    "    for id in gc_id_list:\n",
    "        parameter_list.append(int(id.split(' ')[0]))\n",
    "        \n",
    "        \n",
    "    parameter_list.append(group)\n",
    "    parameter_list.append(subgroup)\n",
    "\n",
    "    global raw_claims_group_subgroup\n",
    "    raw_claims_group_subgroup = pd.read_sql(sql, cnxn, index_col=None, params=parameter_list)\n",
    "    \n",
    "    print(\"Removing any funky characters from the dataframe (if any)...\")\n",
    "    raw_claims_group_subgroup = raw_claims_group_subgroup.applymap(lambda x: x.encode('unicode_escape').\n",
    "                 decode('utf-8') if isinstance(x, str) else x)\n",
    "    \n",
    "    print(\"Number of (rows, columns): \", raw_claims_group_subgroup.shape)\n",
    "\n",
    "    # For large data (data > RAM, use chunking):\n",
    "    \"\"\"\n",
    "    for c in pd.read_sql(sql, cnxn, chunksize=10000):\n",
    "        c.to_csv(r'D:\\temp\\resultset.csv', index=False, mode='a')\"\"\"\n",
    "\n",
    "    # Close connections\n",
    "    cursor.close()\n",
    "    cnxn.close()\n",
    "    \n",
    "    print('SQL parameters: ', parameter_list)\n",
    "\n",
    "interact_manual(getRawClaimsByGroupSubGroup);"
   ]
  },
  {
   "cell_type": "code",
   "execution_count": 24,
   "metadata": {},
   "outputs": [
    {
     "data": {
      "text/html": [
       "<div>\n",
       "<style scoped>\n",
       "    .dataframe tbody tr th:only-of-type {\n",
       "        vertical-align: middle;\n",
       "    }\n",
       "\n",
       "    .dataframe tbody tr th {\n",
       "        vertical-align: top;\n",
       "    }\n",
       "\n",
       "    .dataframe thead th {\n",
       "        text-align: right;\n",
       "    }\n",
       "</style>\n",
       "<table border=\"1\" class=\"dataframe\">\n",
       "  <thead>\n",
       "    <tr style=\"text-align: right;\">\n",
       "      <th></th>\n",
       "      <th>GraphCatID</th>\n",
       "      <th>GraphCatDesc</th>\n",
       "      <th>GraphCatType</th>\n",
       "      <th>DEALER_NO_CLA</th>\n",
       "      <th>WAR_CLAIM_NO_CLA</th>\n",
       "      <th>DEALER_NO</th>\n",
       "      <th>WAR_CLAIM_NO</th>\n",
       "      <th>REPR_ORDER_YEAR_NO</th>\n",
       "      <th>REPAIR_ORDER_DATE</th>\n",
       "      <th>VEH_SALE_DATE</th>\n",
       "      <th>VIN</th>\n",
       "      <th>WAR_PARTS_CHG_AMT</th>\n",
       "      <th>WAR_TOTAL_CHG_AMT</th>\n",
       "      <th>WAR_EXCH_RATE_AMT</th>\n",
       "      <th>WAR_RESP_DISTR_CDE</th>\n",
       "      <th>WAR_PROD_DISTR_CDE</th>\n",
       "      <th>WAR_ORIG_DISTR_CDE</th>\n",
       "      <th>WAR_CLAIM_DATE</th>\n",
       "      <th>WAR_CLAIM_SUF_NO</th>\n",
       "      <th>VEHICLE_DESTN_CODE</th>\n",
       "      <th>CAMPAIGN_CODE</th>\n",
       "      <th>WAR_DEFECT_CODE</th>\n",
       "      <th>WAR_DEF_DESC_TEXT</th>\n",
       "      <th>REVISION_SEQ_NO</th>\n",
       "      <th>SERVICE_PART_NO</th>\n",
       "      <th>GRP_ID</th>\n",
       "      <th>SUBGRP_ID</th>\n",
       "      <th>AF_MTH</th>\n",
       "      <th>RO_MTH</th>\n",
       "      <th>SALE_MTH</th>\n",
       "      <th>ENG_SIZE</th>\n",
       "      <th>MTC_MODEL</th>\n",
       "      <th>MTC_TYPE</th>\n",
       "      <th>MTC_OPTION</th>\n",
       "      <th>CONTDESC</th>\n",
       "      <th>AHM_ECU_FAIL_CODE</th>\n",
       "      <th>PRI_LABOR_OP_CODE</th>\n",
       "      <th>CUST_CONT_CODE</th>\n",
       "      <th>MONTHS_IN_SERVICE</th>\n",
       "      <th>UPDATE_TSTP</th>\n",
       "      <th>ORIG_DEFECT_CODE</th>\n",
       "      <th>REPAIR_METHOD</th>\n",
       "      <th>WAR_TOTAL_CHG_AMT_USD</th>\n",
       "      <th>PART5</th>\n",
       "      <th>GRP_NM</th>\n",
       "      <th>SUBGRP_NM</th>\n",
       "    </tr>\n",
       "  </thead>\n",
       "  <tbody>\n",
       "    <tr>\n",
       "      <th>0</th>\n",
       "      <td>1129</td>\n",
       "      <td>R HCM CRV 2015 4WD KC</td>\n",
       "      <td>R</td>\n",
       "      <td>07711000</td>\n",
       "      <td>W889041000</td>\n",
       "      <td>711000</td>\n",
       "      <td>889041</td>\n",
       "      <td>2017</td>\n",
       "      <td>2017-08-15</td>\n",
       "      <td>2015-04-28</td>\n",
       "      <td>2HKRM4H39FH114222</td>\n",
       "      <td>0.0</td>\n",
       "      <td>37.98</td>\n",
       "      <td>0.799199</td>\n",
       "      <td>140</td>\n",
       "      <td>140</td>\n",
       "      <td>130</td>\n",
       "      <td>201709</td>\n",
       "      <td>0</td>\n",
       "      <td>KC</td>\n",
       "      <td>N</td>\n",
       "      <td>09999</td>\n",
       "      <td>OTHER                                         ...</td>\n",
       "      <td>0</td>\n",
       "      <td>44305T1WA01</td>\n",
       "      <td>1</td>\n",
       "      <td>30</td>\n",
       "      <td>2015 - 02</td>\n",
       "      <td>2017 - 08</td>\n",
       "      <td>2015 - 04</td>\n",
       "      <td>None</td>\n",
       "      <td>FTFE</td>\n",
       "      <td>CA5</td>\n",
       "      <td></td>\n",
       "      <td>None</td>\n",
       "      <td>None</td>\n",
       "      <td>None</td>\n",
       "      <td>None</td>\n",
       "      <td>28</td>\n",
       "      <td>2017-10-31</td>\n",
       "      <td>09999</td>\n",
       "      <td>None</td>\n",
       "      <td>30.353570</td>\n",
       "      <td>44305</td>\n",
       "      <td>Chassis</td>\n",
       "      <td>Drive Shaft</td>\n",
       "    </tr>\n",
       "    <tr>\n",
       "      <th>1</th>\n",
       "      <td>1129</td>\n",
       "      <td>R HCM CRV 2015 4WD KC</td>\n",
       "      <td>R</td>\n",
       "      <td>03131000</td>\n",
       "      <td>W267901000</td>\n",
       "      <td>131000</td>\n",
       "      <td>267901</td>\n",
       "      <td>2017</td>\n",
       "      <td>2017-08-16</td>\n",
       "      <td>2015-09-16</td>\n",
       "      <td>2HKRM4H38FH123395</td>\n",
       "      <td>7.0</td>\n",
       "      <td>105.40</td>\n",
       "      <td>0.799199</td>\n",
       "      <td>140</td>\n",
       "      <td>140</td>\n",
       "      <td>130</td>\n",
       "      <td>201709</td>\n",
       "      <td>0</td>\n",
       "      <td>KC</td>\n",
       "      <td>N</td>\n",
       "      <td>00401</td>\n",
       "      <td>DISTORTED                                     ...</td>\n",
       "      <td>0</td>\n",
       "      <td>91205P0X005</td>\n",
       "      <td>1</td>\n",
       "      <td>30</td>\n",
       "      <td>2015 - 06</td>\n",
       "      <td>2017 - 08</td>\n",
       "      <td>2015 - 09</td>\n",
       "      <td>None</td>\n",
       "      <td>FTFE</td>\n",
       "      <td>CA5</td>\n",
       "      <td></td>\n",
       "      <td>None</td>\n",
       "      <td>None</td>\n",
       "      <td>None</td>\n",
       "      <td>None</td>\n",
       "      <td>23</td>\n",
       "      <td>2017-10-31</td>\n",
       "      <td>00401</td>\n",
       "      <td>None</td>\n",
       "      <td>84.235554</td>\n",
       "      <td>91205</td>\n",
       "      <td>Chassis</td>\n",
       "      <td>Drive Shaft</td>\n",
       "    </tr>\n",
       "    <tr>\n",
       "      <th>2</th>\n",
       "      <td>1129</td>\n",
       "      <td>R HCM CRV 2015 4WD KC</td>\n",
       "      <td>R</td>\n",
       "      <td>03131000</td>\n",
       "      <td>W430581000</td>\n",
       "      <td>131000</td>\n",
       "      <td>430581</td>\n",
       "      <td>2018</td>\n",
       "      <td>2018-06-13</td>\n",
       "      <td>2015-06-19</td>\n",
       "      <td>2HKRM4H32FH120041</td>\n",
       "      <td>88.0</td>\n",
       "      <td>1079.10</td>\n",
       "      <td>0.753929</td>\n",
       "      <td>140</td>\n",
       "      <td>140</td>\n",
       "      <td>130</td>\n",
       "      <td>201806</td>\n",
       "      <td>0</td>\n",
       "      <td>KC</td>\n",
       "      <td>N</td>\n",
       "      <td>01102</td>\n",
       "      <td>DETERIORATED                                  ...</td>\n",
       "      <td>0</td>\n",
       "      <td>912075LJ003</td>\n",
       "      <td>1</td>\n",
       "      <td>30</td>\n",
       "      <td>2015 - 04</td>\n",
       "      <td>2018 - 06</td>\n",
       "      <td>2015 - 06</td>\n",
       "      <td>None</td>\n",
       "      <td>FTFE</td>\n",
       "      <td>CA5</td>\n",
       "      <td></td>\n",
       "      <td>None</td>\n",
       "      <td>None</td>\n",
       "      <td>None</td>\n",
       "      <td>None</td>\n",
       "      <td>36</td>\n",
       "      <td>2018-07-31</td>\n",
       "      <td>01102</td>\n",
       "      <td>None</td>\n",
       "      <td>813.565313</td>\n",
       "      <td>91207</td>\n",
       "      <td>Chassis</td>\n",
       "      <td>Drive Shaft</td>\n",
       "    </tr>\n",
       "    <tr>\n",
       "      <th>3</th>\n",
       "      <td>1129</td>\n",
       "      <td>R HCM CRV 2015 4WD KC</td>\n",
       "      <td>R</td>\n",
       "      <td>07752000</td>\n",
       "      <td>W331231000</td>\n",
       "      <td>752000</td>\n",
       "      <td>331231</td>\n",
       "      <td>2018</td>\n",
       "      <td>2018-06-11</td>\n",
       "      <td>2015-08-31</td>\n",
       "      <td>2HKRM4H31FH123366</td>\n",
       "      <td>106.0</td>\n",
       "      <td>869.36</td>\n",
       "      <td>0.753929</td>\n",
       "      <td>140</td>\n",
       "      <td>140</td>\n",
       "      <td>130</td>\n",
       "      <td>201806</td>\n",
       "      <td>0</td>\n",
       "      <td>KC</td>\n",
       "      <td>N</td>\n",
       "      <td>07408</td>\n",
       "      <td>IMPROPERLY SEALED                             ...</td>\n",
       "      <td>0</td>\n",
       "      <td>912075LJ003</td>\n",
       "      <td>1</td>\n",
       "      <td>30</td>\n",
       "      <td>2015 - 06</td>\n",
       "      <td>2018 - 06</td>\n",
       "      <td>2015 - 08</td>\n",
       "      <td>None</td>\n",
       "      <td>FTFE</td>\n",
       "      <td>CA5</td>\n",
       "      <td></td>\n",
       "      <td>None</td>\n",
       "      <td>None</td>\n",
       "      <td>None</td>\n",
       "      <td>None</td>\n",
       "      <td>34</td>\n",
       "      <td>2018-07-31</td>\n",
       "      <td>07408</td>\n",
       "      <td>None</td>\n",
       "      <td>655.436141</td>\n",
       "      <td>91207</td>\n",
       "      <td>Chassis</td>\n",
       "      <td>Drive Shaft</td>\n",
       "    </tr>\n",
       "    <tr>\n",
       "      <th>4</th>\n",
       "      <td>1129</td>\n",
       "      <td>R HCM CRV 2015 4WD KC</td>\n",
       "      <td>R</td>\n",
       "      <td>07735000</td>\n",
       "      <td>W305521000</td>\n",
       "      <td>735000</td>\n",
       "      <td>305521</td>\n",
       "      <td>2017</td>\n",
       "      <td>2017-10-30</td>\n",
       "      <td>2014-12-01</td>\n",
       "      <td>2HKRM4H36FH104439</td>\n",
       "      <td>81.0</td>\n",
       "      <td>822.93</td>\n",
       "      <td>0.808245</td>\n",
       "      <td>140</td>\n",
       "      <td>140</td>\n",
       "      <td>130</td>\n",
       "      <td>201711</td>\n",
       "      <td>0</td>\n",
       "      <td>KC</td>\n",
       "      <td>N</td>\n",
       "      <td>07408</td>\n",
       "      <td>IMPROPERLY SEALED                             ...</td>\n",
       "      <td>0</td>\n",
       "      <td>912075LJ003</td>\n",
       "      <td>1</td>\n",
       "      <td>30</td>\n",
       "      <td>2014 - 11</td>\n",
       "      <td>2017 - 10</td>\n",
       "      <td>2014 - 12</td>\n",
       "      <td>None</td>\n",
       "      <td>FTFE</td>\n",
       "      <td>CA5</td>\n",
       "      <td></td>\n",
       "      <td>None</td>\n",
       "      <td>None</td>\n",
       "      <td>None</td>\n",
       "      <td>None</td>\n",
       "      <td>35</td>\n",
       "      <td>2018-02-19</td>\n",
       "      <td>07408</td>\n",
       "      <td>None</td>\n",
       "      <td>665.128903</td>\n",
       "      <td>91207</td>\n",
       "      <td>Chassis</td>\n",
       "      <td>Drive Shaft</td>\n",
       "    </tr>\n",
       "  </tbody>\n",
       "</table>\n",
       "</div>"
      ],
      "text/plain": [
       "   GraphCatID           GraphCatDesc GraphCatType         DEALER_NO_CLA  \\\n",
       "0        1129  R HCM CRV 2015 4WD KC            R  07711000               \n",
       "1        1129  R HCM CRV 2015 4WD KC            R  03131000               \n",
       "2        1129  R HCM CRV 2015 4WD KC            R  03131000               \n",
       "3        1129  R HCM CRV 2015 4WD KC            R  07752000               \n",
       "4        1129  R HCM CRV 2015 4WD KC            R  07735000               \n",
       "\n",
       "       WAR_CLAIM_NO_CLA DEALER_NO WAR_CLAIM_NO REPR_ORDER_YEAR_NO  \\\n",
       "0  W889041000            711000     889041                   2017   \n",
       "1  W267901000            131000     267901                   2017   \n",
       "2  W430581000            131000     430581                   2018   \n",
       "3  W331231000            752000     331231                   2018   \n",
       "4  W305521000            735000     305521                   2017   \n",
       "\n",
       "  REPAIR_ORDER_DATE VEH_SALE_DATE                VIN  WAR_PARTS_CHG_AMT  \\\n",
       "0        2017-08-15    2015-04-28  2HKRM4H39FH114222                0.0   \n",
       "1        2017-08-16    2015-09-16  2HKRM4H38FH123395                7.0   \n",
       "2        2018-06-13    2015-06-19  2HKRM4H32FH120041               88.0   \n",
       "3        2018-06-11    2015-08-31  2HKRM4H31FH123366              106.0   \n",
       "4        2017-10-30    2014-12-01  2HKRM4H36FH104439               81.0   \n",
       "\n",
       "   WAR_TOTAL_CHG_AMT  WAR_EXCH_RATE_AMT WAR_RESP_DISTR_CDE WAR_PROD_DISTR_CDE  \\\n",
       "0              37.98           0.799199         140                140          \n",
       "1             105.40           0.799199         140                140          \n",
       "2            1079.10           0.753929         140                140          \n",
       "3             869.36           0.753929         140                140          \n",
       "4             822.93           0.808245         140                140          \n",
       "\n",
       "  WAR_ORIG_DISTR_CDE  WAR_CLAIM_DATE WAR_CLAIM_SUF_NO VEHICLE_DESTN_CODE  \\\n",
       "0         130                 201709                0                KC    \n",
       "1         130                 201709                0                KC    \n",
       "2         130                 201806                0                KC    \n",
       "3         130                 201806                0                KC    \n",
       "4         130                 201711                0                KC    \n",
       "\n",
       "  CAMPAIGN_CODE WAR_DEFECT_CODE  \\\n",
       "0           N             09999   \n",
       "1           N             00401   \n",
       "2           N             01102   \n",
       "3           N             07408   \n",
       "4           N             07408   \n",
       "\n",
       "                                   WAR_DEF_DESC_TEXT  REVISION_SEQ_NO  \\\n",
       "0  OTHER                                         ...                0   \n",
       "1  DISTORTED                                     ...                0   \n",
       "2  DETERIORATED                                  ...                0   \n",
       "3  IMPROPERLY SEALED                             ...                0   \n",
       "4  IMPROPERLY SEALED                             ...                0   \n",
       "\n",
       "      SERVICE_PART_NO  GRP_ID  SUBGRP_ID     AF_MTH     RO_MTH   SALE_MTH  \\\n",
       "0  44305T1WA01              1         30  2015 - 02  2017 - 08  2015 - 04   \n",
       "1  91205P0X005              1         30  2015 - 06  2017 - 08  2015 - 09   \n",
       "2  912075LJ003              1         30  2015 - 04  2018 - 06  2015 - 06   \n",
       "3  912075LJ003              1         30  2015 - 06  2018 - 06  2015 - 08   \n",
       "4  912075LJ003              1         30  2014 - 11  2017 - 10  2014 - 12   \n",
       "\n",
       "  ENG_SIZE MTC_MODEL MTC_TYPE MTC_OPTION CONTDESC AHM_ECU_FAIL_CODE  \\\n",
       "0     None      FTFE     CA5                 None              None   \n",
       "1     None      FTFE     CA5                 None              None   \n",
       "2     None      FTFE     CA5                 None              None   \n",
       "3     None      FTFE     CA5                 None              None   \n",
       "4     None      FTFE     CA5                 None              None   \n",
       "\n",
       "  PRI_LABOR_OP_CODE CUST_CONT_CODE  MONTHS_IN_SERVICE UPDATE_TSTP  \\\n",
       "0              None           None                 28  2017-10-31   \n",
       "1              None           None                 23  2017-10-31   \n",
       "2              None           None                 36  2018-07-31   \n",
       "3              None           None                 34  2018-07-31   \n",
       "4              None           None                 35  2018-02-19   \n",
       "\n",
       "  ORIG_DEFECT_CODE REPAIR_METHOD  WAR_TOTAL_CHG_AMT_USD  PART5   GRP_NM  \\\n",
       "0            09999          None              30.353570  44305  Chassis   \n",
       "1            00401          None              84.235554  91205  Chassis   \n",
       "2            01102          None             813.565313  91207  Chassis   \n",
       "3            07408          None             655.436141  91207  Chassis   \n",
       "4            07408          None             665.128903  91207  Chassis   \n",
       "\n",
       "     SUBGRP_NM  \n",
       "0  Drive Shaft  \n",
       "1  Drive Shaft  \n",
       "2  Drive Shaft  \n",
       "3  Drive Shaft  \n",
       "4  Drive Shaft  "
      ]
     },
     "execution_count": 24,
     "metadata": {},
     "output_type": "execute_result"
    }
   ],
   "source": [
    "raw_claims_group_subgroup.head()"
   ]
  },
  {
   "cell_type": "markdown",
   "metadata": {},
   "source": [
    "### Total Charge Amount in USD"
   ]
  },
  {
   "cell_type": "code",
   "execution_count": null,
   "metadata": {},
   "outputs": [],
   "source": [
    "raw_claims_group_subgroup['WAR_TOTAL_CHG_AMT_USD'].sum()"
   ]
  },
  {
   "cell_type": "markdown",
   "metadata": {},
   "source": [
    "### Total Charge Amount in Native Currency"
   ]
  },
  {
   "cell_type": "code",
   "execution_count": null,
   "metadata": {},
   "outputs": [],
   "source": [
    "raw_claims_group_subgroup['WAR_TOTAL_CHG_AMT'].sum()"
   ]
  },
  {
   "cell_type": "markdown",
   "metadata": {},
   "source": [
    "### Claim Qty by RO Month"
   ]
  },
  {
   "cell_type": "code",
   "execution_count": 25,
   "metadata": {},
   "outputs": [
    {
     "data": {
      "image/png": "[encoded data removed]",
      "text/plain": [
       "<Figure size 864x504 with 1 Axes>"
      ]
     },
     "metadata": {
      "needs_background": "light"
     },
     "output_type": "display_data"
    }
   ],
   "source": [
    "plt.rcParams['figure.figsize'] = [12, 7]\n",
    "raw_claims_group_subgroup.pivot_table(index='RO_MTH', values='VIN', aggfunc='count').plot.bar()\n",
    "plt.title(raw_claims_group_subgroup['GraphCatDesc'].values[0] + ': ' + raw_claims_group_subgroup['GRP_NM'].values[0] + ' - ' \n",
    "          + raw_claims_group_subgroup['SUBGRP_NM'].values[0])\n",
    "plt.grid(True)\n",
    "sns.despine();"
   ]
  },
  {
   "cell_type": "markdown",
   "metadata": {},
   "source": [
    "### Claim Qty by AF Month"
   ]
  },
  {
   "cell_type": "code",
   "execution_count": 26,
   "metadata": {},
   "outputs": [
    {
     "data": {
      "image/png": "[encoded data removed]",
      "text/plain": [
       "<Figure size 864x504 with 1 Axes>"
      ]
     },
     "metadata": {
      "needs_background": "light"
     },
     "output_type": "display_data"
    }
   ],
   "source": [
    "raw_claims_group_subgroup.pivot_table(index='AF_MTH', values='VIN', aggfunc='count').plot.bar()\n",
    "plt.title(raw_claims_group_subgroup['GraphCatDesc'].values[0] + ': ' + raw_claims_group_subgroup['GRP_NM'].values[0] + ' - ' \n",
    "          + raw_claims_group_subgroup['SUBGRP_NM'].values[0])\n",
    "plt.grid(True)\n",
    "sns.despine();"
   ]
  },
  {
   "cell_type": "markdown",
   "metadata": {},
   "source": [
    "#### Top Claimed Part #s"
   ]
  },
  {
   "cell_type": "code",
   "execution_count": null,
   "metadata": {},
   "outputs": [],
   "source": [
    "raw_claims_group_subgroup.pivot_table(index='PART5', values='VIN', aggfunc='count').sort_values(by='VIN', ascending=False)"
   ]
  },
  {
   "cell_type": "code",
   "execution_count": 27,
   "metadata": {},
   "outputs": [],
   "source": [
    "raw_claims_group_subgroup.to_excel(r'D:\\temp\\Raw_Claims.xlsx', index=False)"
   ]
  }
 ],
 "metadata": {
  "hide_input": false,
  "kernelspec": {
   "display_name": "Python 3",
   "language": "python",
   "name": "python3"
  },
  "language_info": {
   "codemirror_mode": {
    "name": "ipython",
    "version": 3
   },
   "file_extension": ".py",
   "mimetype": "text/x-python",
   "name": "python",
   "nbconvert_exporter": "python",
   "pygments_lexer": "ipython3",
   "version": "3.7.0"
  }
 },
 "nbformat": 4,
 "nbformat_minor": 2
}
