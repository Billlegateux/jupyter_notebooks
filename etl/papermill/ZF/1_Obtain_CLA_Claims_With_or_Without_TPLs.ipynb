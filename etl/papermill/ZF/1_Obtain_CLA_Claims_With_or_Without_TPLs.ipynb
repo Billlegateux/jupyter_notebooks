{
 "cells": [
  {
   "cell_type": "markdown",
   "metadata": {},
   "source": [
    "# PURPOSE:"
   ]
  },
  {
   "cell_type": "markdown",
   "metadata": {},
   "source": [
    "### Obtain and then prepare CLA claims with or without TPLs so that ZF transmission vouchers can be generated"
   ]
  },
  {
   "cell_type": "markdown",
   "metadata": {},
   "source": [
    "Created by Daniel J. Kim - HAM Warranty Cost Analyst"
   ]
  },
  {
   "cell_type": "markdown",
   "metadata": {},
   "source": [
    "## Some data quality/anomaly issues to be aware of:\n",
    "\n",
    "- TRANS_SERIAL_NO in the WRSAL1 and WRTRN1 table has trailing white spaces.\n",
    "- Missing TRANS_SERIAL_NO will cause the creation of the E-Quote part # to be invalid"
   ]
  },
  {
   "cell_type": "markdown",
   "metadata": {},
   "source": [
    "## Input:"
   ]
  },
  {
   "cell_type": "markdown",
   "metadata": {},
   "source": [
    "- fixed model years"
   ]
  },
  {
   "cell_type": "markdown",
   "metadata": {},
   "source": [
    "## Output:"
   ]
  },
  {
   "cell_type": "markdown",
   "metadata": {},
   "source": [
    "- Excel file containing initial data for non-fixed claims (CLA claims with closed TPLs)\n",
    "- Excel file containing initial data for fixed claims (CLA claims without closed TPLs)"
   ]
  },
  {
   "cell_type": "code",
   "execution_count": 1,
   "metadata": {},
   "outputs": [],
   "source": [
    "from datetime import datetime\n",
    "from pathlib import Path\n",
    "from win10toast import ToastNotifier\n",
    "import numpy as np\n",
    "import pandas as pd\n",
    "import os\n",
    "import os.path as op\n",
    "import pyodbc\n",
    "import scrapbook as sb\n",
    "pd.options.display.max_columns=100\n",
    "pd.options.display.max_rows=1000\n",
    "pd.options.display.float_format = '{:20,.2f}'.format"
   ]
  },
  {
   "cell_type": "code",
   "execution_count": 2,
   "metadata": {},
   "outputs": [],
   "source": [
    "username = os.environ['windowsuser']\n",
    "password = os.environ['windowspwd']"
   ]
  },
  {
   "cell_type": "markdown",
   "metadata": {},
   "source": [
    "### Request input parameters from user:"
   ]
  },
  {
   "cell_type": "code",
   "execution_count": 3,
   "metadata": {
    "tags": [
     "parameters"
    ]
   },
   "outputs": [],
   "source": [
    "fixed_model_years = ['2015','2016']"
   ]
  },
  {
   "cell_type": "markdown",
   "metadata": {},
   "source": [
    "### Obtain CLA \"approved\" claim records with or without TPLs:"
   ]
  },
  {
   "cell_type": "code",
   "execution_count": 4,
   "metadata": {},
   "outputs": [
    {
     "name": "stdout",
     "output_type": "stream",
     "text": [
      "Obtaining CLA claim records with and without TPLs.  May take a few minutes...\n",
      "Finished obtaining CLA claim records with and without TPLs\n",
      "Wall time: 7min 54s\n"
     ]
    }
   ],
   "source": [
    "%%time\n",
    "cnxn_string = 'DSN=MMP-SQLP-CQP;UID=' + username + ';PWD=' + password\n",
    "\n",
    "cnxn = pyodbc.connect(cnxn_string)\n",
    "cursor = cnxn.cursor()\n",
    "\n",
    "sql = open(r'\\\\mmpapp02\\mq_db\\wrp\\ZF_ATM_WRP_Project\\version4\\sql\\Main_Query_All_TPLs.txt').read()\n",
    "\n",
    "try:\n",
    "    print(\"Obtaining CLA claim records with and without TPLs.  Will take more than 5 minutes...\")\n",
    "    claims = pd.read_sql(sql, cnxn, parse_dates=['SUBMITTED_DATE', 'REOPENED_SUBMITTED_DATE', 'REPAIR_ORDER_DATE',\n",
    "                                              'AF_OFF_DATE', 'ENGINE_BUILD_DATE'], index_col=None)\n",
    "\n",
    "    # Close connections\n",
    "    cursor.close()\n",
    "    cnxn.close()\n",
    "except:\n",
    "    print(\"Error connecting to CQ server\")\n",
    "    cursor.close()\n",
    "    cnxn.close()\n",
    "print(\"Finished obtaining CLA claim records with and without TPLs\")"
   ]
  },
  {
   "cell_type": "code",
   "execution_count": 5,
   "metadata": {},
   "outputs": [
    {
     "data": {
      "text/plain": [
       "(33931, 71)"
      ]
     },
     "execution_count": 5,
     "metadata": {},
     "output_type": "execute_result"
    }
   ],
   "source": [
    "claims.shape"
   ]
  },
  {
   "cell_type": "code",
   "execution_count": 6,
   "metadata": {},
   "outputs": [
    {
     "data": {
      "text/plain": [
       "2016    24408\n",
       "2015     7273\n",
       "2017     1224\n",
       "2018      816\n",
       "2019      210\n",
       "Name: MODEL_YEAR, dtype: int64"
      ]
     },
     "execution_count": 6,
     "metadata": {},
     "output_type": "execute_result"
    }
   ],
   "source": [
    "claims.MODEL_YEAR.value_counts()"
   ]
  },
  {
   "cell_type": "code",
   "execution_count": 7,
   "metadata": {},
   "outputs": [
    {
     "data": {
      "text/html": [
       "<div>\n",
       "<style scoped>\n",
       "    .dataframe tbody tr th:only-of-type {\n",
       "        vertical-align: middle;\n",
       "    }\n",
       "\n",
       "    .dataframe tbody tr th {\n",
       "        vertical-align: top;\n",
       "    }\n",
       "\n",
       "    .dataframe thead th {\n",
       "        text-align: right;\n",
       "    }\n",
       "</style>\n",
       "<table border=\"1\" class=\"dataframe\">\n",
       "  <thead>\n",
       "    <tr style=\"text-align: right;\">\n",
       "      <th></th>\n",
       "      <th>VIN_DLR_CLM_SK</th>\n",
       "      <th>WAR_CLAIM_DATE</th>\n",
       "      <th>VIN</th>\n",
       "      <th>TPL_VIN</th>\n",
       "      <th>PICKUP_DATE</th>\n",
       "      <th>SUBMITTED_DATE</th>\n",
       "      <th>REOPENED_DATE</th>\n",
       "      <th>REOPENED_SUBMITTED_DATE</th>\n",
       "      <th>FINAL_CLOSURE_DATE</th>\n",
       "      <th>STATUS_NAME</th>\n",
       "      <th>STATUS_OPEN_CLOSED</th>\n",
       "      <th>TPL_SHORT_PART_NO</th>\n",
       "      <th>PART_CATEGORY</th>\n",
       "      <th>DAYS_TO_CLOSURE</th>\n",
       "      <th>DAYS_OPEN</th>\n",
       "      <th>WARR_PART_NO</th>\n",
       "      <th>CUSTOMER_CONTENTION_TXT</th>\n",
       "      <th>VISUAL_INSPECTION_DETAIL_TXT</th>\n",
       "      <th>FUNCTIONAL_INSPECTION_DETAIL_TXT</th>\n",
       "      <th>CATEGORY_DESC_TXT</th>\n",
       "      <th>SUPPLIER_ANALYSIS_SUMMARY_TXT</th>\n",
       "      <th>DEALER_NO</th>\n",
       "      <th>WAR_CLAIM_NO</th>\n",
       "      <th>CUS_CONT_DESC_TEXT</th>\n",
       "      <th>REPAIR_ORDER_DATE</th>\n",
       "      <th>RECEIVED_DATE</th>\n",
       "      <th>AF_OFF_DATE</th>\n",
       "      <th>ENGINE_BUILD_DATE</th>\n",
       "      <th>PRI_LABOR_OP_CODE</th>\n",
       "      <th>WAR_ORIG_DISTR_CDE</th>\n",
       "      <th>WAR_RESP_DISTR_CDE</th>\n",
       "      <th>VEHICLE_DESTN_CODE</th>\n",
       "      <th>FLAT_RATE_HRS_QTY</th>\n",
       "      <th>FRGT_SUBL_TAX_AMT_USD</th>\n",
       "      <th>DIAGNOSTIC_LABOR_HRS_QTY</th>\n",
       "      <th>TPL_CREATION_DATE</th>\n",
       "      <th>RESPONSIBILITY_PCT</th>\n",
       "      <th>CONCLUSION_DESC_TXT</th>\n",
       "      <th>VEH_MILEAGE</th>\n",
       "      <th>CURRENCY_TYPE_CODE</th>\n",
       "      <th>ACTUAL_PARTS_CHG_AMT_USD</th>\n",
       "      <th>ACTUAL_LABOR_CHG_AMT_USD</th>\n",
       "      <th>ACTUAL_HDLG_CHG_AMT_USD</th>\n",
       "      <th>ACTUAL_TOTAL_CHG_AMT_USD</th>\n",
       "      <th>CAMPAIGN_CODE</th>\n",
       "      <th>WAR_DEFECT_CODE</th>\n",
       "      <th>RECORD_DESC</th>\n",
       "      <th>RECORD_COUNT</th>\n",
       "      <th>REPLACED_PART5</th>\n",
       "      <th>REPLACED_PART_NO</th>\n",
       "      <th>PART_DESC</th>\n",
       "      <th>ACT_PARTS_QTY_NO</th>\n",
       "      <th>MTC_MODEL</th>\n",
       "      <th>MTC_TYPE</th>\n",
       "      <th>MTC_OPTION</th>\n",
       "      <th>TRANS_SERIAL_NO</th>\n",
       "      <th>NAMEPLATE</th>\n",
       "      <th>MODEL_YEAR</th>\n",
       "      <th>FACTORY</th>\n",
       "      <th>MOD_NAME</th>\n",
       "      <th>TRANSMISSION_GEARS</th>\n",
       "      <th>REPLACED_PART_EQUOTE_FMT</th>\n",
       "      <th>CLAIM_LABOR_HRS_QTY</th>\n",
       "      <th>WAR_EXCH_RATE_AMT</th>\n",
       "      <th>DLR_NET_PRCE_AMT_USD</th>\n",
       "      <th>PART_FOB_COST_USD</th>\n",
       "      <th>DLR_NET_PRCE_AMTx90_USD</th>\n",
       "      <th>PART_FOB_COSTx2_USD</th>\n",
       "      <th>MIN_PART_COST_USD</th>\n",
       "      <th>TRANSFER_PART_LIST_ITEM_DETAIL_SK</th>\n",
       "      <th>REPL_ROW_NUM</th>\n",
       "    </tr>\n",
       "  </thead>\n",
       "  <tbody>\n",
       "    <tr>\n",
       "      <th>0</th>\n",
       "      <td>5FNYF6H91GB503328001113688051</td>\n",
       "      <td>201607</td>\n",
       "      <td>5FNYF6H91GB503328</td>\n",
       "      <td>5FNYF6H91GB503328</td>\n",
       "      <td>2016-08-02</td>\n",
       "      <td>2016-08-31</td>\n",
       "      <td>NaT</td>\n",
       "      <td>NaT</td>\n",
       "      <td>2016-08-31</td>\n",
       "      <td>CLOSED</td>\n",
       "      <td>CLOSED</td>\n",
       "      <td>06200</td>\n",
       "      <td>TRANSMISSION</td>\n",
       "      <td>29.00</td>\n",
       "      <td>29.00</td>\n",
       "      <td>062015EZC05</td>\n",
       "      <td>ENGINE TEMPERATURE WENT HIGH WARNING LIGHT CAM...</td>\n",
       "      <td>Transmission was received with all bolts loose...</td>\n",
       "      <td>Removed oil cooler to perform pressure test on...</td>\n",
       "      <td>Oil Cooler - Diaphragm Damaged</td>\n",
       "      <td>ENGINE TEMPERATURE WENT HIGH WARNING LIGHT CAM...</td>\n",
       "      <td>001113</td>\n",
       "      <td>688051</td>\n",
       "      <td>ENGINE TEMPERATURE WENT HIGH WARNING LIGHT CAM...</td>\n",
       "      <td>2016-03-07</td>\n",
       "      <td>2016-07-14</td>\n",
       "      <td>2015-08-10</td>\n",
       "      <td>2015-08-07</td>\n",
       "      <td>218102</td>\n",
       "      <td>130</td>\n",
       "      <td>15A</td>\n",
       "      <td>KC</td>\n",
       "      <td>6.80</td>\n",
       "      <td>152.36</td>\n",
       "      <td>4.00</td>\n",
       "      <td>2016-07-29 14:55:23.433</td>\n",
       "      <td>100</td>\n",
       "      <td>Supplier Mfg. Defect</td>\n",
       "      <td>9,255.00</td>\n",
       "      <td>C</td>\n",
       "      <td>3,143.99</td>\n",
       "      <td>1,131.20</td>\n",
       "      <td>390.66</td>\n",
       "      <td>4,665.85</td>\n",
       "      <td>N</td>\n",
       "      <td>09999</td>\n",
       "      <td>Normal</td>\n",
       "      <td>1</td>\n",
       "      <td>06200</td>\n",
       "      <td>062005EZC09RM</td>\n",
       "      <td>WARRANTY A/T KIT</td>\n",
       "      <td>1.00</td>\n",
       "      <td>GTG7</td>\n",
       "      <td>CK8</td>\n",
       "      <td></td>\n",
       "      <td>Q5NC0072415</td>\n",
       "      <td>HONDA</td>\n",
       "      <td>2016</td>\n",
       "      <td>HMA</td>\n",
       "      <td>PILOT</td>\n",
       "      <td>9</td>\n",
       "      <td>200215NC</td>\n",
       "      <td>10.80</td>\n",
       "      <td>0.78</td>\n",
       "      <td>2,499.65</td>\n",
       "      <td>2,049.71</td>\n",
       "      <td>2,249.69</td>\n",
       "      <td>4,099.42</td>\n",
       "      <td>2,249.69</td>\n",
       "      <td>699,502.00</td>\n",
       "      <td>1</td>\n",
       "    </tr>\n",
       "    <tr>\n",
       "      <th>1</th>\n",
       "      <td>5FNYF6H99GB505246001119781711</td>\n",
       "      <td>201602</td>\n",
       "      <td>5FNYF6H99GB505246</td>\n",
       "      <td>5FNYF6H99GB505246</td>\n",
       "      <td>2016-03-16</td>\n",
       "      <td>2016-07-25</td>\n",
       "      <td>2016-08-12</td>\n",
       "      <td>2016-09-08</td>\n",
       "      <td>2016-09-08</td>\n",
       "      <td>CLOSED</td>\n",
       "      <td>CLOSED</td>\n",
       "      <td>06200</td>\n",
       "      <td>TRANSMISSION</td>\n",
       "      <td>176.00</td>\n",
       "      <td>176.00</td>\n",
       "      <td>062005EZC07</td>\n",
       "      <td>CHECK FOR OIL LEAKING</td>\n",
       "      <td>Trans passed Dunk Test  Cross over tube ok Out...</td>\n",
       "      <td>Functional Test ok ~ Functional Test ok</td>\n",
       "      <td>O-ring - Cut</td>\n",
       "      <td>CHECK FOR OIL LEAKING \\r\\nUpon further investi...</td>\n",
       "      <td>001119</td>\n",
       "      <td>781711</td>\n",
       "      <td>CHECK FOR OIL LEAKING</td>\n",
       "      <td>2015-11-28</td>\n",
       "      <td>2016-02-12</td>\n",
       "      <td>2015-10-26</td>\n",
       "      <td>2015-10-23</td>\n",
       "      <td>218102</td>\n",
       "      <td>130</td>\n",
       "      <td>15A</td>\n",
       "      <td>KC</td>\n",
       "      <td>6.80</td>\n",
       "      <td>148.92</td>\n",
       "      <td>2.60</td>\n",
       "      <td>2016-03-14 16:11:15.180</td>\n",
       "      <td>100</td>\n",
       "      <td>Supplier Mfg. Defect</td>\n",
       "      <td>40.00</td>\n",
       "      <td>C</td>\n",
       "      <td>3,687.70</td>\n",
       "      <td>960.12</td>\n",
       "      <td>381.85</td>\n",
       "      <td>5,029.67</td>\n",
       "      <td>N</td>\n",
       "      <td>07408</td>\n",
       "      <td>Normal</td>\n",
       "      <td>1</td>\n",
       "      <td>06200</td>\n",
       "      <td>062005EZC07RM</td>\n",
       "      <td>WARRANTY A/T KIT</td>\n",
       "      <td>1.00</td>\n",
       "      <td>GTG7</td>\n",
       "      <td>CK8</td>\n",
       "      <td></td>\n",
       "      <td>Q5NC0093970</td>\n",
       "      <td>HONDA</td>\n",
       "      <td>2016</td>\n",
       "      <td>HMA</td>\n",
       "      <td>PILOT</td>\n",
       "      <td>9</td>\n",
       "      <td>200215NC</td>\n",
       "      <td>9.40</td>\n",
       "      <td>0.76</td>\n",
       "      <td>2,499.65</td>\n",
       "      <td>2,598.35</td>\n",
       "      <td>2,249.69</td>\n",
       "      <td>5,196.70</td>\n",
       "      <td>2,249.69</td>\n",
       "      <td>690,344.00</td>\n",
       "      <td>1</td>\n",
       "    </tr>\n",
       "    <tr>\n",
       "      <th>2</th>\n",
       "      <td>5FNYF6H94GB501380001129482331</td>\n",
       "      <td>201610</td>\n",
       "      <td>5FNYF6H94GB501380</td>\n",
       "      <td>5FNYF6H94GB501380</td>\n",
       "      <td>2016-10-17</td>\n",
       "      <td>2016-12-26</td>\n",
       "      <td>2019-04-03</td>\n",
       "      <td>NaT</td>\n",
       "      <td>NaT</td>\n",
       "      <td>REOPENED_FOR_ANALYSIS</td>\n",
       "      <td>OPEN</td>\n",
       "      <td>06280</td>\n",
       "      <td>KIT</td>\n",
       "      <td>nan</td>\n",
       "      <td>918.00</td>\n",
       "      <td>062805EZC05</td>\n",
       "      <td>DIAGNOSE DOORS NOT LOCKING, TAILGATE CLOSER NO...</td>\n",
       "      <td>~</td>\n",
       "      <td>~</td>\n",
       "      <td>None</td>\n",
       "      <td>None</td>\n",
       "      <td>001129</td>\n",
       "      <td>482331</td>\n",
       "      <td>DIAGNOSE DOORS NOT LOCKING, TAILGATE CLOSER NO...</td>\n",
       "      <td>2016-09-09</td>\n",
       "      <td>2016-09-29</td>\n",
       "      <td>2015-06-24</td>\n",
       "      <td>2015-06-22</td>\n",
       "      <td>2231A0</td>\n",
       "      <td>130</td>\n",
       "      <td>15A</td>\n",
       "      <td>KC</td>\n",
       "      <td>0.60</td>\n",
       "      <td>0.00</td>\n",
       "      <td>0.20</td>\n",
       "      <td>2016-10-13 13:22:22.387</td>\n",
       "      <td>None</td>\n",
       "      <td>None</td>\n",
       "      <td>16,426.00</td>\n",
       "      <td>C</td>\n",
       "      <td>1,004.32</td>\n",
       "      <td>56.32</td>\n",
       "      <td>468.69</td>\n",
       "      <td>1,529.33</td>\n",
       "      <td>N</td>\n",
       "      <td>03214</td>\n",
       "      <td>Normal</td>\n",
       "      <td>1</td>\n",
       "      <td>06280</td>\n",
       "      <td>062805EZC08</td>\n",
       "      <td>CONTROL UNIT, TRANS</td>\n",
       "      <td>1.00</td>\n",
       "      <td>GTG7</td>\n",
       "      <td>CK8</td>\n",
       "      <td></td>\n",
       "      <td>Q5NC0058838</td>\n",
       "      <td>HONDA</td>\n",
       "      <td>2016</td>\n",
       "      <td>HMA</td>\n",
       "      <td>PILOT</td>\n",
       "      <td>9</td>\n",
       "      <td>200215NC</td>\n",
       "      <td>0.80</td>\n",
       "      <td>0.75</td>\n",
       "      <td>492.14</td>\n",
       "      <td>110.76</td>\n",
       "      <td>442.93</td>\n",
       "      <td>221.52</td>\n",
       "      <td>221.52</td>\n",
       "      <td>705,850.00</td>\n",
       "      <td>1</td>\n",
       "    </tr>\n",
       "    <tr>\n",
       "      <th>3</th>\n",
       "      <td>5FNYF6H90GB502851001136575701</td>\n",
       "      <td>201609</td>\n",
       "      <td>5FNYF6H90GB502851</td>\n",
       "      <td>5FNYF6H90GB502851</td>\n",
       "      <td>2016-10-12</td>\n",
       "      <td>2016-12-26</td>\n",
       "      <td>2019-04-03</td>\n",
       "      <td>NaT</td>\n",
       "      <td>NaT</td>\n",
       "      <td>REOPENED_FOR_ANALYSIS</td>\n",
       "      <td>OPEN</td>\n",
       "      <td>06200</td>\n",
       "      <td>TRANSMISSION</td>\n",
       "      <td>nan</td>\n",
       "      <td>923.00</td>\n",
       "      <td>062015EZC05</td>\n",
       "      <td>CHECK GRINDING NOIES 80-85 AND RPMS FLUCTUATIN...</td>\n",
       "      <td>~</td>\n",
       "      <td>~</td>\n",
       "      <td>None</td>\n",
       "      <td>None</td>\n",
       "      <td>001136</td>\n",
       "      <td>575701</td>\n",
       "      <td>CHECK GRINDING NOIES 80-85 AND RPMS FLUCTUATIN...</td>\n",
       "      <td>2016-07-08</td>\n",
       "      <td>2016-09-09</td>\n",
       "      <td>2015-07-23</td>\n",
       "      <td>2015-07-22</td>\n",
       "      <td>218102</td>\n",
       "      <td>130</td>\n",
       "      <td>15A</td>\n",
       "      <td>KC</td>\n",
       "      <td>6.80</td>\n",
       "      <td>704.14</td>\n",
       "      <td>8.70</td>\n",
       "      <td>2016-10-10 13:51:01.313</td>\n",
       "      <td>None</td>\n",
       "      <td>None</td>\n",
       "      <td>13,932.00</td>\n",
       "      <td>C</td>\n",
       "      <td>3,414.37</td>\n",
       "      <td>2,033.91</td>\n",
       "      <td>470.80</td>\n",
       "      <td>5,919.08</td>\n",
       "      <td>N</td>\n",
       "      <td>03214</td>\n",
       "      <td>Normal</td>\n",
       "      <td>1</td>\n",
       "      <td>06200</td>\n",
       "      <td>062005EZC09RM</td>\n",
       "      <td>WARRANTY A/T KIT</td>\n",
       "      <td>1.00</td>\n",
       "      <td>GTG7</td>\n",
       "      <td>CK8</td>\n",
       "      <td></td>\n",
       "      <td>Q5NC0066646</td>\n",
       "      <td>HONDA</td>\n",
       "      <td>2016</td>\n",
       "      <td>HMA</td>\n",
       "      <td>PILOT</td>\n",
       "      <td>9</td>\n",
       "      <td>200215NC</td>\n",
       "      <td>15.50</td>\n",
       "      <td>0.76</td>\n",
       "      <td>2,499.65</td>\n",
       "      <td>2,049.71</td>\n",
       "      <td>2,249.69</td>\n",
       "      <td>4,099.42</td>\n",
       "      <td>2,249.69</td>\n",
       "      <td>705,263.00</td>\n",
       "      <td>1</td>\n",
       "    </tr>\n",
       "    <tr>\n",
       "      <th>4</th>\n",
       "      <td>5FNYF6H91GB503328001113688052</td>\n",
       "      <td>201605</td>\n",
       "      <td>5FNYF6H91GB503328</td>\n",
       "      <td>5FNYF6H91GB503328</td>\n",
       "      <td>2016-04-22</td>\n",
       "      <td>2016-06-07</td>\n",
       "      <td>2016-06-09</td>\n",
       "      <td>2016-07-13</td>\n",
       "      <td>2016-07-13</td>\n",
       "      <td>CLOSED</td>\n",
       "      <td>CLOSED</td>\n",
       "      <td>06280</td>\n",
       "      <td>KIT</td>\n",
       "      <td>82.00</td>\n",
       "      <td>82.00</td>\n",
       "      <td>062015EZC05</td>\n",
       "      <td>REPLACED TRANSMISSION CONFIRMED WITH TECHLINE ...</td>\n",
       "      <td>~ Dana oil cooler is leaking engine coolant i...</td>\n",
       "      <td>~ Transmission has a harsh shift</td>\n",
       "      <td>Oil Cooler Diamphram damaged</td>\n",
       "      <td>Defective oil cooler caused transmission failure</td>\n",
       "      <td>001113</td>\n",
       "      <td>688052</td>\n",
       "      <td>REPLACED TRANSMISSION CONFIRMED WITH TECHLINE ...</td>\n",
       "      <td>2016-02-24</td>\n",
       "      <td>2016-04-12</td>\n",
       "      <td>2015-08-10</td>\n",
       "      <td>2015-08-07</td>\n",
       "      <td>2231A0</td>\n",
       "      <td>130</td>\n",
       "      <td>15A</td>\n",
       "      <td>KC</td>\n",
       "      <td>0.60</td>\n",
       "      <td>81.77</td>\n",
       "      <td>3.40</td>\n",
       "      <td>2016-04-20 10:33:00.220</td>\n",
       "      <td>100</td>\n",
       "      <td>Supplier Mfg. Defect</td>\n",
       "      <td>9,255.00</td>\n",
       "      <td>C</td>\n",
       "      <td>1,186.22</td>\n",
       "      <td>450.75</td>\n",
       "      <td>542.20</td>\n",
       "      <td>2,179.17</td>\n",
       "      <td>N</td>\n",
       "      <td>09999</td>\n",
       "      <td>Normal</td>\n",
       "      <td>1</td>\n",
       "      <td>06280</td>\n",
       "      <td>062805EZC08</td>\n",
       "      <td>CONTROL UNIT, TRANS</td>\n",
       "      <td>1.00</td>\n",
       "      <td>GTG7</td>\n",
       "      <td>CK8</td>\n",
       "      <td></td>\n",
       "      <td>Q5NC0072415</td>\n",
       "      <td>HONDA</td>\n",
       "      <td>2016</td>\n",
       "      <td>HMA</td>\n",
       "      <td>PILOT</td>\n",
       "      <td>9</td>\n",
       "      <td>200215NC</td>\n",
       "      <td>4.00</td>\n",
       "      <td>0.80</td>\n",
       "      <td>492.14</td>\n",
       "      <td>110.76</td>\n",
       "      <td>442.93</td>\n",
       "      <td>221.52</td>\n",
       "      <td>221.52</td>\n",
       "      <td>692,594.00</td>\n",
       "      <td>1</td>\n",
       "    </tr>\n",
       "  </tbody>\n",
       "</table>\n",
       "</div>"
      ],
      "text/plain": [
       "                  VIN_DLR_CLM_SK  WAR_CLAIM_DATE                VIN  \\\n",
       "0  5FNYF6H91GB503328001113688051          201607  5FNYF6H91GB503328   \n",
       "1  5FNYF6H99GB505246001119781711          201602  5FNYF6H99GB505246   \n",
       "2  5FNYF6H94GB501380001129482331          201610  5FNYF6H94GB501380   \n",
       "3  5FNYF6H90GB502851001136575701          201609  5FNYF6H90GB502851   \n",
       "4  5FNYF6H91GB503328001113688052          201605  5FNYF6H91GB503328   \n",
       "\n",
       "             TPL_VIN PICKUP_DATE SUBMITTED_DATE REOPENED_DATE  \\\n",
       "0  5FNYF6H91GB503328  2016-08-02     2016-08-31           NaT   \n",
       "1  5FNYF6H99GB505246  2016-03-16     2016-07-25    2016-08-12   \n",
       "2  5FNYF6H94GB501380  2016-10-17     2016-12-26    2019-04-03   \n",
       "3  5FNYF6H90GB502851  2016-10-12     2016-12-26    2019-04-03   \n",
       "4  5FNYF6H91GB503328  2016-04-22     2016-06-07    2016-06-09   \n",
       "\n",
       "  REOPENED_SUBMITTED_DATE FINAL_CLOSURE_DATE            STATUS_NAME  \\\n",
       "0                     NaT         2016-08-31                 CLOSED   \n",
       "1              2016-09-08         2016-09-08                 CLOSED   \n",
       "2                     NaT                NaT  REOPENED_FOR_ANALYSIS   \n",
       "3                     NaT                NaT  REOPENED_FOR_ANALYSIS   \n",
       "4              2016-07-13         2016-07-13                 CLOSED   \n",
       "\n",
       "  STATUS_OPEN_CLOSED TPL_SHORT_PART_NO PART_CATEGORY      DAYS_TO_CLOSURE  \\\n",
       "0             CLOSED             06200  TRANSMISSION                29.00   \n",
       "1             CLOSED             06200  TRANSMISSION               176.00   \n",
       "2               OPEN             06280           KIT                  nan   \n",
       "3               OPEN             06200  TRANSMISSION                  nan   \n",
       "4             CLOSED             06280           KIT                82.00   \n",
       "\n",
       "             DAYS_OPEN        WARR_PART_NO  \\\n",
       "0                29.00  062015EZC05          \n",
       "1               176.00  062005EZC07          \n",
       "2               918.00  062805EZC05          \n",
       "3               923.00  062015EZC05          \n",
       "4                82.00  062015EZC05          \n",
       "\n",
       "                             CUSTOMER_CONTENTION_TXT  \\\n",
       "0  ENGINE TEMPERATURE WENT HIGH WARNING LIGHT CAM...   \n",
       "1                              CHECK FOR OIL LEAKING   \n",
       "2  DIAGNOSE DOORS NOT LOCKING, TAILGATE CLOSER NO...   \n",
       "3  CHECK GRINDING NOIES 80-85 AND RPMS FLUCTUATIN...   \n",
       "4  REPLACED TRANSMISSION CONFIRMED WITH TECHLINE ...   \n",
       "\n",
       "                        VISUAL_INSPECTION_DETAIL_TXT  \\\n",
       "0  Transmission was received with all bolts loose...   \n",
       "1  Trans passed Dunk Test  Cross over tube ok Out...   \n",
       "2                                                 ~    \n",
       "3                                                 ~    \n",
       "4   ~ Dana oil cooler is leaking engine coolant i...   \n",
       "\n",
       "                    FUNCTIONAL_INSPECTION_DETAIL_TXT  \\\n",
       "0  Removed oil cooler to perform pressure test on...   \n",
       "1            Functional Test ok ~ Functional Test ok   \n",
       "2                                                 ~    \n",
       "3                                                 ~    \n",
       "4                   ~ Transmission has a harsh shift   \n",
       "\n",
       "                CATEGORY_DESC_TXT  \\\n",
       "0  Oil Cooler - Diaphragm Damaged   \n",
       "1                    O-ring - Cut   \n",
       "2                            None   \n",
       "3                            None   \n",
       "4    Oil Cooler Diamphram damaged   \n",
       "\n",
       "                       SUPPLIER_ANALYSIS_SUMMARY_TXT DEALER_NO WAR_CLAIM_NO  \\\n",
       "0  ENGINE TEMPERATURE WENT HIGH WARNING LIGHT CAM...    001113       688051   \n",
       "1  CHECK FOR OIL LEAKING \\r\\nUpon further investi...    001119       781711   \n",
       "2                                               None    001129       482331   \n",
       "3                                               None    001136       575701   \n",
       "4   Defective oil cooler caused transmission failure    001113       688052   \n",
       "\n",
       "                                  CUS_CONT_DESC_TEXT REPAIR_ORDER_DATE  \\\n",
       "0  ENGINE TEMPERATURE WENT HIGH WARNING LIGHT CAM...        2016-03-07   \n",
       "1                              CHECK FOR OIL LEAKING        2015-11-28   \n",
       "2  DIAGNOSE DOORS NOT LOCKING, TAILGATE CLOSER NO...        2016-09-09   \n",
       "3  CHECK GRINDING NOIES 80-85 AND RPMS FLUCTUATIN...        2016-07-08   \n",
       "4  REPLACED TRANSMISSION CONFIRMED WITH TECHLINE ...        2016-02-24   \n",
       "\n",
       "  RECEIVED_DATE AF_OFF_DATE ENGINE_BUILD_DATE PRI_LABOR_OP_CODE  \\\n",
       "0    2016-07-14  2015-08-10        2015-08-07           218102    \n",
       "1    2016-02-12  2015-10-26        2015-10-23           218102    \n",
       "2    2016-09-29  2015-06-24        2015-06-22           2231A0    \n",
       "3    2016-09-09  2015-07-23        2015-07-22           218102    \n",
       "4    2016-04-12  2015-08-10        2015-08-07           2231A0    \n",
       "\n",
       "  WAR_ORIG_DISTR_CDE WAR_RESP_DISTR_CDE VEHICLE_DESTN_CODE  \\\n",
       "0                130                15A                KC    \n",
       "1                130                15A                KC    \n",
       "2                130                15A                KC    \n",
       "3                130                15A                KC    \n",
       "4                130                15A                KC    \n",
       "\n",
       "     FLAT_RATE_HRS_QTY  FRGT_SUBL_TAX_AMT_USD  DIAGNOSTIC_LABOR_HRS_QTY  \\\n",
       "0                 6.80                 152.36                      4.00   \n",
       "1                 6.80                 148.92                      2.60   \n",
       "2                 0.60                   0.00                      0.20   \n",
       "3                 6.80                 704.14                      8.70   \n",
       "4                 0.60                  81.77                      3.40   \n",
       "\n",
       "        TPL_CREATION_DATE RESPONSIBILITY_PCT   CONCLUSION_DESC_TXT  \\\n",
       "0 2016-07-29 14:55:23.433                100  Supplier Mfg. Defect   \n",
       "1 2016-03-14 16:11:15.180                100  Supplier Mfg. Defect   \n",
       "2 2016-10-13 13:22:22.387               None                  None   \n",
       "3 2016-10-10 13:51:01.313               None                  None   \n",
       "4 2016-04-20 10:33:00.220                100  Supplier Mfg. Defect   \n",
       "\n",
       "           VEH_MILEAGE CURRENCY_TYPE_CODE  ACTUAL_PARTS_CHG_AMT_USD  \\\n",
       "0             9,255.00                  C                  3,143.99   \n",
       "1                40.00                  C                  3,687.70   \n",
       "2            16,426.00                  C                  1,004.32   \n",
       "3            13,932.00                  C                  3,414.37   \n",
       "4             9,255.00                  C                  1,186.22   \n",
       "\n",
       "   ACTUAL_LABOR_CHG_AMT_USD  ACTUAL_HDLG_CHG_AMT_USD  \\\n",
       "0                  1,131.20                   390.66   \n",
       "1                    960.12                   381.85   \n",
       "2                     56.32                   468.69   \n",
       "3                  2,033.91                   470.80   \n",
       "4                    450.75                   542.20   \n",
       "\n",
       "   ACTUAL_TOTAL_CHG_AMT_USD CAMPAIGN_CODE WAR_DEFECT_CODE RECORD_DESC  \\\n",
       "0                  4,665.85             N           09999      Normal   \n",
       "1                  5,029.67             N           07408      Normal   \n",
       "2                  1,529.33             N           03214      Normal   \n",
       "3                  5,919.08             N           03214      Normal   \n",
       "4                  2,179.17             N           09999      Normal   \n",
       "\n",
       "   RECORD_COUNT REPLACED_PART5    REPLACED_PART_NO            PART_DESC  \\\n",
       "0             1          06200  062005EZC09RM          WARRANTY A/T KIT   \n",
       "1             1          06200  062005EZC07RM          WARRANTY A/T KIT   \n",
       "2             1          06280  062805EZC08         CONTROL UNIT, TRANS   \n",
       "3             1          06200  062005EZC09RM          WARRANTY A/T KIT   \n",
       "4             1          06280  062805EZC08         CONTROL UNIT, TRANS   \n",
       "\n",
       "      ACT_PARTS_QTY_NO MTC_MODEL MTC_TYPE MTC_OPTION       TRANS_SERIAL_NO  \\\n",
       "0                 1.00      GTG7      CK8             Q5NC0072415            \n",
       "1                 1.00      GTG7      CK8             Q5NC0093970            \n",
       "2                 1.00      GTG7      CK8             Q5NC0058838            \n",
       "3                 1.00      GTG7      CK8             Q5NC0066646            \n",
       "4                 1.00      GTG7      CK8             Q5NC0072415            \n",
       "\n",
       "  NAMEPLATE MODEL_YEAR FACTORY MOD_NAME    TRANSMISSION_GEARS  \\\n",
       "0     HONDA       2016     HMA    PILOT  9                      \n",
       "1     HONDA       2016     HMA    PILOT  9                      \n",
       "2     HONDA       2016     HMA    PILOT  9                      \n",
       "3     HONDA       2016     HMA    PILOT  9                      \n",
       "4     HONDA       2016     HMA    PILOT  9                      \n",
       "\n",
       "  REPLACED_PART_EQUOTE_FMT  CLAIM_LABOR_HRS_QTY    WAR_EXCH_RATE_AMT  \\\n",
       "0                 200215NC                10.80                 0.78   \n",
       "1                 200215NC                 9.40                 0.76   \n",
       "2                 200215NC                 0.80                 0.75   \n",
       "3                 200215NC                15.50                 0.76   \n",
       "4                 200215NC                 4.00                 0.80   \n",
       "\n",
       "   DLR_NET_PRCE_AMT_USD    PART_FOB_COST_USD  DLR_NET_PRCE_AMTx90_USD  \\\n",
       "0              2,499.65             2,049.71                 2,249.69   \n",
       "1              2,499.65             2,598.35                 2,249.69   \n",
       "2                492.14               110.76                   442.93   \n",
       "3              2,499.65             2,049.71                 2,249.69   \n",
       "4                492.14               110.76                   442.93   \n",
       "\n",
       "   PART_FOB_COSTx2_USD    MIN_PART_COST_USD  \\\n",
       "0             4,099.42             2,249.69   \n",
       "1             5,196.70             2,249.69   \n",
       "2               221.52               221.52   \n",
       "3             4,099.42             2,249.69   \n",
       "4               221.52               221.52   \n",
       "\n",
       "   TRANSFER_PART_LIST_ITEM_DETAIL_SK  REPL_ROW_NUM  \n",
       "0                         699,502.00             1  \n",
       "1                         690,344.00             1  \n",
       "2                         705,850.00             1  \n",
       "3                         705,263.00             1  \n",
       "4                         692,594.00             1  "
      ]
     },
     "execution_count": 7,
     "metadata": {},
     "output_type": "execute_result"
    }
   ],
   "source": [
    "claims.head()"
   ]
  },
  {
   "cell_type": "markdown",
   "metadata": {},
   "source": [
    "#### Discovered we can have VINs with missing transmission serial number (plain white space) which messes up the replaced part # formatted for equote: '20021' + SUBSTRING(WRSAL1.TRANS_SERIAL_NO,2,3) AS REPLACED_PART_EQUOTE_FMT"
   ]
  },
  {
   "cell_type": "code",
   "execution_count": 8,
   "metadata": {},
   "outputs": [
    {
     "data": {
      "text/html": [
       "<div>\n",
       "<style scoped>\n",
       "    .dataframe tbody tr th:only-of-type {\n",
       "        vertical-align: middle;\n",
       "    }\n",
       "\n",
       "    .dataframe tbody tr th {\n",
       "        vertical-align: top;\n",
       "    }\n",
       "\n",
       "    .dataframe thead th {\n",
       "        text-align: right;\n",
       "    }\n",
       "</style>\n",
       "<table border=\"1\" class=\"dataframe\">\n",
       "  <thead>\n",
       "    <tr style=\"text-align: right;\">\n",
       "      <th></th>\n",
       "      <th>VIN_DLR_CLM_SK</th>\n",
       "      <th>WAR_CLAIM_DATE</th>\n",
       "      <th>VIN</th>\n",
       "      <th>TPL_VIN</th>\n",
       "      <th>PICKUP_DATE</th>\n",
       "      <th>SUBMITTED_DATE</th>\n",
       "      <th>REOPENED_DATE</th>\n",
       "      <th>REOPENED_SUBMITTED_DATE</th>\n",
       "      <th>FINAL_CLOSURE_DATE</th>\n",
       "      <th>STATUS_NAME</th>\n",
       "      <th>STATUS_OPEN_CLOSED</th>\n",
       "      <th>TPL_SHORT_PART_NO</th>\n",
       "      <th>PART_CATEGORY</th>\n",
       "      <th>DAYS_TO_CLOSURE</th>\n",
       "      <th>DAYS_OPEN</th>\n",
       "      <th>WARR_PART_NO</th>\n",
       "      <th>CUSTOMER_CONTENTION_TXT</th>\n",
       "      <th>VISUAL_INSPECTION_DETAIL_TXT</th>\n",
       "      <th>FUNCTIONAL_INSPECTION_DETAIL_TXT</th>\n",
       "      <th>CATEGORY_DESC_TXT</th>\n",
       "      <th>SUPPLIER_ANALYSIS_SUMMARY_TXT</th>\n",
       "      <th>DEALER_NO</th>\n",
       "      <th>WAR_CLAIM_NO</th>\n",
       "      <th>CUS_CONT_DESC_TEXT</th>\n",
       "      <th>REPAIR_ORDER_DATE</th>\n",
       "      <th>RECEIVED_DATE</th>\n",
       "      <th>AF_OFF_DATE</th>\n",
       "      <th>ENGINE_BUILD_DATE</th>\n",
       "      <th>PRI_LABOR_OP_CODE</th>\n",
       "      <th>WAR_ORIG_DISTR_CDE</th>\n",
       "      <th>WAR_RESP_DISTR_CDE</th>\n",
       "      <th>VEHICLE_DESTN_CODE</th>\n",
       "      <th>FLAT_RATE_HRS_QTY</th>\n",
       "      <th>FRGT_SUBL_TAX_AMT_USD</th>\n",
       "      <th>DIAGNOSTIC_LABOR_HRS_QTY</th>\n",
       "      <th>TPL_CREATION_DATE</th>\n",
       "      <th>RESPONSIBILITY_PCT</th>\n",
       "      <th>CONCLUSION_DESC_TXT</th>\n",
       "      <th>VEH_MILEAGE</th>\n",
       "      <th>CURRENCY_TYPE_CODE</th>\n",
       "      <th>ACTUAL_PARTS_CHG_AMT_USD</th>\n",
       "      <th>ACTUAL_LABOR_CHG_AMT_USD</th>\n",
       "      <th>ACTUAL_HDLG_CHG_AMT_USD</th>\n",
       "      <th>ACTUAL_TOTAL_CHG_AMT_USD</th>\n",
       "      <th>CAMPAIGN_CODE</th>\n",
       "      <th>WAR_DEFECT_CODE</th>\n",
       "      <th>RECORD_DESC</th>\n",
       "      <th>RECORD_COUNT</th>\n",
       "      <th>REPLACED_PART5</th>\n",
       "      <th>REPLACED_PART_NO</th>\n",
       "      <th>PART_DESC</th>\n",
       "      <th>ACT_PARTS_QTY_NO</th>\n",
       "      <th>MTC_MODEL</th>\n",
       "      <th>MTC_TYPE</th>\n",
       "      <th>MTC_OPTION</th>\n",
       "      <th>TRANS_SERIAL_NO</th>\n",
       "      <th>NAMEPLATE</th>\n",
       "      <th>MODEL_YEAR</th>\n",
       "      <th>FACTORY</th>\n",
       "      <th>MOD_NAME</th>\n",
       "      <th>TRANSMISSION_GEARS</th>\n",
       "      <th>REPLACED_PART_EQUOTE_FMT</th>\n",
       "      <th>CLAIM_LABOR_HRS_QTY</th>\n",
       "      <th>WAR_EXCH_RATE_AMT</th>\n",
       "      <th>DLR_NET_PRCE_AMT_USD</th>\n",
       "      <th>PART_FOB_COST_USD</th>\n",
       "      <th>DLR_NET_PRCE_AMTx90_USD</th>\n",
       "      <th>PART_FOB_COSTx2_USD</th>\n",
       "      <th>MIN_PART_COST_USD</th>\n",
       "      <th>TRANSFER_PART_LIST_ITEM_DETAIL_SK</th>\n",
       "      <th>REPL_ROW_NUM</th>\n",
       "    </tr>\n",
       "  </thead>\n",
       "  <tbody>\n",
       "    <tr>\n",
       "      <th>21200</th>\n",
       "      <td>5FRYD4H92GB022416251336392305</td>\n",
       "      <td>201801</td>\n",
       "      <td>5FRYD4H92GB022416</td>\n",
       "      <td>None</td>\n",
       "      <td>NaT</td>\n",
       "      <td>NaT</td>\n",
       "      <td>NaT</td>\n",
       "      <td>NaT</td>\n",
       "      <td>NaT</td>\n",
       "      <td>None</td>\n",
       "      <td>None</td>\n",
       "      <td>None</td>\n",
       "      <td>None</td>\n",
       "      <td>nan</td>\n",
       "      <td>nan</td>\n",
       "      <td>062005NBA58</td>\n",
       "      <td>None</td>\n",
       "      <td>~</td>\n",
       "      <td>~</td>\n",
       "      <td>None</td>\n",
       "      <td>None</td>\n",
       "      <td>251336</td>\n",
       "      <td>392305</td>\n",
       "      <td>Zf 9 a/t trans warmer pud</td>\n",
       "      <td>2017-12-20</td>\n",
       "      <td>2018-01-05</td>\n",
       "      <td>2015-05-06</td>\n",
       "      <td>2015-05-05</td>\n",
       "      <td>2180A7</td>\n",
       "      <td>101</td>\n",
       "      <td>15A</td>\n",
       "      <td>KA</td>\n",
       "      <td>2.10</td>\n",
       "      <td>0.00</td>\n",
       "      <td>0.00</td>\n",
       "      <td>NaT</td>\n",
       "      <td>None</td>\n",
       "      <td>None</td>\n",
       "      <td>29,627.00</td>\n",
       "      <td>$</td>\n",
       "      <td>30.56</td>\n",
       "      <td>230.75</td>\n",
       "      <td>27.08</td>\n",
       "      <td>288.39</td>\n",
       "      <td>C</td>\n",
       "      <td>6ZF00</td>\n",
       "      <td>Normal</td>\n",
       "      <td>1</td>\n",
       "      <td>06224</td>\n",
       "      <td>062245J4305                                   ...</td>\n",
       "      <td>KIT, OIL COOLER</td>\n",
       "      <td>1.00</td>\n",
       "      <td>GTZ6</td>\n",
       "      <td>AE5</td>\n",
       "      <td></td>\n",
       "      <td></td>\n",
       "      <td>ACURA</td>\n",
       "      <td>2016</td>\n",
       "      <td>HMA</td>\n",
       "      <td>MDX</td>\n",
       "      <td>9</td>\n",
       "      <td>20021</td>\n",
       "      <td>2.10</td>\n",
       "      <td>1.00</td>\n",
       "      <td>39.78</td>\n",
       "      <td>15.91</td>\n",
       "      <td>35.80</td>\n",
       "      <td>31.82</td>\n",
       "      <td>31.82</td>\n",
       "      <td>nan</td>\n",
       "      <td>1</td>\n",
       "    </tr>\n",
       "  </tbody>\n",
       "</table>\n",
       "</div>"
      ],
      "text/plain": [
       "                      VIN_DLR_CLM_SK  WAR_CLAIM_DATE                VIN  \\\n",
       "21200  5FRYD4H92GB022416251336392305          201801  5FRYD4H92GB022416   \n",
       "\n",
       "      TPL_VIN PICKUP_DATE SUBMITTED_DATE REOPENED_DATE  \\\n",
       "21200    None         NaT            NaT           NaT   \n",
       "\n",
       "      REOPENED_SUBMITTED_DATE FINAL_CLOSURE_DATE STATUS_NAME  \\\n",
       "21200                     NaT                NaT        None   \n",
       "\n",
       "      STATUS_OPEN_CLOSED TPL_SHORT_PART_NO PART_CATEGORY      DAYS_TO_CLOSURE  \\\n",
       "21200               None              None          None                  nan   \n",
       "\n",
       "                 DAYS_OPEN        WARR_PART_NO CUSTOMER_CONTENTION_TXT  \\\n",
       "21200                  nan  062005NBA58                           None   \n",
       "\n",
       "      VISUAL_INSPECTION_DETAIL_TXT FUNCTIONAL_INSPECTION_DETAIL_TXT  \\\n",
       "21200                           ~                                ~    \n",
       "\n",
       "      CATEGORY_DESC_TXT SUPPLIER_ANALYSIS_SUMMARY_TXT DEALER_NO WAR_CLAIM_NO  \\\n",
       "21200              None                          None  251336     392305       \n",
       "\n",
       "              CUS_CONT_DESC_TEXT REPAIR_ORDER_DATE RECEIVED_DATE AF_OFF_DATE  \\\n",
       "21200  Zf 9 a/t trans warmer pud        2017-12-20    2018-01-05  2015-05-06   \n",
       "\n",
       "      ENGINE_BUILD_DATE PRI_LABOR_OP_CODE WAR_ORIG_DISTR_CDE  \\\n",
       "21200        2015-05-05           2180A7                 101   \n",
       "\n",
       "      WAR_RESP_DISTR_CDE VEHICLE_DESTN_CODE    FLAT_RATE_HRS_QTY  \\\n",
       "21200                15A                KA                  2.10   \n",
       "\n",
       "       FRGT_SUBL_TAX_AMT_USD  DIAGNOSTIC_LABOR_HRS_QTY TPL_CREATION_DATE  \\\n",
       "21200                   0.00                      0.00               NaT   \n",
       "\n",
       "      RESPONSIBILITY_PCT CONCLUSION_DESC_TXT          VEH_MILEAGE  \\\n",
       "21200               None                None            29,627.00   \n",
       "\n",
       "      CURRENCY_TYPE_CODE  ACTUAL_PARTS_CHG_AMT_USD  ACTUAL_LABOR_CHG_AMT_USD  \\\n",
       "21200                  $                     30.56                    230.75   \n",
       "\n",
       "       ACTUAL_HDLG_CHG_AMT_USD  ACTUAL_TOTAL_CHG_AMT_USD CAMPAIGN_CODE  \\\n",
       "21200                    27.08                    288.39             C   \n",
       "\n",
       "      WAR_DEFECT_CODE RECORD_DESC  RECORD_COUNT REPLACED_PART5  \\\n",
       "21200           6ZF00      Normal             1          06224   \n",
       "\n",
       "                                        REPLACED_PART_NO        PART_DESC  \\\n",
       "21200  062245J4305                                   ...  KIT, OIL COOLER   \n",
       "\n",
       "          ACT_PARTS_QTY_NO MTC_MODEL MTC_TYPE MTC_OPTION  \\\n",
       "21200                 1.00      GTZ6      AE5              \n",
       "\n",
       "            TRANS_SERIAL_NO NAMEPLATE MODEL_YEAR FACTORY MOD_NAME  \\\n",
       "21200                           ACURA       2016     HMA      MDX   \n",
       "\n",
       "         TRANSMISSION_GEARS REPLACED_PART_EQUOTE_FMT  CLAIM_LABOR_HRS_QTY  \\\n",
       "21200  9                                    20021                    2.10   \n",
       "\n",
       "         WAR_EXCH_RATE_AMT  DLR_NET_PRCE_AMT_USD    PART_FOB_COST_USD  \\\n",
       "21200                 1.00                 39.78                15.91   \n",
       "\n",
       "       DLR_NET_PRCE_AMTx90_USD  PART_FOB_COSTx2_USD    MIN_PART_COST_USD  \\\n",
       "21200                    35.80                31.82                31.82   \n",
       "\n",
       "       TRANSFER_PART_LIST_ITEM_DETAIL_SK  REPL_ROW_NUM  \n",
       "21200                                nan             1  "
      ]
     },
     "execution_count": 8,
     "metadata": {},
     "output_type": "execute_result"
    }
   ],
   "source": [
    "claims[claims['TRANS_SERIAL_NO'].str.startswith(' ')]"
   ]
  },
  {
   "cell_type": "code",
   "execution_count": 9,
   "metadata": {},
   "outputs": [
    {
     "data": {
      "text/plain": [
       "array(['                    '], dtype=object)"
      ]
     },
     "execution_count": 9,
     "metadata": {},
     "output_type": "execute_result"
    }
   ],
   "source": [
    "claims[claims['TRANS_SERIAL_NO'].str.startswith(' ')]['TRANS_SERIAL_NO'].values"
   ]
  },
  {
   "cell_type": "code",
   "execution_count": 10,
   "metadata": {},
   "outputs": [
    {
     "data": {
      "text/plain": [
       "21200    20021   \n",
       "Name: REPLACED_PART_EQUOTE_FMT, dtype: object"
      ]
     },
     "execution_count": 10,
     "metadata": {},
     "output_type": "execute_result"
    }
   ],
   "source": [
    "# This reads as: give me rows where replaced part equote = '20021   '' and bring back just the replaced_part_equote_fmt column:\n",
    "claims.loc[claims['REPLACED_PART_EQUOTE_FMT']=='20021   ', 'REPLACED_PART_EQUOTE_FMT']"
   ]
  },
  {
   "cell_type": "code",
   "execution_count": 11,
   "metadata": {},
   "outputs": [
    {
     "data": {
      "text/plain": [
       "array(['20021   '], dtype=object)"
      ]
     },
     "execution_count": 11,
     "metadata": {},
     "output_type": "execute_result"
    }
   ],
   "source": [
    "claims.loc[claims['REPLACED_PART_EQUOTE_FMT']=='20021   ', 'REPLACED_PART_EQUOTE_FMT'].values"
   ]
  },
  {
   "cell_type": "markdown",
   "metadata": {},
   "source": [
    "### Convert claims with bad E-Quote part # format as NaN and then forward fill missing E-Quote replaced part #"
   ]
  },
  {
   "cell_type": "code",
   "execution_count": 12,
   "metadata": {},
   "outputs": [],
   "source": [
    "claims.loc[claims['REPLACED_PART_EQUOTE_FMT'] == '20021   ', 'REPLACED_PART_EQUOTE_FMT'] = np.nan\n",
    "claims.sort_values(by=['MOD_NAME', 'MODEL_YEAR', 'AF_OFF_DATE'], inplace=True)\n",
    "claims['REPLACED_PART_EQUOTE_FMT'].fillna(method='ffill', inplace=True)"
   ]
  },
  {
   "cell_type": "code",
   "execution_count": 13,
   "metadata": {},
   "outputs": [],
   "source": [
    "assert len(claims.loc[claims['REPLACED_PART_EQUOTE_FMT']=='20021   ', 'REPLACED_PART_EQUOTE_FMT']) == 0"
   ]
  },
  {
   "cell_type": "markdown",
   "metadata": {},
   "source": [
    "### TRANS_SERIAL_NO has trailing white spaces, so need to remove them so that we can merge with ASN data"
   ]
  },
  {
   "cell_type": "code",
   "execution_count": 14,
   "metadata": {},
   "outputs": [
    {
     "data": {
      "text/plain": [
       "array(['Q5NC0011360         ', 'Q5NC0011388         ',\n",
       "       'Q5NC0011324         ', ..., 'Q5J40456287         ',\n",
       "       'Q5L90575501         ', 'Q5J40435973         '], dtype=object)"
      ]
     },
     "execution_count": 14,
     "metadata": {},
     "output_type": "execute_result"
    }
   ],
   "source": [
    "claims['TRANS_SERIAL_NO'].values"
   ]
  },
  {
   "cell_type": "code",
   "execution_count": 15,
   "metadata": {},
   "outputs": [],
   "source": [
    "claims['TRANS_SERIAL_NO'] = claims['TRANS_SERIAL_NO'].str.strip()"
   ]
  },
  {
   "cell_type": "markdown",
   "metadata": {},
   "source": [
    "# Now limit data set to just claims with closed TPLs and save as Excel file:"
   ]
  },
  {
   "cell_type": "code",
   "execution_count": 16,
   "metadata": {},
   "outputs": [],
   "source": [
    "criteria1 = claims['TRANSFER_PART_LIST_ITEM_DETAIL_SK'].isna()\n",
    "criteria2 = claims['MODEL_YEAR'].isin(fixed_model_years)"
   ]
  },
  {
   "cell_type": "code",
   "execution_count": 17,
   "metadata": {},
   "outputs": [],
   "source": [
    "claims_with_tpl = claims[~criteria1 & ~criteria2]"
   ]
  },
  {
   "cell_type": "code",
   "execution_count": 18,
   "metadata": {},
   "outputs": [
    {
     "data": {
      "text/plain": [
       "(1479, 71)"
      ]
     },
     "execution_count": 18,
     "metadata": {},
     "output_type": "execute_result"
    }
   ],
   "source": [
    "claims_with_tpl.shape"
   ]
  },
  {
   "cell_type": "code",
   "execution_count": 19,
   "metadata": {},
   "outputs": [],
   "source": [
    "today = datetime.today()"
   ]
  },
  {
   "cell_type": "code",
   "execution_count": 20,
   "metadata": {},
   "outputs": [],
   "source": [
    "base_dir = \"//mmpapp02/mq_db/wrp/ZF_ATM_WRP_Project/automated_vouchers/outputs/excel/NorthAmericanPlants/NonFixed\"\n",
    "p = Path(base_dir)\n",
    "save_dir = p / datetime.strftime(today, \"%Y-%m-%d\")\n",
    "if not os.path.exists(save_dir):\n",
    "    os.makedirs(save_dir)"
   ]
  },
  {
   "cell_type": "code",
   "execution_count": 21,
   "metadata": {},
   "outputs": [],
   "source": [
    "file_name_nonfixed = 'CLA_Claims_With_TPLs.xlsx'"
   ]
  },
  {
   "cell_type": "code",
   "execution_count": 22,
   "metadata": {},
   "outputs": [],
   "source": [
    "claims_with_tpl.to_excel(save_dir / file_name_nonfixed, index=False)"
   ]
  },
  {
   "cell_type": "code",
   "execution_count": 23,
   "metadata": {},
   "outputs": [
    {
     "data": {
      "text/plain": [
       "'\\\\\\\\mmpapp02\\\\mq_db\\\\wrp\\\\ZF_ATM_WRP_Project\\\\automated_vouchers\\\\outputs\\\\excel\\\\NorthAmericanPlants\\\\NonFixed\\\\2019-04-23\\\\CLA_Claims_With_TPLs.xlsx'"
      ]
     },
     "execution_count": 23,
     "metadata": {},
     "output_type": "execute_result"
    }
   ],
   "source": [
    "str(save_dir / file_name_nonfixed)"
   ]
  },
  {
   "cell_type": "markdown",
   "metadata": {},
   "source": [
    "### Now save/\"glue\" the save location or path to the Excel file containing CLA claims with closed TPL:"
   ]
  },
  {
   "cell_type": "code",
   "execution_count": 24,
   "metadata": {},
   "outputs": [
    {
     "data": {
      "application/scrapbook.scrap.text+json": {
       "data": "\\\\mmpapp02\\mq_db\\wrp\\ZF_ATM_WRP_Project\\automated_vouchers\\outputs\\excel\\NorthAmericanPlants\\NonFixed\\2019-04-23\\CLA_Claims_With_TPLs.xlsx",
       "encoder": "text",
       "name": "path_to_claims_with_tpl",
       "version": 1
      }
     },
     "metadata": {
      "scrapbook": {
       "data": true,
       "display": false,
       "name": "path_to_claims_with_tpl"
      }
     },
     "output_type": "display_data"
    }
   ],
   "source": [
    "sb.glue(\"path_to_claims_with_tpl\", str(save_dir / file_name_nonfixed))"
   ]
  },
  {
   "cell_type": "markdown",
   "metadata": {},
   "source": [
    "# Prepare data for fixed voucher (CLA claims without closed TPL):"
   ]
  },
  {
   "cell_type": "code",
   "execution_count": 25,
   "metadata": {},
   "outputs": [],
   "source": [
    "base_dir = \"//mmpapp02/mq_db/wrp/ZF_ATM_WRP_Project/automated_vouchers/outputs/excel/NorthAmericanPlants/Fixed\"\n",
    "p = Path(base_dir)\n",
    "save_dir = p / datetime.strftime(today, \"%Y-%m-%d\")\n",
    "if not os.path.exists(save_dir):\n",
    "    os.makedirs(save_dir)"
   ]
  },
  {
   "cell_type": "code",
   "execution_count": 26,
   "metadata": {},
   "outputs": [],
   "source": [
    "# Claims without TPLs\n",
    "criteria1 = (claims['TRANSFER_PART_LIST_ITEM_DETAIL_SK'].isna())\n",
    "\n",
    "# Claims with TPLs, but not closed (in \"limbo\")\n",
    "criteria2 = (claims['CONCLUSION_DESC_TXT'].isna()) & claims['TRANSFER_PART_LIST_ITEM_DETAIL_SK'] > 0\n",
    "\n",
    "# Claims from fixed model years\n",
    "criteria3 = (claims['MODEL_YEAR'].isin(fixed_model_years))\n",
    "\n",
    "# \"Normal\" claims\n",
    "criteria4 = (claims['CAMPAIGN_CODE'] == 'N')"
   ]
  },
  {
   "cell_type": "code",
   "execution_count": 27,
   "metadata": {},
   "outputs": [],
   "source": [
    "fixed_claims = claims[(criteria1 | criteria2) & criteria3 & criteria4]"
   ]
  },
  {
   "cell_type": "code",
   "execution_count": 28,
   "metadata": {},
   "outputs": [
    {
     "data": {
      "text/plain": [
       "(4399, 71)"
      ]
     },
     "execution_count": 28,
     "metadata": {},
     "output_type": "execute_result"
    }
   ],
   "source": [
    "fixed_claims.shape"
   ]
  },
  {
   "cell_type": "code",
   "execution_count": 29,
   "metadata": {},
   "outputs": [],
   "source": [
    "file_name_fixed = 'CLA_Claims_Fixed.xlsx'"
   ]
  },
  {
   "cell_type": "code",
   "execution_count": 30,
   "metadata": {},
   "outputs": [],
   "source": [
    "fixed_claims.to_excel(save_dir / file_name_fixed, index=False)"
   ]
  },
  {
   "cell_type": "code",
   "execution_count": 31,
   "metadata": {},
   "outputs": [
    {
     "data": {
      "text/plain": [
       "'\\\\\\\\mmpapp02\\\\mq_db\\\\wrp\\\\ZF_ATM_WRP_Project\\\\automated_vouchers\\\\outputs\\\\excel\\\\NorthAmericanPlants\\\\Fixed\\\\2019-04-23\\\\CLA_Claims_Fixed.xlsx'"
      ]
     },
     "execution_count": 31,
     "metadata": {},
     "output_type": "execute_result"
    }
   ],
   "source": [
    "str(save_dir / file_name_fixed)"
   ]
  },
  {
   "cell_type": "markdown",
   "metadata": {},
   "source": [
    "### Now save/\"glue\" the save location or path to the Excel file containing fixed CLA claims:"
   ]
  },
  {
   "cell_type": "code",
   "execution_count": 32,
   "metadata": {},
   "outputs": [
    {
     "data": {
      "application/scrapbook.scrap.text+json": {
       "data": "\\\\mmpapp02\\mq_db\\wrp\\ZF_ATM_WRP_Project\\automated_vouchers\\outputs\\excel\\NorthAmericanPlants\\Fixed\\2019-04-23\\CLA_Claims_Fixed.xlsx",
       "encoder": "text",
       "name": "path_to_fixed_claims",
       "version": 1
      }
     },
     "metadata": {
      "scrapbook": {
       "data": true,
       "display": false,
       "name": "path_to_fixed_claims"
      }
     },
     "output_type": "display_data"
    }
   ],
   "source": [
    "sb.glue(\"path_to_fixed_claims\", str(save_dir / file_name_fixed))"
   ]
  },
  {
   "cell_type": "markdown",
   "metadata": {},
   "source": [
    "# Send Windows notification when complete"
   ]
  },
  {
   "cell_type": "code",
   "execution_count": 33,
   "metadata": {},
   "outputs": [
    {
     "data": {
      "text/plain": [
       "True"
      ]
     },
     "execution_count": 33,
     "metadata": {},
     "output_type": "execute_result"
    }
   ],
   "source": [
    "toaster = ToastNotifier()\n",
    "toaster.show_toast(\"Papermill Orchestration Status\",\n",
    "                   \"Successfully provided data sets for voucher creation\",\n",
    "                   icon_path=\"images/honda_logo.ico\",\n",
    "                   duration=5)"
   ]
  }
 ],
 "metadata": {
  "hide_input": false,
  "kernelspec": {
   "display_name": "Python 3",
   "language": "python",
   "name": "python3"
  },
  "language_info": {
   "codemirror_mode": {
    "name": "ipython",
    "version": 3
   },
   "file_extension": ".py",
   "mimetype": "text/x-python",
   "name": "python",
   "nbconvert_exporter": "python",
   "pygments_lexer": "ipython3",
   "version": "3.7.0"
  },
  "varInspector": {
   "cols": {
    "lenName": 16,
    "lenType": 16,
    "lenVar": 40
   },
   "kernels_config": {
    "python": {
     "delete_cmd_postfix": "",
     "delete_cmd_prefix": "del ",
     "library": "var_list.py",
     "varRefreshCmd": "print(var_dic_list())"
    },
    "r": {
     "delete_cmd_postfix": ") ",
     "delete_cmd_prefix": "rm(",
     "library": "var_list.r",
     "varRefreshCmd": "cat(var_dic_list()) "
    }
   },
   "types_to_exclude": [
    "module",
    "function",
    "builtin_function_or_method",
    "instance",
    "_Feature"
   ],
   "window_display": false
  }
 },
 "nbformat": 4,
 "nbformat_minor": 2
}
