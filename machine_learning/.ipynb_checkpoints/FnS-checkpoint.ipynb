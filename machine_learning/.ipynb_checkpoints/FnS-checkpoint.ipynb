{
 "cells": [
  {
   "cell_type": "markdown",
   "metadata": {
    "deletable": true,
    "editable": true,
    "run_control": {
     "frozen": false,
     "read_only": false
    }
   },
   "source": [
    "# Text Classification"
   ]
  },
  {
   "cell_type": "code",
   "execution_count": null,
   "metadata": {
    "collapsed": true,
    "deletable": true,
    "editable": true,
    "run_control": {
     "frozen": false,
     "read_only": false
    }
   },
   "outputs": [],
   "source": [
    "from IPython.display import Image \n",
    "Image(filename='text-analysis.jpg')"
   ]
  },
  {
   "cell_type": "code",
   "execution_count": 2,
   "metadata": {
    "collapsed": true,
    "deletable": true,
    "editable": true,
    "run_control": {
     "frozen": false,
     "read_only": false
    }
   },
   "outputs": [],
   "source": [
    "import numpy as np\n",
    "import pandas as pd\n",
    "from scipy import sparse\n",
    "from sklearn.preprocessing import LabelEncoder,OneHotEncoder\n",
    "from sklearn.feature_extraction.text import CountVectorizer\n",
    "from sklearn.feature_extraction.text import TfidfTransformer\n",
    "from sklearn.naive_bayes import MultinomialNB\n",
    "from sklearn.pipeline import Pipeline"
   ]
  },
  {
   "cell_type": "code",
   "execution_count": 3,
   "metadata": {
    "collapsed": false,
    "deletable": true,
    "editable": true,
    "run_control": {
     "frozen": false,
     "read_only": false
    }
   },
   "outputs": [],
   "source": [
    "data_set = pd.read_csv('/home/pybokeh/Downloads/FnS_temp.csv', usecols=[4,7,8])"
   ]
  },
  {
   "cell_type": "code",
   "execution_count": 4,
   "metadata": {
    "collapsed": false,
    "deletable": true,
    "editable": true,
    "run_control": {
     "frozen": false,
     "read_only": false
    }
   },
   "outputs": [
    {
     "data": {
      "text/html": [
       "<div>\n",
       "<style>\n",
       "    .dataframe thead tr:only-child th {\n",
       "        text-align: right;\n",
       "    }\n",
       "\n",
       "    .dataframe thead th {\n",
       "        text-align: left;\n",
       "    }\n",
       "\n",
       "    .dataframe tbody tr th {\n",
       "        vertical-align: top;\n",
       "    }\n",
       "</style>\n",
       "<table border=\"1\" class=\"dataframe\">\n",
       "  <thead>\n",
       "    <tr style=\"text-align: right;\">\n",
       "      <th></th>\n",
       "      <th>SHRT_PART_NO</th>\n",
       "      <th>ORIG_CUST_CNTN_TXT</th>\n",
       "      <th>TARGET</th>\n",
       "    </tr>\n",
       "  </thead>\n",
       "  <tbody>\n",
       "    <tr>\n",
       "      <th>0</th>\n",
       "      <td>01473</td>\n",
       "      <td>DURING LAST SERVICE INSPECTION TECH FOUND LEFT...</td>\n",
       "      <td>0</td>\n",
       "    </tr>\n",
       "    <tr>\n",
       "      <th>1</th>\n",
       "      <td>04712</td>\n",
       "      <td>CLIENT STATES THERE IS DAMAGE UNDER FRONT BUMP...</td>\n",
       "      <td>0</td>\n",
       "    </tr>\n",
       "    <tr>\n",
       "      <th>2</th>\n",
       "      <td>04712</td>\n",
       "      <td>CLIENT STATES THERE IS DAMAGE UNDER FRONT BUMP...</td>\n",
       "      <td>1</td>\n",
       "    </tr>\n",
       "    <tr>\n",
       "      <th>3</th>\n",
       "      <td>04715</td>\n",
       "      <td>CUSTOMER STATES REAR RIGHT BUMPER IS OUT OF AL...</td>\n",
       "      <td>1</td>\n",
       "    </tr>\n",
       "    <tr>\n",
       "      <th>4</th>\n",
       "      <td>04715</td>\n",
       "      <td>PER DPSM SUBLET LR QUARTER TO BODY SHOP</td>\n",
       "      <td>1</td>\n",
       "    </tr>\n",
       "    <tr>\n",
       "      <th>5</th>\n",
       "      <td>04814</td>\n",
       "      <td>CLIENT STATES RATTLE FROM PASSENGER B-PILLAR A...</td>\n",
       "      <td>0</td>\n",
       "    </tr>\n",
       "    <tr>\n",
       "      <th>6</th>\n",
       "      <td>04816</td>\n",
       "      <td>AUTH 119B - GENERAL MANAGER STATES PASSENGER S...</td>\n",
       "      <td>0</td>\n",
       "    </tr>\n",
       "    <tr>\n",
       "      <th>7</th>\n",
       "      <td>15400</td>\n",
       "      <td>GOODWILL CAR RAMPS FOR CLIENT PER ACURA</td>\n",
       "      <td>0</td>\n",
       "    </tr>\n",
       "    <tr>\n",
       "      <th>8</th>\n",
       "      <td>15400</td>\n",
       "      <td>LA PREP LOWER SEAT COVERS PER BEN ARIAS</td>\n",
       "      <td>0</td>\n",
       "    </tr>\n",
       "    <tr>\n",
       "      <th>9</th>\n",
       "      <td>15400</td>\n",
       "      <td>AUTH`D BY DPSM AND TECH LINE REF #TLC4000852. ...</td>\n",
       "      <td>1</td>\n",
       "    </tr>\n",
       "    <tr>\n",
       "      <th>10</th>\n",
       "      <td>15420</td>\n",
       "      <td>PLEASE PERFORM FULL NSX INSPECTION</td>\n",
       "      <td>1</td>\n",
       "    </tr>\n",
       "    <tr>\n",
       "      <th>11</th>\n",
       "      <td>15610</td>\n",
       "      <td>OBSERVED AT PDI/TQI; OIL RESIDUE ON LOWER ENGI...</td>\n",
       "      <td>0</td>\n",
       "    </tr>\n",
       "    <tr>\n",
       "      <th>12</th>\n",
       "      <td>17011</td>\n",
       "      <td>CUSTOMER STATES THE CHECK ENGINE LIGHT AND PAR...</td>\n",
       "      <td>1</td>\n",
       "    </tr>\n",
       "    <tr>\n",
       "      <th>13</th>\n",
       "      <td>17013</td>\n",
       "      <td>CUST STATES THE FUEL TANK DOES NOT GO ABOVE 3/4</td>\n",
       "      <td>0</td>\n",
       "    </tr>\n",
       "    <tr>\n",
       "      <th>14</th>\n",
       "      <td>17045</td>\n",
       "      <td>C/S: WHILE DRIVING ALL WARNING LIGHTS CAME ON ...</td>\n",
       "      <td>0</td>\n",
       "    </tr>\n",
       "  </tbody>\n",
       "</table>\n",
       "</div>"
      ],
      "text/plain": [
       "   SHRT_PART_NO                                 ORIG_CUST_CNTN_TXT  TARGET\n",
       "0         01473  DURING LAST SERVICE INSPECTION TECH FOUND LEFT...       0\n",
       "1         04712  CLIENT STATES THERE IS DAMAGE UNDER FRONT BUMP...       0\n",
       "2         04712  CLIENT STATES THERE IS DAMAGE UNDER FRONT BUMP...       1\n",
       "3         04715  CUSTOMER STATES REAR RIGHT BUMPER IS OUT OF AL...       1\n",
       "4         04715            PER DPSM SUBLET LR QUARTER TO BODY SHOP       1\n",
       "5         04814  CLIENT STATES RATTLE FROM PASSENGER B-PILLAR A...       0\n",
       "6         04816  AUTH 119B - GENERAL MANAGER STATES PASSENGER S...       0\n",
       "7         15400            GOODWILL CAR RAMPS FOR CLIENT PER ACURA       0\n",
       "8         15400            LA PREP LOWER SEAT COVERS PER BEN ARIAS       0\n",
       "9         15400  AUTH`D BY DPSM AND TECH LINE REF #TLC4000852. ...       1\n",
       "10        15420                 PLEASE PERFORM FULL NSX INSPECTION       1\n",
       "11        15610  OBSERVED AT PDI/TQI; OIL RESIDUE ON LOWER ENGI...       0\n",
       "12        17011  CUSTOMER STATES THE CHECK ENGINE LIGHT AND PAR...       1\n",
       "13        17013    CUST STATES THE FUEL TANK DOES NOT GO ABOVE 3/4       0\n",
       "14        17045  C/S: WHILE DRIVING ALL WARNING LIGHTS CAME ON ...       0"
      ]
     },
     "execution_count": 4,
     "metadata": {},
     "output_type": "execute_result"
    }
   ],
   "source": [
    "data_set.head(15)"
   ]
  },
  {
   "cell_type": "markdown",
   "metadata": {
    "deletable": true,
    "editable": true,
    "run_control": {
     "frozen": false,
     "read_only": false
    }
   },
   "source": [
    "### Create the 2 features variables and the one target variable"
   ]
  },
  {
   "cell_type": "code",
   "execution_count": 5,
   "metadata": {
    "collapsed": false,
    "deletable": true,
    "editable": true,
    "run_control": {
     "frozen": false,
     "read_only": false
    }
   },
   "outputs": [],
   "source": [
    "partno = data_set.SHRT_PART_NO.values\n",
    "complaints = data_set.ORIG_CUST_CNTN_TXT.values\n",
    "target = data_set.TARGET.values"
   ]
  },
  {
   "cell_type": "markdown",
   "metadata": {
    "deletable": true,
    "editable": true,
    "run_control": {
     "frozen": false,
     "read_only": false
    }
   },
   "source": [
    "### ```partno``` is a categorical variable consisting of string value, so need to do Label Encoding on it"
   ]
  },
  {
   "cell_type": "code",
   "execution_count": 6,
   "metadata": {
    "collapsed": false,
    "deletable": true,
    "editable": true,
    "run_control": {
     "frozen": false,
     "read_only": false
    }
   },
   "outputs": [],
   "source": [
    "enc_label = LabelEncoder()\n",
    "X_train_partno_labelencoded = enc_label.fit_transform(partno)"
   ]
  },
  {
   "cell_type": "code",
   "execution_count": 7,
   "metadata": {
    "collapsed": false,
    "deletable": true,
    "editable": true,
    "run_control": {
     "frozen": false,
     "read_only": false
    }
   },
   "outputs": [
    {
     "data": {
      "text/plain": [
       "array([  0,   1,   1,   2,   2,   3,   4,   5,   5,   5,   6,   7,   8,\n",
       "         9,  10,  11,  12,  13,  14,  14,  15,  15,  15,  15,  15,  15,\n",
       "        15,  15,  15,  15,  15,  15,  15,  15,  15,  15,  15,  15,  16,\n",
       "        17,  18,  18,  18,  18,  18,  19,  20,  20,  21,  22,  22,  22,\n",
       "        22,  22,  22,  22,  22,  22,  22,  22,  22,  22,  22,  22,  22,\n",
       "        22,  22,  23,  24,  25,  25,  26,  27,  28,  28,  28,  28,  29,\n",
       "        30,  31,  32,  33,  34,  35,  36,  36,  36,  36,  36,  36,  36,\n",
       "        37,  38,  38,  39,  39,  40,  41,  41,  41,  41,  41,  42,  42,\n",
       "        42,  42,  42,  43,  44,  45,  45,  46,  46,  46,  47,  47,  48,\n",
       "        48,  48,  48,  48,  49,  50,  51,  52,  53,  54,  54,  54,  54,\n",
       "        54,  54,  55,  56,  57,  57,  57,  58,  59,  60,  61,  61,  62,\n",
       "        62,  62,  63,  64,  65,  66,  66,  67,  68,  69,  70,  71,  71,\n",
       "        71,  71,  71,  72,  73,  74,  75,  76,  77,  78,  79,  79,  80,\n",
       "        80,  81,  81,  82,  82,  83,  84,  85,  85,  85,  86,  86,  86,\n",
       "        86,  86,  87,  87,  87,  87,  88,  88,  88,  88,  88,  88,  89,\n",
       "        89,  89,  89,  89,  89,  90,  90,  90,  90,  90,  91,  91,  91,\n",
       "        92,  92,  92,  92,  92,  92,  92,  92,  92,  93,  93,  93,  94,\n",
       "        95,  96,  97,  98,  99, 100, 101, 102, 103, 103, 103, 104, 105,\n",
       "       106, 107, 107, 108, 109, 110, 111, 112, 113, 113, 114, 115, 115,\n",
       "       116, 117, 118, 119, 120, 121, 122, 123, 124, 124, 125, 126, 127,\n",
       "       128, 128, 129, 129, 130, 131, 132, 133, 134, 135, 135, 136, 136,\n",
       "       137, 138, 139, 140, 141, 141, 142, 142, 142, 143, 143, 144, 145,\n",
       "       146, 147, 148, 148, 148, 148, 148, 149, 149, 150, 151, 151, 151,\n",
       "       151, 152])"
      ]
     },
     "execution_count": 7,
     "metadata": {},
     "output_type": "execute_result"
    }
   ],
   "source": [
    "X_train_partno_labelencoded"
   ]
  },
  {
   "cell_type": "code",
   "execution_count": 8,
   "metadata": {
    "collapsed": false,
    "deletable": true,
    "editable": true,
    "run_control": {
     "frozen": false,
     "read_only": false
    }
   },
   "outputs": [
    {
     "data": {
      "text/plain": [
       "(301,)"
      ]
     },
     "execution_count": 8,
     "metadata": {},
     "output_type": "execute_result"
    }
   ],
   "source": [
    "X_train_partno_labelencoded.shape"
   ]
  },
  {
   "cell_type": "markdown",
   "metadata": {
    "deletable": true,
    "editable": true,
    "run_control": {
     "frozen": false,
     "read_only": false
    }
   },
   "source": [
    "### Now we can perform one-hot encoding on the label encoded data"
   ]
  },
  {
   "cell_type": "code",
   "execution_count": 9,
   "metadata": {
    "collapsed": false,
    "deletable": true,
    "editable": true,
    "run_control": {
     "frozen": false,
     "read_only": false
    }
   },
   "outputs": [
    {
     "name": "stderr",
     "output_type": "stream",
     "text": [
      "/home/pybokeh/envs/notebook/lib/python3.6/site-packages/sklearn/utils/validation.py:395: DeprecationWarning: Passing 1d arrays as data is deprecated in 0.17 and will raise ValueError in 0.19. Reshape your data either using X.reshape(-1, 1) if your data has a single feature or X.reshape(1, -1) if it contains a single sample.\n",
      "  DeprecationWarning)\n"
     ]
    }
   ],
   "source": [
    "enc_onehot = OneHotEncoder()\n",
    "X_train_partno_onehot = enc_onehot.fit_transform(X_train_partno_labelencoded)"
   ]
  },
  {
   "cell_type": "markdown",
   "metadata": {
    "deletable": true,
    "editable": true,
    "run_control": {
     "frozen": false,
     "read_only": false
    }
   },
   "source": [
    "### Got yelled at for using a 1-D array, so converting it to 2-D:"
   ]
  },
  {
   "cell_type": "code",
   "execution_count": 10,
   "metadata": {
    "collapsed": true,
    "deletable": true,
    "editable": true,
    "run_control": {
     "frozen": false,
     "read_only": false
    }
   },
   "outputs": [],
   "source": [
    "X_train_partno_onehot = enc_onehot.fit_transform(X_train_partno_labelencoded.reshape(-1,1))"
   ]
  },
  {
   "cell_type": "code",
   "execution_count": 11,
   "metadata": {
    "collapsed": false,
    "deletable": true,
    "editable": true,
    "run_control": {
     "frozen": false,
     "read_only": false
    }
   },
   "outputs": [
    {
     "data": {
      "text/plain": [
       "<301x153 sparse matrix of type '<class 'numpy.float64'>'\n",
       "\twith 301 stored elements in Compressed Sparse Row format>"
      ]
     },
     "execution_count": 11,
     "metadata": {},
     "output_type": "execute_result"
    }
   ],
   "source": [
    "X_train_partno_onehot"
   ]
  },
  {
   "cell_type": "code",
   "execution_count": 12,
   "metadata": {
    "collapsed": false,
    "deletable": true,
    "editable": true,
    "run_control": {
     "frozen": false,
     "read_only": false
    }
   },
   "outputs": [
    {
     "data": {
      "text/plain": [
       "(301, 153)"
      ]
     },
     "execution_count": 12,
     "metadata": {},
     "output_type": "execute_result"
    }
   ],
   "source": [
    "X_train_partno_onehot.shape"
   ]
  },
  {
   "cell_type": "markdown",
   "metadata": {
    "deletable": true,
    "editable": true,
    "run_control": {
     "frozen": false,
     "read_only": false
    }
   },
   "source": [
    "### ```complaints``` is a feature column containing string values, but it is not categorical since it is not limited to a known number of values.  So in this case, to my understanding, I would tranform with CountVectorizer and then TfidfTransformer per this scikit-learn [example](http://scikit-learn.org/stable/tutorial/text_analytics/working_with_text_data.html) on working with text data"
   ]
  },
  {
   "cell_type": "markdown",
   "metadata": {
    "deletable": true,
    "editable": true,
    "run_control": {
     "frozen": false,
     "read_only": false
    }
   },
   "source": [
    "### ```Vectorize``` the complaints training data with ```CountVectorizer```"
   ]
  },
  {
   "cell_type": "code",
   "execution_count": 13,
   "metadata": {
    "collapsed": false,
    "deletable": true,
    "editable": true,
    "run_control": {
     "frozen": false,
     "read_only": false
    }
   },
   "outputs": [
    {
     "data": {
      "text/plain": [
       "(301, 1141)"
      ]
     },
     "execution_count": 13,
     "metadata": {},
     "output_type": "execute_result"
    }
   ],
   "source": [
    "count_vect = CountVectorizer()\n",
    "X_train_complaint_counts = count_vect.fit_transform(complaints)\n",
    "X_train_complaint_counts.shape"
   ]
  },
  {
   "cell_type": "markdown",
   "metadata": {
    "deletable": true,
    "editable": true,
    "run_control": {
     "frozen": false,
     "read_only": false
    }
   },
   "source": [
    "### ```Transform``` the complaints training data with ```tfidf```"
   ]
  },
  {
   "cell_type": "code",
   "execution_count": 14,
   "metadata": {
    "collapsed": false,
    "deletable": true,
    "editable": true,
    "run_control": {
     "frozen": false,
     "read_only": false
    }
   },
   "outputs": [
    {
     "data": {
      "text/plain": [
       "(301, 1141)"
      ]
     },
     "execution_count": 14,
     "metadata": {},
     "output_type": "execute_result"
    }
   ],
   "source": [
    "tfidf_transformer = TfidfTransformer()\n",
    "X_train_complaint_tfidf = tfidf_transformer.fit_transform(X_train_complaint_counts)\n",
    "X_train_complaint_tfidf.shape"
   ]
  },
  {
   "cell_type": "code",
   "execution_count": 15,
   "metadata": {
    "collapsed": false,
    "deletable": true,
    "editable": true,
    "run_control": {
     "frozen": false,
     "read_only": false
    }
   },
   "outputs": [
    {
     "data": {
      "text/plain": [
       "scipy.sparse.csr.csr_matrix"
      ]
     },
     "execution_count": 15,
     "metadata": {},
     "output_type": "execute_result"
    }
   ],
   "source": [
    "type(X_train_complaint_tfidf)"
   ]
  },
  {
   "cell_type": "markdown",
   "metadata": {
    "deletable": true,
    "editable": true,
    "run_control": {
     "frozen": false,
     "read_only": false
    }
   },
   "source": [
    "### Combine/concatenate the partno feature with the complaint feature data along the column axis or horizontally"
   ]
  },
  {
   "cell_type": "code",
   "execution_count": 16,
   "metadata": {
    "collapsed": false,
    "deletable": true,
    "editable": true,
    "run_control": {
     "frozen": false,
     "read_only": false
    }
   },
   "outputs": [],
   "source": [
    "X_train_combined_tfidf = sparse.hstack((X_train_partno_onehot, X_train_complaint_tfidf), format='csr')"
   ]
  },
  {
   "cell_type": "code",
   "execution_count": 17,
   "metadata": {
    "collapsed": false,
    "deletable": true,
    "editable": true,
    "run_control": {
     "frozen": false,
     "read_only": false
    }
   },
   "outputs": [
    {
     "data": {
      "text/plain": [
       "<301x1294 sparse matrix of type '<class 'numpy.float64'>'\n",
       "\twith 4451 stored elements in Compressed Sparse Row format>"
      ]
     },
     "execution_count": 17,
     "metadata": {},
     "output_type": "execute_result"
    }
   ],
   "source": [
    "X_train_combined_tfidf"
   ]
  },
  {
   "cell_type": "markdown",
   "metadata": {
    "deletable": true,
    "editable": true,
    "run_control": {
     "frozen": false,
     "read_only": false
    }
   },
   "source": [
    "### Train to a model (Multinomial Naive Bayes)"
   ]
  },
  {
   "cell_type": "code",
   "execution_count": 18,
   "metadata": {
    "collapsed": false,
    "deletable": true,
    "editable": true,
    "run_control": {
     "frozen": false,
     "read_only": false
    }
   },
   "outputs": [],
   "source": [
    "clf = MultinomialNB().fit(X_train_combined_tfidf, target)"
   ]
  },
  {
   "cell_type": "markdown",
   "metadata": {
    "deletable": true,
    "editable": true,
    "run_control": {
     "frozen": false,
     "read_only": false
    }
   },
   "source": [
    "### ```Predict``` with test part # and complaint"
   ]
  },
  {
   "cell_type": "code",
   "execution_count": 19,
   "metadata": {
    "collapsed": false,
    "deletable": true,
    "editable": true,
    "run_control": {
     "frozen": false,
     "read_only": false
    }
   },
   "outputs": [],
   "source": [
    "part_test = np.array(['19301'])\n",
    "complaint_test = np.array(['CLIENT STATES THE CHECK EMISSIONS LIGHT IS ON'])\n",
    "\n",
    "X_new_part_labelencoded = enc_label.fit_transform(part_test)\n",
    "enc_onehot_new = OneHotEncoder(n_values=153)\n",
    "X_new_part_onehot = enc_onehot_new.fit_transform(X_new_part_labelencoded.reshape(-1,1))\n",
    "\n",
    "X_new_complaint_counts = count_vect.transform(complaint_test)\n",
    "X_new_complaint_tfidf = tfidf_transformer.transform(X_new_complaint_counts)\n",
    "\n",
    "X_new_combined_tfidf = sparse.hstack((X_new_part_onehot, X_new_complaint_tfidf), format='csr')\n",
    "\n",
    "predicted = clf.predict(X_new_combined_tfidf)"
   ]
  },
  {
   "cell_type": "code",
   "execution_count": 20,
   "metadata": {
    "collapsed": false,
    "deletable": true,
    "editable": true,
    "run_control": {
     "frozen": false,
     "read_only": false
    }
   },
   "outputs": [
    {
     "data": {
      "text/plain": [
       "array([0])"
      ]
     },
     "execution_count": 20,
     "metadata": {},
     "output_type": "execute_result"
    }
   ],
   "source": [
    "predicted"
   ]
  }
 ],
 "metadata": {
  "_draft": {
   "nbviewer_url": "https://gist.github.com/59ba930a783571c85ef86ba41424b311"
  },
  "gist": {
   "data": {
    "description": "machine_learning/FnS.ipynb",
    "public": true
   },
   "id": "59ba930a783571c85ef86ba41424b311"
  },
  "hide_input": false,
  "kernelspec": {
   "display_name": "Python 3",
   "language": "python",
   "name": "python3"
  },
  "language_info": {
   "codemirror_mode": {
    "name": "ipython",
    "version": 3
   },
   "file_extension": ".py",
   "mimetype": "text/x-python",
   "name": "python",
   "nbconvert_exporter": "python",
   "pygments_lexer": "ipython3",
   "version": "3.6.1"
  }
 },
 "nbformat": 4,
 "nbformat_minor": 2
}
