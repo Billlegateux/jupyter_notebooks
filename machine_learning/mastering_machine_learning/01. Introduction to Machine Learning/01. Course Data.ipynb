{
 "cells": [
  {
   "cell_type": "markdown",
   "metadata": {},
   "source": [
    "# Course Data\n",
    "\n",
    "One of the main objectives of this course is to teach a rigorous and robust workflow that can be applied to many machine learning problems. In order to do so, we concentrate our efforts on a few datasets so that we can go deep into this workflow and explore it fully. By concentrating on just a few datasets, you will get to know them well and more easily build upon your knowledge from each chapter.\n",
    "\n",
    "## Introducing the Ames, Iowa Housing Dataset\n",
    "\n",
    "A popular dataset for getting started with machine learning is the [Ames, Iowa Housing Dataset found on Kaggle][1]. We will be using it for all of our supervised regression coverage in this book. It contains residential property sales data from Ames, Iowa from 2006 to 2010. There are 79 features (columns) of data on 1,460 homes. Along with these features is the final sale price of each home. You can read more about how the [data was collected here][2].\n",
    "\n",
    "### Begin with a sample of the housing dataset\n",
    "\n",
    "Instead of using the full dataset with all 79 features, we begin by narrowing our focus to a subset of ten of them. We eventually use the entire set of data, but attempting to understand this many features when first being introduced to machine learning can be overwhelming. Using this smaller subset allows us to concentrate on the techniques and tools of machine learning without being overloaded with data. \n",
    "\n",
    "### First look at the data\n",
    "\n",
    "Let's read in the dataset with pandas and output the first few rows.\n",
    "\n",
    "[1]: https://www.kaggle.com/c/house-prices-advanced-regression-techniques\n",
    "[2]: http://jse.amstat.org/v19n3/decock.pdf"
   ]
  },
  {
   "cell_type": "code",
   "execution_count": null,
   "metadata": {},
   "outputs": [],
   "source": [
    "import pandas as pd\n",
    "housing = pd.read_csv('../data/housing_sample.csv')\n",
    "housing.head()"
   ]
  },
  {
   "cell_type": "markdown",
   "metadata": {},
   "source": [
    "### Dimensions\n",
    "\n",
    "Let's get the exact number of rows and columns with the `shape` attribute."
   ]
  },
  {
   "cell_type": "code",
   "execution_count": null,
   "metadata": {},
   "outputs": [],
   "source": [
    "housing.shape"
   ]
  },
  {
   "cell_type": "markdown",
   "metadata": {},
   "source": [
    "## The data dictionary\n",
    "\n",
    "Before doing any analysis, you should have descriptions of each of the columns in the dataset. This is usually referred to as a **data dictionary**. This dataset has its data dictionary stored as a text file. We can embed it directly into the notebook with the following command:"
   ]
  },
  {
   "cell_type": "code",
   "execution_count": null,
   "metadata": {},
   "outputs": [],
   "source": [
    "print(open('../data/housing_sample_data_dictionary.txt').read())"
   ]
  }
 ],
 "metadata": {
  "kernelspec": {
   "display_name": "Python 3",
   "language": "python",
   "name": "python3"
  },
  "language_info": {
   "codemirror_mode": {
    "name": "ipython",
    "version": 3
   },
   "file_extension": ".py",
   "mimetype": "text/x-python",
   "name": "python",
   "nbconvert_exporter": "python",
   "pygments_lexer": "ipython3",
   "version": "3.7.5"
  }
 },
 "nbformat": 4,
 "nbformat_minor": 2
}
