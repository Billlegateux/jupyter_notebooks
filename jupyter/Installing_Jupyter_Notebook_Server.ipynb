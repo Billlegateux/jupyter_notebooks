{
 "cells": [
  {
   "cell_type": "markdown",
   "metadata": {},
   "source": [
    "# Installing Jupyter Notebook Server"
   ]
  },
  {
   "cell_type": "markdown",
   "metadata": {},
   "source": [
    "- [Documentation](http://jupyter.readthedocs.org/en/latest/install.html) for installing jupyter notebook server\n",
    "- Review [this](http://jupyter-notebook.readthedocs.io/en/stable/public_server.html) for setting up the jupyter notebook server"
   ]
  },
  {
   "cell_type": "code",
   "execution_count": null,
   "metadata": {
    "collapsed": true
   },
   "outputs": [],
   "source": [
    "# On Windows, install using conda command from Anaconda/Miniconda distribution\n",
    "conda install jupyter\n",
    "\n",
    "# Otherwise:\n",
    "pip install jupyter"
   ]
  },
  {
   "cell_type": "markdown",
   "metadata": {},
   "source": [
    "# Setting up jupyter notebook server"
   ]
  },
  {
   "cell_type": "markdown",
   "metadata": {},
   "source": [
    "[Documentation](http://jupyter-notebook.readthedocs.org/en/latest/public_server.html) for setting up the notebook server."
   ]
  },
  {
   "cell_type": "markdown",
   "metadata": {},
   "source": [
    "**Create environment variables to override default location where config file and extensions will be saved**"
   ]
  },
  {
   "cell_type": "code",
   "execution_count": null,
   "metadata": {
    "collapsed": true
   },
   "outputs": [],
   "source": [
    "# Create JUPYTER_CONFIG_DIR (where config file will be saved) and \n",
    "# JUPYTER_DATA_DIR (where extensions will be saved) environment variables\n",
    "# In Windows, you can either create a .bat file or in advanced settings, do:\n",
    "set JUPYTER_CONFIG_DIR=your_path\n",
    "set JUPYTER_DATA_DIR=your_path\n",
    "set IPYTHONDIR=your_path\n",
    "\n",
    "# In Linux\n",
    "export JUPYTER_CONFIG_DIR=your_path\n",
    "export JUPYTER_DATA_DIR=your_path\n",
    "export IPYTHONDIR=your_path"
   ]
  },
  {
   "cell_type": "markdown",
   "metadata": {},
   "source": [
    "**Generate config file and modify it to customize jupyter server for your needs.**"
   ]
  },
  {
   "cell_type": "code",
   "execution_count": null,
   "metadata": {
    "collapsed": true
   },
   "outputs": [],
   "source": [
    "# With your environment activated and at the terminal, execute this to create a profile:\n",
    "jupyter notebook --generate-config\n",
    "\n",
    "# To confirm location of configuration file, at terminal:\n",
    "jupyter --config-dir\n",
    "\n",
    "# To confirm location of data directory (where installed extensions are saved), at terminal:\n",
    "jupyter --data-dir\n",
    "\n",
    "# or to get all paths:\n",
    "jupyter --paths\n",
    "\n",
    "# Then edit the jupyter_notebook_config.py file located at JUPYTER_CONFIG_DIR\n",
    "# Uncomment the following lines, if not already:\n",
    "c.NotebookApp.ip = '127.0.0.1'\n",
    "c.NotebookApp.port = 8888\n",
    "c.NotebookApp.open_browser = False\n",
    "c.NotebookApp.enable_mathjax = True\n",
    "c.NotebookApp.base_url = '/jupyter/'  # or whatever you want to call it\n",
    "c.NotebookApp.notebook_dir = '/home/user/your_notebook_dir'  # linux\n",
    "# or on Windows:\n",
    "c.NotebookApp.notebbook_dir = r'D:\\your_notebook_dir'\n",
    "\n",
    "# That should be it!"
   ]
  },
  {
   "cell_type": "markdown",
   "metadata": {},
   "source": [
    "** Don't forget to [secure](http://jupyter-notebook.readthedocs.io/en/stable/public_server.html#securing-a-notebook-server) your notebook server **"
   ]
  },
  {
   "cell_type": "markdown",
   "metadata": {},
   "source": [
    "# Installing ipywidgets"
   ]
  },
  {
   "cell_type": "markdown",
   "metadata": {},
   "source": [
    "**NOTE:** - it is recommended that you use the --sys-prefix when installing extensions when using virtual environments"
   ]
  },
  {
   "cell_type": "markdown",
   "metadata": {},
   "source": [
    "pip install ipywidgets\n",
    "\n",
    "jupyter nbextension install --sys-prefix --py widgetsnbextension\n",
    "\n",
    "jupyter nbextension enable --py --sys-prefix widgetsnbextension"
   ]
  },
  {
   "cell_type": "markdown",
   "metadata": {},
   "source": [
    "# Installing Notebook Extensions"
   ]
  },
  {
   "cell_type": "markdown",
   "metadata": {},
   "source": [
    "[Documentation](https://github.com/ipython-contrib/IPython-notebook-extensions/) for installing notebook extensions."
   ]
  }
 ],
 "metadata": {
  "hide_input": false,
  "kernelspec": {
   "display_name": "Python 3",
   "language": "python",
   "name": "python3"
  },
  "language_info": {
   "codemirror_mode": {
    "name": "ipython",
    "version": 3
   },
   "file_extension": ".py",
   "mimetype": "text/x-python",
   "name": "python",
   "nbconvert_exporter": "python",
   "pygments_lexer": "ipython3",
   "version": "3.6.1"
  },
  "varInspector": {
   "cols": {
    "lenName": 16,
    "lenType": 16,
    "lenVar": 40
   },
   "kernels_config": {
    "python": {
     "delete_cmd_postfix": "",
     "delete_cmd_prefix": "del ",
     "library": "var_list.py",
     "varRefreshCmd": "print(var_dic_list())"
    },
    "r": {
     "delete_cmd_postfix": ") ",
     "delete_cmd_prefix": "rm(",
     "library": "var_list.r",
     "varRefreshCmd": "cat(var_dic_list()) "
    }
   },
   "types_to_exclude": [
    "module",
    "function",
    "builtin_function_or_method",
    "instance",
    "_Feature"
   ],
   "window_display": false
  }
 },
 "nbformat": 4,
 "nbformat_minor": 1
}
