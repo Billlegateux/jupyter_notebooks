{
 "cells": [
  {
   "cell_type": "markdown",
   "metadata": {
    "deletable": true,
    "editable": true,
    "run_control": {
     "frozen": false,
     "read_only": false
    }
   },
   "source": [
    "# Installing Jupyter Notebook Server"
   ]
  },
  {
   "cell_type": "markdown",
   "metadata": {
    "deletable": true,
    "editable": true,
    "run_control": {
     "frozen": false,
     "read_only": false
    }
   },
   "source": [
    "[Documentation](http://jupyter.readthedocs.org/en/latest/install.html) for installing jupyter notebook server"
   ]
  },
  {
   "cell_type": "code",
   "execution_count": null,
   "metadata": {
    "collapsed": true,
    "deletable": true,
    "editable": true,
    "run_control": {
     "frozen": false,
     "read_only": false
    }
   },
   "outputs": [],
   "source": [
    "# On Windows, install using conda command from Anaconda/Miniconda distribution\n",
    "conda install jupyter\n",
    "\n",
    "# Otherwise:\n",
    "pip install jupyter"
   ]
  },
  {
   "cell_type": "markdown",
   "metadata": {
    "deletable": true,
    "editable": true,
    "run_control": {
     "frozen": false,
     "read_only": false
    }
   },
   "source": [
    "# Setting up jupyter notebook server"
   ]
  },
  {
   "cell_type": "markdown",
   "metadata": {
    "deletable": true,
    "editable": true,
    "run_control": {
     "frozen": false,
     "read_only": false
    }
   },
   "source": [
    "[Documentation](http://jupyter-notebook.readthedocs.org/en/latest/public_server.html) for setting up the notebook server."
   ]
  },
  {
   "cell_type": "markdown",
   "metadata": {
    "deletable": true,
    "editable": true,
    "run_control": {
     "frozen": false,
     "read_only": false
    }
   },
   "source": [
    "**Create environment variables to override default location where config file and extensions will be saved**"
   ]
  },
  {
   "cell_type": "code",
   "execution_count": null,
   "metadata": {
    "collapsed": true,
    "deletable": true,
    "editable": true,
    "run_control": {
     "frozen": false,
     "read_only": false
    }
   },
   "outputs": [],
   "source": [
    "# Create JUPYTER_CONFIG_DIR (where config file will be saved) and \n",
    "# JUPYTER_DATA_DIR (where extensions will be saved) environment variables\n",
    "# In Windows, you can either create a .bat file or in advanced settings, do:\n",
    "set JUPYTER_CONFIG_DIR=your_path\n",
    "set JUPYTER_DATA_DIR=your_path\n",
    "set IPYTHONDIR=your_path\n",
    "\n",
    "# In Linux\n",
    "export JUPYTER_CONFIG_DIR=your_path\n",
    "export JUPYTER_DATA_DIR=your_path\n",
    "export IPYTHONDIR=your_path"
   ]
  },
  {
   "cell_type": "markdown",
   "metadata": {
    "deletable": true,
    "editable": true,
    "run_control": {
     "frozen": false,
     "read_only": false
    }
   },
   "source": [
    "**Generate config file and modify it to customize jupyter server for your needs.**"
   ]
  },
  {
   "cell_type": "code",
   "execution_count": null,
   "metadata": {
    "collapsed": true,
    "deletable": true,
    "editable": true,
    "run_control": {
     "frozen": false,
     "read_only": false
    }
   },
   "outputs": [],
   "source": [
    "# With your environment activated and at the terminal, execute this to create a profile:\n",
    "jupyter notebook --generate-config\n",
    "\n",
    "# To confirm location of configuration file, at terminal:\n",
    "jupyter --config-dir\n",
    "\n",
    "# To confirm location of data directory (where installed extensions are saved), at terminal:\n",
    "jupyter --data-dir\n",
    "\n",
    "# Then edit the jupyter_notebook_config.py file located at JUPYTER_CONFIG_DIR\n",
    "# Uncomment the following lines, if not already:\n",
    "c.NotebookApp.ip = '127.0.0.1'\n",
    "c.NotebookApp.port = 8888\n",
    "c.NotebookApp.open_browser = False\n",
    "c.NotebookApp.enable_mathjax = True\n",
    "c.NotebookApp.base_url = '/jupyter/'  # or whatever you want to call it\n",
    "c.NotebookApp.notebook_dir = '/home/user/your_notebook_dir'  # linux\n",
    "# or on Windows:\n",
    "c.NotebookApp.notebbook_dir = r'D:\\your_notebook_dir'\n",
    "\n",
    "# That should be it!"
   ]
  },
  {
   "cell_type": "markdown",
   "metadata": {
    "deletable": true,
    "editable": true,
    "run_control": {
     "frozen": false,
     "read_only": false
    }
   },
   "source": [
    "# Installing Notebook Extensions"
   ]
  },
  {
   "cell_type": "markdown",
   "metadata": {
    "deletable": true,
    "editable": true,
    "run_control": {
     "frozen": false,
     "read_only": false
    }
   },
   "source": [
    "[Documentation](https://github.com/ipython-contrib/IPython-notebook-extensions/) for installing notebook extensions."
   ]
  }
 ],
 "metadata": {
  "hide_input": false,
  "kernelspec": {
   "display_name": "Python 3",
   "language": "python",
   "name": "python3"
  },
  "language_info": {
   "codemirror_mode": {
    "name": "ipython",
    "version": 3
   },
   "file_extension": ".py",
   "mimetype": "text/x-python",
   "name": "python",
   "nbconvert_exporter": "python",
   "pygments_lexer": "ipython3",
   "version": "3.6.1"
  }
 },
 "nbformat": 4,
 "nbformat_minor": 0
}
