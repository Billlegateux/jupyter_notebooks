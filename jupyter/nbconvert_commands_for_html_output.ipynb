{
 "cells": [
  {
   "cell_type": "markdown",
   "metadata": {},
   "source": [
    "# CLI Options"
   ]
  },
  {
   "cell_type": "markdown",
   "metadata": {},
   "source": [
    "#### Example usage for removing input cells and remove all input/output prompts having to escape the double quotes:\n",
    "\n",
    "```jupyter nbconvert Untitled.ipynb --TagRemovePreprocessor.remove_input_tags={\\\"hide_input\\\"} --no-prompt```\n",
    "\n",
    " \n",
    "\n",
    "#### Example usage for removing input cells and remove all input/output prompts without having to escape the double quotes (Windows):\n",
    "\n",
    "```jupyter nbconvert Untitled.ipynb --TagRemovePreprocessor.remove_input_tags=\"{'hide_input'}\" --no-prompt```\n",
    "\n",
    " \n",
    "\n",
    "#### Example usage for removing input cells and remove all input/output prompts without having to escape the double quotes (‘Nix):\n",
    "\n",
    "```jupyter nbconvert Untitled.ipynb --TagRemovePreprocessor.remove_input_tags=’{“hide_input”}’ --no-prompt```"
   ]
  },
  {
   "cell_type": "markdown",
   "metadata": {},
   "source": [
    "# Using --config option to use a config file"
   ]
  },
  {
   "cell_type": "markdown",
   "metadata": {},
   "source": [
    "Alternatively, save options in config file and execute command like so:\n",
    "\n",
    "```jupyter nbconvert Untitled.ipynb --config configA.py```\n",
    "\n",
    " \n",
    "\n",
    "where configA.py can contain something like:\n",
    "\n",
    "c.TemplateExporter.exclude_input=True\n",
    "\n",
    "c.TemplateExporter.exclude_output_prompt=True\n",
    "\n",
    " \n",
    "\n",
    " \n",
    "\n",
    "Reference documentation for configuration options:\n",
    "\n",
    "https://nbconvert.readthedocs.io/en/latest/config_options.html"
   ]
  },
  {
   "cell_type": "markdown",
   "metadata": {},
   "source": [
    "# Using --TagRemovePreprocessor to affect specific cells instead of all cells"
   ]
  },
  {
   "cell_type": "markdown",
   "metadata": {},
   "source": [
    "If wanting to affect certain cells instead of ALL cells using cell metadata tags, then this is the CLI example:\n",
    "\n",
    "```jupyter nbconvert Untitled.ipynb --TagRemovePreprocessor.remove_input_tags=\"{'hide_input'}\" --no-prompt```\n",
    "\n",
    "\n",
    "In jupyter notebook, go to “View” --> “Cell Toolbar” --> “Tags” and then add “hide_input” tag (can be an arbitrary string, so doesn’t have to be “hide_input”).  Then save the notebook.  Then execute the CLI command above."
   ]
  }
 ],
 "metadata": {
  "hide_input": false,
  "kernelspec": {
   "display_name": "Python 3",
   "language": "python",
   "name": "python3"
  },
  "language_info": {
   "codemirror_mode": {
    "name": "ipython",
    "version": 3
   },
   "file_extension": ".py",
   "mimetype": "text/x-python",
   "name": "python",
   "nbconvert_exporter": "python",
   "pygments_lexer": "ipython3",
   "version": "3.7.3"
  }
 },
 "nbformat": 4,
 "nbformat_minor": 2
}
