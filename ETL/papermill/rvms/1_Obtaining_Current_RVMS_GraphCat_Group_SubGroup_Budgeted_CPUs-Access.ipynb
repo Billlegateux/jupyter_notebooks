{
 "cells": [
  {
   "cell_type": "markdown",
   "metadata": {},
   "source": [
    "# Process for Obtaining Current RVMS GraphCat Group-SubGroup Budgeted CPUs"
   ]
  },
  {
   "cell_type": "code",
   "execution_count": 1,
   "metadata": {},
   "outputs": [],
   "source": [
    "import great_expectations as ge\n",
    "import pyodbc\n",
    "import time\n",
    "from pathlib import Path\n",
    "from win10toast import ToastNotifier\n",
    "import os\n",
    "import pyodbc  # used for connecting to ODBC data sources\n",
    "import pandas as pd  # data analysis library\n",
    "pd.options.display.max_rows=1000\n",
    "pd.options.display.max_columns=100"
   ]
  },
  {
   "cell_type": "markdown",
   "metadata": {},
   "source": [
    "### RVMS Database Credentials"
   ]
  },
  {
   "cell_type": "code",
   "execution_count": 2,
   "metadata": {},
   "outputs": [],
   "source": [
    "userid_rvms = os.environ['windowsuser']\n",
    "pw_rvms     = os.environ['windowspwd']\n",
    "dsn_rvms = 'HDC-SQLP-RVMS'"
   ]
  },
  {
   "cell_type": "markdown",
   "metadata": {},
   "source": [
    "### Enter CLA claim month (\"YYYYMM\"):"
   ]
  },
  {
   "cell_type": "code",
   "execution_count": null,
   "metadata": {},
   "outputs": [],
   "source": [
    "# If using papermill, have to comment this out.  It doesn't support getting input from the user\n",
    "# CLA_MONTH = input(\"Enter CLA Claim Month ('YYYYMM'): \")"
   ]
  },
  {
   "cell_type": "code",
   "execution_count": 3,
   "metadata": {
    "tags": [
     "parameters"
    ]
   },
   "outputs": [],
   "source": [
    "CLA_MONTH = '201903'"
   ]
  },
  {
   "cell_type": "markdown",
   "metadata": {},
   "source": [
    "### Define where the current budgeted CPUs will be saved:"
   ]
  },
  {
   "cell_type": "code",
   "execution_count": 4,
   "metadata": {},
   "outputs": [],
   "source": [
    "base_dir = \"//207.130.185.67/aqgbudget2/Cost/Reserve Adjustments/Reports/Normal Reserve Balance Verification/RVMS_Current_Budgeted_CPUs\"\n",
    "p = Path(base_dir)\n",
    "save_dir = p / CLA_MONTH\n",
    "if not os.path.exists(save_dir):\n",
    "    os.makedirs(save_dir)"
   ]
  },
  {
   "cell_type": "markdown",
   "metadata": {},
   "source": [
    "### Run modified \"Larry's Query\""
   ]
  },
  {
   "cell_type": "markdown",
   "metadata": {},
   "source": [
    "This query obtains the current budgeted CPUs and \"Planned\" Sales that are in RVMS at the group-subgroup level."
   ]
  },
  {
   "cell_type": "markdown",
   "metadata": {},
   "source": [
    "**VERY IMPORTANT:** The CPU at the GraphCat level is calculated from summing the CPUs at the subgroup level using all decimal places.  The CPU at the GraphCat level is then rounded to 2 decimal places."
   ]
  },
  {
   "cell_type": "code",
   "execution_count": 5,
   "metadata": {},
   "outputs": [
    {
     "name": "stdout",
     "output_type": "stream",
     "text": [
      "Wall time: 1min 15s\n"
     ]
    }
   ],
   "source": [
    "%%time\n",
    "\n",
    "cnxn_string = 'DSN=' + dsn_rvms + ';UID=' + userid_rvms + ';PWD=' + pw_rvms\n",
    "\n",
    "cnxn = pyodbc.connect(cnxn_string)\n",
    "cursor = cnxn.cursor()\n",
    "\n",
    "# Copy/Paste your SQL text here\n",
    "sql = \"\"\"\n",
    "/** Query to obtain current budgeted CPUs at the SubGroup level and also at the GraphCat level\n",
    "    NOTE: The CPU at the GraphCat level was derived from summing the CPUs at the SubGroup level using all decimal places.\n",
    "          Then the CPU at the GraphCat level was rounded to 2 decimal places\n",
    "**/\n",
    "WITH CPU_SUBGRP_LEVEL AS (\n",
    "\n",
    "SELECT\n",
    "    A.GraphCatID,\n",
    "    RTRIM(D.GraphCatDesc) AS GraphCatDesc,\n",
    "    B.GRP_NM,\n",
    "    C.SUBGRP_NM,\n",
    "    SUM(COALESCE(E.Budgeted_CPU,0.000)) AS Budgeted_CPU_SubGroup_Level\n",
    "\n",
    "FROM dbo.tbl_GC_GRPS AS A\n",
    "    INNER JOIN dbo.tbl_MQ_GRPKEYS AS F ON A.GRPKEY_ID = F.GRPKEY_ID\n",
    "    INNER JOIN dbo.tbl_MQ_GRPS AS B ON F.GRP_ID = B.GRP_ID\n",
    "    INNER JOIN tbl_MQ_SUBGRPS AS C ON F.SUBGRP_ID = C.SUBGRP_ID\n",
    "    INNER JOIN tbl_GraphCatMaster AS D ON A.GraphCatID = D.GraphCatID\n",
    "    LEFT JOIN tbl_GraphCat_MIS AS E ON A.GC_GRP_ID = E.GC_GRP_ID\n",
    "\n",
    "WHERE\n",
    "    D.GraphCatType = 'R'\n",
    "    and D.GraphCatDesc like 'R %'\n",
    "\n",
    "GROUP BY\n",
    "    A.GraphCatID,\n",
    "    D.GraphCatDesc,\n",
    "    B.GRP_NM,\n",
    "    C.SUBGRP_NM\n",
    "),\n",
    "\n",
    "GC_SALES as (\n",
    "\n",
    "SELECT\n",
    "    GraphCatID,\n",
    "    sum(PlannedSales) as Planned_Sales_RVMS\n",
    "\n",
    "FROM\n",
    "    tbl_GraphCatMonthlySales\n",
    "\n",
    "GROUP BY\n",
    "    GraphCatID\n",
    "),\n",
    "\n",
    "CPU_GC_LEVEL as (\n",
    "SELECT\n",
    "    GraphCatID,\n",
    "    SUM(Budgeted_CPU_SubGroup_Level) AS Budgeted_CPU_GC_Level,\n",
    "    SUM(Orig_Saturation_CPU) as Orig_Saturation_CPU_GC_Level\n",
    "\n",
    "FROM (\n",
    "\n",
    "SELECT\n",
    "    A.GraphCatID,\n",
    "    RTRIM(D.GraphCatDesc) AS GraphCatDesc,\n",
    "    B.GRP_NM,\n",
    "    C.SUBGRP_NM,\n",
    "    SUM(COALESCE(E.Budgeted_CPU,0.000)) AS Budgeted_CPU_SubGroup_Level,\n",
    "    SUM(COALESCE(E.OriginalReserve_CPU,0.000)) as Orig_Saturation_CPU\n",
    "\n",
    "FROM dbo.tbl_GC_GRPS AS A\n",
    "    INNER JOIN dbo.tbl_MQ_GRPKEYS AS F ON A.GRPKEY_ID = F.GRPKEY_ID\n",
    "    INNER JOIN dbo.tbl_MQ_GRPS AS B ON F.GRP_ID = B.GRP_ID\n",
    "    INNER JOIN tbl_MQ_SUBGRPS AS C ON F.SUBGRP_ID = C.SUBGRP_ID\n",
    "    INNER JOIN tbl_GraphCatMaster AS D ON A.GraphCatID = D.GraphCatID\n",
    "    LEFT JOIN tbl_GraphCat_MIS AS E ON A.GC_GRP_ID = E.GC_GRP_ID\n",
    "\n",
    "WHERE\n",
    "    D.GraphCatType = 'R'\n",
    "    and D.GraphCatDesc like 'R %'\n",
    "\n",
    "GROUP BY\n",
    "    A.GraphCatID,\n",
    "    D.GraphCatDesc,\n",
    "    B.GRP_NM,\n",
    "    C.SUBGRP_NM\n",
    "\n",
    ") AS CPU_GC_LEVEL\n",
    "\n",
    "GROUP BY\n",
    "    GraphCatID\n",
    "\n",
    "),\n",
    "\n",
    "\n",
    "GC_BudgetMatrix AS (\n",
    "\n",
    "    SELECT\n",
    "        GC_Budget.SaleMonth,\n",
    "        GC_Master.GraphCatID,\n",
    "        GC_Master.GraphCatDesc as GraphCat,\n",
    "        CummActual_CPU as CumActual_CPU,\n",
    "        CummBudgeted_Cpu as CumBudgeted_CPU\n",
    "\n",
    "    FROM dbo.tbl_GraphCat_BudgetedMatrix as GC_Budget\n",
    "\n",
    "        LEFT JOIN dbo.tbl_GC_GRPS AS GC_GRPS ON\n",
    "        GC_Budget.GC_GRP_ID = GC_GRPS.GC_GRP_ID\n",
    "\n",
    "        LEFT JOIN dbo.tbl_MQ_GRPKEYS AS MQ_GRPKEYS ON\n",
    "        GC_GRPS.GRPKEY_ID = MQ_GRPKEYS.GRPKEY_ID\n",
    "\n",
    "        LEFT JOIN dbo.tbl_MQ_GRPS AS MQ_GRPS ON\n",
    "        MQ_GRPKEYS.GRP_ID = MQ_GRPS.GRP_ID\n",
    "\n",
    "        LEFT JOIN dbo.tbl_MQ_SUBGRPS AS MQ_SUBGRPS ON\n",
    "        MQ_GRPKEYS.SUBGRP_ID = MQ_SUBGRPS.SUBGRP_ID\n",
    "\n",
    "        LEFT JOIN dbo.tbl_GraphCatMaster as GC_Master ON\n",
    "        GC_GRPS.GraphCatID = GC_Master.GraphCatID\n",
    "\n",
    "\n",
    "    WHERE\n",
    "        GC_Master.GraphCatType = 'R'\n",
    "        and GC_Master.GraphCatDesc like 'R %'\n",
    "\n",
    "),\n",
    "\n",
    "\n",
    "Actual_CPU_GC_Level as (\n",
    "\n",
    "SELECT\n",
    "    GraphCatID,\n",
    "    GraphCat,\n",
    "    max(CumActual_CPU) as CumActual_CPU\n",
    "\n",
    "FROM (\n",
    "\n",
    "\n",
    "SELECT\n",
    "    SaleMonth,\n",
    "    GraphCatID,\n",
    "    GraphCat,\n",
    "    sum(CumActual_CPU) as CumActual_CPU\n",
    "\n",
    "FROM (\n",
    "\n",
    "    SELECT\n",
    "        SaleMonth,\n",
    "        GraphCatID,\n",
    "        GraphCat,\n",
    "        CASE\n",
    "            WHEN CumActual_CPU = 0 THEN NULL\n",
    "        ELSE\n",
    "            CumActual_CPU\n",
    "        END AS CumActual_CPU,\n",
    "        CumBudgeted_CPU\n",
    "\n",
    "    FROM\n",
    "        GC_BudgetMatrix\n",
    "\n",
    ") AS TEMP1\n",
    "\n",
    "GROUP BY\n",
    "    SaleMonth,\n",
    "    GraphCatID,\n",
    "    GraphCat\n",
    "\n",
    ") AS TEMP2\n",
    "\n",
    "GROUP BY\n",
    "    GraphCatID,\n",
    "    GraphCat\n",
    ")\n",
    "\n",
    "SELECT\n",
    "    CPU_SUBGRP_LEVEL.*,\n",
    "    GC_SALES.Planned_Sales_RVMS,\n",
    "    ROUND(CPU_GC_LEVEL.Budgeted_CPU_GC_Level, 2) AS Budgeted_CPU_GC_Level,\n",
    "    ROUND(CPU_GC_LEVEL.Orig_Saturation_CPU_GC_Level, 2) AS Orig_Saturation_CPU_GC_Level,\n",
    "    ROUND(Actual_CPU_GC_Level.CumActual_CPU, 2) as Cum_Actual_CPU_GC_Level\n",
    "\n",
    "FROM\n",
    "    CPU_SUBGRP_LEVEL AS CPU_SUBGRP_LEVEL\n",
    "\n",
    "    LEFT JOIN GC_SALES as GC_SALES ON\n",
    "    CPU_SUBGRP_LEVEL.GraphCatID = GC_SALES.GraphCatID\n",
    "\n",
    "    LEFT JOIN CPU_GC_LEVEL as CPU_GC_LEVEL ON\n",
    "    CPU_SUBGRP_LEVEL.GraphCatID = CPU_GC_LEVEL.GraphCatID\n",
    "\n",
    "    LEFT JOIN Actual_CPU_GC_Level as Actual_CPU_GC_Level ON\n",
    "    CPU_SUBGRP_LEVEL.GraphCatID = Actual_CPU_GC_Level.GraphCatID\n",
    "\n",
    "ORDER BY\n",
    "    GraphCatID\n",
    "    \"\"\"\n",
    "\n",
    "RVMS_Current_Budgeted_CPU = pd.read_sql(sql, cnxn, index_col=None)\n",
    "\n",
    "# For large data (data > RAM, use chunking):\n",
    "\"\"\"\n",
    "for c in pd.read_sql(sql, cnxn, chunksize=10000):\n",
    "    c.to_csv(r'D:\\temp\\resultset.csv', index=False, mode='a')\"\"\"\n",
    "\n",
    "# Close connections\n",
    "cursor.close()\n",
    "cnxn.close()"
   ]
  },
  {
   "cell_type": "code",
   "execution_count": 6,
   "metadata": {},
   "outputs": [
    {
     "data": {
      "text/plain": [
       "(59160, 9)"
      ]
     },
     "execution_count": 6,
     "metadata": {},
     "output_type": "execute_result"
    }
   ],
   "source": [
    "RVMS_Current_Budgeted_CPU.shape"
   ]
  },
  {
   "cell_type": "code",
   "execution_count": 7,
   "metadata": {},
   "outputs": [
    {
     "data": {
      "text/html": [
       "<div>\n",
       "<style scoped>\n",
       "    .dataframe tbody tr th:only-of-type {\n",
       "        vertical-align: middle;\n",
       "    }\n",
       "\n",
       "    .dataframe tbody tr th {\n",
       "        vertical-align: top;\n",
       "    }\n",
       "\n",
       "    .dataframe thead th {\n",
       "        text-align: right;\n",
       "    }\n",
       "</style>\n",
       "<table border=\"1\" class=\"dataframe\">\n",
       "  <thead>\n",
       "    <tr style=\"text-align: right;\">\n",
       "      <th></th>\n",
       "      <th>GraphCatID</th>\n",
       "      <th>GraphCatDesc</th>\n",
       "      <th>GRP_NM</th>\n",
       "      <th>SUBGRP_NM</th>\n",
       "      <th>Budgeted_CPU_SubGroup_Level</th>\n",
       "      <th>Planned_Sales_RVMS</th>\n",
       "      <th>Budgeted_CPU_GC_Level</th>\n",
       "      <th>Orig_Saturation_CPU_GC_Level</th>\n",
       "      <th>Cum_Actual_CPU_GC_Level</th>\n",
       "    </tr>\n",
       "  </thead>\n",
       "  <tbody>\n",
       "    <tr>\n",
       "      <th>0</th>\n",
       "      <td>449</td>\n",
       "      <td>R HMI CIVIC 2010 4DR KA</td>\n",
       "      <td>Chassis</td>\n",
       "      <td>Calipers/Disk/Drums/Pads</td>\n",
       "      <td>0.834396</td>\n",
       "      <td>94558</td>\n",
       "      <td>102.01</td>\n",
       "      <td>152.72</td>\n",
       "      <td>101.7</td>\n",
       "    </tr>\n",
       "    <tr>\n",
       "      <th>1</th>\n",
       "      <td>449</td>\n",
       "      <td>R HMI CIVIC 2010 4DR KA</td>\n",
       "      <td>Chassis</td>\n",
       "      <td>Drive Shaft</td>\n",
       "      <td>15.891899</td>\n",
       "      <td>94558</td>\n",
       "      <td>102.01</td>\n",
       "      <td>152.72</td>\n",
       "      <td>101.7</td>\n",
       "    </tr>\n",
       "    <tr>\n",
       "      <th>2</th>\n",
       "      <td>449</td>\n",
       "      <td>R HMI CIVIC 2010 4DR KA</td>\n",
       "      <td>Chassis</td>\n",
       "      <td>Hand/cable Brakes</td>\n",
       "      <td>0.048017</td>\n",
       "      <td>94558</td>\n",
       "      <td>102.01</td>\n",
       "      <td>152.72</td>\n",
       "      <td>101.7</td>\n",
       "    </tr>\n",
       "    <tr>\n",
       "      <th>3</th>\n",
       "      <td>449</td>\n",
       "      <td>R HMI CIVIC 2010 4DR KA</td>\n",
       "      <td>Chassis</td>\n",
       "      <td>Master Cylinder</td>\n",
       "      <td>0.049997</td>\n",
       "      <td>94558</td>\n",
       "      <td>102.01</td>\n",
       "      <td>152.72</td>\n",
       "      <td>101.7</td>\n",
       "    </tr>\n",
       "    <tr>\n",
       "      <th>4</th>\n",
       "      <td>449</td>\n",
       "      <td>R HMI CIVIC 2010 4DR KA</td>\n",
       "      <td>Chassis</td>\n",
       "      <td>Steering Vibration</td>\n",
       "      <td>0.325561</td>\n",
       "      <td>94558</td>\n",
       "      <td>102.01</td>\n",
       "      <td>152.72</td>\n",
       "      <td>101.7</td>\n",
       "    </tr>\n",
       "  </tbody>\n",
       "</table>\n",
       "</div>"
      ],
      "text/plain": [
       "   GraphCatID             GraphCatDesc   GRP_NM                 SUBGRP_NM  \\\n",
       "0         449  R HMI CIVIC 2010 4DR KA  Chassis  Calipers/Disk/Drums/Pads   \n",
       "1         449  R HMI CIVIC 2010 4DR KA  Chassis               Drive Shaft   \n",
       "2         449  R HMI CIVIC 2010 4DR KA  Chassis         Hand/cable Brakes   \n",
       "3         449  R HMI CIVIC 2010 4DR KA  Chassis           Master Cylinder   \n",
       "4         449  R HMI CIVIC 2010 4DR KA  Chassis        Steering Vibration   \n",
       "\n",
       "   Budgeted_CPU_SubGroup_Level  Planned_Sales_RVMS  Budgeted_CPU_GC_Level  \\\n",
       "0                     0.834396               94558                 102.01   \n",
       "1                    15.891899               94558                 102.01   \n",
       "2                     0.048017               94558                 102.01   \n",
       "3                     0.049997               94558                 102.01   \n",
       "4                     0.325561               94558                 102.01   \n",
       "\n",
       "   Orig_Saturation_CPU_GC_Level  Cum_Actual_CPU_GC_Level  \n",
       "0                        152.72                    101.7  \n",
       "1                        152.72                    101.7  \n",
       "2                        152.72                    101.7  \n",
       "3                        152.72                    101.7  \n",
       "4                        152.72                    101.7  "
      ]
     },
     "execution_count": 7,
     "metadata": {},
     "output_type": "execute_result"
    }
   ],
   "source": [
    "RVMS_Current_Budgeted_CPU.head()"
   ]
  },
  {
   "cell_type": "markdown",
   "metadata": {},
   "source": [
    "### Create ```RVMS_Claim_Month``` column to contain the CLA claim month:"
   ]
  },
  {
   "cell_type": "code",
   "execution_count": 8,
   "metadata": {},
   "outputs": [],
   "source": [
    "RVMS_Current_Budgeted_CPU['RVMS_Claim_Month'] = CLA_MONTH"
   ]
  },
  {
   "cell_type": "code",
   "execution_count": 9,
   "metadata": {},
   "outputs": [
    {
     "data": {
      "text/html": [
       "<div>\n",
       "<style scoped>\n",
       "    .dataframe tbody tr th:only-of-type {\n",
       "        vertical-align: middle;\n",
       "    }\n",
       "\n",
       "    .dataframe tbody tr th {\n",
       "        vertical-align: top;\n",
       "    }\n",
       "\n",
       "    .dataframe thead th {\n",
       "        text-align: right;\n",
       "    }\n",
       "</style>\n",
       "<table border=\"1\" class=\"dataframe\">\n",
       "  <thead>\n",
       "    <tr style=\"text-align: right;\">\n",
       "      <th></th>\n",
       "      <th>GraphCatID</th>\n",
       "      <th>GraphCatDesc</th>\n",
       "      <th>GRP_NM</th>\n",
       "      <th>SUBGRP_NM</th>\n",
       "      <th>Budgeted_CPU_SubGroup_Level</th>\n",
       "      <th>Planned_Sales_RVMS</th>\n",
       "      <th>Budgeted_CPU_GC_Level</th>\n",
       "      <th>Orig_Saturation_CPU_GC_Level</th>\n",
       "      <th>Cum_Actual_CPU_GC_Level</th>\n",
       "      <th>RVMS_Claim_Month</th>\n",
       "    </tr>\n",
       "  </thead>\n",
       "  <tbody>\n",
       "    <tr>\n",
       "      <th>0</th>\n",
       "      <td>449</td>\n",
       "      <td>R HMI CIVIC 2010 4DR KA</td>\n",
       "      <td>Chassis</td>\n",
       "      <td>Calipers/Disk/Drums/Pads</td>\n",
       "      <td>0.834396</td>\n",
       "      <td>94558</td>\n",
       "      <td>102.01</td>\n",
       "      <td>152.72</td>\n",
       "      <td>101.7</td>\n",
       "      <td>201903</td>\n",
       "    </tr>\n",
       "    <tr>\n",
       "      <th>1</th>\n",
       "      <td>449</td>\n",
       "      <td>R HMI CIVIC 2010 4DR KA</td>\n",
       "      <td>Chassis</td>\n",
       "      <td>Drive Shaft</td>\n",
       "      <td>15.891899</td>\n",
       "      <td>94558</td>\n",
       "      <td>102.01</td>\n",
       "      <td>152.72</td>\n",
       "      <td>101.7</td>\n",
       "      <td>201903</td>\n",
       "    </tr>\n",
       "    <tr>\n",
       "      <th>2</th>\n",
       "      <td>449</td>\n",
       "      <td>R HMI CIVIC 2010 4DR KA</td>\n",
       "      <td>Chassis</td>\n",
       "      <td>Hand/cable Brakes</td>\n",
       "      <td>0.048017</td>\n",
       "      <td>94558</td>\n",
       "      <td>102.01</td>\n",
       "      <td>152.72</td>\n",
       "      <td>101.7</td>\n",
       "      <td>201903</td>\n",
       "    </tr>\n",
       "    <tr>\n",
       "      <th>3</th>\n",
       "      <td>449</td>\n",
       "      <td>R HMI CIVIC 2010 4DR KA</td>\n",
       "      <td>Chassis</td>\n",
       "      <td>Master Cylinder</td>\n",
       "      <td>0.049997</td>\n",
       "      <td>94558</td>\n",
       "      <td>102.01</td>\n",
       "      <td>152.72</td>\n",
       "      <td>101.7</td>\n",
       "      <td>201903</td>\n",
       "    </tr>\n",
       "    <tr>\n",
       "      <th>4</th>\n",
       "      <td>449</td>\n",
       "      <td>R HMI CIVIC 2010 4DR KA</td>\n",
       "      <td>Chassis</td>\n",
       "      <td>Steering Vibration</td>\n",
       "      <td>0.325561</td>\n",
       "      <td>94558</td>\n",
       "      <td>102.01</td>\n",
       "      <td>152.72</td>\n",
       "      <td>101.7</td>\n",
       "      <td>201903</td>\n",
       "    </tr>\n",
       "  </tbody>\n",
       "</table>\n",
       "</div>"
      ],
      "text/plain": [
       "   GraphCatID             GraphCatDesc   GRP_NM                 SUBGRP_NM  \\\n",
       "0         449  R HMI CIVIC 2010 4DR KA  Chassis  Calipers/Disk/Drums/Pads   \n",
       "1         449  R HMI CIVIC 2010 4DR KA  Chassis               Drive Shaft   \n",
       "2         449  R HMI CIVIC 2010 4DR KA  Chassis         Hand/cable Brakes   \n",
       "3         449  R HMI CIVIC 2010 4DR KA  Chassis           Master Cylinder   \n",
       "4         449  R HMI CIVIC 2010 4DR KA  Chassis        Steering Vibration   \n",
       "\n",
       "   Budgeted_CPU_SubGroup_Level  Planned_Sales_RVMS  Budgeted_CPU_GC_Level  \\\n",
       "0                     0.834396               94558                 102.01   \n",
       "1                    15.891899               94558                 102.01   \n",
       "2                     0.048017               94558                 102.01   \n",
       "3                     0.049997               94558                 102.01   \n",
       "4                     0.325561               94558                 102.01   \n",
       "\n",
       "   Orig_Saturation_CPU_GC_Level  Cum_Actual_CPU_GC_Level RVMS_Claim_Month  \n",
       "0                        152.72                    101.7           201903  \n",
       "1                        152.72                    101.7           201903  \n",
       "2                        152.72                    101.7           201903  \n",
       "3                        152.72                    101.7           201903  \n",
       "4                        152.72                    101.7           201903  "
      ]
     },
     "execution_count": 9,
     "metadata": {},
     "output_type": "execute_result"
    }
   ],
   "source": [
    "RVMS_Current_Budgeted_CPU.head()"
   ]
  },
  {
   "cell_type": "markdown",
   "metadata": {},
   "source": [
    "### Create data set of CPUs at GraphCat level:"
   ]
  },
  {
   "cell_type": "code",
   "execution_count": 10,
   "metadata": {},
   "outputs": [],
   "source": [
    "cpu_at_gc_level = RVMS_Current_Budgeted_CPU[['GraphCatID', 'Budgeted_CPU_GC_Level']].drop_duplicates()"
   ]
  },
  {
   "cell_type": "code",
   "execution_count": 11,
   "metadata": {},
   "outputs": [
    {
     "data": {
      "text/html": [
       "<div>\n",
       "<style scoped>\n",
       "    .dataframe tbody tr th:only-of-type {\n",
       "        vertical-align: middle;\n",
       "    }\n",
       "\n",
       "    .dataframe tbody tr th {\n",
       "        vertical-align: top;\n",
       "    }\n",
       "\n",
       "    .dataframe thead th {\n",
       "        text-align: right;\n",
       "    }\n",
       "</style>\n",
       "<table border=\"1\" class=\"dataframe\">\n",
       "  <thead>\n",
       "    <tr style=\"text-align: right;\">\n",
       "      <th></th>\n",
       "      <th>GraphCatID</th>\n",
       "      <th>Budgeted_CPU_GC_Level</th>\n",
       "    </tr>\n",
       "  </thead>\n",
       "  <tbody>\n",
       "    <tr>\n",
       "      <th>0</th>\n",
       "      <td>449</td>\n",
       "      <td>102.01</td>\n",
       "    </tr>\n",
       "    <tr>\n",
       "      <th>120</th>\n",
       "      <td>450</td>\n",
       "      <td>105.92</td>\n",
       "    </tr>\n",
       "    <tr>\n",
       "      <th>240</th>\n",
       "      <td>470</td>\n",
       "      <td>229.81</td>\n",
       "    </tr>\n",
       "    <tr>\n",
       "      <th>360</th>\n",
       "      <td>484</td>\n",
       "      <td>92.30</td>\n",
       "    </tr>\n",
       "    <tr>\n",
       "      <th>480</th>\n",
       "      <td>485</td>\n",
       "      <td>75.27</td>\n",
       "    </tr>\n",
       "  </tbody>\n",
       "</table>\n",
       "</div>"
      ],
      "text/plain": [
       "     GraphCatID  Budgeted_CPU_GC_Level\n",
       "0           449                 102.01\n",
       "120         450                 105.92\n",
       "240         470                 229.81\n",
       "360         484                  92.30\n",
       "480         485                  75.27"
      ]
     },
     "execution_count": 11,
     "metadata": {},
     "output_type": "execute_result"
    }
   ],
   "source": [
    "cpu_at_gc_level.head()"
   ]
  },
  {
   "cell_type": "markdown",
   "metadata": {},
   "source": [
    "### Create data set of original saturation CPUs at GraphCat level:"
   ]
  },
  {
   "cell_type": "code",
   "execution_count": 12,
   "metadata": {},
   "outputs": [],
   "source": [
    "orig_sat_cpu_at_gc_level = RVMS_Current_Budgeted_CPU[['GraphCatID', 'Orig_Saturation_CPU_GC_Level']].drop_duplicates()"
   ]
  },
  {
   "cell_type": "code",
   "execution_count": 13,
   "metadata": {},
   "outputs": [
    {
     "data": {
      "text/html": [
       "<div>\n",
       "<style scoped>\n",
       "    .dataframe tbody tr th:only-of-type {\n",
       "        vertical-align: middle;\n",
       "    }\n",
       "\n",
       "    .dataframe tbody tr th {\n",
       "        vertical-align: top;\n",
       "    }\n",
       "\n",
       "    .dataframe thead th {\n",
       "        text-align: right;\n",
       "    }\n",
       "</style>\n",
       "<table border=\"1\" class=\"dataframe\">\n",
       "  <thead>\n",
       "    <tr style=\"text-align: right;\">\n",
       "      <th></th>\n",
       "      <th>GraphCatID</th>\n",
       "      <th>Orig_Saturation_CPU_GC_Level</th>\n",
       "    </tr>\n",
       "  </thead>\n",
       "  <tbody>\n",
       "    <tr>\n",
       "      <th>0</th>\n",
       "      <td>449</td>\n",
       "      <td>152.72</td>\n",
       "    </tr>\n",
       "    <tr>\n",
       "      <th>120</th>\n",
       "      <td>450</td>\n",
       "      <td>177.24</td>\n",
       "    </tr>\n",
       "    <tr>\n",
       "      <th>240</th>\n",
       "      <td>470</td>\n",
       "      <td>280.50</td>\n",
       "    </tr>\n",
       "    <tr>\n",
       "      <th>360</th>\n",
       "      <td>484</td>\n",
       "      <td>127.33</td>\n",
       "    </tr>\n",
       "    <tr>\n",
       "      <th>480</th>\n",
       "      <td>485</td>\n",
       "      <td>119.83</td>\n",
       "    </tr>\n",
       "  </tbody>\n",
       "</table>\n",
       "</div>"
      ],
      "text/plain": [
       "     GraphCatID  Orig_Saturation_CPU_GC_Level\n",
       "0           449                        152.72\n",
       "120         450                        177.24\n",
       "240         470                        280.50\n",
       "360         484                        127.33\n",
       "480         485                        119.83"
      ]
     },
     "execution_count": 13,
     "metadata": {},
     "output_type": "execute_result"
    }
   ],
   "source": [
    "orig_sat_cpu_at_gc_level.head()"
   ]
  },
  {
   "cell_type": "markdown",
   "metadata": {},
   "source": [
    "### Create data set of cumulative actual CPUs at GraphCat level:"
   ]
  },
  {
   "cell_type": "code",
   "execution_count": 14,
   "metadata": {},
   "outputs": [],
   "source": [
    "actual_cpu_at_gc_level = RVMS_Current_Budgeted_CPU[['GraphCatID', 'Cum_Actual_CPU_GC_Level']].drop_duplicates()"
   ]
  },
  {
   "cell_type": "code",
   "execution_count": 15,
   "metadata": {},
   "outputs": [
    {
     "data": {
      "text/html": [
       "<div>\n",
       "<style scoped>\n",
       "    .dataframe tbody tr th:only-of-type {\n",
       "        vertical-align: middle;\n",
       "    }\n",
       "\n",
       "    .dataframe tbody tr th {\n",
       "        vertical-align: top;\n",
       "    }\n",
       "\n",
       "    .dataframe thead th {\n",
       "        text-align: right;\n",
       "    }\n",
       "</style>\n",
       "<table border=\"1\" class=\"dataframe\">\n",
       "  <thead>\n",
       "    <tr style=\"text-align: right;\">\n",
       "      <th></th>\n",
       "      <th>GraphCatID</th>\n",
       "      <th>Cum_Actual_CPU_GC_Level</th>\n",
       "    </tr>\n",
       "  </thead>\n",
       "  <tbody>\n",
       "    <tr>\n",
       "      <th>0</th>\n",
       "      <td>449</td>\n",
       "      <td>101.70</td>\n",
       "    </tr>\n",
       "    <tr>\n",
       "      <th>120</th>\n",
       "      <td>450</td>\n",
       "      <td>102.77</td>\n",
       "    </tr>\n",
       "    <tr>\n",
       "      <th>240</th>\n",
       "      <td>470</td>\n",
       "      <td>229.52</td>\n",
       "    </tr>\n",
       "    <tr>\n",
       "      <th>360</th>\n",
       "      <td>484</td>\n",
       "      <td>92.40</td>\n",
       "    </tr>\n",
       "    <tr>\n",
       "      <th>480</th>\n",
       "      <td>485</td>\n",
       "      <td>74.28</td>\n",
       "    </tr>\n",
       "  </tbody>\n",
       "</table>\n",
       "</div>"
      ],
      "text/plain": [
       "     GraphCatID  Cum_Actual_CPU_GC_Level\n",
       "0           449                   101.70\n",
       "120         450                   102.77\n",
       "240         470                   229.52\n",
       "360         484                    92.40\n",
       "480         485                    74.28"
      ]
     },
     "execution_count": 15,
     "metadata": {},
     "output_type": "execute_result"
    }
   ],
   "source": [
    "actual_cpu_at_gc_level.head()"
   ]
  },
  {
   "cell_type": "markdown",
   "metadata": {},
   "source": [
    "### Ensure that the sum of the CPUs at the subgroup level differ from the sum of the CPUs at the GraphCat level is less than 1 currency unit"
   ]
  },
  {
   "cell_type": "code",
   "execution_count": 16,
   "metadata": {},
   "outputs": [],
   "source": [
    "assert abs(RVMS_Current_Budgeted_CPU['Budgeted_CPU_SubGroup_Level'].sum() - cpu_at_gc_level['Budgeted_CPU_GC_Level'].sum()) < 1.0"
   ]
  },
  {
   "cell_type": "code",
   "execution_count": 17,
   "metadata": {},
   "outputs": [
    {
     "data": {
      "text/plain": [
       "165773.8142206478"
      ]
     },
     "execution_count": 17,
     "metadata": {},
     "output_type": "execute_result"
    }
   ],
   "source": [
    "RVMS_Current_Budgeted_CPU['Budgeted_CPU_SubGroup_Level'].sum()"
   ]
  },
  {
   "cell_type": "code",
   "execution_count": 18,
   "metadata": {},
   "outputs": [
    {
     "data": {
      "text/plain": [
       "165773.88999999998"
      ]
     },
     "execution_count": 18,
     "metadata": {},
     "output_type": "execute_result"
    }
   ],
   "source": [
    "cpu_at_gc_level['Budgeted_CPU_GC_Level'].sum()"
   ]
  },
  {
   "cell_type": "markdown",
   "metadata": {},
   "source": [
    "### Create helper functions to Add Model Year, Factory, Model Name, and custom destination code to the RVMS Original Budgeted CPU data set:"
   ]
  },
  {
   "cell_type": "code",
   "execution_count": 19,
   "metadata": {},
   "outputs": [],
   "source": [
    "def getModelYear(row) -> str:\n",
    "    word_token = row['GraphCatDesc'].strip().split()\n",
    "    \n",
    "    model_year = word_token[3]\n",
    "    \n",
    "    if model_year.isdigit():\n",
    "        return model_year\n",
    "    else:\n",
    "        return word_token[4]\n",
    "        \n",
    "\n",
    "def getFactoryCode(row) -> str:\n",
    "    word_token = row['GraphCatDesc'].strip().split()\n",
    "    factory_code = word_token[1]\n",
    "    \n",
    "    return factory_code.upper()\n",
    "\n",
    "def getModelName(row) -> str:\n",
    "    word_token = row['GraphCatDesc'].strip().split()\n",
    "    model_name = word_token[2]\n",
    "    \n",
    "    return model_name.upper()\n",
    "    \n",
    "def getDestCode(row) -> str:\n",
    "    word_token = row['GraphCatDesc'].strip().split()\n",
    "    destination_code = word_token[-1]\n",
    "    \n",
    "    return destination_code.upper()"
   ]
  },
  {
   "cell_type": "code",
   "execution_count": 20,
   "metadata": {},
   "outputs": [],
   "source": [
    "RVMS_Current_Budgeted_CPU['ModelYear'] = RVMS_Current_Budgeted_CPU.apply(getModelYear, axis='columns')\n",
    "RVMS_Current_Budgeted_CPU['Factory'] = RVMS_Current_Budgeted_CPU.apply(getFactoryCode, axis='columns')\n",
    "RVMS_Current_Budgeted_CPU['ModelName'] = RVMS_Current_Budgeted_CPU.apply(getModelName, axis='columns')\n",
    "RVMS_Current_Budgeted_CPU['DestCode'] = RVMS_Current_Budgeted_CPU.apply(getDestCode, axis='columns')"
   ]
  },
  {
   "cell_type": "code",
   "execution_count": 21,
   "metadata": {},
   "outputs": [
    {
     "data": {
      "text/html": [
       "<div>\n",
       "<style scoped>\n",
       "    .dataframe tbody tr th:only-of-type {\n",
       "        vertical-align: middle;\n",
       "    }\n",
       "\n",
       "    .dataframe tbody tr th {\n",
       "        vertical-align: top;\n",
       "    }\n",
       "\n",
       "    .dataframe thead th {\n",
       "        text-align: right;\n",
       "    }\n",
       "</style>\n",
       "<table border=\"1\" class=\"dataframe\">\n",
       "  <thead>\n",
       "    <tr style=\"text-align: right;\">\n",
       "      <th></th>\n",
       "      <th>GraphCatID</th>\n",
       "      <th>GraphCatDesc</th>\n",
       "      <th>GRP_NM</th>\n",
       "      <th>SUBGRP_NM</th>\n",
       "      <th>Budgeted_CPU_SubGroup_Level</th>\n",
       "      <th>Planned_Sales_RVMS</th>\n",
       "      <th>Budgeted_CPU_GC_Level</th>\n",
       "      <th>Orig_Saturation_CPU_GC_Level</th>\n",
       "      <th>Cum_Actual_CPU_GC_Level</th>\n",
       "      <th>RVMS_Claim_Month</th>\n",
       "      <th>ModelYear</th>\n",
       "      <th>Factory</th>\n",
       "      <th>ModelName</th>\n",
       "      <th>DestCode</th>\n",
       "    </tr>\n",
       "  </thead>\n",
       "  <tbody>\n",
       "    <tr>\n",
       "      <th>0</th>\n",
       "      <td>449</td>\n",
       "      <td>R HMI CIVIC 2010 4DR KA</td>\n",
       "      <td>Chassis</td>\n",
       "      <td>Calipers/Disk/Drums/Pads</td>\n",
       "      <td>0.834396</td>\n",
       "      <td>94558</td>\n",
       "      <td>102.01</td>\n",
       "      <td>152.72</td>\n",
       "      <td>101.7</td>\n",
       "      <td>201903</td>\n",
       "      <td>2010</td>\n",
       "      <td>HMI</td>\n",
       "      <td>CIVIC</td>\n",
       "      <td>KA</td>\n",
       "    </tr>\n",
       "    <tr>\n",
       "      <th>1</th>\n",
       "      <td>449</td>\n",
       "      <td>R HMI CIVIC 2010 4DR KA</td>\n",
       "      <td>Chassis</td>\n",
       "      <td>Drive Shaft</td>\n",
       "      <td>15.891899</td>\n",
       "      <td>94558</td>\n",
       "      <td>102.01</td>\n",
       "      <td>152.72</td>\n",
       "      <td>101.7</td>\n",
       "      <td>201903</td>\n",
       "      <td>2010</td>\n",
       "      <td>HMI</td>\n",
       "      <td>CIVIC</td>\n",
       "      <td>KA</td>\n",
       "    </tr>\n",
       "    <tr>\n",
       "      <th>2</th>\n",
       "      <td>449</td>\n",
       "      <td>R HMI CIVIC 2010 4DR KA</td>\n",
       "      <td>Chassis</td>\n",
       "      <td>Hand/cable Brakes</td>\n",
       "      <td>0.048017</td>\n",
       "      <td>94558</td>\n",
       "      <td>102.01</td>\n",
       "      <td>152.72</td>\n",
       "      <td>101.7</td>\n",
       "      <td>201903</td>\n",
       "      <td>2010</td>\n",
       "      <td>HMI</td>\n",
       "      <td>CIVIC</td>\n",
       "      <td>KA</td>\n",
       "    </tr>\n",
       "    <tr>\n",
       "      <th>3</th>\n",
       "      <td>449</td>\n",
       "      <td>R HMI CIVIC 2010 4DR KA</td>\n",
       "      <td>Chassis</td>\n",
       "      <td>Master Cylinder</td>\n",
       "      <td>0.049997</td>\n",
       "      <td>94558</td>\n",
       "      <td>102.01</td>\n",
       "      <td>152.72</td>\n",
       "      <td>101.7</td>\n",
       "      <td>201903</td>\n",
       "      <td>2010</td>\n",
       "      <td>HMI</td>\n",
       "      <td>CIVIC</td>\n",
       "      <td>KA</td>\n",
       "    </tr>\n",
       "    <tr>\n",
       "      <th>4</th>\n",
       "      <td>449</td>\n",
       "      <td>R HMI CIVIC 2010 4DR KA</td>\n",
       "      <td>Chassis</td>\n",
       "      <td>Steering Vibration</td>\n",
       "      <td>0.325561</td>\n",
       "      <td>94558</td>\n",
       "      <td>102.01</td>\n",
       "      <td>152.72</td>\n",
       "      <td>101.7</td>\n",
       "      <td>201903</td>\n",
       "      <td>2010</td>\n",
       "      <td>HMI</td>\n",
       "      <td>CIVIC</td>\n",
       "      <td>KA</td>\n",
       "    </tr>\n",
       "  </tbody>\n",
       "</table>\n",
       "</div>"
      ],
      "text/plain": [
       "   GraphCatID             GraphCatDesc   GRP_NM                 SUBGRP_NM  \\\n",
       "0         449  R HMI CIVIC 2010 4DR KA  Chassis  Calipers/Disk/Drums/Pads   \n",
       "1         449  R HMI CIVIC 2010 4DR KA  Chassis               Drive Shaft   \n",
       "2         449  R HMI CIVIC 2010 4DR KA  Chassis         Hand/cable Brakes   \n",
       "3         449  R HMI CIVIC 2010 4DR KA  Chassis           Master Cylinder   \n",
       "4         449  R HMI CIVIC 2010 4DR KA  Chassis        Steering Vibration   \n",
       "\n",
       "   Budgeted_CPU_SubGroup_Level  Planned_Sales_RVMS  Budgeted_CPU_GC_Level  \\\n",
       "0                     0.834396               94558                 102.01   \n",
       "1                    15.891899               94558                 102.01   \n",
       "2                     0.048017               94558                 102.01   \n",
       "3                     0.049997               94558                 102.01   \n",
       "4                     0.325561               94558                 102.01   \n",
       "\n",
       "   Orig_Saturation_CPU_GC_Level  Cum_Actual_CPU_GC_Level RVMS_Claim_Month  \\\n",
       "0                        152.72                    101.7           201903   \n",
       "1                        152.72                    101.7           201903   \n",
       "2                        152.72                    101.7           201903   \n",
       "3                        152.72                    101.7           201903   \n",
       "4                        152.72                    101.7           201903   \n",
       "\n",
       "  ModelYear Factory ModelName DestCode  \n",
       "0      2010     HMI     CIVIC       KA  \n",
       "1      2010     HMI     CIVIC       KA  \n",
       "2      2010     HMI     CIVIC       KA  \n",
       "3      2010     HMI     CIVIC       KA  \n",
       "4      2010     HMI     CIVIC       KA  "
      ]
     },
     "execution_count": 21,
     "metadata": {},
     "output_type": "execute_result"
    }
   ],
   "source": [
    "RVMS_Current_Budgeted_CPU.head()"
   ]
  },
  {
   "cell_type": "markdown",
   "metadata": {},
   "source": [
    "### Perform data validation checks using Great Expectations library"
   ]
  },
  {
   "cell_type": "markdown",
   "metadata": {},
   "source": [
    "#### Create Great Expectations dataframe from pandas dataframe:"
   ]
  },
  {
   "cell_type": "code",
   "execution_count": 22,
   "metadata": {},
   "outputs": [],
   "source": [
    "ge_df = ge.from_pandas(RVMS_Current_Budgeted_CPU)"
   ]
  },
  {
   "cell_type": "markdown",
   "metadata": {},
   "source": [
    "#### Check Model Years are between 1994 and 2099"
   ]
  },
  {
   "cell_type": "code",
   "execution_count": 23,
   "metadata": {},
   "outputs": [
    {
     "name": "stdout",
     "output_type": "stream",
     "text": [
      "Passed Model Year Check\n"
     ]
    }
   ],
   "source": [
    "if ge_df.expect_column_values_to_be_between(column=\"ModelYear\", min_value='1994', max_value='2099')['success']:\n",
    "    print('Passed Model Year Check')\n",
    "else:\n",
    "    print('FAILED Model Year Check')\n",
    "    toaster = ToastNotifier()\n",
    "    toaster.show_toast(\"### Check Status ###\",\n",
    "                   \"FAILED Model Year Check\",\n",
    "                   icon_path=\"images/honda_logo.ico\",\n",
    "                   duration=10)\n",
    "    raise Exception(\"ERROR: Failed Model Year Check\")"
   ]
  },
  {
   "cell_type": "markdown",
   "metadata": {},
   "source": [
    "#### Check Factory values are limited to one of:"
   ]
  },
  {
   "cell_type": "markdown",
   "metadata": {},
   "source": [
    "'ELP','HCL','HCM','HDM','HMA','HMI','MAP','PMC'"
   ]
  },
  {
   "cell_type": "code",
   "execution_count": 24,
   "metadata": {},
   "outputs": [
    {
     "name": "stdout",
     "output_type": "stream",
     "text": [
      "Passed Factory Check\n"
     ]
    }
   ],
   "source": [
    "if ge_df.expect_column_values_to_be_in_set(column=\"Factory\", value_set=['ELP','HCL','HCM','HDM','HMA','HMI','MAP','PMC'])['success']:\n",
    "    print('Passed Factory Check')\n",
    "else:\n",
    "    print('FAILED Factory Check')\n",
    "    toaster = ToastNotifier()\n",
    "    toaster.show_toast(\"### Check Status ###\",\n",
    "                   \"FAILED Factory Check\",\n",
    "                   icon_path=\"images/honda_logo.ico\",\n",
    "                   duration=10)\n",
    "    raise Exception(\"ERROR: Failed Factory Check\")"
   ]
  },
  {
   "cell_type": "markdown",
   "metadata": {},
   "source": [
    "#### Check Model Names are limited to one of:"
   ]
  },
  {
   "cell_type": "markdown",
   "metadata": {},
   "source": [
    "'ACCORD','CIVIC','CROSSTOUR','CRV','CSX','EL','ELEMENT','FIT','HRV','ILX','INSIGHT','MDX','NSX','ODYSSEY','PASSPORT','PILOT','RDX','RIDGELINE','TL','TLX','ZDX'"
   ]
  },
  {
   "cell_type": "code",
   "execution_count": 25,
   "metadata": {},
   "outputs": [
    {
     "name": "stdout",
     "output_type": "stream",
     "text": [
      "Passed Model Name Check\n"
     ]
    }
   ],
   "source": [
    "if ge_df.expect_column_values_to_be_in_set(column=\"ModelName\", value_set=['ACCORD','CIVIC','CROSSTOUR','CRV','CSX','EL',\n",
    "                                                                          'ELEMENT','FIT','HRV','ILX','INSIGHT','MDX','NSX',\n",
    "                                                                          'ODYSSEY','PASSPORT','PILOT','RDX','RIDGELINE','TL','TLX','ZDX'\n",
    "                                                                         ])['success']:\n",
    "    print('Passed Model Name Check')\n",
    "else:\n",
    "    print('FAILED Model Name Check')\n",
    "    toaster = ToastNotifier()\n",
    "    toaster.show_toast(\"### Check Status ###\",\n",
    "                   \"FAILED Factory Check\",\n",
    "                   icon_path=\"images/honda_logo.ico\",\n",
    "                   duration=10)\n",
    "    raise Exception(\"ERROR: Failed Model Name Check\")"
   ]
  },
  {
   "cell_type": "markdown",
   "metadata": {},
   "source": [
    "I think Great_Expectations library has a [bug](https://github.com/great-expectations/great_expectations/issues/412).  If my column contains missing model names or None objects, the above test still passes!  So I have to test for Null or missing values with this test below:"
   ]
  },
  {
   "cell_type": "code",
   "execution_count": 26,
   "metadata": {},
   "outputs": [
    {
     "name": "stdout",
     "output_type": "stream",
     "text": [
      "No model names are null\n"
     ]
    }
   ],
   "source": [
    "if ge_df.expect_column_values_to_not_be_null(column=\"ModelName\")['success']:\n",
    "    print('No model names are null')\n",
    "else:\n",
    "    print('Null model names found')\n",
    "    toaster = ToastNotifier()\n",
    "    toaster.show_toast(\"### Check Status ###\",\n",
    "                   \"FAILED Factory Check\",\n",
    "                   icon_path=\"images/honda_logo.ico\",\n",
    "                   duration=10)\n",
    "    raise Exception(\"ERROR: Failed Model Name Check\")"
   ]
  },
  {
   "cell_type": "code",
   "execution_count": 27,
   "metadata": {},
   "outputs": [],
   "source": [
    "RVMS_Current_Budgeted_CPU.to_excel(save_dir / 'All_Plants_Budgeted_CPU_By_Group_SubGroup.xlsx', index=False)"
   ]
  },
  {
   "cell_type": "markdown",
   "metadata": {},
   "source": [
    "### Send notification that MS Access process will begin"
   ]
  },
  {
   "cell_type": "code",
   "execution_count": 28,
   "metadata": {},
   "outputs": [
    {
     "data": {
      "text/plain": [
       "True"
      ]
     },
     "execution_count": 28,
     "metadata": {},
     "output_type": "execute_result"
    }
   ],
   "source": [
    "toaster = ToastNotifier()\n",
    "toaster.show_toast(\"### MS Access Proccess ###\",\n",
    "                   \"Storing current budgeted CPUs - Please wait...\",\n",
    "                   icon_path=\"images/honda_logo.ico\",\n",
    "                   duration=5)"
   ]
  },
  {
   "cell_type": "markdown",
   "metadata": {},
   "source": [
    "### Also save the current budgeted CPUs into an MS Access database, but first we must empty the table containing data from a previous run:"
   ]
  },
  {
   "cell_type": "code",
   "execution_count": 29,
   "metadata": {},
   "outputs": [],
   "source": [
    "conn_str = (\n",
    "            r'DRIVER={Microsoft Access Driver (*.mdb, *.accdb)};'\n",
    "            r'DBQ=\\\\207.130.185.67\\aqgbudget2\\Cost\\Reserve Adjustments\\Reports\\databases\\RVMS.accdb;'\n",
    "           )\n",
    "\n",
    "cnxn = pyodbc.connect(conn_str)\n",
    "cursor = cnxn.cursor()\n",
    "\n",
    "sql = \"\"\"\n",
    "DELETE\n",
    "\n",
    "FROM tbl_Current_Budgeted_CPU\n",
    "\"\"\"\n",
    "\n",
    "try:\n",
    "    cursor.execute(sql)\n",
    "    cnxn.commit()\n",
    "    \n",
    "    # Close connections\n",
    "    cursor.close()\n",
    "    cnxn.close()\n",
    "except:\n",
    "    print(\"Error connecting to database\")\n",
    "    cursor.close()\n",
    "    cnxn.close()"
   ]
  },
  {
   "cell_type": "markdown",
   "metadata": {},
   "source": [
    "### Now insert the current CPUs into the MS Access database"
   ]
  },
  {
   "cell_type": "code",
   "execution_count": 30,
   "metadata": {},
   "outputs": [
    {
     "name": "stdout",
     "output_type": "stream",
     "text": [
      "Wall time: 2min 15s\n"
     ]
    }
   ],
   "source": [
    "%%time\n",
    "conn_str = (\n",
    "            r'DRIVER={Microsoft Access Driver (*.mdb, *.accdb)};'\n",
    "            r'DBQ=\\\\207.130.185.67\\aqgbudget2\\Cost\\Reserve Adjustments\\Reports\\databases\\RVMS.accdb;'\n",
    "           )\n",
    "cnxn = pyodbc.connect(conn_str, autocommit=True)\n",
    "\n",
    "try:\n",
    "    for index, row in RVMS_Current_Budgeted_CPU.iterrows():\n",
    "        with cnxn.cursor() as cursor:\n",
    "            #cursor.setinputsizes([(pyodbc.SQL_INTEGER,)])\n",
    "            cursor.execute(\"INSERT INTO tbl_Current_Budgeted_CPU(GraphCatID, \\\n",
    "                                                                 GraphCatDesc, \\\n",
    "                                                                 GRP_NM, \\\n",
    "                                                                 SUBGRP_NM, \\\n",
    "                                                                 Budgeted_CPU_SubGroup_Level, \\\n",
    "                                                                 Planned_Sales_RVMS, \\\n",
    "                                                                 Budgeted_CPU_GC_Level, \\\n",
    "                                                                 Orig_Saturation_CPU_GC_Level, \\\n",
    "                                                                 Cum_Actual_CPU_GC_Level, \\\n",
    "                                                                 RVMS_Claim_Month, \\\n",
    "                                                                 ModelYear, \\\n",
    "                                                                 Factory, \\\n",
    "                                                                 ModelName, \\\n",
    "                                                                 DestCode \\\n",
    "                                                                ) VALUES(?,?,?,?,?,?,?,?,?,?,?,?,?,?)\", \n",
    "                           row[0],\n",
    "                           row[1],\n",
    "                           row[2],\n",
    "                           row[3],\n",
    "                           row[4],\n",
    "                           row[5],\n",
    "                           row[6],\n",
    "                           row[7],\n",
    "                           row[8],\n",
    "                           row[9],\n",
    "                           row[10],\n",
    "                           row[11],\n",
    "                           row[12],\n",
    "                           row[13]\n",
    "                          )\n",
    "            cursor.commit()\n",
    "        \n",
    "    cnxn.close()\n",
    "\n",
    "except Exception as e:\n",
    "    print(\"Error connecting to the database: \", str(e))\n",
    "    cnxn.close()"
   ]
  },
  {
   "cell_type": "markdown",
   "metadata": {},
   "source": [
    "### Confirm that the number of rows inserted into ```tbl_Current_Budgeted_CPU``` matches the``` RVMS_Current_Budgeted_CPU``` dataframe.  There could be in theory, a network drop or latency issue where not all the rows were inserted.  This has happened before!"
   ]
  },
  {
   "cell_type": "code",
   "execution_count": 31,
   "metadata": {},
   "outputs": [],
   "source": [
    "conn_str = (\n",
    "            r'DRIVER={Microsoft Access Driver (*.mdb, *.accdb)};'\n",
    "            r'DBQ=\\\\207.130.185.67\\aqgbudget2\\Cost\\Reserve Adjustments\\Reports\\databases\\RVMS.accdb;'\n",
    "           )\n",
    "cnxn = pyodbc.connect(conn_str)\n",
    "cursor = cnxn.cursor()\n",
    "\n",
    "sql = \"\"\"\n",
    "SELECT\n",
    "    count(*) as Qty\n",
    "    \n",
    "FROM tbl_Current_Budgeted_CPU\n",
    "\"\"\"\n",
    "\n",
    "try:\n",
    "    cpu_current = pd.read_sql(sql, cnxn)\n",
    "    #cpu_before = pd.read_sql(sql, cnxn)\n",
    "    \n",
    "    # Close connections\n",
    "    cursor.close()\n",
    "    cnxn.close()\n",
    "except Exception as e:\n",
    "    print(\"Error connecting to the database: \", str(e))\n",
    "    cursor.close()\n",
    "    cnxn.close()"
   ]
  },
  {
   "cell_type": "code",
   "execution_count": 32,
   "metadata": {},
   "outputs": [
    {
     "data": {
      "text/plain": [
       "59160"
      ]
     },
     "execution_count": 32,
     "metadata": {},
     "output_type": "execute_result"
    }
   ],
   "source": [
    "cpu_current.values[0][0]"
   ]
  },
  {
   "cell_type": "code",
   "execution_count": 33,
   "metadata": {},
   "outputs": [],
   "source": [
    "assert cpu_current.values[0][0] == RVMS_Current_Budgeted_CPU.shape[0]"
   ]
  },
  {
   "cell_type": "markdown",
   "metadata": {},
   "source": [
    "#### If the script made it this far, then it must have completed without errors.  Send out a Windows toast notification that the script has successfully completed:"
   ]
  },
  {
   "cell_type": "code",
   "execution_count": 34,
   "metadata": {},
   "outputs": [
    {
     "data": {
      "text/plain": [
       "True"
      ]
     },
     "execution_count": 34,
     "metadata": {},
     "output_type": "execute_result"
    }
   ],
   "source": [
    "toaster = ToastNotifier()\n",
    "toaster.show_toast(\"### Export COMPLETED ###\",\n",
    "                   \"Successfuly Obtained and Validated Current RVMS Group-SubGroup Budgeted CPUs\",\n",
    "                   icon_path=\"images/honda_logo.ico\",\n",
    "                   duration=5)"
   ]
  }
 ],
 "metadata": {
  "hide_input": false,
  "jupytext": {
   "formats": "ipynb,py:percent"
  },
  "kernelspec": {
   "display_name": "Python 3",
   "language": "python",
   "name": "python3"
  },
  "language_info": {
   "codemirror_mode": {
    "name": "ipython",
    "version": 3
   },
   "file_extension": ".py",
   "mimetype": "text/x-python",
   "name": "python",
   "nbconvert_exporter": "python",
   "pygments_lexer": "ipython3",
   "version": "3.7.3"
  },
  "varInspector": {
   "cols": {
    "lenName": 16,
    "lenType": 16,
    "lenVar": 40
   },
   "kernels_config": {
    "python": {
     "delete_cmd_postfix": "",
     "delete_cmd_prefix": "del ",
     "library": "var_list.py",
     "varRefreshCmd": "print(var_dic_list())"
    },
    "r": {
     "delete_cmd_postfix": ") ",
     "delete_cmd_prefix": "rm(",
     "library": "var_list.r",
     "varRefreshCmd": "cat(var_dic_list()) "
    }
   },
   "types_to_exclude": [
    "module",
    "function",
    "builtin_function_or_method",
    "instance",
    "_Feature"
   ],
   "window_display": false
  }
 },
 "nbformat": 4,
 "nbformat_minor": 2
}
