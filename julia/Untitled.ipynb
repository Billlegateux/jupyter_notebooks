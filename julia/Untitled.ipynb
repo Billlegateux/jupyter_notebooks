{
 "cells": [
  {
   "cell_type": "code",
   "execution_count": 8,
   "metadata": {},
   "outputs": [
    {
     "name": "stderr",
     "output_type": "stream",
     "text": [
      "┌ Info: Precompiling PyPlot [d330b81b-6aea-500a-939a-2ce795aea3ee]\n",
      "└ @ Base loading.jl:1186\n",
      "Fatal Python error: Py_Initialize: Unable to get the locale encoding\n",
      "ModuleNotFoundError: No module named 'encodings'\n",
      "\n",
      "Current thread 0x00007f781e836cc0 (most recent call first):\n",
      "\n",
      "signal (6): Aborted\n",
      "in expression starting at /home/pybokeh/.julia/packages/PyPlot/jXCXB/src/PyPlot.jl:5\n",
      "__libc_signal_restore_set at /build/glibc-OTsEL5/glibc-2.27/signal/../sysdeps/unix/sysv/linux/nptl-signals.h:80 [inlined]\n",
      "raise at /build/glibc-OTsEL5/glibc-2.27/signal/../sysdeps/unix/sysv/linux/raise.c:48\n",
      "abort at /build/glibc-OTsEL5/glibc-2.27/stdlib/abort.c:79\n",
      "Py_FatalError at /usr/lib/x86_64-linux-gnu/libpython3.6m.so (unknown line)\n",
      "unknown function (ip: 0x7f77fc6aab51)\n",
      "_Py_InitializeEx_Private at /usr/lib/x86_64-linux-gnu/libpython3.6m.so (unknown line)\n",
      "__init__ at /home/pybokeh/.julia/packages/PyCall/fiJ3o/src/pyinit.jl:88\n",
      "jl_fptr_trampoline at /buildworker/worker/package_linux64/build/src/gf.c:1829\n",
      "jl_apply_generic at /buildworker/worker/package_linux64/build/src/gf.c:2182\n",
      "jl_apply at /buildworker/worker/package_linux64/build/src/julia.h:1536 [inlined]\n",
      "jl_module_run_initializer at /buildworker/worker/package_linux64/build/src/toplevel.c:90\n",
      "jl_init_restored_modules at /buildworker/worker/package_linux64/build/src/dump.c:2413\n",
      "_include_from_serialized at ./loading.jl:627\n",
      "macro expansion at ./logging.jl:312 [inlined]\n",
      "_require_search_from_serialized at ./loading.jl:698\n",
      "_require at ./loading.jl:931\n",
      "require at ./loading.jl:852\n",
      "macro expansion at ./logging.jl:311 [inlined]\n",
      "require at ./loading.jl:834\n",
      "jl_apply_generic at /buildworker/worker/package_linux64/build/src/gf.c:2182\n",
      "jl_apply at /buildworker/worker/package_linux64/build/src/julia.h:1536 [inlined]\n",
      "call_require at /buildworker/worker/package_linux64/build/src/toplevel.c:441 [inlined]\n",
      "eval_import_path at /buildworker/worker/package_linux64/build/src/toplevel.c:476\n",
      "jl_toplevel_eval_flex at /buildworker/worker/package_linux64/build/src/toplevel.c:633\n",
      "jl_eval_module_expr at /buildworker/worker/package_linux64/build/src/toplevel.c:233\n",
      "jl_toplevel_eval_flex at /buildworker/worker/package_linux64/build/src/toplevel.c:616\n",
      "jl_parse_eval_all at /buildworker/worker/package_linux64/build/src/ast.c:838\n",
      "jl_load at /buildworker/worker/package_linux64/build/src/toplevel.c:821\n",
      "include at ./boot.jl:317 [inlined]\n",
      "include_relative at ./loading.jl:1038\n",
      "include at ./sysimg.jl:29\n",
      "jl_apply_generic at /buildworker/worker/package_linux64/build/src/gf.c:2182\n",
      "do_call at /buildworker/worker/package_linux64/build/src/interpreter.c:324\n",
      "eval_value at /buildworker/worker/package_linux64/build/src/interpreter.c:428\n",
      "eval_stmt_value at /buildworker/worker/package_linux64/build/src/interpreter.c:363 [inlined]\n",
      "eval_body at /buildworker/worker/package_linux64/build/src/interpreter.c:686\n",
      "eval_body at /buildworker/worker/package_linux64/build/src/interpreter.c:617\n",
      "jl_interpret_toplevel_thunk_callback at /buildworker/worker/package_linux64/build/src/interpreter.c:799\n",
      "unknown function (ip: 0xfffffffffffffffe)\n",
      "unknown function (ip: 0x7f780cd3405f)\n",
      "unknown function (ip: 0x2)\n",
      "jl_interpret_toplevel_thunk at /buildworker/worker/package_linux64/build/src/interpreter.c:808\n",
      "jl_toplevel_eval_flex at /buildworker/worker/package_linux64/build/src/toplevel.c:787\n",
      "jl_toplevel_eval_in at /buildworker/worker/package_linux64/build/src/builtins.c:622\n",
      "eval at ./boot.jl:319 [inlined]\n",
      "eval at ./client.jl:389\n",
      "jl_apply_generic at /buildworker/worker/package_linux64/build/src/gf.c:2182\n",
      "top-level scope at ./none:3\n",
      "jl_fptr_trampoline at /buildworker/worker/package_linux64/build/src/gf.c:1829\n",
      "jl_toplevel_eval_flex at /buildworker/worker/package_linux64/build/src/toplevel.c:781\n",
      "jl_toplevel_eval_in at /buildworker/worker/package_linux64/build/src/builtins.c:622\n",
      "eval at ./boot.jl:319\n",
      "jl_apply_generic at /buildworker/worker/package_linux64/build/src/gf.c:2182\n",
      "macro expansion at ./logging.jl:317 [inlined]\n",
      "exec_options at ./client.jl:219\n",
      "_start at ./client.jl:421\n",
      "jl_apply_generic at /buildworker/worker/package_linux64/build/src/gf.c:2182\n",
      "jl_apply at /buildworker/worker/package_linux64/build/ui/../src/julia.h:1536 [inlined]\n",
      "true_main at /buildworker/worker/package_linux64/build/ui/repl.c:112\n",
      "main at /buildworker/worker/package_linux64/build/ui/repl.c:233\n",
      "__libc_start_main at /build/glibc-OTsEL5/glibc-2.27/csu/../csu/libc-start.c:310\n",
      "_start at /home/pybokeh/julia-1.0.0/bin/julia (unknown line)\n",
      "Allocations: 1739785 (Pool: 1739346; Big: 439); GC: 3\n"
     ]
    },
    {
     "ename": "LoadError",
     "evalue": "Failed to precompile PyPlot [d330b81b-6aea-500a-939a-2ce795aea3ee] to /home/pybokeh/.julia/compiled/v1.0/PyPlot/oatAj.ji.",
     "output_type": "error",
     "traceback": [
      "Failed to precompile PyPlot [d330b81b-6aea-500a-939a-2ce795aea3ee] to /home/pybokeh/.julia/compiled/v1.0/PyPlot/oatAj.ji.",
      "",
      "Stacktrace:",
      " [1] error(::String) at ./error.jl:33",
      " [2] macro expansion at ./logging.jl:313 [inlined]",
      " [3] compilecache(::Base.PkgId, ::String) at ./loading.jl:1184",
      " [4] macro expansion at ./logging.jl:311 [inlined]",
      " [5] _require(::Base.PkgId) at ./loading.jl:941",
      " [6] require(::Base.PkgId) at ./loading.jl:852",
      " [7] macro expansion at ./logging.jl:311 [inlined]",
      " [8] require(::Module, ::Symbol) at ./loading.jl:834"
     ]
    }
   ],
   "source": [
    "using PyPlot"
   ]
  }
 ],
 "metadata": {
  "_draft": {
   "nbviewer_url": "https://gist.github.com/d44cd210cc7378a6488d507b8e6249de"
  },
  "gist": {
   "data": {
    "description": "julia/Untitled.ipynb",
    "public": true
   },
   "id": "d44cd210cc7378a6488d507b8e6249de"
  },
  "hide_input": false,
  "kernelspec": {
   "display_name": "Julia 1.0.0",
   "language": "julia",
   "name": "julia-1.0"
  },
  "language_info": {
   "file_extension": ".jl",
   "mimetype": "application/julia",
   "name": "julia",
   "version": "1.0.0"
  }
 },
 "nbformat": 4,
 "nbformat_minor": 2
}
