{
 "cells": [
  {
   "cell_type": "code",
   "execution_count": 1,
   "metadata": {},
   "outputs": [],
   "source": [
    "import numpy as np\n",
    "import pandas as pd\n",
    "import datetime\n",
    "import perfplot\n",
    "\n",
    "from faker import Faker"
   ]
  },
  {
   "cell_type": "code",
   "execution_count": 2,
   "metadata": {},
   "outputs": [],
   "source": [
    "def generate_test_data(size: int, days: int = 30):\n",
    "    fake = Faker()\n",
    "    Faker.seed(42)\n",
    "\n",
    "    PRIORITIES = {\n",
    "        0: 'HIGH',\n",
    "        1: 'MEDIUM',\n",
    "        2: 'LOW'\n",
    "    }\n",
    "\n",
    "    return pd.DataFrame({\n",
    "        'task_name': [f'Task {i + 1}' for i in range(size)],\n",
    "        'due_date': [fake.date_between(start_date='today', end_date=f'+{days}d') for _ in range(size)],\n",
    "        'priority': [PRIORITIES[fake.pyint(min_value=0, max_value=(len(PRIORITIES) - 1))] for i in range(size)]\n",
    "    })"
   ]
  },
  {
   "cell_type": "code",
   "execution_count": 3,
   "metadata": {},
   "outputs": [
    {
     "name": "stdout",
     "output_type": "stream",
     "text": [
      "<class 'pandas.core.frame.DataFrame'>\n",
      "RangeIndex: 10 entries, 0 to 9\n",
      "Data columns (total 3 columns):\n",
      " #   Column     Non-Null Count  Dtype \n",
      "---  ------     --------------  ----- \n",
      " 0   task_name  10 non-null     object\n",
      " 1   due_date   10 non-null     object\n",
      " 2   priority   10 non-null     object\n",
      "dtypes: object(3)\n",
      "memory usage: 368.0+ bytes\n"
     ]
    },
    {
     "data": {
      "text/html": [
       "<div>\n",
       "<style scoped>\n",
       "    .dataframe tbody tr th:only-of-type {\n",
       "        vertical-align: middle;\n",
       "    }\n",
       "\n",
       "    .dataframe tbody tr th {\n",
       "        vertical-align: top;\n",
       "    }\n",
       "\n",
       "    .dataframe thead th {\n",
       "        text-align: right;\n",
       "    }\n",
       "</style>\n",
       "<table border=\"1\" class=\"dataframe\">\n",
       "  <thead>\n",
       "    <tr style=\"text-align: right;\">\n",
       "      <th></th>\n",
       "      <th>task_name</th>\n",
       "      <th>due_date</th>\n",
       "      <th>priority</th>\n",
       "    </tr>\n",
       "  </thead>\n",
       "  <tbody>\n",
       "    <tr>\n",
       "      <th>0</th>\n",
       "      <td>Task 1</td>\n",
       "      <td>2020-10-13</td>\n",
       "      <td>LOW</td>\n",
       "    </tr>\n",
       "    <tr>\n",
       "      <th>1</th>\n",
       "      <td>Task 2</td>\n",
       "      <td>2020-10-10</td>\n",
       "      <td>LOW</td>\n",
       "    </tr>\n",
       "    <tr>\n",
       "      <th>2</th>\n",
       "      <td>Task 3</td>\n",
       "      <td>2020-10-10</td>\n",
       "      <td>LOW</td>\n",
       "    </tr>\n",
       "    <tr>\n",
       "      <th>3</th>\n",
       "      <td>Task 4</td>\n",
       "      <td>2020-10-14</td>\n",
       "      <td>HIGH</td>\n",
       "    </tr>\n",
       "    <tr>\n",
       "      <th>4</th>\n",
       "      <td>Task 5</td>\n",
       "      <td>2020-10-11</td>\n",
       "      <td>LOW</td>\n",
       "    </tr>\n",
       "    <tr>\n",
       "      <th>5</th>\n",
       "      <td>Task 6</td>\n",
       "      <td>2020-10-11</td>\n",
       "      <td>MEDIUM</td>\n",
       "    </tr>\n",
       "    <tr>\n",
       "      <th>6</th>\n",
       "      <td>Task 7</td>\n",
       "      <td>2020-10-11</td>\n",
       "      <td>HIGH</td>\n",
       "    </tr>\n",
       "    <tr>\n",
       "      <th>7</th>\n",
       "      <td>Task 8</td>\n",
       "      <td>2020-10-10</td>\n",
       "      <td>HIGH</td>\n",
       "    </tr>\n",
       "    <tr>\n",
       "      <th>8</th>\n",
       "      <td>Task 9</td>\n",
       "      <td>2020-10-14</td>\n",
       "      <td>HIGH</td>\n",
       "    </tr>\n",
       "    <tr>\n",
       "      <th>9</th>\n",
       "      <td>Task 10</td>\n",
       "      <td>2020-10-10</td>\n",
       "      <td>HIGH</td>\n",
       "    </tr>\n",
       "  </tbody>\n",
       "</table>\n",
       "</div>"
      ],
      "text/plain": [
       "  task_name    due_date priority\n",
       "0    Task 1  2020-10-13      LOW\n",
       "1    Task 2  2020-10-10      LOW\n",
       "2    Task 3  2020-10-10      LOW\n",
       "3    Task 4  2020-10-14     HIGH\n",
       "4    Task 5  2020-10-11      LOW\n",
       "5    Task 6  2020-10-11   MEDIUM\n",
       "6    Task 7  2020-10-11     HIGH\n",
       "7    Task 8  2020-10-10     HIGH\n",
       "8    Task 9  2020-10-14     HIGH\n",
       "9   Task 10  2020-10-10     HIGH"
      ]
     },
     "execution_count": 3,
     "metadata": {},
     "output_type": "execute_result"
    }
   ],
   "source": [
    "tmp_df = generate_test_data(10, 5)\n",
    "tmp_df.info()\n",
    "tmp_df.head(10)"
   ]
  },
  {
   "cell_type": "code",
   "execution_count": 4,
   "metadata": {},
   "outputs": [
    {
     "data": {
      "text/plain": [
       "'Task 1'"
      ]
     },
     "execution_count": 4,
     "metadata": {},
     "output_type": "execute_result"
    }
   ],
   "source": [
    "tmp_df['task_name'].loc[0]"
   ]
  },
  {
   "cell_type": "code",
   "execution_count": 5,
   "metadata": {},
   "outputs": [
    {
     "data": {
      "text/plain": [
       "datetime.date(2020, 10, 13)"
      ]
     },
     "execution_count": 5,
     "metadata": {},
     "output_type": "execute_result"
    }
   ],
   "source": [
    "tmp_df['due_date'].loc[0]\n",
    "# pd.to_datetime(tmp_df['due_date']).dt.date.loc[0]"
   ]
  },
  {
   "cell_type": "code",
   "execution_count": 6,
   "metadata": {},
   "outputs": [
    {
     "data": {
      "text/plain": [
       "'LOW'"
      ]
     },
     "execution_count": 6,
     "metadata": {},
     "output_type": "execute_result"
    }
   ],
   "source": [
    "tmp_df['priority'].loc[0]"
   ]
  },
  {
   "cell_type": "code",
   "execution_count": 7,
   "metadata": {},
   "outputs": [],
   "source": [
    "# Generate a million rows. Use sample from it to create various size data sets\n",
    "# Will take some time as Faker will be called sequencially.\n",
    "test_data_set = generate_test_data(1000000, 90)"
   ]
  },
  {
   "cell_type": "code",
   "execution_count": 8,
   "metadata": {},
   "outputs": [
    {
     "data": {
      "text/html": [
       "<div>\n",
       "<style scoped>\n",
       "    .dataframe tbody tr th:only-of-type {\n",
       "        vertical-align: middle;\n",
       "    }\n",
       "\n",
       "    .dataframe tbody tr th {\n",
       "        vertical-align: top;\n",
       "    }\n",
       "\n",
       "    .dataframe thead th {\n",
       "        text-align: right;\n",
       "    }\n",
       "</style>\n",
       "<table border=\"1\" class=\"dataframe\">\n",
       "  <thead>\n",
       "    <tr style=\"text-align: right;\">\n",
       "      <th></th>\n",
       "      <th>task_name</th>\n",
       "      <th>due_date</th>\n",
       "      <th>priority</th>\n",
       "    </tr>\n",
       "  </thead>\n",
       "  <tbody>\n",
       "    <tr>\n",
       "      <th>0</th>\n",
       "      <td>Task 1</td>\n",
       "      <td>2020-12-11</td>\n",
       "      <td>HIGH</td>\n",
       "    </tr>\n",
       "    <tr>\n",
       "      <th>1</th>\n",
       "      <td>Task 2</td>\n",
       "      <td>2020-10-20</td>\n",
       "      <td>LOW</td>\n",
       "    </tr>\n",
       "    <tr>\n",
       "      <th>2</th>\n",
       "      <td>Task 3</td>\n",
       "      <td>2020-10-12</td>\n",
       "      <td>LOW</td>\n",
       "    </tr>\n",
       "    <tr>\n",
       "      <th>3</th>\n",
       "      <td>Task 4</td>\n",
       "      <td>2020-12-20</td>\n",
       "      <td>MEDIUM</td>\n",
       "    </tr>\n",
       "    <tr>\n",
       "      <th>4</th>\n",
       "      <td>Task 5</td>\n",
       "      <td>2020-11-05</td>\n",
       "      <td>HIGH</td>\n",
       "    </tr>\n",
       "  </tbody>\n",
       "</table>\n",
       "</div>"
      ],
      "text/plain": [
       "  task_name    due_date priority\n",
       "0    Task 1  2020-12-11     HIGH\n",
       "1    Task 2  2020-10-20      LOW\n",
       "2    Task 3  2020-10-12      LOW\n",
       "3    Task 4  2020-12-20   MEDIUM\n",
       "4    Task 5  2020-11-05     HIGH"
      ]
     },
     "execution_count": 8,
     "metadata": {},
     "output_type": "execute_result"
    }
   ],
   "source": [
    "test_data_set.head(5)"
   ]
  },
  {
   "cell_type": "code",
   "execution_count": 9,
   "metadata": {},
   "outputs": [],
   "source": [
    "def test_data_sample(size: int):\n",
    "    return test_data_set.sample(n=size).copy().reset_index(drop=True)"
   ]
  },
  {
   "cell_type": "code",
   "execution_count": 10,
   "metadata": {},
   "outputs": [
    {
     "data": {
      "text/html": [
       "<div>\n",
       "<style scoped>\n",
       "    .dataframe tbody tr th:only-of-type {\n",
       "        vertical-align: middle;\n",
       "    }\n",
       "\n",
       "    .dataframe tbody tr th {\n",
       "        vertical-align: top;\n",
       "    }\n",
       "\n",
       "    .dataframe thead th {\n",
       "        text-align: right;\n",
       "    }\n",
       "</style>\n",
       "<table border=\"1\" class=\"dataframe\">\n",
       "  <thead>\n",
       "    <tr style=\"text-align: right;\">\n",
       "      <th></th>\n",
       "      <th>task_name</th>\n",
       "      <th>due_date</th>\n",
       "      <th>priority</th>\n",
       "    </tr>\n",
       "  </thead>\n",
       "  <tbody>\n",
       "    <tr>\n",
       "      <th>0</th>\n",
       "      <td>Task 290176</td>\n",
       "      <td>2020-11-06</td>\n",
       "      <td>LOW</td>\n",
       "    </tr>\n",
       "    <tr>\n",
       "      <th>1</th>\n",
       "      <td>Task 848911</td>\n",
       "      <td>2020-10-14</td>\n",
       "      <td>HIGH</td>\n",
       "    </tr>\n",
       "    <tr>\n",
       "      <th>2</th>\n",
       "      <td>Task 176160</td>\n",
       "      <td>2020-12-16</td>\n",
       "      <td>LOW</td>\n",
       "    </tr>\n",
       "    <tr>\n",
       "      <th>3</th>\n",
       "      <td>Task 260749</td>\n",
       "      <td>2020-11-15</td>\n",
       "      <td>MEDIUM</td>\n",
       "    </tr>\n",
       "    <tr>\n",
       "      <th>4</th>\n",
       "      <td>Task 107661</td>\n",
       "      <td>2020-11-13</td>\n",
       "      <td>MEDIUM</td>\n",
       "    </tr>\n",
       "  </tbody>\n",
       "</table>\n",
       "</div>"
      ],
      "text/plain": [
       "     task_name    due_date priority\n",
       "0  Task 290176  2020-11-06      LOW\n",
       "1  Task 848911  2020-10-14     HIGH\n",
       "2  Task 176160  2020-12-16      LOW\n",
       "3  Task 260749  2020-11-15   MEDIUM\n",
       "4  Task 107661  2020-11-13   MEDIUM"
      ]
     },
     "execution_count": 10,
     "metadata": {},
     "output_type": "execute_result"
    }
   ],
   "source": [
    "# Test sample of size 10\n",
    "test_data_sample(10).head(5)"
   ]
  },
  {
   "cell_type": "code",
   "execution_count": 11,
   "metadata": {},
   "outputs": [
    {
     "data": {
      "text/html": [
       "<div>\n",
       "<style scoped>\n",
       "    .dataframe tbody tr th:only-of-type {\n",
       "        vertical-align: middle;\n",
       "    }\n",
       "\n",
       "    .dataframe tbody tr th {\n",
       "        vertical-align: top;\n",
       "    }\n",
       "\n",
       "    .dataframe thead th {\n",
       "        text-align: right;\n",
       "    }\n",
       "</style>\n",
       "<table border=\"1\" class=\"dataframe\">\n",
       "  <thead>\n",
       "    <tr style=\"text-align: right;\">\n",
       "      <th></th>\n",
       "      <th>task_name</th>\n",
       "      <th>due_date</th>\n",
       "      <th>priority</th>\n",
       "    </tr>\n",
       "  </thead>\n",
       "  <tbody>\n",
       "    <tr>\n",
       "      <th>0</th>\n",
       "      <td>Task 1</td>\n",
       "      <td>2020-12-11</td>\n",
       "      <td>HIGH</td>\n",
       "    </tr>\n",
       "    <tr>\n",
       "      <th>1</th>\n",
       "      <td>Task 2</td>\n",
       "      <td>2020-10-20</td>\n",
       "      <td>LOW</td>\n",
       "    </tr>\n",
       "    <tr>\n",
       "      <th>2</th>\n",
       "      <td>Task 3</td>\n",
       "      <td>2020-10-12</td>\n",
       "      <td>LOW</td>\n",
       "    </tr>\n",
       "    <tr>\n",
       "      <th>3</th>\n",
       "      <td>Task 4</td>\n",
       "      <td>2020-12-20</td>\n",
       "      <td>MEDIUM</td>\n",
       "    </tr>\n",
       "    <tr>\n",
       "      <th>4</th>\n",
       "      <td>Task 5</td>\n",
       "      <td>2020-11-05</td>\n",
       "      <td>HIGH</td>\n",
       "    </tr>\n",
       "  </tbody>\n",
       "</table>\n",
       "</div>"
      ],
      "text/plain": [
       "  task_name    due_date priority\n",
       "0    Task 1  2020-12-11     HIGH\n",
       "1    Task 2  2020-10-20      LOW\n",
       "2    Task 3  2020-10-12      LOW\n",
       "3    Task 4  2020-12-20   MEDIUM\n",
       "4    Task 5  2020-11-05     HIGH"
      ]
     },
     "execution_count": 11,
     "metadata": {},
     "output_type": "execute_result"
    }
   ],
   "source": [
    "test_data_set.head(5)"
   ]
  },
  {
   "cell_type": "code",
   "execution_count": 12,
   "metadata": {},
   "outputs": [
    {
     "name": "stdout",
     "output_type": "stream",
     "text": [
      "<class 'pandas.core.frame.DataFrame'>\n",
      "RangeIndex: 1000000 entries, 0 to 999999\n",
      "Data columns (total 3 columns):\n",
      " #   Column     Non-Null Count    Dtype \n",
      "---  ------     --------------    ----- \n",
      " 0   task_name  1000000 non-null  object\n",
      " 1   due_date   1000000 non-null  object\n",
      " 2   priority   1000000 non-null  object\n",
      "dtypes: object(3)\n",
      "memory usage: 22.9+ MB\n"
     ]
    }
   ],
   "source": [
    "test_data_set.info()"
   ]
  },
  {
   "cell_type": "code",
   "execution_count": 13,
   "metadata": {},
   "outputs": [],
   "source": [
    "priority_dtype = pd.api.types.CategoricalDtype(\n",
    "    categories=['LOW', 'MEDIUM', 'HIGH'],\n",
    "    ordered=True\n",
    ")"
   ]
  },
  {
   "cell_type": "code",
   "execution_count": 14,
   "metadata": {},
   "outputs": [
    {
     "name": "stdout",
     "output_type": "stream",
     "text": [
      "<class 'pandas.core.frame.DataFrame'>\n",
      "RangeIndex: 1000000 entries, 0 to 999999\n",
      "Data columns (total 3 columns):\n",
      " #   Column     Non-Null Count    Dtype   \n",
      "---  ------     --------------    -----   \n",
      " 0   task_name  1000000 non-null  object  \n",
      " 1   due_date   1000000 non-null  object  \n",
      " 2   priority   1000000 non-null  category\n",
      "dtypes: category(1), object(2)\n",
      "memory usage: 16.2+ MB\n"
     ]
    }
   ],
   "source": [
    "test_data_set['priority'] = test_data_set['priority'].astype(priority_dtype)\n",
    "test_data_set.info()"
   ]
  },
  {
   "cell_type": "code",
   "execution_count": 15,
   "metadata": {},
   "outputs": [
    {
     "data": {
      "text/plain": [
       "'HIGH'"
      ]
     },
     "execution_count": 15,
     "metadata": {},
     "output_type": "execute_result"
    }
   ],
   "source": [
    "test_data_set['priority'].loc[0]"
   ]
  },
  {
   "cell_type": "markdown",
   "metadata": {},
   "source": [
    "### The Eisenhower Method\n",
    "\n",
    "Decide about action needed using [Eisenhower method](https://en.wikipedia.org/wiki/Time_management#The_Eisenhower_Method):\n",
    "\n",
    "| Important | Urgent    | Binary | Int | Action   |\n",
    "| --------- | --------- | :----: | :-: | -------- |\n",
    "| True (1)  | True (1)  |   11   |  3  | DO       |\n",
    "| True (1)  | False (0) |   10   |  2  | SCHEDULE |\n",
    "| False (0) | True (1)  |   01   |  1  | DELEGATE |\n",
    "| False (0) | False (0) |   00   |  0  | DELETE   |"
   ]
  },
  {
   "cell_type": "code",
   "execution_count": 19,
   "metadata": {},
   "outputs": [],
   "source": [
    "action_dtype = pd.api.types.CategoricalDtype(\n",
    "  categories=['DELETE', 'DELEGATE', 'SCHEDULE', 'DO'],\n",
    "  ordered=True\n",
    ")"
   ]
  },
  {
   "cell_type": "code",
   "execution_count": 20,
   "metadata": {},
   "outputs": [
    {
     "data": {
      "text/plain": [
       "{0: 'DELETE', 1: 'DELEGATE', 2: 'SCHEDULE', 3: 'DO'}"
      ]
     },
     "execution_count": 20,
     "metadata": {},
     "output_type": "execute_result"
    }
   ],
   "source": [
    "action_map = dict(enumerate(pd.Series(['']).astype(action_dtype).cat.categories))\n",
    "action_map"
   ]
  },
  {
   "cell_type": "code",
   "execution_count": 22,
   "metadata": {},
   "outputs": [],
   "source": [
    "def eisenhower_action(is_important: bool, is_urgent: bool) -> int:\n",
    "    return 2 * is_important + is_urgent\n",
    "\n",
    "def eisenhower_action_str(is_important: bool, is_urgent: bool) -> str:\n",
    "    return action_map[eisenhower_action(is_important, is_urgent)]"
   ]
  },
  {
   "cell_type": "code",
   "execution_count": 23,
   "metadata": {},
   "outputs": [],
   "source": [
    "# Let's say anything due by tomorrow is Urgent\n",
    "cutoff_date = datetime.date.today() + datetime.timedelta(days=2)"
   ]
  },
  {
   "cell_type": "code",
   "execution_count": 24,
   "metadata": {},
   "outputs": [
    {
     "data": {
      "text/plain": [
       "'SCHEDULE'"
      ]
     },
     "execution_count": 24,
     "metadata": {},
     "output_type": "execute_result"
    }
   ],
   "source": [
    "# Test compute_eisenhower_action\n",
    "\n",
    "eisenhower_action_str(\n",
    "  test_data_set.loc[0].priority == 'HIGH',\n",
    "  test_data_set.loc[0].due_date <= cutoff_date\n",
    ")"
   ]
  },
  {
   "cell_type": "code",
   "execution_count": 25,
   "metadata": {},
   "outputs": [],
   "source": [
    "# Work with a smaller data set to try each alternative\n",
    "data_sample = test_data_sample(100000)"
   ]
  },
  {
   "cell_type": "code",
   "execution_count": 26,
   "metadata": {},
   "outputs": [
    {
     "data": {
      "text/html": [
       "<div>\n",
       "<style scoped>\n",
       "    .dataframe tbody tr th:only-of-type {\n",
       "        vertical-align: middle;\n",
       "    }\n",
       "\n",
       "    .dataframe tbody tr th {\n",
       "        vertical-align: top;\n",
       "    }\n",
       "\n",
       "    .dataframe thead th {\n",
       "        text-align: right;\n",
       "    }\n",
       "</style>\n",
       "<table border=\"1\" class=\"dataframe\">\n",
       "  <thead>\n",
       "    <tr style=\"text-align: right;\">\n",
       "      <th></th>\n",
       "      <th>task_name</th>\n",
       "      <th>due_date</th>\n",
       "      <th>priority</th>\n",
       "    </tr>\n",
       "  </thead>\n",
       "  <tbody>\n",
       "    <tr>\n",
       "      <th>0</th>\n",
       "      <td>Task 48962</td>\n",
       "      <td>2020-11-05</td>\n",
       "      <td>MEDIUM</td>\n",
       "    </tr>\n",
       "  </tbody>\n",
       "</table>\n",
       "</div>"
      ],
      "text/plain": [
       "    task_name    due_date priority\n",
       "0  Task 48962  2020-11-05   MEDIUM"
      ]
     },
     "execution_count": 26,
     "metadata": {},
     "output_type": "execute_result"
    }
   ],
   "source": [
    "data_sample[:1]"
   ]
  },
  {
   "cell_type": "markdown",
   "metadata": {},
   "source": [
    "### Method 1) Regular Python Looping"
   ]
  },
  {
   "cell_type": "code",
   "execution_count": 27,
   "metadata": {},
   "outputs": [],
   "source": [
    "def loop_impl(df):\n",
    "    cutoff_date = datetime.date.today() + datetime.timedelta(days=2)\n",
    "\n",
    "    result = []\n",
    "    for i in range(len(df)):\n",
    "        row = df.iloc[i]\n",
    "        result.append(\n",
    "          eisenhower_action(row.priority == 'HIGH', row.due_date <= cutoff_date)\n",
    "        )\n",
    "\n",
    "    return pd.Series(result)"
   ]
  },
  {
   "cell_type": "code",
   "execution_count": 28,
   "metadata": {},
   "outputs": [
    {
     "name": "stdout",
     "output_type": "stream",
     "text": [
      "48 s ± 909 ms per loop (mean ± std. dev. of 7 runs, 1 loop each)\n"
     ]
    }
   ],
   "source": [
    "%timeit data_sample['action_loop'] = loop_impl(data_sample)"
   ]
  },
  {
   "cell_type": "markdown",
   "metadata": {},
   "source": [
    "#### Line level profiling"
   ]
  },
  {
   "cell_type": "code",
   "execution_count": 44,
   "metadata": {},
   "outputs": [],
   "source": [
    "%load_ext line_profiler"
   ]
  },
  {
   "cell_type": "code",
   "execution_count": 45,
   "metadata": {},
   "outputs": [
    {
     "data": {
      "text/plain": [
       "Timer unit: 1e-06 s\n",
       "\n",
       "Total time: 0.138056 s\n",
       "File: <ipython-input-27-90a1aaa51a5c>\n",
       "Function: loop_impl at line 1\n",
       "\n",
       "Line #      Hits         Time  Per Hit   % Time  Line Contents\n",
       "==============================================================\n",
       "     1                                           def loop_impl(df):\n",
       "     2         1         42.0     42.0      0.0      cutoff_date = datetime.date.today() + datetime.timedelta(days=2)\n",
       "     3                                           \n",
       "     4         1          3.0      3.0      0.0      result = []\n",
       "     5       101        112.0      1.1      0.1      for i in range(len(df)):\n",
       "     6       100     128480.0   1284.8     93.1          row = df.iloc[i]\n",
       "     7       200        409.0      2.0      0.3          result.append(\n",
       "     8       100       8683.0     86.8      6.3            eisenhower_action(row.priority == 'HIGH', row.due_date <= cutoff_date)\n",
       "     9                                                   )\n",
       "    10                                           \n",
       "    11         1        327.0    327.0      0.2      return pd.Series(result)"
      ]
     },
     "metadata": {},
     "output_type": "display_data"
    }
   ],
   "source": [
    "%lprun -f loop_impl  loop_impl(test_data_sample(100))"
   ]
  },
  {
   "cell_type": "markdown",
   "metadata": {},
   "source": [
    "### Method 2) Pandas iterrows() Method"
   ]
  },
  {
   "cell_type": "code",
   "execution_count": 29,
   "metadata": {},
   "outputs": [],
   "source": [
    "def iterrows_impl(df):\n",
    "    cutoff_date = datetime.date.today() + datetime.timedelta(days=2)\n",
    "    return pd.Series(\n",
    "        eisenhower_action(row.priority == 'HIGH', row.due_date <= cutoff_date) for index, row in df.iterrows())"
   ]
  },
  {
   "cell_type": "code",
   "execution_count": 30,
   "metadata": {},
   "outputs": [
    {
     "name": "stdout",
     "output_type": "stream",
     "text": [
      "9.9 s ± 249 ms per loop (mean ± std. dev. of 7 runs, 1 loop each)\n"
     ]
    }
   ],
   "source": [
    "%timeit data_sample['action_iterrow'] = iterrows_impl(data_sample)"
   ]
  },
  {
   "cell_type": "markdown",
   "metadata": {},
   "source": [
    "### Method 3) Pandas itertuples() Method"
   ]
  },
  {
   "cell_type": "code",
   "execution_count": 31,
   "metadata": {},
   "outputs": [],
   "source": [
    "def itertuples_impl(df):\n",
    "    cutoff_date = datetime.date.today() + datetime.timedelta(days=2)\n",
    "    return pd.Series(\n",
    "        eisenhower_action(row.priority == 'HIGH', row.due_date <= cutoff_date) for row in df.itertuples()\n",
    "    )"
   ]
  },
  {
   "cell_type": "code",
   "execution_count": 32,
   "metadata": {},
   "outputs": [
    {
     "name": "stdout",
     "output_type": "stream",
     "text": [
      "165 ms ± 4.23 ms per loop (mean ± std. dev. of 7 runs, 10 loops each)\n"
     ]
    }
   ],
   "source": [
    "%timeit data_sample['action_itertuples'] = itertuples_impl(data_sample)"
   ]
  },
  {
   "cell_type": "markdown",
   "metadata": {},
   "source": [
    "### Method 4) Pandas apply() Method"
   ]
  },
  {
   "cell_type": "code",
   "execution_count": 33,
   "metadata": {},
   "outputs": [],
   "source": [
    "def apply_impl(df):\n",
    "    cutoff_date = datetime.date.today() + datetime.timedelta(days=2)\n",
    "    return df.apply(\n",
    "        lambda row: eisenhower_action(row.priority == 'HIGH', row.due_date <= cutoff_date), axis=1\n",
    "    )"
   ]
  },
  {
   "cell_type": "code",
   "execution_count": 34,
   "metadata": {},
   "outputs": [
    {
     "name": "stdout",
     "output_type": "stream",
     "text": [
      "1.83 s ± 110 ms per loop (mean ± std. dev. of 7 runs, 1 loop each)\n"
     ]
    }
   ],
   "source": [
    "%timeit data_sample['action_impl'] = apply_impl(data_sample)"
   ]
  },
  {
   "cell_type": "markdown",
   "metadata": {},
   "source": [
    "### Method 5) List Comprehension"
   ]
  },
  {
   "cell_type": "code",
   "execution_count": 35,
   "metadata": {},
   "outputs": [],
   "source": [
    "def list_impl(df):\n",
    "    cutoff_date = datetime.date.today() + datetime.timedelta(days=2)\n",
    "    return pd.Series([\n",
    "        eisenhower_action(priority == 'HIGH', due_date <= cutoff_date) for (priority, due_date) in zip(df['priority'], df['due_date'])\n",
    "    ])"
   ]
  },
  {
   "cell_type": "code",
   "execution_count": 36,
   "metadata": {},
   "outputs": [
    {
     "name": "stdout",
     "output_type": "stream",
     "text": [
      "66.3 ms ± 1.55 ms per loop (mean ± std. dev. of 7 runs, 10 loops each)\n"
     ]
    }
   ],
   "source": [
    "%timeit data_sample['action_list'] = list_impl(data_sample)"
   ]
  },
  {
   "cell_type": "markdown",
   "metadata": {},
   "source": [
    "### Method 6) Vectorization"
   ]
  },
  {
   "cell_type": "code",
   "execution_count": 37,
   "metadata": {},
   "outputs": [],
   "source": [
    "def vec_impl(df):\n",
    "    cutoff_date = datetime.date.today() + datetime.timedelta(days=2)\n",
    "    return (2*(df['priority'] == 'HIGH') + (df['due_date'] <= cutoff_date))"
   ]
  },
  {
   "cell_type": "code",
   "execution_count": 38,
   "metadata": {},
   "outputs": [
    {
     "name": "stdout",
     "output_type": "stream",
     "text": [
      "14 ms ± 486 µs per loop (mean ± std. dev. of 7 runs, 100 loops each)\n"
     ]
    }
   ],
   "source": [
    "%timeit data_sample['action_vec'] = vec_impl(data_sample)"
   ]
  },
  {
   "cell_type": "code",
   "execution_count": 40,
   "metadata": {},
   "outputs": [
    {
     "data": {
      "application/vnd.jupyter.widget-view+json": {
       "model_id": "36c164cf7ee84d1d8933b49e28f7ddaf",
       "version_major": 2,
       "version_minor": 0
      },
      "text/plain": [
       "Output()"
      ]
     },
     "metadata": {},
     "output_type": "display_data"
    },
    {
     "data": {
      "image/png": "[encoded data removed]",
      "text/plain": [
       "<Figure size 432x288 with 1 Axes>"
      ]
     },
     "metadata": {
      "needs_background": "dark"
     },
     "output_type": "display_data"
    }
   ],
   "source": [
    "kernels = [\n",
    "  loop_impl,\n",
    "  iterrows_impl,\n",
    "  itertuples_impl,\n",
    "  apply_impl,\n",
    "  list_impl,\n",
    "  vec_impl\n",
    "]\n",
    "\n",
    "labels = [str(k.__name__)[:-5] for k in kernels]\n",
    "\n",
    "perfplot.show(\n",
    "  setup=lambda n: test_data_sample(n),\n",
    "  kernels=kernels,\n",
    "  labels=labels,\n",
    "  n_range=[2**k for k in range(20)],\n",
    "  xlabel='N',\n",
    "  logx=True,\n",
    "  logy=True,\n",
    "  #equality_check=None\n",
    ")"
   ]
  }
 ],
 "metadata": {
  "kernelspec": {
   "display_name": "Python 3",
   "language": "python",
   "name": "python3"
  },
  "language_info": {
   "codemirror_mode": {
    "name": "ipython",
    "version": 3
   },
   "file_extension": ".py",
   "mimetype": "text/x-python",
   "name": "python",
   "nbconvert_exporter": "python",
   "pygments_lexer": "ipython3",
   "version": "3.8.5"
  }
 },
 "nbformat": 4,
 "nbformat_minor": 4
}
